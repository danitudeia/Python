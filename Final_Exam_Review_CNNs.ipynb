{
 "cells": [
  {
   "cell_type": "markdown",
   "id": "7a54ccbe",
   "metadata": {
    "id": "7a54ccbe"
   },
   "source": [
    "## Final Review: Convolution Neural Network"
   ]
  },
  {
   "cell_type": "code",
   "execution_count": null,
   "id": "b8bed1fc",
   "metadata": {
    "colab": {
     "base_uri": "https://localhost:8080/"
    },
    "id": "b8bed1fc",
    "outputId": "c0ef8910-caef-40c3-a0bc-d30f7c2c4a47"
   },
   "outputs": [
    {
     "data": {
      "text/plain": [
       "array([[7, 7, 2, 3, 1, 0],\n",
       "       [1, 6, 7, 8, 2, 9],\n",
       "       [7, 0, 8, 4, 8, 8],\n",
       "       [0, 1, 3, 3, 9, 3],\n",
       "       [0, 8, 9, 5, 3, 2],\n",
       "       [5, 9, 2, 6, 4, 2]])"
      ]
     },
     "execution_count": 7,
     "metadata": {},
     "output_type": "execute_result"
    }
   ],
   "source": [
    "import numpy as np\n",
    "\n",
    "x = np.random.randint(0, 10, size=(6, 6))\n",
    "x"
   ]
  },
  {
   "cell_type": "code",
   "execution_count": null,
   "id": "8cd94af2",
   "metadata": {
    "colab": {
     "base_uri": "https://localhost:8080/"
    },
    "id": "8cd94af2",
    "outputId": "04e5bc80-339d-4459-a0fe-96c3de201776",
    "tags": []
   },
   "outputs": [
    {
     "data": {
      "text/plain": [
       "array([[-2, -3,  1],\n",
       "       [ 0,  0,  0],\n",
       "       [ 1,  2, -1]])"
      ]
     },
     "execution_count": 8,
     "metadata": {},
     "output_type": "execute_result"
    }
   ],
   "source": [
    "f3 = np.random.randint(-3, 3, size=(3, 3))\n",
    "f3"
   ]
  },
  {
   "cell_type": "code",
   "execution_count": null,
   "id": "6ab16653",
   "metadata": {
    "colab": {
     "base_uri": "https://localhost:8080/"
    },
    "id": "6ab16653",
    "outputId": "49be5c9e-1936-4b83-b564-36b777fd3a97",
    "tags": []
   },
   "outputs": [
    {
     "data": {
      "text/plain": [
       "array([[-1,  2,  1, -2, -2],\n",
       "       [-3, -1,  2,  1, -1],\n",
       "       [-1, -2,  0, -2, -2],\n",
       "       [-2, -3, -3,  0, -2],\n",
       "       [-3, -3,  2,  1,  1]])"
      ]
     },
     "execution_count": 9,
     "metadata": {},
     "output_type": "execute_result"
    }
   ],
   "source": [
    "f5 = np.random.randint(-3, 3, size=(5, 5))\n",
    "f5"
   ]
  },
  {
   "cell_type": "markdown",
   "id": "81894435",
   "metadata": {
    "id": "81894435"
   },
   "source": [
    "Calculate via code the convolutional output of the above array and the filters `f3` and `f5` assuming:\n",
    " - `padding=\"valid\"`\n",
    " - `padding=\"same\"` (see if `np.pad()` helps)\n",
    "\n",
    "Also, calculate the output of a `Conv2d` layer using the above input data."
   ]
  },
  {
   "cell_type": "markdown",
   "id": "df9ad269",
   "metadata": {
    "id": "df9ad269"
   },
   "source": [
    "## Pooling"
   ]
  },
  {
   "cell_type": "code",
   "execution_count": null,
   "id": "de0f44b1",
   "metadata": {
    "colab": {
     "base_uri": "https://localhost:8080/"
    },
    "id": "de0f44b1",
    "outputId": "187552a5-afde-4a44-891f-e7cd212bb570"
   },
   "outputs": [
    {
     "data": {
      "text/plain": [
       "array([[  1,  -8,  -7,   5,  -6,  -7],\n",
       "       [-10,  -3,   8,   8,  -4,   4],\n",
       "       [  4,   2,  -3,   6, -10,   9],\n",
       "       [ -7,   5,   5,  -4,   6,  -1],\n",
       "       [ -6,   7,  -9,   2,  -4,  -1],\n",
       "       [  9,   7,  -3,  -1,  -6,  -2]])"
      ]
     },
     "execution_count": 22,
     "metadata": {},
     "output_type": "execute_result"
    }
   ],
   "source": [
    "x = np.random.randint(-10, 10, size=(6, 6))\n",
    "x"
   ]
  },
  {
   "cell_type": "markdown",
   "id": "6ce0ba59",
   "metadata": {
    "id": "6ce0ba59"
   },
   "source": [
    "Calculate the output of a pooling operation assuming no padding and using a pooling layer:\n",
    " - `pool_size = (2, 2)` and `strides=2` and *Max Pooling* is used\n",
    " - `pool_size = (3, 3)` and `strides=2` and *Max Pooling* is used\n",
    " - `pool_size = (2, 2)` and `strides=1` and *Max Pooling* is used\n",
    " - `pool_size = (3, 3)` and `strides=1` and *Max Pooling* is used\n",
    " - `pool_size = (2, 2)` and `strides=2` and *Average Pooling* is used\n",
    " - `pool_size = (3, 3)` and `strides=2` and *Average Pooling* is used\n",
    " - `pool_size = (2, 2)` and `strides=1` and *Average Pooling* is used\n",
    " - `pool_size = (3, 3)` and `strides=1` and *Average Pooling* is used\n"
   ]
  },
  {
   "cell_type": "markdown",
   "id": "23e7b91b",
   "metadata": {
    "id": "23e7b91b"
   },
   "source": [
    "## Parameter calculation"
   ]
  },
  {
   "cell_type": "markdown",
   "id": "436800ba",
   "metadata": {
    "id": "436800ba"
   },
   "source": [
    "How many trainable parameters does the following model have:\n",
    "\n",
    "- input data has dimensions (180, 180, 3)\n",
    "- Conv2D(32, kernel_size=(5, 5), activation=\"relu\")\n",
    "- AveragePooling(pool_size=(2, 2), strides=2)\n",
    "- Conv2D(32, kernel_size=(5, 5), activation=\"relu\")\n",
    "- AveragePooling(pool_size=(2, 2), strides=2)\n",
    "- Flatten()\n",
    "- Dense(128, activation=\"relu\")\n",
    "- Dense(3, activation=\"softmax\")"
   ]
  },
  {
   "cell_type": "markdown",
   "id": "7ae73770",
   "metadata": {
    "id": "7ae73770"
   },
   "source": [
    "What 2 properties do convolutional neural networks have that make them much more useful for images than fully-connected networks?"
   ]
  },
  {
   "cell_type": "markdown",
   "id": "62b5f91a",
   "metadata": {
    "id": "62b5f91a"
   },
   "source": [
    "Explain/use **padding**."
   ]
  },
  {
   "cell_type": "markdown",
   "id": "90965027",
   "metadata": {
    "id": "90965027"
   },
   "source": [
    "Explain/use **strides**."
   ]
  },
  {
   "cell_type": "markdown",
   "id": "0ad04580",
   "metadata": {
    "id": "0ad04580"
   },
   "source": [
    "What is the purpose of a **pooling** layer?"
   ]
  },
  {
   "cell_type": "markdown",
   "id": "9303fcfe",
   "metadata": {
    "id": "9303fcfe"
   },
   "source": [
    "What is the difference between a **parameter** and a **hyperparameter**?"
   ]
  },
  {
   "cell_type": "markdown",
   "id": "654ce927",
   "metadata": {
    "id": "654ce927"
   },
   "source": [
    "What are training, validation, and test datasets used for?"
   ]
  },
  {
   "cell_type": "markdown",
   "id": "105ed313",
   "metadata": {
    "id": "105ed313"
   },
   "source": [
    "What is a baseline and how is it used?"
   ]
  },
  {
   "cell_type": "markdown",
   "id": "7a816111",
   "metadata": {
    "id": "7a816111"
   },
   "source": [
    "What are some ways to deal with overfitting?"
   ]
  },
  {
   "cell_type": "markdown",
   "id": "c849553c",
   "metadata": {
    "id": "c849553c"
   },
   "source": [
    "What are some common problems when training a model and how can they be overcome?"
   ]
  },
  {
   "cell_type": "markdown",
   "id": "01bd846f-1b16-4dd5-bc90-69138b4b2998",
   "metadata": {
    "id": "01bd846f-1b16-4dd5-bc90-69138b4b2998"
   },
   "source": [
    "Data augmentation\n",
    " - what is it? why do we do it?\n",
    " - how to create a data augmentation layer\n"
   ]
  }
 ],
 "metadata": {
  "colab": {
   "provenance": []
  },
  "kernelspec": {
   "display_name": "Python 3 (ipykernel)",
   "language": "python",
   "name": "python3"
  },
  "language_info": {
   "codemirror_mode": {
    "name": "ipython",
    "version": 3
   },
   "file_extension": ".py",
   "mimetype": "text/x-python",
   "name": "python",
   "nbconvert_exporter": "python",
   "pygments_lexer": "ipython3",
   "version": "3.9.13"
  }
 },
 "nbformat": 4,
 "nbformat_minor": 5
}
