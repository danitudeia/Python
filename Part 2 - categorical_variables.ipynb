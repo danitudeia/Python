{
 "cells": [
  {
   "cell_type": "markdown",
   "metadata": {},
   "source": [
    "# Part 2 - Categorically Speaking\n",
    "\n",
    "**Notice: This notebook is a modification of [cats.ipynb and targetencode.ipynb](https://mlbook.explained.ai/notebooks/index.html) by Terence Parr and Jeremy Howard, which were used by permission of the author.**\n",
    "\n",
    "Please use this notebook to follow along with the lectures this week. Feel free to modify the code in any way. \n",
    "\n",
    "There may be minor differences between the notebook seen in the lecture videos and this one. "
   ]
  },
  {
   "cell_type": "markdown",
   "metadata": {},
   "source": [
    "### Reestablish Baseline"
   ]
  },
  {
   "cell_type": "code",
   "execution_count": 1,
   "metadata": {
    "id": "6P6fbYCnN7vH"
   },
   "outputs": [],
   "source": [
    "from sklearn.model_selection import train_test_split\n",
    "from sklearn.ensemble import RandomForestRegressor\n",
    "from sklearn.metrics import mean_absolute_error, r2_score\n",
    "import numpy as np\n",
    "import pandas as pd\n",
    "from rfpimp import *"
   ]
  },
  {
   "cell_type": "code",
   "execution_count": 2,
   "metadata": {},
   "outputs": [],
   "source": [
    "def evaluate(X, y):\n",
    "    rf = RandomForestRegressor(n_estimators=100, n_jobs=-1, oob_score=True)\n",
    "    rf.fit(X, y)\n",
    "    oob = rf.oob_score_\n",
    "    n = rfnnodes(rf)\n",
    "    h = np.median(rfmaxdepths(rf))\n",
    "    print(f\"OOB R^2 is {oob:.5f} using {n:,d} tree nodes with {h} median tree depth\")\n",
    "    return rf, oob"
   ]
  },
  {
   "cell_type": "code",
   "execution_count": 3,
   "metadata": {},
   "outputs": [],
   "source": [
    "def showimp(rf, X, y):\n",
    "    features = list(X.columns)\n",
    "    features.remove('latitude')\n",
    "    features.remove('longitude')\n",
    "    features += [['latitude','longitude']]\n",
    "\n",
    "    I = importances(rf, X, y, features=features)\n",
    "    plot_importances(I, color='#4575b4')"
   ]
  },
  {
   "cell_type": "code",
   "execution_count": 5,
   "metadata": {
    "colab": {
     "base_uri": "https://localhost:8080/",
     "height": 142
    },
    "id": "dJ83sz4UN7vR",
    "outputId": "f604b55c-b267-42a2-b595-b460360679e0"
   },
   "outputs": [],
   "source": [
    "rent = pd.read_csv('rent.csv')\n",
    "\n",
    "rent_clean = rent[(rent['price'] > 1000) & (rent['price'] < 10000)]\n",
    "rent_clean = rent_clean[(rent_clean['longitude'] !=0) | (rent_clean['latitude']!=0)]\n",
    "rent_clean = rent_clean[(rent_clean['latitude']>40.55) &\n",
    "                        (rent_clean['latitude']<40.94) &\n",
    "                        (rent_clean['longitude']>-74.1) &\n",
    "                        (rent_clean['longitude']<-73.67)]"
   ]
  },
  {
   "cell_type": "code",
   "execution_count": 6,
   "metadata": {},
   "outputs": [
    {
     "name": "stdout",
     "output_type": "stream",
     "text": [
      "OOB R^2 is 0.86760 using 2,432,008 tree nodes with 35.0 median tree depth\n"
     ]
    }
   ],
   "source": [
    "numfeatures = ['bathrooms', 'bedrooms', 'longitude', 'latitude']\n",
    "\n",
    "X = rent_clean[numfeatures]\n",
    "y = rent_clean['price']\n",
    "\n",
    "rf, oob = evaluate(X, y)"
   ]
  },
  {
   "cell_type": "code",
   "execution_count": 6,
   "metadata": {},
   "outputs": [
    {
     "data": {
      "image/png": "[encoded data removed]",
      "text/plain": [
       "<Figure size 288x108 with 1 Axes>"
      ]
     },
     "metadata": {
      "needs_background": "light"
     },
     "output_type": "display_data"
    }
   ],
   "source": [
    "showimp(rf, X, y)"
   ]
  },
  {
   "cell_type": "markdown",
   "metadata": {},
   "source": [
    "### Categorical Variables\n",
    "\n",
    "Recall that categorical variables tend to come in two kinds:\n",
    "- Ordinal\n",
    "    - where there is some natural ordering to the categories\n",
    "- Nominal\n",
    "    - where there is no natural ordering to the categories"
   ]
  },
  {
   "cell_type": "markdown",
   "metadata": {},
   "source": [
    "### What Have We Ignored So Far?\n",
    "\n",
    "Our baseline model used the numeric features `bathrooms`, `bedrooms`, `longtitude`, and `latitutde`, but we know that our data has other features. We would now like to see if these features contain any information that our model can use; that is, to help the model better understand the relationship between the features and the target so as to improve its ability to make accurate predictions. \n",
    "\n",
    "Let's first look at the remaining features. "
   ]
  },
  {
   "cell_type": "code",
   "execution_count": 7,
   "metadata": {},
   "outputs": [
    {
     "data": {
      "text/plain": [
       "['building_id',\n",
       " 'created',\n",
       " 'description',\n",
       " 'display_address',\n",
       " 'features',\n",
       " 'listing_id',\n",
       " 'manager_id',\n",
       " 'photos',\n",
       " 'street_address',\n",
       " 'interest_level']"
      ]
     },
     "execution_count": 7,
     "metadata": {},
     "output_type": "execute_result"
    }
   ],
   "source": [
    "nonnum = [col for col in rent_clean.columns.tolist() if col not in numfeatures + ['price']]\n",
    "nonnum"
   ]
  },
  {
   "cell_type": "code",
   "execution_count": 8,
   "metadata": {},
   "outputs": [
    {
     "data": {
      "text/html": [
       "<div>\n",
       "<style scoped>\n",
       "    .dataframe tbody tr th:only-of-type {\n",
       "        vertical-align: middle;\n",
       "    }\n",
       "\n",
       "    .dataframe tbody tr th {\n",
       "        vertical-align: top;\n",
       "    }\n",
       "\n",
       "    .dataframe thead th {\n",
       "        text-align: right;\n",
       "    }\n",
       "</style>\n",
       "<table border=\"1\" class=\"dataframe\">\n",
       "  <thead>\n",
       "    <tr style=\"text-align: right;\">\n",
       "      <th></th>\n",
       "      <th>0</th>\n",
       "      <th>1</th>\n",
       "      <th>2</th>\n",
       "      <th>3</th>\n",
       "      <th>4</th>\n",
       "    </tr>\n",
       "  </thead>\n",
       "  <tbody>\n",
       "    <tr>\n",
       "      <th>building_id</th>\n",
       "      <td>8579a0b0d54db803821a35a4a615e97a</td>\n",
       "      <td>b8e75fc949a6cd8225b455648a951712</td>\n",
       "      <td>cd759a988b8f23924b5a2058d5ab2b49</td>\n",
       "      <td>53a5b119ba8f7b61d4e010512e0dfc85</td>\n",
       "      <td>bfb9405149bfff42a92980b594c28234</td>\n",
       "    </tr>\n",
       "    <tr>\n",
       "      <th>created</th>\n",
       "      <td>2016-06-16 05:55:27</td>\n",
       "      <td>2016-06-01 05:44:33</td>\n",
       "      <td>2016-06-14 15:19:59</td>\n",
       "      <td>2016-06-24 07:54:24</td>\n",
       "      <td>2016-06-28 03:50:23</td>\n",
       "    </tr>\n",
       "    <tr>\n",
       "      <th>description</th>\n",
       "      <td>Spacious 1 Bedroom 1 Bathroom in Williamsburg!...</td>\n",
       "      <td>BRAND NEW GUT RENOVATED TRUE 2 BEDROOMFind you...</td>\n",
       "      <td>**FLEX 2 BEDROOM WITH FULL PRESSURIZED WALL**L...</td>\n",
       "      <td>A Brand New 3 Bedroom 1.5 bath ApartmentEnjoy ...</td>\n",
       "      <td>Over-sized Studio w abundant closets. Availabl...</td>\n",
       "    </tr>\n",
       "    <tr>\n",
       "      <th>display_address</th>\n",
       "      <td>145 Borinquen Place</td>\n",
       "      <td>East 44th</td>\n",
       "      <td>East 56th Street</td>\n",
       "      <td>Metropolitan Avenue</td>\n",
       "      <td>East 34th Street</td>\n",
       "    </tr>\n",
       "    <tr>\n",
       "      <th>features</th>\n",
       "      <td>['Dining Room', 'Pre-War', 'Laundry in Buildin...</td>\n",
       "      <td>['Doorman', 'Elevator', 'Laundry in Building',...</td>\n",
       "      <td>['Doorman', 'Elevator', 'Laundry in Building',...</td>\n",
       "      <td>[]</td>\n",
       "      <td>['Doorman', 'Elevator', 'Fitness Center', 'Lau...</td>\n",
       "    </tr>\n",
       "    <tr>\n",
       "      <th>listing_id</th>\n",
       "      <td>7170325</td>\n",
       "      <td>7092344</td>\n",
       "      <td>7158677</td>\n",
       "      <td>7211212</td>\n",
       "      <td>7225292</td>\n",
       "    </tr>\n",
       "    <tr>\n",
       "      <th>manager_id</th>\n",
       "      <td>a10db4590843d78c784171a107bdacb4</td>\n",
       "      <td>955db33477af4f40004820b4aed804a0</td>\n",
       "      <td>c8b10a317b766204f08e613cef4ce7a0</td>\n",
       "      <td>5ba989232d0489da1b5f2c45f6688adc</td>\n",
       "      <td>2c3b41f588fbb5234d8a1e885a436cfa</td>\n",
       "    </tr>\n",
       "    <tr>\n",
       "      <th>photos</th>\n",
       "      <td>['https://photos.renthop.com/2/7170325_3bb5ac8...</td>\n",
       "      <td>['https://photos.renthop.com/2/7092344_7663c19...</td>\n",
       "      <td>['https://photos.renthop.com/2/7158677_c897a13...</td>\n",
       "      <td>['https://photos.renthop.com/2/7211212_1ed4542...</td>\n",
       "      <td>['https://photos.renthop.com/2/7225292_901f198...</td>\n",
       "    </tr>\n",
       "    <tr>\n",
       "      <th>street_address</th>\n",
       "      <td>145 Borinquen Place</td>\n",
       "      <td>230 East 44th</td>\n",
       "      <td>405 East 56th Street</td>\n",
       "      <td>792 Metropolitan Avenue</td>\n",
       "      <td>340 East 34th Street</td>\n",
       "    </tr>\n",
       "    <tr>\n",
       "      <th>interest_level</th>\n",
       "      <td>medium</td>\n",
       "      <td>low</td>\n",
       "      <td>medium</td>\n",
       "      <td>medium</td>\n",
       "      <td>low</td>\n",
       "    </tr>\n",
       "  </tbody>\n",
       "</table>\n",
       "</div>"
      ],
      "text/plain": [
       "                                                                 0  \\\n",
       "building_id                       8579a0b0d54db803821a35a4a615e97a   \n",
       "created                                        2016-06-16 05:55:27   \n",
       "description      Spacious 1 Bedroom 1 Bathroom in Williamsburg!...   \n",
       "display_address                                145 Borinquen Place   \n",
       "features         ['Dining Room', 'Pre-War', 'Laundry in Buildin...   \n",
       "listing_id                                                 7170325   \n",
       "manager_id                        a10db4590843d78c784171a107bdacb4   \n",
       "photos           ['https://photos.renthop.com/2/7170325_3bb5ac8...   \n",
       "street_address                                 145 Borinquen Place   \n",
       "interest_level                                              medium   \n",
       "\n",
       "                                                                 1  \\\n",
       "building_id                       b8e75fc949a6cd8225b455648a951712   \n",
       "created                                        2016-06-01 05:44:33   \n",
       "description      BRAND NEW GUT RENOVATED TRUE 2 BEDROOMFind you...   \n",
       "display_address                                          East 44th   \n",
       "features         ['Doorman', 'Elevator', 'Laundry in Building',...   \n",
       "listing_id                                                 7092344   \n",
       "manager_id                        955db33477af4f40004820b4aed804a0   \n",
       "photos           ['https://photos.renthop.com/2/7092344_7663c19...   \n",
       "street_address                                       230 East 44th   \n",
       "interest_level                                                 low   \n",
       "\n",
       "                                                                 2  \\\n",
       "building_id                       cd759a988b8f23924b5a2058d5ab2b49   \n",
       "created                                        2016-06-14 15:19:59   \n",
       "description      **FLEX 2 BEDROOM WITH FULL PRESSURIZED WALL**L...   \n",
       "display_address                                   East 56th Street   \n",
       "features         ['Doorman', 'Elevator', 'Laundry in Building',...   \n",
       "listing_id                                                 7158677   \n",
       "manager_id                        c8b10a317b766204f08e613cef4ce7a0   \n",
       "photos           ['https://photos.renthop.com/2/7158677_c897a13...   \n",
       "street_address                                405 East 56th Street   \n",
       "interest_level                                              medium   \n",
       "\n",
       "                                                                 3  \\\n",
       "building_id                       53a5b119ba8f7b61d4e010512e0dfc85   \n",
       "created                                        2016-06-24 07:54:24   \n",
       "description      A Brand New 3 Bedroom 1.5 bath ApartmentEnjoy ...   \n",
       "display_address                                Metropolitan Avenue   \n",
       "features                                                        []   \n",
       "listing_id                                                 7211212   \n",
       "manager_id                        5ba989232d0489da1b5f2c45f6688adc   \n",
       "photos           ['https://photos.renthop.com/2/7211212_1ed4542...   \n",
       "street_address                             792 Metropolitan Avenue   \n",
       "interest_level                                              medium   \n",
       "\n",
       "                                                                 4  \n",
       "building_id                       bfb9405149bfff42a92980b594c28234  \n",
       "created                                        2016-06-28 03:50:23  \n",
       "description      Over-sized Studio w abundant closets. Availabl...  \n",
       "display_address                                   East 34th Street  \n",
       "features         ['Doorman', 'Elevator', 'Fitness Center', 'Lau...  \n",
       "listing_id                                                 7225292  \n",
       "manager_id                        2c3b41f588fbb5234d8a1e885a436cfa  \n",
       "photos           ['https://photos.renthop.com/2/7225292_901f198...  \n",
       "street_address                                340 East 34th Street  \n",
       "interest_level                                                 low  "
      ]
     },
     "execution_count": 8,
     "metadata": {},
     "output_type": "execute_result"
    }
   ],
   "source": [
    "rent_nonnum = rent_clean[nonnum]\n",
    "rent_nonnum.head().T"
   ]
  },
  {
   "cell_type": "markdown",
   "metadata": {},
   "source": [
    "How many rows and columns do we have?"
   ]
  },
  {
   "cell_type": "code",
   "execution_count": 9,
   "metadata": {},
   "outputs": [
    {
     "data": {
      "text/plain": [
       "(48300, 10)"
      ]
     },
     "execution_count": 9,
     "metadata": {},
     "output_type": "execute_result"
    }
   ],
   "source": [
    "rent_nonnum.shape"
   ]
  },
  {
   "cell_type": "markdown",
   "metadata": {},
   "source": [
    "For each non-numeric column, let's find out how many unique values (that is, potential *categories*) there are:"
   ]
  },
  {
   "cell_type": "code",
   "execution_count": 10,
   "metadata": {},
   "outputs": [
    {
     "data": {
      "text/plain": [
       "building_id         7417\n",
       "created            47643\n",
       "description        37491\n",
       "display_address     8692\n",
       "features            9924\n",
       "listing_id         48300\n",
       "manager_id          3409\n",
       "photos             44703\n",
       "street_address     15094\n",
       "interest_level         3\n",
       "dtype: int64"
      ]
     },
     "execution_count": 10,
     "metadata": {},
     "output_type": "execute_result"
    }
   ],
   "source": [
    "rent_nonnum.nunique(dropna=False)"
   ]
  },
  {
   "cell_type": "markdown",
   "metadata": {},
   "source": [
    "The first few things to notice are: \n",
    "- `interest_level` has only 3 categories\n",
    "- all the other features potentially have 1000's of categories\n",
    "- `listing_id` is a unique number per apartment so contains no information \n",
    "- `created` is a date which has almost as many values as apartments \n",
    "\n",
    "So, we'll ignore `created` and `listing_id` and we'll start with the simplest feature, `interest_level`. "
   ]
  },
  {
   "cell_type": "markdown",
   "metadata": {},
   "source": [
    "### Objective\n",
    "\n",
    "Let's take a moment to remember what we are doing. **In order to train a model we need numeric data**. Our data however, has many features that may contain information about our target `price` but are not numeric. So, our objective now is to see if we can **convert these features into some sort of sensible numeric representation** that may improve the performance of our baseline model. "
   ]
  },
  {
   "cell_type": "markdown",
   "metadata": {},
   "source": [
    "### Before We Begin\n",
    "\n",
    "Before we start tackling the categorical features in our data, we will need to install another package, called [category_encoders](https://contrib.scikit-learn.org/category_encoders/index.html). Much of this can be done in *sklearn*, but that is not always straightforward, or with straight python (see chapter 6 in the textbook). To streamline our approach, we will use this new package so that we have a single interface to deal with. This package also integrates well with *sklearn*, *Pandas*, and *NumPy*. (Note: you will see some *FutureWarning* messages when using this package but these can be ignored just like we did for `rfpimp`.)"
   ]
  },
  {
   "cell_type": "code",
   "execution_count": 11,
   "metadata": {},
   "outputs": [
    {
     "name": "stdout",
     "output_type": "stream",
     "text": [
      "Collecting category_encoders\n",
      "  Downloading category_encoders-2.5.1.post0-py2.py3-none-any.whl (72 kB)\n",
      "Requirement already satisfied: numpy>=1.14.0 in c:\\users\\ricky\\anaconda3\\lib\\site-packages (from category_encoders) (1.22.4)\n",
      "Requirement already satisfied: scipy>=1.0.0 in c:\\users\\ricky\\anaconda3\\lib\\site-packages (from category_encoders) (1.6.2)\n",
      "Requirement already satisfied: patsy>=0.5.1 in c:\\users\\ricky\\anaconda3\\lib\\site-packages (from category_encoders) (0.5.1)\n",
      "Requirement already satisfied: pandas>=1.0.5 in c:\\users\\ricky\\anaconda3\\lib\\site-packages (from category_encoders) (1.4.2)\n",
      "Requirement already satisfied: scikit-learn>=0.20.0 in c:\\users\\ricky\\anaconda3\\lib\\site-packages (from category_encoders) (0.24.1)\n",
      "Requirement already satisfied: statsmodels>=0.9.0 in c:\\users\\ricky\\anaconda3\\lib\\site-packages (from category_encoders) (0.12.2)\n",
      "Requirement already satisfied: pytz>=2020.1 in c:\\users\\ricky\\anaconda3\\lib\\site-packages (from pandas>=1.0.5->category_encoders) (2021.1)\n",
      "Requirement already satisfied: python-dateutil>=2.8.1 in c:\\users\\ricky\\anaconda3\\lib\\site-packages (from pandas>=1.0.5->category_encoders) (2.8.1)\n",
      "Requirement already satisfied: six in c:\\users\\ricky\\anaconda3\\lib\\site-packages (from patsy>=0.5.1->category_encoders) (1.15.0)\n",
      "Requirement already satisfied: joblib>=0.11 in c:\\users\\ricky\\anaconda3\\lib\\site-packages (from scikit-learn>=0.20.0->category_encoders) (1.0.1)\n",
      "Requirement already satisfied: threadpoolctl>=2.0.0 in c:\\users\\ricky\\anaconda3\\lib\\site-packages (from scikit-learn>=0.20.0->category_encoders) (2.1.0)\n",
      "Installing collected packages: category-encoders\n",
      "Successfully installed category-encoders-2.5.1.post0\n"
     ]
    }
   ],
   "source": [
    "!pip install category_encoders"
   ]
  },
  {
   "cell_type": "markdown",
   "metadata": {},
   "source": [
    "### An Ordinal Variable: `interest_level`\n",
    "\n",
    "This feature is an example of an *ordinal* categorical variable, which means there is a natural ordering. To see this, let's look at the unique values contained in this feature. "
   ]
  },
  {
   "cell_type": "code",
   "execution_count": 12,
   "metadata": {},
   "outputs": [
    {
     "data": {
      "text/plain": [
       "array(['medium', 'low', 'high'], dtype=object)"
      ]
     },
     "execution_count": 12,
     "metadata": {},
     "output_type": "execute_result"
    }
   ],
   "source": [
    "rent_clean['interest_level'].unique()"
   ]
  },
  {
   "cell_type": "markdown",
   "metadata": {},
   "source": [
    "We can now see that the obvious ordering is \n",
    "\n",
    "$$\n",
    "\\rm{low} \\rightarrow \\rm{medium} \\rightarrow \\rm{high}\n",
    "$$\n",
    "\n",
    "Now let's encode this feature using integers, making sure we maintain this ordering.  "
   ]
  },
  {
   "cell_type": "markdown",
   "metadata": {},
   "source": [
    "We will first add the `interest_level` feature to our numeric features."
   ]
  },
  {
   "cell_type": "code",
   "execution_count": 13,
   "metadata": {},
   "outputs": [
    {
     "data": {
      "text/html": [
       "<div>\n",
       "<style scoped>\n",
       "    .dataframe tbody tr th:only-of-type {\n",
       "        vertical-align: middle;\n",
       "    }\n",
       "\n",
       "    .dataframe tbody tr th {\n",
       "        vertical-align: top;\n",
       "    }\n",
       "\n",
       "    .dataframe thead th {\n",
       "        text-align: right;\n",
       "    }\n",
       "</style>\n",
       "<table border=\"1\" class=\"dataframe\">\n",
       "  <thead>\n",
       "    <tr style=\"text-align: right;\">\n",
       "      <th></th>\n",
       "      <th>bathrooms</th>\n",
       "      <th>bedrooms</th>\n",
       "      <th>longitude</th>\n",
       "      <th>latitude</th>\n",
       "      <th>interest_level</th>\n",
       "    </tr>\n",
       "  </thead>\n",
       "  <tbody>\n",
       "    <tr>\n",
       "      <th>0</th>\n",
       "      <td>1.0</td>\n",
       "      <td>1</td>\n",
       "      <td>-73.9539</td>\n",
       "      <td>40.7108</td>\n",
       "      <td>medium</td>\n",
       "    </tr>\n",
       "    <tr>\n",
       "      <th>1</th>\n",
       "      <td>1.0</td>\n",
       "      <td>2</td>\n",
       "      <td>-73.9722</td>\n",
       "      <td>40.7513</td>\n",
       "      <td>low</td>\n",
       "    </tr>\n",
       "    <tr>\n",
       "      <th>2</th>\n",
       "      <td>1.0</td>\n",
       "      <td>2</td>\n",
       "      <td>-73.9625</td>\n",
       "      <td>40.7575</td>\n",
       "      <td>medium</td>\n",
       "    </tr>\n",
       "    <tr>\n",
       "      <th>3</th>\n",
       "      <td>1.5</td>\n",
       "      <td>3</td>\n",
       "      <td>-73.9425</td>\n",
       "      <td>40.7145</td>\n",
       "      <td>medium</td>\n",
       "    </tr>\n",
       "    <tr>\n",
       "      <th>4</th>\n",
       "      <td>1.0</td>\n",
       "      <td>0</td>\n",
       "      <td>-73.9743</td>\n",
       "      <td>40.7439</td>\n",
       "      <td>low</td>\n",
       "    </tr>\n",
       "  </tbody>\n",
       "</table>\n",
       "</div>"
      ],
      "text/plain": [
       "   bathrooms  bedrooms  longitude  latitude interest_level\n",
       "0        1.0         1   -73.9539   40.7108         medium\n",
       "1        1.0         2   -73.9722   40.7513            low\n",
       "2        1.0         2   -73.9625   40.7575         medium\n",
       "3        1.5         3   -73.9425   40.7145         medium\n",
       "4        1.0         0   -73.9743   40.7439            low"
      ]
     },
     "execution_count": 13,
     "metadata": {},
     "output_type": "execute_result"
    }
   ],
   "source": [
    "X = rent_clean[numfeatures + ['interest_level']]\n",
    "y = rent_clean['price']\n",
    "X.head()"
   ]
  },
  {
   "cell_type": "markdown",
   "metadata": {},
   "source": [
    "And then encode this feature numerically."
   ]
  },
  {
   "cell_type": "markdown",
   "metadata": {},
   "source": [
    "#### Documentation of Ordinal Encoding from *sklearn* library"
   ]
  },
  {
   "cell_type": "code",
   "execution_count": 14,
   "metadata": {},
   "outputs": [
    {
     "data": {
      "text/html": [
       "<iframe src=\"https://scikit-learn.org/stable/modules/generated/sklearn.preprocessing.OrdinalEncoder.html\" width=\"800\" height=\"400\"></iframe>\n"
      ],
      "text/plain": [
       "<IPython.core.display.HTML object>"
      ]
     },
     "metadata": {},
     "output_type": "display_data"
    }
   ],
   "source": [
    "%%html\n",
    "<iframe src=\"https://scikit-learn.org/stable/modules/generated/sklearn.preprocessing.OrdinalEncoder.html\" width=\"800\" height=\"400\"></iframe>"
   ]
  },
  {
   "cell_type": "markdown",
   "metadata": {},
   "source": [
    "\n",
    "\n",
    "\n",
    "\n",
    "\n"
   ]
  },
  {
   "cell_type": "markdown",
   "metadata": {},
   "source": [
    "#### Documentation of Ordinal Encoding from *Category Encoders* library"
   ]
  },
  {
   "cell_type": "code",
   "execution_count": 15,
   "metadata": {},
   "outputs": [
    {
     "data": {
      "text/html": [
       "<iframe src=\"https://contrib.scikit-learn.org/category_encoders/ordinal.html\" width=\"800\" height=\"400\"></iframe>\n"
      ],
      "text/plain": [
       "<IPython.core.display.HTML object>"
      ]
     },
     "metadata": {},
     "output_type": "display_data"
    }
   ],
   "source": [
    "%%html\n",
    "<iframe src=\"https://contrib.scikit-learn.org/category_encoders/ordinal.html\" width=\"800\" height=\"400\"></iframe>"
   ]
  },
  {
   "cell_type": "code",
   "execution_count": 16,
   "metadata": {},
   "outputs": [
    {
     "data": {
      "text/html": [
       "<div>\n",
       "<style scoped>\n",
       "    .dataframe tbody tr th:only-of-type {\n",
       "        vertical-align: middle;\n",
       "    }\n",
       "\n",
       "    .dataframe tbody tr th {\n",
       "        vertical-align: top;\n",
       "    }\n",
       "\n",
       "    .dataframe thead th {\n",
       "        text-align: right;\n",
       "    }\n",
       "</style>\n",
       "<table border=\"1\" class=\"dataframe\">\n",
       "  <thead>\n",
       "    <tr style=\"text-align: right;\">\n",
       "      <th></th>\n",
       "      <th>bathrooms</th>\n",
       "      <th>bedrooms</th>\n",
       "      <th>longitude</th>\n",
       "      <th>latitude</th>\n",
       "      <th>interest_level</th>\n",
       "    </tr>\n",
       "  </thead>\n",
       "  <tbody>\n",
       "    <tr>\n",
       "      <th>0</th>\n",
       "      <td>1.0</td>\n",
       "      <td>1</td>\n",
       "      <td>-73.9539</td>\n",
       "      <td>40.7108</td>\n",
       "      <td>2</td>\n",
       "    </tr>\n",
       "    <tr>\n",
       "      <th>1</th>\n",
       "      <td>1.0</td>\n",
       "      <td>2</td>\n",
       "      <td>-73.9722</td>\n",
       "      <td>40.7513</td>\n",
       "      <td>1</td>\n",
       "    </tr>\n",
       "    <tr>\n",
       "      <th>2</th>\n",
       "      <td>1.0</td>\n",
       "      <td>2</td>\n",
       "      <td>-73.9625</td>\n",
       "      <td>40.7575</td>\n",
       "      <td>2</td>\n",
       "    </tr>\n",
       "    <tr>\n",
       "      <th>3</th>\n",
       "      <td>1.5</td>\n",
       "      <td>3</td>\n",
       "      <td>-73.9425</td>\n",
       "      <td>40.7145</td>\n",
       "      <td>2</td>\n",
       "    </tr>\n",
       "    <tr>\n",
       "      <th>4</th>\n",
       "      <td>1.0</td>\n",
       "      <td>0</td>\n",
       "      <td>-73.9743</td>\n",
       "      <td>40.7439</td>\n",
       "      <td>1</td>\n",
       "    </tr>\n",
       "  </tbody>\n",
       "</table>\n",
       "</div>"
      ],
      "text/plain": [
       "   bathrooms  bedrooms  longitude  latitude  interest_level\n",
       "0        1.0         1   -73.9539   40.7108               2\n",
       "1        1.0         2   -73.9722   40.7513               1\n",
       "2        1.0         2   -73.9625   40.7575               2\n",
       "3        1.5         3   -73.9425   40.7145               2\n",
       "4        1.0         0   -73.9743   40.7439               1"
      ]
     },
     "execution_count": 16,
     "metadata": {},
     "output_type": "execute_result"
    }
   ],
   "source": [
    "import category_encoders as ce\n",
    "\n",
    "encoder = ce.OrdinalEncoder(mapping=[{'col': 'interest_level', 'mapping': {'low': 1, 'medium': 2, 'high':3}}])\n",
    "\n",
    "encoder.fit(X)\n",
    "X = encoder.transform(X)\n",
    "X.head()"
   ]
  },
  {
   "cell_type": "markdown",
   "metadata": {},
   "source": [
    "This approach called *ordinal encoding*. Note that the **scale doesn't matter for random forests** (although it may for another model), so **it wouldn't matter if we used 1, 2, 3 or 10, 20, 30 to encode this variable**, as long as we maintained the original ordering. \n",
    "\n",
    "*Label encoding* is similar, but just assigns an integer to each unique category value (assuming no order) and, as the name suggests, is often used to numerically encode target classes. \n",
    "\n",
    "Now that the feature is numeric, we can include it in our baseline model and then evaluate how it performs to see if including `interest_level` improves performance at all."
   ]
  },
  {
   "cell_type": "code",
   "execution_count": 17,
   "metadata": {},
   "outputs": [
    {
     "name": "stdout",
     "output_type": "stream",
     "text": [
      "OOB R^2 is 0.87070 using 3,023,202 tree nodes with 35.0 median tree depth\n"
     ]
    }
   ],
   "source": [
    "rf, oob = evaluate(X, y)"
   ]
  },
  {
   "cell_type": "code",
   "execution_count": 18,
   "metadata": {},
   "outputs": [
    {
     "data": {
      "image/png": "[encoded data removed]",
      "text/plain": [
       "<Figure size 288x108 with 1 Axes>"
      ]
     },
     "metadata": {
      "needs_background": "light"
     },
     "output_type": "display_data"
    }
   ],
   "source": [
    "showimp(rf, X, y)"
   ]
  },
  {
   "cell_type": "markdown",
   "metadata": {},
   "source": [
    "We see that including this feature gives us a slight increase in performance since our OOB $R^2$ is now 0.870 (up from 0.867). From the number of nodes in the forest we see that the model has to work a little harder when we include this feature. And we can also see that predictions will be a bit slower as the median depth of trees in the forest has increased from 35 to 36. \n",
    "\n",
    "But, the closer we get to $R^2 = 1$ the harder it is to get an improvement so we will keep this feature in."
   ]
  },
  {
   "cell_type": "markdown",
   "metadata": {},
   "source": [
    "### A Nominal Variable: `manager_id`\n",
    "\n",
    "This type of categorical variable is more difficult to encode than an ordinal variable as there is often no meaningful way to encode as a number, especially when there are many category values. \n",
    "\n",
    "To get started, let's take a look at some typical values for this variable. "
   ]
  },
  {
   "cell_type": "code",
   "execution_count": 19,
   "metadata": {},
   "outputs": [
    {
     "data": {
      "text/plain": [
       "array(['a10db4590843d78c784171a107bdacb4',\n",
       "       '955db33477af4f40004820b4aed804a0',\n",
       "       'c8b10a317b766204f08e613cef4ce7a0', ...,\n",
       "       'bf077b3e472557cb660271eafe1629aa',\n",
       "       '78a2411ba7621e3a54d8f325e44b92f4',\n",
       "       'cda0d536fb182dfed7cc48f0884d3203'], dtype=object)"
      ]
     },
     "execution_count": 19,
     "metadata": {},
     "output_type": "execute_result"
    }
   ],
   "source": [
    "rent_clean['manager_id'].unique()"
   ]
  },
  {
   "cell_type": "markdown",
   "metadata": {},
   "source": [
    "And determine how many unique values there are; that is, how many category values."
   ]
  },
  {
   "cell_type": "code",
   "execution_count": 20,
   "metadata": {},
   "outputs": [
    {
     "data": {
      "text/plain": [
       "3409"
      ]
     },
     "execution_count": 20,
     "metadata": {},
     "output_type": "execute_result"
    }
   ],
   "source": [
    "len(rent_clean['manager_id'].unique())"
   ]
  },
  {
   "cell_type": "markdown",
   "metadata": {},
   "source": [
    "This is an example of a *high-cardinality* categorical variable as it has many category values. For instance, compare this number to the number of category values we had to deal with for `interest_level`. \n",
    "\n",
    "The first thing we are going to try is to ignore that this is a *nominal* variable and treat it as if it were a *ordinal* one."
   ]
  },
  {
   "cell_type": "code",
   "execution_count": 21,
   "metadata": {},
   "outputs": [
    {
     "data": {
      "text/html": [
       "<div>\n",
       "<style scoped>\n",
       "    .dataframe tbody tr th:only-of-type {\n",
       "        vertical-align: middle;\n",
       "    }\n",
       "\n",
       "    .dataframe tbody tr th {\n",
       "        vertical-align: top;\n",
       "    }\n",
       "\n",
       "    .dataframe thead th {\n",
       "        text-align: right;\n",
       "    }\n",
       "</style>\n",
       "<table border=\"1\" class=\"dataframe\">\n",
       "  <thead>\n",
       "    <tr style=\"text-align: right;\">\n",
       "      <th></th>\n",
       "      <th>bathrooms</th>\n",
       "      <th>bedrooms</th>\n",
       "      <th>longitude</th>\n",
       "      <th>latitude</th>\n",
       "      <th>manager_id</th>\n",
       "    </tr>\n",
       "  </thead>\n",
       "  <tbody>\n",
       "    <tr>\n",
       "      <th>0</th>\n",
       "      <td>1.0</td>\n",
       "      <td>1</td>\n",
       "      <td>-73.9539</td>\n",
       "      <td>40.7108</td>\n",
       "      <td>a10db4590843d78c784171a107bdacb4</td>\n",
       "    </tr>\n",
       "    <tr>\n",
       "      <th>1</th>\n",
       "      <td>1.0</td>\n",
       "      <td>2</td>\n",
       "      <td>-73.9722</td>\n",
       "      <td>40.7513</td>\n",
       "      <td>955db33477af4f40004820b4aed804a0</td>\n",
       "    </tr>\n",
       "    <tr>\n",
       "      <th>2</th>\n",
       "      <td>1.0</td>\n",
       "      <td>2</td>\n",
       "      <td>-73.9625</td>\n",
       "      <td>40.7575</td>\n",
       "      <td>c8b10a317b766204f08e613cef4ce7a0</td>\n",
       "    </tr>\n",
       "    <tr>\n",
       "      <th>3</th>\n",
       "      <td>1.5</td>\n",
       "      <td>3</td>\n",
       "      <td>-73.9425</td>\n",
       "      <td>40.7145</td>\n",
       "      <td>5ba989232d0489da1b5f2c45f6688adc</td>\n",
       "    </tr>\n",
       "    <tr>\n",
       "      <th>4</th>\n",
       "      <td>1.0</td>\n",
       "      <td>0</td>\n",
       "      <td>-73.9743</td>\n",
       "      <td>40.7439</td>\n",
       "      <td>2c3b41f588fbb5234d8a1e885a436cfa</td>\n",
       "    </tr>\n",
       "  </tbody>\n",
       "</table>\n",
       "</div>"
      ],
      "text/plain": [
       "   bathrooms  bedrooms  longitude  latitude                        manager_id\n",
       "0        1.0         1   -73.9539   40.7108  a10db4590843d78c784171a107bdacb4\n",
       "1        1.0         2   -73.9722   40.7513  955db33477af4f40004820b4aed804a0\n",
       "2        1.0         2   -73.9625   40.7575  c8b10a317b766204f08e613cef4ce7a0\n",
       "3        1.5         3   -73.9425   40.7145  5ba989232d0489da1b5f2c45f6688adc\n",
       "4        1.0         0   -73.9743   40.7439  2c3b41f588fbb5234d8a1e885a436cfa"
      ]
     },
     "execution_count": 21,
     "metadata": {},
     "output_type": "execute_result"
    }
   ],
   "source": [
    "X = rent_clean[numfeatures + ['manager_id']]\n",
    "y = rent_clean['price']\n",
    "X.head()"
   ]
  },
  {
   "cell_type": "code",
   "execution_count": 22,
   "metadata": {},
   "outputs": [
    {
     "data": {
      "text/html": [
       "<div>\n",
       "<style scoped>\n",
       "    .dataframe tbody tr th:only-of-type {\n",
       "        vertical-align: middle;\n",
       "    }\n",
       "\n",
       "    .dataframe tbody tr th {\n",
       "        vertical-align: top;\n",
       "    }\n",
       "\n",
       "    .dataframe thead th {\n",
       "        text-align: right;\n",
       "    }\n",
       "</style>\n",
       "<table border=\"1\" class=\"dataframe\">\n",
       "  <thead>\n",
       "    <tr style=\"text-align: right;\">\n",
       "      <th></th>\n",
       "      <th>bathrooms</th>\n",
       "      <th>bedrooms</th>\n",
       "      <th>longitude</th>\n",
       "      <th>latitude</th>\n",
       "      <th>manager_id</th>\n",
       "    </tr>\n",
       "  </thead>\n",
       "  <tbody>\n",
       "    <tr>\n",
       "      <th>0</th>\n",
       "      <td>1.0</td>\n",
       "      <td>1</td>\n",
       "      <td>-73.9539</td>\n",
       "      <td>40.7108</td>\n",
       "      <td>1</td>\n",
       "    </tr>\n",
       "    <tr>\n",
       "      <th>1</th>\n",
       "      <td>1.0</td>\n",
       "      <td>2</td>\n",
       "      <td>-73.9722</td>\n",
       "      <td>40.7513</td>\n",
       "      <td>2</td>\n",
       "    </tr>\n",
       "    <tr>\n",
       "      <th>2</th>\n",
       "      <td>1.0</td>\n",
       "      <td>2</td>\n",
       "      <td>-73.9625</td>\n",
       "      <td>40.7575</td>\n",
       "      <td>3</td>\n",
       "    </tr>\n",
       "    <tr>\n",
       "      <th>3</th>\n",
       "      <td>1.5</td>\n",
       "      <td>3</td>\n",
       "      <td>-73.9425</td>\n",
       "      <td>40.7145</td>\n",
       "      <td>4</td>\n",
       "    </tr>\n",
       "    <tr>\n",
       "      <th>4</th>\n",
       "      <td>1.0</td>\n",
       "      <td>0</td>\n",
       "      <td>-73.9743</td>\n",
       "      <td>40.7439</td>\n",
       "      <td>5</td>\n",
       "    </tr>\n",
       "  </tbody>\n",
       "</table>\n",
       "</div>"
      ],
      "text/plain": [
       "   bathrooms  bedrooms  longitude  latitude  manager_id\n",
       "0        1.0         1   -73.9539   40.7108           1\n",
       "1        1.0         2   -73.9722   40.7513           2\n",
       "2        1.0         2   -73.9625   40.7575           3\n",
       "3        1.5         3   -73.9425   40.7145           4\n",
       "4        1.0         0   -73.9743   40.7439           5"
      ]
     },
     "execution_count": 22,
     "metadata": {},
     "output_type": "execute_result"
    }
   ],
   "source": [
    "encoder = ce.OrdinalEncoder(cols=['manager_id'])\n",
    "\n",
    "encoder.fit(X)\n",
    "X = encoder.transform(X)\n",
    "X.head()"
   ]
  },
  {
   "cell_type": "code",
   "execution_count": 23,
   "metadata": {},
   "outputs": [
    {
     "name": "stdout",
     "output_type": "stream",
     "text": [
      "OOB R^2 is 0.86141 using 4,603,674 tree nodes with 41.0 median tree depth\n"
     ]
    }
   ],
   "source": [
    "rf, oob = evaluate(X, y)"
   ]
  },
  {
   "cell_type": "code",
   "execution_count": 24,
   "metadata": {},
   "outputs": [
    {
     "data": {
      "image/png": "[encoded data removed]",
      "text/plain": [
       "<Figure size 288x108 with 1 Axes>"
      ]
     },
     "metadata": {
      "needs_background": "light"
     },
     "output_type": "display_data"
    }
   ],
   "source": [
    "showimp(rf, X, y)"
   ]
  },
  {
   "cell_type": "markdown",
   "metadata": {},
   "source": [
    "This doesn't improve our baseline $R^2$ performance and also adds many more nodes to the forest and about 5 levels to the median depth. So, this attempt doesn't work. \n",
    "\n",
    "We will now try a different method to encode this variable to see if that makes a difference: **frequency encoding**. In this approach we count up how many samples belong to each category and then replace each unique string value with the corresponding count. Let's see how this works. "
   ]
  },
  {
   "cell_type": "code",
   "execution_count": 25,
   "metadata": {},
   "outputs": [
    {
     "data": {
      "text/html": [
       "<div>\n",
       "<style scoped>\n",
       "    .dataframe tbody tr th:only-of-type {\n",
       "        vertical-align: middle;\n",
       "    }\n",
       "\n",
       "    .dataframe tbody tr th {\n",
       "        vertical-align: top;\n",
       "    }\n",
       "\n",
       "    .dataframe thead th {\n",
       "        text-align: right;\n",
       "    }\n",
       "</style>\n",
       "<table border=\"1\" class=\"dataframe\">\n",
       "  <thead>\n",
       "    <tr style=\"text-align: right;\">\n",
       "      <th></th>\n",
       "      <th>bathrooms</th>\n",
       "      <th>bedrooms</th>\n",
       "      <th>longitude</th>\n",
       "      <th>latitude</th>\n",
       "      <th>manager_id</th>\n",
       "    </tr>\n",
       "  </thead>\n",
       "  <tbody>\n",
       "    <tr>\n",
       "      <th>0</th>\n",
       "      <td>1.0</td>\n",
       "      <td>1</td>\n",
       "      <td>-73.9539</td>\n",
       "      <td>40.7108</td>\n",
       "      <td>a10db4590843d78c784171a107bdacb4</td>\n",
       "    </tr>\n",
       "    <tr>\n",
       "      <th>1</th>\n",
       "      <td>1.0</td>\n",
       "      <td>2</td>\n",
       "      <td>-73.9722</td>\n",
       "      <td>40.7513</td>\n",
       "      <td>955db33477af4f40004820b4aed804a0</td>\n",
       "    </tr>\n",
       "    <tr>\n",
       "      <th>2</th>\n",
       "      <td>1.0</td>\n",
       "      <td>2</td>\n",
       "      <td>-73.9625</td>\n",
       "      <td>40.7575</td>\n",
       "      <td>c8b10a317b766204f08e613cef4ce7a0</td>\n",
       "    </tr>\n",
       "    <tr>\n",
       "      <th>3</th>\n",
       "      <td>1.5</td>\n",
       "      <td>3</td>\n",
       "      <td>-73.9425</td>\n",
       "      <td>40.7145</td>\n",
       "      <td>5ba989232d0489da1b5f2c45f6688adc</td>\n",
       "    </tr>\n",
       "    <tr>\n",
       "      <th>4</th>\n",
       "      <td>1.0</td>\n",
       "      <td>0</td>\n",
       "      <td>-73.9743</td>\n",
       "      <td>40.7439</td>\n",
       "      <td>2c3b41f588fbb5234d8a1e885a436cfa</td>\n",
       "    </tr>\n",
       "  </tbody>\n",
       "</table>\n",
       "</div>"
      ],
      "text/plain": [
       "   bathrooms  bedrooms  longitude  latitude                        manager_id\n",
       "0        1.0         1   -73.9539   40.7108  a10db4590843d78c784171a107bdacb4\n",
       "1        1.0         2   -73.9722   40.7513  955db33477af4f40004820b4aed804a0\n",
       "2        1.0         2   -73.9625   40.7575  c8b10a317b766204f08e613cef4ce7a0\n",
       "3        1.5         3   -73.9425   40.7145  5ba989232d0489da1b5f2c45f6688adc\n",
       "4        1.0         0   -73.9743   40.7439  2c3b41f588fbb5234d8a1e885a436cfa"
      ]
     },
     "execution_count": 25,
     "metadata": {},
     "output_type": "execute_result"
    }
   ],
   "source": [
    "X = rent_clean[numfeatures + ['manager_id']]\n",
    "y = rent_clean['price']\n",
    "X.head()"
   ]
  },
  {
   "cell_type": "code",
   "execution_count": 26,
   "metadata": {},
   "outputs": [
    {
     "data": {
      "text/html": [
       "<div>\n",
       "<style scoped>\n",
       "    .dataframe tbody tr th:only-of-type {\n",
       "        vertical-align: middle;\n",
       "    }\n",
       "\n",
       "    .dataframe tbody tr th {\n",
       "        vertical-align: top;\n",
       "    }\n",
       "\n",
       "    .dataframe thead th {\n",
       "        text-align: right;\n",
       "    }\n",
       "</style>\n",
       "<table border=\"1\" class=\"dataframe\">\n",
       "  <thead>\n",
       "    <tr style=\"text-align: right;\">\n",
       "      <th></th>\n",
       "      <th>bathrooms</th>\n",
       "      <th>bedrooms</th>\n",
       "      <th>longitude</th>\n",
       "      <th>latitude</th>\n",
       "      <th>manager_id</th>\n",
       "    </tr>\n",
       "  </thead>\n",
       "  <tbody>\n",
       "    <tr>\n",
       "      <th>0</th>\n",
       "      <td>1.0</td>\n",
       "      <td>1</td>\n",
       "      <td>-73.9539</td>\n",
       "      <td>40.7108</td>\n",
       "      <td>112</td>\n",
       "    </tr>\n",
       "    <tr>\n",
       "      <th>1</th>\n",
       "      <td>1.0</td>\n",
       "      <td>2</td>\n",
       "      <td>-73.9722</td>\n",
       "      <td>40.7513</td>\n",
       "      <td>26</td>\n",
       "    </tr>\n",
       "    <tr>\n",
       "      <th>2</th>\n",
       "      <td>1.0</td>\n",
       "      <td>2</td>\n",
       "      <td>-73.9625</td>\n",
       "      <td>40.7575</td>\n",
       "      <td>93</td>\n",
       "    </tr>\n",
       "    <tr>\n",
       "      <th>3</th>\n",
       "      <td>1.5</td>\n",
       "      <td>3</td>\n",
       "      <td>-73.9425</td>\n",
       "      <td>40.7145</td>\n",
       "      <td>90</td>\n",
       "    </tr>\n",
       "    <tr>\n",
       "      <th>4</th>\n",
       "      <td>1.0</td>\n",
       "      <td>0</td>\n",
       "      <td>-73.9743</td>\n",
       "      <td>40.7439</td>\n",
       "      <td>54</td>\n",
       "    </tr>\n",
       "  </tbody>\n",
       "</table>\n",
       "</div>"
      ],
      "text/plain": [
       "   bathrooms  bedrooms  longitude  latitude  manager_id\n",
       "0        1.0         1   -73.9539   40.7108         112\n",
       "1        1.0         2   -73.9722   40.7513          26\n",
       "2        1.0         2   -73.9625   40.7575          93\n",
       "3        1.5         3   -73.9425   40.7145          90\n",
       "4        1.0         0   -73.9743   40.7439          54"
      ]
     },
     "execution_count": 26,
     "metadata": {},
     "output_type": "execute_result"
    }
   ],
   "source": [
    "encoder = ce.CountEncoder(cols=['manager_id'])\n",
    "\n",
    "encoder.fit(X)\n",
    "X = encoder.transform(X)\n",
    "X.head()"
   ]
  },
  {
   "cell_type": "code",
   "execution_count": 27,
   "metadata": {},
   "outputs": [
    {
     "name": "stdout",
     "output_type": "stream",
     "text": [
      "OOB R^2 is 0.86360 using 4,536,196 tree nodes with 40.0 median tree depth\n"
     ]
    }
   ],
   "source": [
    "rf, oob = evaluate(X, y)"
   ]
  },
  {
   "cell_type": "code",
   "execution_count": 28,
   "metadata": {},
   "outputs": [
    {
     "data": {
      "image/png": "[encoded data removed]",
      "text/plain": [
       "<Figure size 288x108 with 1 Axes>"
      ]
     },
     "metadata": {
      "needs_background": "light"
     },
     "output_type": "display_data"
    }
   ],
   "source": [
    "showimp(rf, X, y)"
   ]
  },
  {
   "cell_type": "markdown",
   "metadata": {},
   "source": [
    "Again, we see that including this feature with this encoding doesn't improve our overall results over our baseline. \n",
    "\n",
    "High-cardinality variables tend to require more advanced encodings, like **embeddings** and **target encoding**. We will revisit this feature later, when we talk about target encoding. "
   ]
  },
  {
   "cell_type": "markdown",
   "metadata": {},
   "source": [
    "#### An Aside: One-Hot Encoding\n",
    "\n",
    "Another common technique for encoding nominal variables is called *one-hot encoding*. Although this approach is not useful for high-cardinality variables, it is a good time to review how it works. To show how it works we will use a toy dataframe. "
   ]
  },
  {
   "cell_type": "code",
   "execution_count": 29,
   "metadata": {},
   "outputs": [
    {
     "data": {
      "text/html": [
       "<div>\n",
       "<style scoped>\n",
       "    .dataframe tbody tr th:only-of-type {\n",
       "        vertical-align: middle;\n",
       "    }\n",
       "\n",
       "    .dataframe tbody tr th {\n",
       "        vertical-align: top;\n",
       "    }\n",
       "\n",
       "    .dataframe thead th {\n",
       "        text-align: right;\n",
       "    }\n",
       "</style>\n",
       "<table border=\"1\" class=\"dataframe\">\n",
       "  <thead>\n",
       "    <tr style=\"text-align: right;\">\n",
       "      <th></th>\n",
       "      <th>manager_id</th>\n",
       "      <th>bedrooms</th>\n",
       "      <th>price</th>\n",
       "    </tr>\n",
       "  </thead>\n",
       "  <tbody>\n",
       "    <tr>\n",
       "      <th>0</th>\n",
       "      <td>mgr 1</td>\n",
       "      <td>1</td>\n",
       "      <td>3590</td>\n",
       "    </tr>\n",
       "    <tr>\n",
       "      <th>1</th>\n",
       "      <td>mgr 1</td>\n",
       "      <td>2</td>\n",
       "      <td>2780</td>\n",
       "    </tr>\n",
       "    <tr>\n",
       "      <th>2</th>\n",
       "      <td>mgr 3</td>\n",
       "      <td>1</td>\n",
       "      <td>6450</td>\n",
       "    </tr>\n",
       "    <tr>\n",
       "      <th>3</th>\n",
       "      <td>mgr 1</td>\n",
       "      <td>1</td>\n",
       "      <td>4100</td>\n",
       "    </tr>\n",
       "    <tr>\n",
       "      <th>4</th>\n",
       "      <td>mgr 2</td>\n",
       "      <td>3</td>\n",
       "      <td>3900</td>\n",
       "    </tr>\n",
       "    <tr>\n",
       "      <th>5</th>\n",
       "      <td>mgr 2</td>\n",
       "      <td>2</td>\n",
       "      <td>4200</td>\n",
       "    </tr>\n",
       "  </tbody>\n",
       "</table>\n",
       "</div>"
      ],
      "text/plain": [
       "  manager_id  bedrooms  price\n",
       "0      mgr 1         1   3590\n",
       "1      mgr 1         2   2780\n",
       "2      mgr 3         1   6450\n",
       "3      mgr 1         1   4100\n",
       "4      mgr 2         3   3900\n",
       "5      mgr 2         2   4200"
      ]
     },
     "execution_count": 29,
     "metadata": {},
     "output_type": "execute_result"
    }
   ],
   "source": [
    "df = pd.DataFrame({'manager_id':['mgr 1', 'mgr 1', 'mgr 3', 'mgr 1', 'mgr 2', 'mgr 2'], \n",
    "                   'bedrooms':[1, 2, 1, 1, 3, 2], \n",
    "                   'price':[3590, 2780, 6450, 4100, 3900, 4200]})\n",
    "df"
   ]
  },
  {
   "cell_type": "markdown",
   "metadata": {},
   "source": [
    "And now we perform one-hot encoding on our pretend `manager_id` column."
   ]
  },
  {
   "cell_type": "code",
   "execution_count": 30,
   "metadata": {},
   "outputs": [
    {
     "data": {
      "text/html": [
       "<div>\n",
       "<style scoped>\n",
       "    .dataframe tbody tr th:only-of-type {\n",
       "        vertical-align: middle;\n",
       "    }\n",
       "\n",
       "    .dataframe tbody tr th {\n",
       "        vertical-align: top;\n",
       "    }\n",
       "\n",
       "    .dataframe thead th {\n",
       "        text-align: right;\n",
       "    }\n",
       "</style>\n",
       "<table border=\"1\" class=\"dataframe\">\n",
       "  <thead>\n",
       "    <tr style=\"text-align: right;\">\n",
       "      <th></th>\n",
       "      <th>manager_id_1</th>\n",
       "      <th>manager_id_2</th>\n",
       "      <th>manager_id_3</th>\n",
       "      <th>bedrooms</th>\n",
       "      <th>price</th>\n",
       "    </tr>\n",
       "  </thead>\n",
       "  <tbody>\n",
       "    <tr>\n",
       "      <th>0</th>\n",
       "      <td>1</td>\n",
       "      <td>0</td>\n",
       "      <td>0</td>\n",
       "      <td>1</td>\n",
       "      <td>3590</td>\n",
       "    </tr>\n",
       "    <tr>\n",
       "      <th>1</th>\n",
       "      <td>1</td>\n",
       "      <td>0</td>\n",
       "      <td>0</td>\n",
       "      <td>2</td>\n",
       "      <td>2780</td>\n",
       "    </tr>\n",
       "    <tr>\n",
       "      <th>2</th>\n",
       "      <td>0</td>\n",
       "      <td>1</td>\n",
       "      <td>0</td>\n",
       "      <td>1</td>\n",
       "      <td>6450</td>\n",
       "    </tr>\n",
       "    <tr>\n",
       "      <th>3</th>\n",
       "      <td>1</td>\n",
       "      <td>0</td>\n",
       "      <td>0</td>\n",
       "      <td>1</td>\n",
       "      <td>4100</td>\n",
       "    </tr>\n",
       "    <tr>\n",
       "      <th>4</th>\n",
       "      <td>0</td>\n",
       "      <td>0</td>\n",
       "      <td>1</td>\n",
       "      <td>3</td>\n",
       "      <td>3900</td>\n",
       "    </tr>\n",
       "    <tr>\n",
       "      <th>5</th>\n",
       "      <td>0</td>\n",
       "      <td>0</td>\n",
       "      <td>1</td>\n",
       "      <td>2</td>\n",
       "      <td>4200</td>\n",
       "    </tr>\n",
       "  </tbody>\n",
       "</table>\n",
       "</div>"
      ],
      "text/plain": [
       "   manager_id_1  manager_id_2  manager_id_3  bedrooms  price\n",
       "0             1             0             0         1   3590\n",
       "1             1             0             0         2   2780\n",
       "2             0             1             0         1   6450\n",
       "3             1             0             0         1   4100\n",
       "4             0             0             1         3   3900\n",
       "5             0             0             1         2   4200"
      ]
     },
     "execution_count": 30,
     "metadata": {},
     "output_type": "execute_result"
    }
   ],
   "source": [
    "encoder = ce.OneHotEncoder(cols=['manager_id'])\n",
    "\n",
    "encoder.fit(df)\n",
    "df = encoder.transform(df)\n",
    "df"
   ]
  },
  {
   "cell_type": "markdown",
   "metadata": {},
   "source": [
    "First note that we had 3 unique `manager_id` values in our toy dataset. When we do one-hot encoding on this data we will create 3 columns from the original `manager_id` column, one for each unique value. Then, we put a 1 (where one-hot comes from) in the column corresponding to the correct manager id for that sample (row) and 0's in the other two columns. If the number of unique values for the feature were 5 we would create 5 new columns instead of 3, as we did here, so this approach can be taken for any number of unique category values. \n",
    "\n",
    "However, note that if we had done this for the `manager_id` in our rent dataset, we would introduce 3409 new columns to our dataframe, which is impractical; that's too much computational overhead for a single feature. And, `manager_id`is not the only high-cardinality variable in our dataset. If we were to one-hot encode `manager_id`, `display_address`, and `building_id` we would add $3409 + 8692 + 7417 = 19518$ new columns to our data (see `rent_nonnum.nunique(dropna=False)` code cell above to see where these numbers came from). "
   ]
  },
  {
   "cell_type": "markdown",
   "metadata": {},
   "source": [
    "### Exercise\n",
    "\n",
    "Repeat the procedures we took for `manager_id` but now explore the effect of including `building_id` and `display_address`. "
   ]
  },
  {
   "cell_type": "code",
   "execution_count": null,
   "metadata": {},
   "outputs": [],
   "source": []
  }
 ],
 "metadata": {
  "colab": {
   "collapsed_sections": [],
   "name": "new_initial_model.ipynb",
   "provenance": []
  },
  "kernelspec": {
   "display_name": "Python 3 (ipykernel)",
   "language": "python",
   "name": "python3"
  },
  "language_info": {
   "codemirror_mode": {
    "name": "ipython",
    "version": 3
   },
   "file_extension": ".py",
   "mimetype": "text/x-python",
   "name": "python",
   "nbconvert_exporter": "python",
   "pygments_lexer": "ipython3",
   "version": "3.9.13"
  }
 },
 "nbformat": 4,
 "nbformat_minor": 4
}
