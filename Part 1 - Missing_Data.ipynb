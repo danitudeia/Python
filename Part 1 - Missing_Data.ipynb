{
 "cells": [
  {
   "cell_type": "markdown",
   "metadata": {
    "id": "urG_6owfqwuS"
   },
   "source": [
    "## Part 1 - Dealing with Missing Data\n",
    "\n",
    "\n",
    "**Notice: This notebook is a modification of [sniff.ipynb](https://mlbook.explained.ai/notebooks/index.html) by Terence Parr and Jeremy Howard, which was used by permission of the author.**\n",
    "\n",
    "Please use this notebook to follow along with the lectures this week. Feel free to modify the code in any way. \n",
    "\n",
    "There may be minor differences between the notebook seen in the lecture videos and this one. "
   ]
  },
  {
   "cell_type": "code",
   "execution_count": 1,
   "metadata": {
    "id": "Tcl3KFEXqwuT"
   },
   "outputs": [],
   "source": [
    "import pandas as pd\n",
    "import numpy as np\n",
    "from sklearn.ensemble import RandomForestRegressor\n",
    "from rfpimp import * "
   ]
  },
  {
   "cell_type": "markdown",
   "metadata": {
    "id": "Y4yf5yzsqwuU"
   },
   "source": [
    "We will use slightly modified versions of the `evaluate` and `showimp` functions from the last few notebooks. "
   ]
  },
  {
   "cell_type": "code",
   "execution_count": 2,
   "metadata": {
    "id": "x13zTYO3qwuU"
   },
   "outputs": [],
   "source": [
    "def evaluate(X, y, n_estimators=50):\n",
    "    rf = RandomForestRegressor(n_estimators=n_estimators, n_jobs=-1, oob_score=True)\n",
    "    rf.fit(X, y)\n",
    "    oob = rf.oob_score_\n",
    "    n = rfnnodes(rf)\n",
    "    h = np.median(rfmaxdepths(rf))\n",
    "    print(f\"OOB R^2 is {oob:.5f} using {n:,d} tree nodes with {h} median tree depth\")\n",
    "    return rf, oob"
   ]
  },
  {
   "cell_type": "code",
   "execution_count": 3,
   "metadata": {
    "id": "Qj3GJ3jqqwuU"
   },
   "outputs": [],
   "source": [
    "def showimp(rf, X, y):\n",
    "    features = list(X.columns)\n",
    "    I = importances(rf, X, y, features=features)\n",
    "    plot_importances(I, color='#4575b4')"
   ]
  },
  {
   "cell_type": "markdown",
   "metadata": {
    "id": "rkxZmXgdqwuU"
   },
   "source": [
    "### Read in the Data\n",
    "\n",
    "To prep the data for loading, please refer to [Section 7.1](https://mlbook.explained.ai/bulldozer-intro.html#sec:7.1) of *The Mechanics of Machine learning*. Once we have the data in the proper format, we are going to read it in and make a copy. Making a copy is a good idea as then we will always have the original data available without having to reload it. "
   ]
  },
  {
   "cell_type": "code",
   "execution_count": 4,
   "metadata": {},
   "outputs": [
    {
     "name": "stdout",
     "output_type": "stream",
     "text": [
      "Requirement already satisfied: pyarrow in c:\\users\\danielle\\anaconda3\\lib\\site-packages (12.0.1)\n",
      "Requirement already satisfied: numpy>=1.16.6 in c:\\users\\danielle\\anaconda3\\lib\\site-packages (from pyarrow) (1.21.5)\n",
      "Created bulldozer-train-all.feather\n",
      "Created bulldozer-train.feather\n",
      "Created bulldozer-valid.feather\n",
      "Created bulldozer-test.feather\n"
     ]
    }
   ],
   "source": [
    "# Data must be logged in to get. Download Train.zip from:\n",
    "# https://www.kaggle.com/c/bluebook-for-bulldozers/data\n",
    "# Uncompress to get Train.csv, then run this program in same dir as that Train.csv\n",
    "# to get bulldozer-train.feature which is much faster to load.\n",
    "# python prep-bulldozer.py \n",
    "!pip install pyarrow\n",
    "import pyarrow\n",
    "import pandas as pd\n",
    "import csv\n",
    "import os\n",
    "\n",
    "\n",
    "if not (os.path.isfile('Train.csv') and os.path.isfile('Valid.csv') and os.path.isfile('ValidSolution.csv')):\n",
    "    print(\"Can't find Train.csv or Valid.csv or ValidSolution.csv file; must execute this program in same dir\")\n",
    "    print(\"To get these files, go to https://www.kaggle.com/c/bluebook-for-bulldozers/data\")\n",
    "    exit()\n",
    "\n",
    "dtypes = {col:str for col in ['fiModelSeries', 'Coupler_System', 'Grouser_Tracks', 'Hydraulics_Flow']}\n",
    "df = pd.read_csv('Train.csv', dtype=dtypes, parse_dates=['saledate']) # 35s load\n",
    "df = df.sort_values('saledate')\n",
    "df = df.reset_index(drop=True)\n",
    "\n",
    "df.to_feather(\"bulldozer-train-all.feather\")\n",
    "print(\"Created bulldozer-train-all.feather\")\n",
    "\n",
    "# Split out validation set and make training/validation sets\n",
    "n_valid = 12000  # same as Kaggle's test set size\n",
    "n_train = len(df)-n_valid\n",
    "df_train = df[:n_train].reset_index(drop=True)\n",
    "df_valid = df[n_train:].reset_index(drop=True)\n",
    "df_train.to_feather(\"bulldozer-train.feather\")\n",
    "print(\"Created bulldozer-train.feather\")\n",
    "df_valid.to_feather(\"bulldozer-valid.feather\")\n",
    "print(\"Created bulldozer-valid.feather\")\n",
    "\n",
    "# Read Kaggle validation / solution and make it our test set\n",
    "df_test = pd.read_csv(\"Valid.csv\", dtype=dtypes, parse_dates=['saledate'])\n",
    "df_test = df_test.sort_values('saledate')\n",
    "df_test_soln = pd.read_csv(\"ValidSolution.csv\")\n",
    "df_test_soln['SalePrice'] = df_test_soln['SalePrice'].astype(int)\n",
    "del df_test_soln['Usage']\n",
    "df_merged = df_test.merge(df_test_soln, on='SalesID', how='left') # merge in solution\n",
    "df_merged.to_feather(\"bulldozer-test.feather\")\n",
    "print(\"Created bulldozer-test.feather\")"
   ]
  },
  {
   "cell_type": "code",
   "execution_count": 5,
   "metadata": {
    "colab": {
     "base_uri": "https://localhost:8080/",
     "height": 273
    },
    "id": "l951ilWnqwuU",
    "outputId": "a5319b1e-95de-40d4-e71f-f003fb3cb64d"
   },
   "outputs": [],
   "source": [
    "df_raw = pd.read_feather(\"bulldozer-train.feather\")\n",
    "df = df_raw.copy()"
   ]
  },
  {
   "cell_type": "markdown",
   "metadata": {
    "id": "OpIqcKZ9qwuU"
   },
   "source": [
    "Now let's see how much data we are dealing wih:"
   ]
  },
  {
   "cell_type": "code",
   "execution_count": 6,
   "metadata": {
    "id": "VTpBHWLRqwuU"
   },
   "outputs": [
    {
     "data": {
      "text/plain": [
       "(389125, 53)"
      ]
     },
     "execution_count": 6,
     "metadata": {},
     "output_type": "execute_result"
    }
   ],
   "source": [
    "df.shape"
   ]
  },
  {
   "cell_type": "markdown",
   "metadata": {
    "id": "RK6jaIFNqwuU"
   },
   "source": [
    "And get an idea of what it looks like:"
   ]
  },
  {
   "cell_type": "code",
   "execution_count": 7,
   "metadata": {
    "id": "Wdas1ynUqwuU"
   },
   "outputs": [
    {
     "data": {
      "text/html": [
       "<div>\n",
       "<style scoped>\n",
       "    .dataframe tbody tr th:only-of-type {\n",
       "        vertical-align: middle;\n",
       "    }\n",
       "\n",
       "    .dataframe tbody tr th {\n",
       "        vertical-align: top;\n",
       "    }\n",
       "\n",
       "    .dataframe thead th {\n",
       "        text-align: right;\n",
       "    }\n",
       "</style>\n",
       "<table border=\"1\" class=\"dataframe\">\n",
       "  <thead>\n",
       "    <tr style=\"text-align: right;\">\n",
       "      <th></th>\n",
       "      <th>0</th>\n",
       "      <th>1</th>\n",
       "      <th>2</th>\n",
       "      <th>3</th>\n",
       "      <th>4</th>\n",
       "    </tr>\n",
       "  </thead>\n",
       "  <tbody>\n",
       "    <tr>\n",
       "      <th>SalesID</th>\n",
       "      <td>1646770</td>\n",
       "      <td>1404019</td>\n",
       "      <td>1415646</td>\n",
       "      <td>1596358</td>\n",
       "      <td>1821514</td>\n",
       "    </tr>\n",
       "    <tr>\n",
       "      <th>SalePrice</th>\n",
       "      <td>9500</td>\n",
       "      <td>24000</td>\n",
       "      <td>35000</td>\n",
       "      <td>19000</td>\n",
       "      <td>14000</td>\n",
       "    </tr>\n",
       "    <tr>\n",
       "      <th>MachineID</th>\n",
       "      <td>1126363</td>\n",
       "      <td>1169900</td>\n",
       "      <td>1262088</td>\n",
       "      <td>1433229</td>\n",
       "      <td>1194089</td>\n",
       "    </tr>\n",
       "    <tr>\n",
       "      <th>ModelID</th>\n",
       "      <td>8434</td>\n",
       "      <td>7110</td>\n",
       "      <td>3357</td>\n",
       "      <td>8247</td>\n",
       "      <td>10150</td>\n",
       "    </tr>\n",
       "    <tr>\n",
       "      <th>datasource</th>\n",
       "      <td>132</td>\n",
       "      <td>132</td>\n",
       "      <td>132</td>\n",
       "      <td>132</td>\n",
       "      <td>132</td>\n",
       "    </tr>\n",
       "    <tr>\n",
       "      <th>auctioneerID</th>\n",
       "      <td>18.0</td>\n",
       "      <td>99.0</td>\n",
       "      <td>99.0</td>\n",
       "      <td>99.0</td>\n",
       "      <td>99.0</td>\n",
       "    </tr>\n",
       "    <tr>\n",
       "      <th>YearMade</th>\n",
       "      <td>1974</td>\n",
       "      <td>1986</td>\n",
       "      <td>1975</td>\n",
       "      <td>1978</td>\n",
       "      <td>1980</td>\n",
       "    </tr>\n",
       "    <tr>\n",
       "      <th>MachineHoursCurrentMeter</th>\n",
       "      <td>NaN</td>\n",
       "      <td>NaN</td>\n",
       "      <td>NaN</td>\n",
       "      <td>NaN</td>\n",
       "      <td>NaN</td>\n",
       "    </tr>\n",
       "    <tr>\n",
       "      <th>UsageBand</th>\n",
       "      <td>None</td>\n",
       "      <td>None</td>\n",
       "      <td>None</td>\n",
       "      <td>None</td>\n",
       "      <td>None</td>\n",
       "    </tr>\n",
       "    <tr>\n",
       "      <th>saledate</th>\n",
       "      <td>1989-01-17 00:00:00</td>\n",
       "      <td>1989-01-31 00:00:00</td>\n",
       "      <td>1989-01-31 00:00:00</td>\n",
       "      <td>1989-01-31 00:00:00</td>\n",
       "      <td>1989-01-31 00:00:00</td>\n",
       "    </tr>\n",
       "    <tr>\n",
       "      <th>fiModelDesc</th>\n",
       "      <td>TD20</td>\n",
       "      <td>416</td>\n",
       "      <td>12G</td>\n",
       "      <td>644</td>\n",
       "      <td>A66</td>\n",
       "    </tr>\n",
       "    <tr>\n",
       "      <th>fiBaseModel</th>\n",
       "      <td>TD20</td>\n",
       "      <td>416</td>\n",
       "      <td>12</td>\n",
       "      <td>644</td>\n",
       "      <td>A66</td>\n",
       "    </tr>\n",
       "    <tr>\n",
       "      <th>fiSecondaryDesc</th>\n",
       "      <td>None</td>\n",
       "      <td>None</td>\n",
       "      <td>G</td>\n",
       "      <td>None</td>\n",
       "      <td>None</td>\n",
       "    </tr>\n",
       "    <tr>\n",
       "      <th>fiModelSeries</th>\n",
       "      <td>None</td>\n",
       "      <td>None</td>\n",
       "      <td>None</td>\n",
       "      <td>None</td>\n",
       "      <td>None</td>\n",
       "    </tr>\n",
       "    <tr>\n",
       "      <th>fiModelDescriptor</th>\n",
       "      <td>None</td>\n",
       "      <td>None</td>\n",
       "      <td>None</td>\n",
       "      <td>None</td>\n",
       "      <td>None</td>\n",
       "    </tr>\n",
       "    <tr>\n",
       "      <th>ProductSize</th>\n",
       "      <td>Medium</td>\n",
       "      <td>None</td>\n",
       "      <td>None</td>\n",
       "      <td>Medium</td>\n",
       "      <td>None</td>\n",
       "    </tr>\n",
       "    <tr>\n",
       "      <th>fiProductClassDesc</th>\n",
       "      <td>Track Type Tractor, Dozer - 105.0 to 130.0 Hor...</td>\n",
       "      <td>Backhoe Loader - 14.0 to 15.0 Ft Standard Digg...</td>\n",
       "      <td>Motorgrader - 130.0 to 145.0 Horsepower</td>\n",
       "      <td>Wheel Loader - 175.0 to 200.0 Horsepower</td>\n",
       "      <td>Wheel Loader - 120.0 to 135.0 Horsepower</td>\n",
       "    </tr>\n",
       "    <tr>\n",
       "      <th>state</th>\n",
       "      <td>Texas</td>\n",
       "      <td>Florida</td>\n",
       "      <td>Florida</td>\n",
       "      <td>Florida</td>\n",
       "      <td>Florida</td>\n",
       "    </tr>\n",
       "    <tr>\n",
       "      <th>ProductGroup</th>\n",
       "      <td>TTT</td>\n",
       "      <td>BL</td>\n",
       "      <td>MG</td>\n",
       "      <td>WL</td>\n",
       "      <td>WL</td>\n",
       "    </tr>\n",
       "    <tr>\n",
       "      <th>ProductGroupDesc</th>\n",
       "      <td>Track Type Tractors</td>\n",
       "      <td>Backhoe Loaders</td>\n",
       "      <td>Motor Graders</td>\n",
       "      <td>Wheel Loader</td>\n",
       "      <td>Wheel Loader</td>\n",
       "    </tr>\n",
       "    <tr>\n",
       "      <th>Drive_System</th>\n",
       "      <td>None</td>\n",
       "      <td>Two Wheel Drive</td>\n",
       "      <td>No</td>\n",
       "      <td>None</td>\n",
       "      <td>None</td>\n",
       "    </tr>\n",
       "    <tr>\n",
       "      <th>Enclosure</th>\n",
       "      <td>OROPS</td>\n",
       "      <td>EROPS</td>\n",
       "      <td>OROPS</td>\n",
       "      <td>OROPS</td>\n",
       "      <td>OROPS</td>\n",
       "    </tr>\n",
       "    <tr>\n",
       "      <th>Forks</th>\n",
       "      <td>None</td>\n",
       "      <td>None or Unspecified</td>\n",
       "      <td>None</td>\n",
       "      <td>None or Unspecified</td>\n",
       "      <td>None or Unspecified</td>\n",
       "    </tr>\n",
       "    <tr>\n",
       "      <th>Pad_Type</th>\n",
       "      <td>None</td>\n",
       "      <td>None or Unspecified</td>\n",
       "      <td>None</td>\n",
       "      <td>None</td>\n",
       "      <td>None</td>\n",
       "    </tr>\n",
       "    <tr>\n",
       "      <th>Ride_Control</th>\n",
       "      <td>None</td>\n",
       "      <td>No</td>\n",
       "      <td>None</td>\n",
       "      <td>None or Unspecified</td>\n",
       "      <td>None or Unspecified</td>\n",
       "    </tr>\n",
       "    <tr>\n",
       "      <th>Stick</th>\n",
       "      <td>None</td>\n",
       "      <td>Standard</td>\n",
       "      <td>None</td>\n",
       "      <td>None</td>\n",
       "      <td>None</td>\n",
       "    </tr>\n",
       "    <tr>\n",
       "      <th>Transmission</th>\n",
       "      <td>Direct Drive</td>\n",
       "      <td>Standard</td>\n",
       "      <td>None or Unspecified</td>\n",
       "      <td>None</td>\n",
       "      <td>None</td>\n",
       "    </tr>\n",
       "    <tr>\n",
       "      <th>Turbocharged</th>\n",
       "      <td>None</td>\n",
       "      <td>None or Unspecified</td>\n",
       "      <td>None</td>\n",
       "      <td>None</td>\n",
       "      <td>None</td>\n",
       "    </tr>\n",
       "    <tr>\n",
       "      <th>Blade_Extension</th>\n",
       "      <td>None</td>\n",
       "      <td>None</td>\n",
       "      <td>None or Unspecified</td>\n",
       "      <td>None</td>\n",
       "      <td>None</td>\n",
       "    </tr>\n",
       "    <tr>\n",
       "      <th>Blade_Width</th>\n",
       "      <td>None</td>\n",
       "      <td>None</td>\n",
       "      <td>12'</td>\n",
       "      <td>None</td>\n",
       "      <td>None</td>\n",
       "    </tr>\n",
       "    <tr>\n",
       "      <th>Enclosure_Type</th>\n",
       "      <td>None</td>\n",
       "      <td>None</td>\n",
       "      <td>None or Unspecified</td>\n",
       "      <td>None</td>\n",
       "      <td>None</td>\n",
       "    </tr>\n",
       "    <tr>\n",
       "      <th>Engine_Horsepower</th>\n",
       "      <td>None</td>\n",
       "      <td>None</td>\n",
       "      <td>No</td>\n",
       "      <td>None</td>\n",
       "      <td>None</td>\n",
       "    </tr>\n",
       "    <tr>\n",
       "      <th>Hydraulics</th>\n",
       "      <td>2 Valve</td>\n",
       "      <td>None</td>\n",
       "      <td>Base + 1 Function</td>\n",
       "      <td>2 Valve</td>\n",
       "      <td>2 Valve</td>\n",
       "    </tr>\n",
       "    <tr>\n",
       "      <th>Pushblock</th>\n",
       "      <td>None</td>\n",
       "      <td>None</td>\n",
       "      <td>None or Unspecified</td>\n",
       "      <td>None</td>\n",
       "      <td>None</td>\n",
       "    </tr>\n",
       "    <tr>\n",
       "      <th>Ripper</th>\n",
       "      <td>None or Unspecified</td>\n",
       "      <td>None</td>\n",
       "      <td>None or Unspecified</td>\n",
       "      <td>None</td>\n",
       "      <td>None</td>\n",
       "    </tr>\n",
       "    <tr>\n",
       "      <th>Scarifier</th>\n",
       "      <td>None</td>\n",
       "      <td>None</td>\n",
       "      <td>Yes</td>\n",
       "      <td>None</td>\n",
       "      <td>None</td>\n",
       "    </tr>\n",
       "    <tr>\n",
       "      <th>Tip_Control</th>\n",
       "      <td>None</td>\n",
       "      <td>None</td>\n",
       "      <td>Sideshift &amp; Tip</td>\n",
       "      <td>None</td>\n",
       "      <td>None</td>\n",
       "    </tr>\n",
       "    <tr>\n",
       "      <th>Tire_Size</th>\n",
       "      <td>None</td>\n",
       "      <td>None</td>\n",
       "      <td>14\"</td>\n",
       "      <td>None or Unspecified</td>\n",
       "      <td>None or Unspecified</td>\n",
       "    </tr>\n",
       "    <tr>\n",
       "      <th>Coupler</th>\n",
       "      <td>None</td>\n",
       "      <td>None</td>\n",
       "      <td>None</td>\n",
       "      <td>None or Unspecified</td>\n",
       "      <td>None or Unspecified</td>\n",
       "    </tr>\n",
       "    <tr>\n",
       "      <th>Coupler_System</th>\n",
       "      <td>None</td>\n",
       "      <td>None</td>\n",
       "      <td>None</td>\n",
       "      <td>None</td>\n",
       "      <td>None</td>\n",
       "    </tr>\n",
       "    <tr>\n",
       "      <th>Grouser_Tracks</th>\n",
       "      <td>None</td>\n",
       "      <td>None</td>\n",
       "      <td>None</td>\n",
       "      <td>None</td>\n",
       "      <td>None</td>\n",
       "    </tr>\n",
       "    <tr>\n",
       "      <th>Hydraulics_Flow</th>\n",
       "      <td>None</td>\n",
       "      <td>None</td>\n",
       "      <td>None</td>\n",
       "      <td>None</td>\n",
       "      <td>None</td>\n",
       "    </tr>\n",
       "    <tr>\n",
       "      <th>Track_Type</th>\n",
       "      <td>None</td>\n",
       "      <td>None</td>\n",
       "      <td>None</td>\n",
       "      <td>None</td>\n",
       "      <td>None</td>\n",
       "    </tr>\n",
       "    <tr>\n",
       "      <th>Undercarriage_Pad_Width</th>\n",
       "      <td>None</td>\n",
       "      <td>None</td>\n",
       "      <td>None</td>\n",
       "      <td>None</td>\n",
       "      <td>None</td>\n",
       "    </tr>\n",
       "    <tr>\n",
       "      <th>Stick_Length</th>\n",
       "      <td>None</td>\n",
       "      <td>None</td>\n",
       "      <td>None</td>\n",
       "      <td>None</td>\n",
       "      <td>None</td>\n",
       "    </tr>\n",
       "    <tr>\n",
       "      <th>Thumb</th>\n",
       "      <td>None</td>\n",
       "      <td>None</td>\n",
       "      <td>None</td>\n",
       "      <td>None</td>\n",
       "      <td>None</td>\n",
       "    </tr>\n",
       "    <tr>\n",
       "      <th>Pattern_Changer</th>\n",
       "      <td>None</td>\n",
       "      <td>None</td>\n",
       "      <td>None</td>\n",
       "      <td>None</td>\n",
       "      <td>None</td>\n",
       "    </tr>\n",
       "    <tr>\n",
       "      <th>Grouser_Type</th>\n",
       "      <td>None</td>\n",
       "      <td>None</td>\n",
       "      <td>None</td>\n",
       "      <td>None</td>\n",
       "      <td>None</td>\n",
       "    </tr>\n",
       "    <tr>\n",
       "      <th>Backhoe_Mounting</th>\n",
       "      <td>None or Unspecified</td>\n",
       "      <td>None</td>\n",
       "      <td>None</td>\n",
       "      <td>None</td>\n",
       "      <td>None</td>\n",
       "    </tr>\n",
       "    <tr>\n",
       "      <th>Blade_Type</th>\n",
       "      <td>Straight</td>\n",
       "      <td>None</td>\n",
       "      <td>None</td>\n",
       "      <td>None</td>\n",
       "      <td>None</td>\n",
       "    </tr>\n",
       "    <tr>\n",
       "      <th>Travel_Controls</th>\n",
       "      <td>None or Unspecified</td>\n",
       "      <td>None</td>\n",
       "      <td>None</td>\n",
       "      <td>None</td>\n",
       "      <td>None</td>\n",
       "    </tr>\n",
       "    <tr>\n",
       "      <th>Differential_Type</th>\n",
       "      <td>None</td>\n",
       "      <td>None</td>\n",
       "      <td>None</td>\n",
       "      <td>Standard</td>\n",
       "      <td>Standard</td>\n",
       "    </tr>\n",
       "    <tr>\n",
       "      <th>Steering_Controls</th>\n",
       "      <td>None</td>\n",
       "      <td>None</td>\n",
       "      <td>None</td>\n",
       "      <td>Conventional</td>\n",
       "      <td>Conventional</td>\n",
       "    </tr>\n",
       "  </tbody>\n",
       "</table>\n",
       "</div>"
      ],
      "text/plain": [
       "                                                                          0  \\\n",
       "SalesID                                                             1646770   \n",
       "SalePrice                                                              9500   \n",
       "MachineID                                                           1126363   \n",
       "ModelID                                                                8434   \n",
       "datasource                                                              132   \n",
       "auctioneerID                                                           18.0   \n",
       "YearMade                                                               1974   \n",
       "MachineHoursCurrentMeter                                                NaN   \n",
       "UsageBand                                                              None   \n",
       "saledate                                                1989-01-17 00:00:00   \n",
       "fiModelDesc                                                            TD20   \n",
       "fiBaseModel                                                            TD20   \n",
       "fiSecondaryDesc                                                        None   \n",
       "fiModelSeries                                                          None   \n",
       "fiModelDescriptor                                                      None   \n",
       "ProductSize                                                          Medium   \n",
       "fiProductClassDesc        Track Type Tractor, Dozer - 105.0 to 130.0 Hor...   \n",
       "state                                                                 Texas   \n",
       "ProductGroup                                                            TTT   \n",
       "ProductGroupDesc                                        Track Type Tractors   \n",
       "Drive_System                                                           None   \n",
       "Enclosure                                                             OROPS   \n",
       "Forks                                                                  None   \n",
       "Pad_Type                                                               None   \n",
       "Ride_Control                                                           None   \n",
       "Stick                                                                  None   \n",
       "Transmission                                                   Direct Drive   \n",
       "Turbocharged                                                           None   \n",
       "Blade_Extension                                                        None   \n",
       "Blade_Width                                                            None   \n",
       "Enclosure_Type                                                         None   \n",
       "Engine_Horsepower                                                      None   \n",
       "Hydraulics                                                          2 Valve   \n",
       "Pushblock                                                              None   \n",
       "Ripper                                                  None or Unspecified   \n",
       "Scarifier                                                              None   \n",
       "Tip_Control                                                            None   \n",
       "Tire_Size                                                              None   \n",
       "Coupler                                                                None   \n",
       "Coupler_System                                                         None   \n",
       "Grouser_Tracks                                                         None   \n",
       "Hydraulics_Flow                                                        None   \n",
       "Track_Type                                                             None   \n",
       "Undercarriage_Pad_Width                                                None   \n",
       "Stick_Length                                                           None   \n",
       "Thumb                                                                  None   \n",
       "Pattern_Changer                                                        None   \n",
       "Grouser_Type                                                           None   \n",
       "Backhoe_Mounting                                        None or Unspecified   \n",
       "Blade_Type                                                         Straight   \n",
       "Travel_Controls                                         None or Unspecified   \n",
       "Differential_Type                                                      None   \n",
       "Steering_Controls                                                      None   \n",
       "\n",
       "                                                                          1  \\\n",
       "SalesID                                                             1404019   \n",
       "SalePrice                                                             24000   \n",
       "MachineID                                                           1169900   \n",
       "ModelID                                                                7110   \n",
       "datasource                                                              132   \n",
       "auctioneerID                                                           99.0   \n",
       "YearMade                                                               1986   \n",
       "MachineHoursCurrentMeter                                                NaN   \n",
       "UsageBand                                                              None   \n",
       "saledate                                                1989-01-31 00:00:00   \n",
       "fiModelDesc                                                             416   \n",
       "fiBaseModel                                                             416   \n",
       "fiSecondaryDesc                                                        None   \n",
       "fiModelSeries                                                          None   \n",
       "fiModelDescriptor                                                      None   \n",
       "ProductSize                                                            None   \n",
       "fiProductClassDesc        Backhoe Loader - 14.0 to 15.0 Ft Standard Digg...   \n",
       "state                                                               Florida   \n",
       "ProductGroup                                                             BL   \n",
       "ProductGroupDesc                                            Backhoe Loaders   \n",
       "Drive_System                                                Two Wheel Drive   \n",
       "Enclosure                                                             EROPS   \n",
       "Forks                                                   None or Unspecified   \n",
       "Pad_Type                                                None or Unspecified   \n",
       "Ride_Control                                                             No   \n",
       "Stick                                                              Standard   \n",
       "Transmission                                                       Standard   \n",
       "Turbocharged                                            None or Unspecified   \n",
       "Blade_Extension                                                        None   \n",
       "Blade_Width                                                            None   \n",
       "Enclosure_Type                                                         None   \n",
       "Engine_Horsepower                                                      None   \n",
       "Hydraulics                                                             None   \n",
       "Pushblock                                                              None   \n",
       "Ripper                                                                 None   \n",
       "Scarifier                                                              None   \n",
       "Tip_Control                                                            None   \n",
       "Tire_Size                                                              None   \n",
       "Coupler                                                                None   \n",
       "Coupler_System                                                         None   \n",
       "Grouser_Tracks                                                         None   \n",
       "Hydraulics_Flow                                                        None   \n",
       "Track_Type                                                             None   \n",
       "Undercarriage_Pad_Width                                                None   \n",
       "Stick_Length                                                           None   \n",
       "Thumb                                                                  None   \n",
       "Pattern_Changer                                                        None   \n",
       "Grouser_Type                                                           None   \n",
       "Backhoe_Mounting                                                       None   \n",
       "Blade_Type                                                             None   \n",
       "Travel_Controls                                                        None   \n",
       "Differential_Type                                                      None   \n",
       "Steering_Controls                                                      None   \n",
       "\n",
       "                                                                2  \\\n",
       "SalesID                                                   1415646   \n",
       "SalePrice                                                   35000   \n",
       "MachineID                                                 1262088   \n",
       "ModelID                                                      3357   \n",
       "datasource                                                    132   \n",
       "auctioneerID                                                 99.0   \n",
       "YearMade                                                     1975   \n",
       "MachineHoursCurrentMeter                                      NaN   \n",
       "UsageBand                                                    None   \n",
       "saledate                                      1989-01-31 00:00:00   \n",
       "fiModelDesc                                                   12G   \n",
       "fiBaseModel                                                    12   \n",
       "fiSecondaryDesc                                                 G   \n",
       "fiModelSeries                                                None   \n",
       "fiModelDescriptor                                            None   \n",
       "ProductSize                                                  None   \n",
       "fiProductClassDesc        Motorgrader - 130.0 to 145.0 Horsepower   \n",
       "state                                                     Florida   \n",
       "ProductGroup                                                   MG   \n",
       "ProductGroupDesc                                    Motor Graders   \n",
       "Drive_System                                                   No   \n",
       "Enclosure                                                   OROPS   \n",
       "Forks                                                        None   \n",
       "Pad_Type                                                     None   \n",
       "Ride_Control                                                 None   \n",
       "Stick                                                        None   \n",
       "Transmission                                  None or Unspecified   \n",
       "Turbocharged                                                 None   \n",
       "Blade_Extension                               None or Unspecified   \n",
       "Blade_Width                                                   12'   \n",
       "Enclosure_Type                                None or Unspecified   \n",
       "Engine_Horsepower                                              No   \n",
       "Hydraulics                                      Base + 1 Function   \n",
       "Pushblock                                     None or Unspecified   \n",
       "Ripper                                        None or Unspecified   \n",
       "Scarifier                                                     Yes   \n",
       "Tip_Control                                       Sideshift & Tip   \n",
       "Tire_Size                                                     14\"   \n",
       "Coupler                                                      None   \n",
       "Coupler_System                                               None   \n",
       "Grouser_Tracks                                               None   \n",
       "Hydraulics_Flow                                              None   \n",
       "Track_Type                                                   None   \n",
       "Undercarriage_Pad_Width                                      None   \n",
       "Stick_Length                                                 None   \n",
       "Thumb                                                        None   \n",
       "Pattern_Changer                                              None   \n",
       "Grouser_Type                                                 None   \n",
       "Backhoe_Mounting                                             None   \n",
       "Blade_Type                                                   None   \n",
       "Travel_Controls                                              None   \n",
       "Differential_Type                                            None   \n",
       "Steering_Controls                                            None   \n",
       "\n",
       "                                                                 3  \\\n",
       "SalesID                                                    1596358   \n",
       "SalePrice                                                    19000   \n",
       "MachineID                                                  1433229   \n",
       "ModelID                                                       8247   \n",
       "datasource                                                     132   \n",
       "auctioneerID                                                  99.0   \n",
       "YearMade                                                      1978   \n",
       "MachineHoursCurrentMeter                                       NaN   \n",
       "UsageBand                                                     None   \n",
       "saledate                                       1989-01-31 00:00:00   \n",
       "fiModelDesc                                                    644   \n",
       "fiBaseModel                                                    644   \n",
       "fiSecondaryDesc                                               None   \n",
       "fiModelSeries                                                 None   \n",
       "fiModelDescriptor                                             None   \n",
       "ProductSize                                                 Medium   \n",
       "fiProductClassDesc        Wheel Loader - 175.0 to 200.0 Horsepower   \n",
       "state                                                      Florida   \n",
       "ProductGroup                                                    WL   \n",
       "ProductGroupDesc                                      Wheel Loader   \n",
       "Drive_System                                                  None   \n",
       "Enclosure                                                    OROPS   \n",
       "Forks                                          None or Unspecified   \n",
       "Pad_Type                                                      None   \n",
       "Ride_Control                                   None or Unspecified   \n",
       "Stick                                                         None   \n",
       "Transmission                                                  None   \n",
       "Turbocharged                                                  None   \n",
       "Blade_Extension                                               None   \n",
       "Blade_Width                                                   None   \n",
       "Enclosure_Type                                                None   \n",
       "Engine_Horsepower                                             None   \n",
       "Hydraulics                                                 2 Valve   \n",
       "Pushblock                                                     None   \n",
       "Ripper                                                        None   \n",
       "Scarifier                                                     None   \n",
       "Tip_Control                                                   None   \n",
       "Tire_Size                                      None or Unspecified   \n",
       "Coupler                                        None or Unspecified   \n",
       "Coupler_System                                                None   \n",
       "Grouser_Tracks                                                None   \n",
       "Hydraulics_Flow                                               None   \n",
       "Track_Type                                                    None   \n",
       "Undercarriage_Pad_Width                                       None   \n",
       "Stick_Length                                                  None   \n",
       "Thumb                                                         None   \n",
       "Pattern_Changer                                               None   \n",
       "Grouser_Type                                                  None   \n",
       "Backhoe_Mounting                                              None   \n",
       "Blade_Type                                                    None   \n",
       "Travel_Controls                                               None   \n",
       "Differential_Type                                         Standard   \n",
       "Steering_Controls                                     Conventional   \n",
       "\n",
       "                                                                 4  \n",
       "SalesID                                                    1821514  \n",
       "SalePrice                                                    14000  \n",
       "MachineID                                                  1194089  \n",
       "ModelID                                                      10150  \n",
       "datasource                                                     132  \n",
       "auctioneerID                                                  99.0  \n",
       "YearMade                                                      1980  \n",
       "MachineHoursCurrentMeter                                       NaN  \n",
       "UsageBand                                                     None  \n",
       "saledate                                       1989-01-31 00:00:00  \n",
       "fiModelDesc                                                    A66  \n",
       "fiBaseModel                                                    A66  \n",
       "fiSecondaryDesc                                               None  \n",
       "fiModelSeries                                                 None  \n",
       "fiModelDescriptor                                             None  \n",
       "ProductSize                                                   None  \n",
       "fiProductClassDesc        Wheel Loader - 120.0 to 135.0 Horsepower  \n",
       "state                                                      Florida  \n",
       "ProductGroup                                                    WL  \n",
       "ProductGroupDesc                                      Wheel Loader  \n",
       "Drive_System                                                  None  \n",
       "Enclosure                                                    OROPS  \n",
       "Forks                                          None or Unspecified  \n",
       "Pad_Type                                                      None  \n",
       "Ride_Control                                   None or Unspecified  \n",
       "Stick                                                         None  \n",
       "Transmission                                                  None  \n",
       "Turbocharged                                                  None  \n",
       "Blade_Extension                                               None  \n",
       "Blade_Width                                                   None  \n",
       "Enclosure_Type                                                None  \n",
       "Engine_Horsepower                                             None  \n",
       "Hydraulics                                                 2 Valve  \n",
       "Pushblock                                                     None  \n",
       "Ripper                                                        None  \n",
       "Scarifier                                                     None  \n",
       "Tip_Control                                                   None  \n",
       "Tire_Size                                      None or Unspecified  \n",
       "Coupler                                        None or Unspecified  \n",
       "Coupler_System                                                None  \n",
       "Grouser_Tracks                                                None  \n",
       "Hydraulics_Flow                                               None  \n",
       "Track_Type                                                    None  \n",
       "Undercarriage_Pad_Width                                       None  \n",
       "Stick_Length                                                  None  \n",
       "Thumb                                                         None  \n",
       "Pattern_Changer                                               None  \n",
       "Grouser_Type                                                  None  \n",
       "Backhoe_Mounting                                              None  \n",
       "Blade_Type                                                    None  \n",
       "Travel_Controls                                               None  \n",
       "Differential_Type                                         Standard  \n",
       "Steering_Controls                                     Conventional  "
      ]
     },
     "execution_count": 7,
     "metadata": {},
     "output_type": "execute_result"
    }
   ],
   "source": [
    "df.head().T"
   ]
  },
  {
   "cell_type": "markdown",
   "metadata": {
    "id": "cUWcfpp2qwuV"
   },
   "source": [
    "Let's get a bit more information on the data so we can start planning what we need to do. To do this, we will use the following function:"
   ]
  },
  {
   "cell_type": "code",
   "execution_count": 8,
   "metadata": {
    "id": "N7F60ctRqwuV"
   },
   "outputs": [],
   "source": [
    "def sniff_modified(df):\n",
    "    with pd.option_context(\"display.max_colwidth\", 20):\n",
    "        info = pd.DataFrame()\n",
    "        info['data type'] = df.dtypes\n",
    "        info['percent missing'] = df.isnull().sum()*100/len(df)\n",
    "        info['No. unique'] = df.apply(lambda x: len(x.unique()))\n",
    "        info['unique values'] = df.apply(lambda x: x.unique())\n",
    "        return info.sort_values('data type')"
   ]
  },
  {
   "cell_type": "code",
   "execution_count": 9,
   "metadata": {
    "id": "w0uqYKR2qwuV"
   },
   "outputs": [
    {
     "data": {
      "text/html": [
       "<div>\n",
       "<style scoped>\n",
       "    .dataframe tbody tr th:only-of-type {\n",
       "        vertical-align: middle;\n",
       "    }\n",
       "\n",
       "    .dataframe tbody tr th {\n",
       "        vertical-align: top;\n",
       "    }\n",
       "\n",
       "    .dataframe thead th {\n",
       "        text-align: right;\n",
       "    }\n",
       "</style>\n",
       "<table border=\"1\" class=\"dataframe\">\n",
       "  <thead>\n",
       "    <tr style=\"text-align: right;\">\n",
       "      <th></th>\n",
       "      <th>data type</th>\n",
       "      <th>percent missing</th>\n",
       "      <th>No. unique</th>\n",
       "      <th>unique values</th>\n",
       "    </tr>\n",
       "  </thead>\n",
       "  <tbody>\n",
       "    <tr>\n",
       "      <th>SalesID</th>\n",
       "      <td>int64</td>\n",
       "      <td>0.000000</td>\n",
       "      <td>389125</td>\n",
       "      <td>[1646770, 1404019, 1415646, 1596358, 1821514, ...</td>\n",
       "    </tr>\n",
       "    <tr>\n",
       "      <th>SalePrice</th>\n",
       "      <td>int64</td>\n",
       "      <td>0.000000</td>\n",
       "      <td>878</td>\n",
       "      <td>[9500, 24000, 35000, 19000, 14000, 22500, 3100...</td>\n",
       "    </tr>\n",
       "    <tr>\n",
       "      <th>MachineID</th>\n",
       "      <td>int64</td>\n",
       "      <td>0.000000</td>\n",
       "      <td>332365</td>\n",
       "      <td>[1126363, 1169900, 1262088, 1433229, 1194089, ...</td>\n",
       "    </tr>\n",
       "    <tr>\n",
       "      <th>ModelID</th>\n",
       "      <td>int64</td>\n",
       "      <td>0.000000</td>\n",
       "      <td>5154</td>\n",
       "      <td>[8434, 7110, 3357, 8247, 10150, 7267, 7620, 41...</td>\n",
       "    </tr>\n",
       "    <tr>\n",
       "      <th>datasource</th>\n",
       "      <td>int64</td>\n",
       "      <td>0.000000</td>\n",
       "      <td>5</td>\n",
       "      <td>[132, 136, 121, 172, 149]</td>\n",
       "    </tr>\n",
       "    <tr>\n",
       "      <th>YearMade</th>\n",
       "      <td>int64</td>\n",
       "      <td>0.000000</td>\n",
       "      <td>71</td>\n",
       "      <td>[1974, 1986, 1975, 1978, 1980, 1976, 1987, 197...</td>\n",
       "    </tr>\n",
       "    <tr>\n",
       "      <th>auctioneerID</th>\n",
       "      <td>float64</td>\n",
       "      <td>5.174687</td>\n",
       "      <td>31</td>\n",
       "      <td>[18.0, 99.0, 4.0, 1.0, 6.0, 24.0, 19.0, 10.0, ...</td>\n",
       "    </tr>\n",
       "    <tr>\n",
       "      <th>MachineHoursCurrentMeter</th>\n",
       "      <td>float64</td>\n",
       "      <td>64.717764</td>\n",
       "      <td>14527</td>\n",
       "      <td>[nan, 1640.0, 1400.0, 2249.0, 729.0, 1237.0, 4...</td>\n",
       "    </tr>\n",
       "    <tr>\n",
       "      <th>saledate</th>\n",
       "      <td>datetime64[ns]</td>\n",
       "      <td>0.000000</td>\n",
       "      <td>3816</td>\n",
       "      <td>[1989-01-17T00:00:00.000000000, 1989-01-31T00:...</td>\n",
       "    </tr>\n",
       "    <tr>\n",
       "      <th>Coupler</th>\n",
       "      <td>object</td>\n",
       "      <td>46.826855</td>\n",
       "      <td>4</td>\n",
       "      <td>[None, None or Unspecified, Manual, Hydraulic]</td>\n",
       "    </tr>\n",
       "    <tr>\n",
       "      <th>Tire_Size</th>\n",
       "      <td>object</td>\n",
       "      <td>76.329714</td>\n",
       "      <td>18</td>\n",
       "      <td>[None, 14\", None or Unspecified, 20.5, 23.5, 2...</td>\n",
       "    </tr>\n",
       "    <tr>\n",
       "      <th>Tip_Control</th>\n",
       "      <td>object</td>\n",
       "      <td>93.698169</td>\n",
       "      <td>4</td>\n",
       "      <td>[None, Sideshift &amp; Tip, None or Unspecified, Tip]</td>\n",
       "    </tr>\n",
       "    <tr>\n",
       "      <th>Hydraulics</th>\n",
       "      <td>object</td>\n",
       "      <td>20.166270</td>\n",
       "      <td>13</td>\n",
       "      <td>[2 Valve, None, Base + 1 Function, Standard, A...</td>\n",
       "    </tr>\n",
       "    <tr>\n",
       "      <th>Ripper</th>\n",
       "      <td>object</td>\n",
       "      <td>73.966977</td>\n",
       "      <td>5</td>\n",
       "      <td>[None or Unspecified, None, Yes, Single Shank,...</td>\n",
       "    </tr>\n",
       "    <tr>\n",
       "      <th>Pushblock</th>\n",
       "      <td>object</td>\n",
       "      <td>93.698169</td>\n",
       "      <td>3</td>\n",
       "      <td>[None, None or Unspecified, Yes]</td>\n",
       "    </tr>\n",
       "    <tr>\n",
       "      <th>Coupler_System</th>\n",
       "      <td>object</td>\n",
       "      <td>89.267716</td>\n",
       "      <td>3</td>\n",
       "      <td>[None, None or Unspecified, Yes]</td>\n",
       "    </tr>\n",
       "    <tr>\n",
       "      <th>Scarifier</th>\n",
       "      <td>object</td>\n",
       "      <td>93.695342</td>\n",
       "      <td>3</td>\n",
       "      <td>[None, Yes, None or Unspecified]</td>\n",
       "    </tr>\n",
       "    <tr>\n",
       "      <th>Grouser_Tracks</th>\n",
       "      <td>object</td>\n",
       "      <td>89.292387</td>\n",
       "      <td>3</td>\n",
       "      <td>[None, None or Unspecified, Yes]</td>\n",
       "    </tr>\n",
       "    <tr>\n",
       "      <th>Thumb</th>\n",
       "      <td>object</td>\n",
       "      <td>75.362416</td>\n",
       "      <td>4</td>\n",
       "      <td>[None, None or Unspecified, Hydraulic, Manual]</td>\n",
       "    </tr>\n",
       "    <tr>\n",
       "      <th>Track_Type</th>\n",
       "      <td>object</td>\n",
       "      <td>75.395824</td>\n",
       "      <td>3</td>\n",
       "      <td>[None, Steel, Rubber]</td>\n",
       "    </tr>\n",
       "    <tr>\n",
       "      <th>Undercarriage_Pad_Width</th>\n",
       "      <td>object</td>\n",
       "      <td>75.214134</td>\n",
       "      <td>20</td>\n",
       "      <td>[None, None or Unspecified, 24 inch, 30 inch, ...</td>\n",
       "    </tr>\n",
       "    <tr>\n",
       "      <th>Stick_Length</th>\n",
       "      <td>object</td>\n",
       "      <td>75.379120</td>\n",
       "      <td>30</td>\n",
       "      <td>[None, None or Unspecified, 8' 6\", 10' 6\", 9' ...</td>\n",
       "    </tr>\n",
       "    <tr>\n",
       "      <th>Engine_Horsepower</th>\n",
       "      <td>object</td>\n",
       "      <td>93.698169</td>\n",
       "      <td>3</td>\n",
       "      <td>[None, No, Variable]</td>\n",
       "    </tr>\n",
       "    <tr>\n",
       "      <th>Pattern_Changer</th>\n",
       "      <td>object</td>\n",
       "      <td>75.379120</td>\n",
       "      <td>4</td>\n",
       "      <td>[None, None or Unspecified, No, Yes]</td>\n",
       "    </tr>\n",
       "    <tr>\n",
       "      <th>Grouser_Type</th>\n",
       "      <td>object</td>\n",
       "      <td>75.395824</td>\n",
       "      <td>4</td>\n",
       "      <td>[None, Triple, Double, Single]</td>\n",
       "    </tr>\n",
       "    <tr>\n",
       "      <th>Backhoe_Mounting</th>\n",
       "      <td>object</td>\n",
       "      <td>80.330485</td>\n",
       "      <td>3</td>\n",
       "      <td>[None or Unspecified, None, Yes]</td>\n",
       "    </tr>\n",
       "    <tr>\n",
       "      <th>Blade_Type</th>\n",
       "      <td>object</td>\n",
       "      <td>80.034436</td>\n",
       "      <td>11</td>\n",
       "      <td>[Straight, None, PAT, Semi U, None or Unspecif...</td>\n",
       "    </tr>\n",
       "    <tr>\n",
       "      <th>Travel_Controls</th>\n",
       "      <td>object</td>\n",
       "      <td>80.034179</td>\n",
       "      <td>8</td>\n",
       "      <td>[None or Unspecified, None, Lever, 2 Pedal, Pe...</td>\n",
       "    </tr>\n",
       "    <tr>\n",
       "      <th>Hydraulics_Flow</th>\n",
       "      <td>object</td>\n",
       "      <td>89.292387</td>\n",
       "      <td>4</td>\n",
       "      <td>[None, Standard, None or Unspecified, High Flow]</td>\n",
       "    </tr>\n",
       "    <tr>\n",
       "      <th>Enclosure_Type</th>\n",
       "      <td>object</td>\n",
       "      <td>93.698169</td>\n",
       "      <td>4</td>\n",
       "      <td>[None, None or Unspecified, Low Profile, High ...</td>\n",
       "    </tr>\n",
       "    <tr>\n",
       "      <th>Transmission</th>\n",
       "      <td>object</td>\n",
       "      <td>54.167170</td>\n",
       "      <td>9</td>\n",
       "      <td>[Direct Drive, Standard, None or Unspecified, ...</td>\n",
       "    </tr>\n",
       "    <tr>\n",
       "      <th>Blade_Extension</th>\n",
       "      <td>object</td>\n",
       "      <td>93.698169</td>\n",
       "      <td>3</td>\n",
       "      <td>[None, None or Unspecified, Yes]</td>\n",
       "    </tr>\n",
       "    <tr>\n",
       "      <th>UsageBand</th>\n",
       "      <td>object</td>\n",
       "      <td>83.352393</td>\n",
       "      <td>4</td>\n",
       "      <td>[None, Medium, Low, High]</td>\n",
       "    </tr>\n",
       "    <tr>\n",
       "      <th>fiModelDesc</th>\n",
       "      <td>object</td>\n",
       "      <td>0.000000</td>\n",
       "      <td>4938</td>\n",
       "      <td>[TD20, 416, 12G, 644, A66, 930, IT12, D4H, 12F...</td>\n",
       "    </tr>\n",
       "    <tr>\n",
       "      <th>fiBaseModel</th>\n",
       "      <td>object</td>\n",
       "      <td>0.000000</td>\n",
       "      <td>1934</td>\n",
       "      <td>[TD20, 416, 12, 644, A66, 930, IT12, D4, 966, ...</td>\n",
       "    </tr>\n",
       "    <tr>\n",
       "      <th>fiSecondaryDesc</th>\n",
       "      <td>object</td>\n",
       "      <td>34.337295</td>\n",
       "      <td>174</td>\n",
       "      <td>[None, G, H, F, C, B, E, D, K, Z, A, M, L, N, ...</td>\n",
       "    </tr>\n",
       "    <tr>\n",
       "      <th>fiModelSeries</th>\n",
       "      <td>object</td>\n",
       "      <td>85.875233</td>\n",
       "      <td>122</td>\n",
       "      <td>[None, II, 1, 1970, III, -1, -3LC, 18, LC, -3,...</td>\n",
       "    </tr>\n",
       "    <tr>\n",
       "      <th>fiModelDescriptor</th>\n",
       "      <td>object</td>\n",
       "      <td>82.384324</td>\n",
       "      <td>139</td>\n",
       "      <td>[None, LGP, LC, SA, L, XL, 3, 5, 1, E, G, H, S...</td>\n",
       "    </tr>\n",
       "    <tr>\n",
       "      <th>ProductSize</th>\n",
       "      <td>object</td>\n",
       "      <td>52.621137</td>\n",
       "      <td>7</td>\n",
       "      <td>[Medium, None, Compact, Small, Large, Large / ...</td>\n",
       "    </tr>\n",
       "    <tr>\n",
       "      <th>fiProductClassDesc</th>\n",
       "      <td>object</td>\n",
       "      <td>0.000000</td>\n",
       "      <td>74</td>\n",
       "      <td>[Track Type Tractor, Dozer - 105.0 to 130.0 Ho...</td>\n",
       "    </tr>\n",
       "    <tr>\n",
       "      <th>state</th>\n",
       "      <td>object</td>\n",
       "      <td>0.000000</td>\n",
       "      <td>53</td>\n",
       "      <td>[Texas, Florida, Georgia, South Carolina, Okla...</td>\n",
       "    </tr>\n",
       "    <tr>\n",
       "      <th>ProductGroup</th>\n",
       "      <td>object</td>\n",
       "      <td>0.000000</td>\n",
       "      <td>6</td>\n",
       "      <td>[TTT, BL, MG, WL, TEX, SSL]</td>\n",
       "    </tr>\n",
       "    <tr>\n",
       "      <th>ProductGroupDesc</th>\n",
       "      <td>object</td>\n",
       "      <td>0.000000</td>\n",
       "      <td>6</td>\n",
       "      <td>[Track Type Tractors, Backhoe Loaders, Motor G...</td>\n",
       "    </tr>\n",
       "    <tr>\n",
       "      <th>Drive_System</th>\n",
       "      <td>object</td>\n",
       "      <td>73.884484</td>\n",
       "      <td>5</td>\n",
       "      <td>[None, Two Wheel Drive, No, Four Wheel Drive, ...</td>\n",
       "    </tr>\n",
       "    <tr>\n",
       "      <th>Enclosure</th>\n",
       "      <td>object</td>\n",
       "      <td>0.082236</td>\n",
       "      <td>7</td>\n",
       "      <td>[OROPS, EROPS, EROPS w AC, None, EROPS AC, NO ...</td>\n",
       "    </tr>\n",
       "    <tr>\n",
       "      <th>Forks</th>\n",
       "      <td>object</td>\n",
       "      <td>52.092772</td>\n",
       "      <td>3</td>\n",
       "      <td>[None, None or Unspecified, Yes]</td>\n",
       "    </tr>\n",
       "    <tr>\n",
       "      <th>Pad_Type</th>\n",
       "      <td>object</td>\n",
       "      <td>80.188371</td>\n",
       "      <td>5</td>\n",
       "      <td>[None, None or Unspecified, Street, Reversible...</td>\n",
       "    </tr>\n",
       "    <tr>\n",
       "      <th>Ride_Control</th>\n",
       "      <td>object</td>\n",
       "      <td>62.828140</td>\n",
       "      <td>4</td>\n",
       "      <td>[None, No, None or Unspecified, Yes]</td>\n",
       "    </tr>\n",
       "    <tr>\n",
       "      <th>Stick</th>\n",
       "      <td>object</td>\n",
       "      <td>80.188371</td>\n",
       "      <td>3</td>\n",
       "      <td>[None, Standard, Extended]</td>\n",
       "    </tr>\n",
       "    <tr>\n",
       "      <th>Differential_Type</th>\n",
       "      <td>object</td>\n",
       "      <td>82.653903</td>\n",
       "      <td>5</td>\n",
       "      <td>[None, Standard, No Spin, Limited Slip, Locking]</td>\n",
       "    </tr>\n",
       "    <tr>\n",
       "      <th>Turbocharged</th>\n",
       "      <td>object</td>\n",
       "      <td>80.188371</td>\n",
       "      <td>3</td>\n",
       "      <td>[None, None or Unspecified, Yes]</td>\n",
       "    </tr>\n",
       "    <tr>\n",
       "      <th>Blade_Width</th>\n",
       "      <td>object</td>\n",
       "      <td>93.698169</td>\n",
       "      <td>7</td>\n",
       "      <td>[None, 12', None or Unspecified, 14', 16', 13'...</td>\n",
       "    </tr>\n",
       "    <tr>\n",
       "      <th>Steering_Controls</th>\n",
       "      <td>object</td>\n",
       "      <td>82.664696</td>\n",
       "      <td>6</td>\n",
       "      <td>[None, Conventional, Four Wheel Standard, Whee...</td>\n",
       "    </tr>\n",
       "  </tbody>\n",
       "</table>\n",
       "</div>"
      ],
      "text/plain": [
       "                               data type  percent missing  No. unique  \\\n",
       "SalesID                            int64         0.000000      389125   \n",
       "SalePrice                          int64         0.000000         878   \n",
       "MachineID                          int64         0.000000      332365   \n",
       "ModelID                            int64         0.000000        5154   \n",
       "datasource                         int64         0.000000           5   \n",
       "YearMade                           int64         0.000000          71   \n",
       "auctioneerID                     float64         5.174687          31   \n",
       "MachineHoursCurrentMeter         float64        64.717764       14527   \n",
       "saledate                  datetime64[ns]         0.000000        3816   \n",
       "Coupler                           object        46.826855           4   \n",
       "Tire_Size                         object        76.329714          18   \n",
       "Tip_Control                       object        93.698169           4   \n",
       "Hydraulics                        object        20.166270          13   \n",
       "Ripper                            object        73.966977           5   \n",
       "Pushblock                         object        93.698169           3   \n",
       "Coupler_System                    object        89.267716           3   \n",
       "Scarifier                         object        93.695342           3   \n",
       "Grouser_Tracks                    object        89.292387           3   \n",
       "Thumb                             object        75.362416           4   \n",
       "Track_Type                        object        75.395824           3   \n",
       "Undercarriage_Pad_Width           object        75.214134          20   \n",
       "Stick_Length                      object        75.379120          30   \n",
       "Engine_Horsepower                 object        93.698169           3   \n",
       "Pattern_Changer                   object        75.379120           4   \n",
       "Grouser_Type                      object        75.395824           4   \n",
       "Backhoe_Mounting                  object        80.330485           3   \n",
       "Blade_Type                        object        80.034436          11   \n",
       "Travel_Controls                   object        80.034179           8   \n",
       "Hydraulics_Flow                   object        89.292387           4   \n",
       "Enclosure_Type                    object        93.698169           4   \n",
       "Transmission                      object        54.167170           9   \n",
       "Blade_Extension                   object        93.698169           3   \n",
       "UsageBand                         object        83.352393           4   \n",
       "fiModelDesc                       object         0.000000        4938   \n",
       "fiBaseModel                       object         0.000000        1934   \n",
       "fiSecondaryDesc                   object        34.337295         174   \n",
       "fiModelSeries                     object        85.875233         122   \n",
       "fiModelDescriptor                 object        82.384324         139   \n",
       "ProductSize                       object        52.621137           7   \n",
       "fiProductClassDesc                object         0.000000          74   \n",
       "state                             object         0.000000          53   \n",
       "ProductGroup                      object         0.000000           6   \n",
       "ProductGroupDesc                  object         0.000000           6   \n",
       "Drive_System                      object        73.884484           5   \n",
       "Enclosure                         object         0.082236           7   \n",
       "Forks                             object        52.092772           3   \n",
       "Pad_Type                          object        80.188371           5   \n",
       "Ride_Control                      object        62.828140           4   \n",
       "Stick                             object        80.188371           3   \n",
       "Differential_Type                 object        82.653903           5   \n",
       "Turbocharged                      object        80.188371           3   \n",
       "Blade_Width                       object        93.698169           7   \n",
       "Steering_Controls                 object        82.664696           6   \n",
       "\n",
       "                                                              unique values  \n",
       "SalesID                   [1646770, 1404019, 1415646, 1596358, 1821514, ...  \n",
       "SalePrice                 [9500, 24000, 35000, 19000, 14000, 22500, 3100...  \n",
       "MachineID                 [1126363, 1169900, 1262088, 1433229, 1194089, ...  \n",
       "ModelID                   [8434, 7110, 3357, 8247, 10150, 7267, 7620, 41...  \n",
       "datasource                                        [132, 136, 121, 172, 149]  \n",
       "YearMade                  [1974, 1986, 1975, 1978, 1980, 1976, 1987, 197...  \n",
       "auctioneerID              [18.0, 99.0, 4.0, 1.0, 6.0, 24.0, 19.0, 10.0, ...  \n",
       "MachineHoursCurrentMeter  [nan, 1640.0, 1400.0, 2249.0, 729.0, 1237.0, 4...  \n",
       "saledate                  [1989-01-17T00:00:00.000000000, 1989-01-31T00:...  \n",
       "Coupler                      [None, None or Unspecified, Manual, Hydraulic]  \n",
       "Tire_Size                 [None, 14\", None or Unspecified, 20.5, 23.5, 2...  \n",
       "Tip_Control               [None, Sideshift & Tip, None or Unspecified, Tip]  \n",
       "Hydraulics                [2 Valve, None, Base + 1 Function, Standard, A...  \n",
       "Ripper                    [None or Unspecified, None, Yes, Single Shank,...  \n",
       "Pushblock                                  [None, None or Unspecified, Yes]  \n",
       "Coupler_System                             [None, None or Unspecified, Yes]  \n",
       "Scarifier                                  [None, Yes, None or Unspecified]  \n",
       "Grouser_Tracks                             [None, None or Unspecified, Yes]  \n",
       "Thumb                        [None, None or Unspecified, Hydraulic, Manual]  \n",
       "Track_Type                                            [None, Steel, Rubber]  \n",
       "Undercarriage_Pad_Width   [None, None or Unspecified, 24 inch, 30 inch, ...  \n",
       "Stick_Length              [None, None or Unspecified, 8' 6\", 10' 6\", 9' ...  \n",
       "Engine_Horsepower                                      [None, No, Variable]  \n",
       "Pattern_Changer                        [None, None or Unspecified, No, Yes]  \n",
       "Grouser_Type                                 [None, Triple, Double, Single]  \n",
       "Backhoe_Mounting                           [None or Unspecified, None, Yes]  \n",
       "Blade_Type                [Straight, None, PAT, Semi U, None or Unspecif...  \n",
       "Travel_Controls           [None or Unspecified, None, Lever, 2 Pedal, Pe...  \n",
       "Hydraulics_Flow            [None, Standard, None or Unspecified, High Flow]  \n",
       "Enclosure_Type            [None, None or Unspecified, Low Profile, High ...  \n",
       "Transmission              [Direct Drive, Standard, None or Unspecified, ...  \n",
       "Blade_Extension                            [None, None or Unspecified, Yes]  \n",
       "UsageBand                                         [None, Medium, Low, High]  \n",
       "fiModelDesc               [TD20, 416, 12G, 644, A66, 930, IT12, D4H, 12F...  \n",
       "fiBaseModel               [TD20, 416, 12, 644, A66, 930, IT12, D4, 966, ...  \n",
       "fiSecondaryDesc           [None, G, H, F, C, B, E, D, K, Z, A, M, L, N, ...  \n",
       "fiModelSeries             [None, II, 1, 1970, III, -1, -3LC, 18, LC, -3,...  \n",
       "fiModelDescriptor         [None, LGP, LC, SA, L, XL, 3, 5, 1, E, G, H, S...  \n",
       "ProductSize               [Medium, None, Compact, Small, Large, Large / ...  \n",
       "fiProductClassDesc        [Track Type Tractor, Dozer - 105.0 to 130.0 Ho...  \n",
       "state                     [Texas, Florida, Georgia, South Carolina, Okla...  \n",
       "ProductGroup                                    [TTT, BL, MG, WL, TEX, SSL]  \n",
       "ProductGroupDesc          [Track Type Tractors, Backhoe Loaders, Motor G...  \n",
       "Drive_System              [None, Two Wheel Drive, No, Four Wheel Drive, ...  \n",
       "Enclosure                 [OROPS, EROPS, EROPS w AC, None, EROPS AC, NO ...  \n",
       "Forks                                      [None, None or Unspecified, Yes]  \n",
       "Pad_Type                  [None, None or Unspecified, Street, Reversible...  \n",
       "Ride_Control                           [None, No, None or Unspecified, Yes]  \n",
       "Stick                                            [None, Standard, Extended]  \n",
       "Differential_Type          [None, Standard, No Spin, Limited Slip, Locking]  \n",
       "Turbocharged                               [None, None or Unspecified, Yes]  \n",
       "Blade_Width               [None, 12', None or Unspecified, 14', 16', 13'...  \n",
       "Steering_Controls         [None, Conventional, Four Wheel Standard, Whee...  "
      ]
     },
     "execution_count": 9,
     "metadata": {},
     "output_type": "execute_result"
    }
   ],
   "source": [
    "sniff_modified(df)"
   ]
  },
  {
   "cell_type": "markdown",
   "metadata": {
    "id": "yn-C-mzDqwuV"
   },
   "source": [
    "### Quickly get a Baseline Model\n",
    "\n",
    "As we did before, we need to specify our target (`SalePrice`) and then focus in on the numeric data and create and evaluate a baseline model. That means we will consider only these features for now: `SalesID`, `MachineID`, `ModelID`, `datasource`, `YearMade`, `auctioneerID`, and `MachineHoursCurrentMeter`. \n",
    "\n",
    "However, as seen above, the last two contain missing values, so we will have to deal with that in order to create a model. \n",
    "\n",
    "Remember that we need two things to train a model:\n",
    "- all numeric data\n",
    "- no missing values"
   ]
  },
  {
   "cell_type": "code",
   "execution_count": 10,
   "metadata": {
    "id": "RS5Uw5xDqwuV"
   },
   "outputs": [],
   "source": [
    "basefeatures = ['SalesID', 'MachineID', 'ModelID',\n",
    "                'datasource', 'YearMade',\n",
    "                'auctioneerID', 'MachineHoursCurrentMeter']"
   ]
  },
  {
   "cell_type": "code",
   "execution_count": 11,
   "metadata": {
    "id": "bEHrBRIHqwuV"
   },
   "outputs": [],
   "source": [
    "X = df[basefeatures]\n",
    "y = df['SalePrice']\n",
    "\n",
    "X = X.fillna(0)"
   ]
  },
  {
   "cell_type": "code",
   "execution_count": 12,
   "metadata": {
    "id": "xDcg6uq8qwuV"
   },
   "outputs": [
    {
     "name": "stdout",
     "output_type": "stream",
     "text": [
      "OOB R^2 is 0.78674 using 44,996,442 tree nodes with 55.0 median tree depth\n",
      "Wall time: 1min 11s\n"
     ]
    }
   ],
   "source": [
    "%%time\n",
    "rf, oob_baseline_initial = evaluate(X, y, n_estimators=100)"
   ]
  },
  {
   "cell_type": "code",
   "execution_count": 13,
   "metadata": {
    "id": "HP8dMZc-qwuV"
   },
   "outputs": [
    {
     "name": "stdout",
     "output_type": "stream",
     "text": [
      "OOB R^2 is 0.78106 using 22,496,952 tree nodes with 54.0 median tree depth\n",
      "Wall time: 40.5 s\n"
     ]
    }
   ],
   "source": [
    "%%time\n",
    "rf, oob_baseline_initial = evaluate(X, y, n_estimators=50)"
   ]
  },
  {
   "cell_type": "markdown",
   "metadata": {
    "id": "T_HED_NJqwuV"
   },
   "source": [
    "To speed up the training time even further, we will only work with a portion of the data: 100,000 samples. If the data had no time sensitivity, then we would take a random sample. Since we have time sensitive data we will take the last 100,000 samples as more recent data should be better at predicting near future sale prices, since we know that prices can change over time due to inflation, etc. "
   ]
  },
  {
   "cell_type": "code",
   "execution_count": 14,
   "metadata": {
    "id": "TrnlwBaaqwuV"
   },
   "outputs": [],
   "source": [
    "df = df.iloc[-100000:]"
   ]
  },
  {
   "cell_type": "code",
   "execution_count": 15,
   "metadata": {
    "id": "xMrmCMBKqwuV"
   },
   "outputs": [],
   "source": [
    "X = df[basefeatures]\n",
    "y = df['SalePrice']\n",
    "\n",
    "X = X.fillna(0)"
   ]
  },
  {
   "cell_type": "code",
   "execution_count": 16,
   "metadata": {
    "id": "ugQ21IyNqwuV"
   },
   "outputs": [
    {
     "name": "stdout",
     "output_type": "stream",
     "text": [
      "OOB R^2 is 0.84546 using 5,556,902 tree nodes with 46.0 median tree depth\n",
      "Wall time: 9.29 s\n"
     ]
    }
   ],
   "source": [
    "%%time\n",
    "rf, oob_baseline_initial = evaluate(X, y, n_estimators=50)"
   ]
  },
  {
   "cell_type": "code",
   "execution_count": 17,
   "metadata": {
    "id": "2Qu8oMAbqwuV"
   },
   "outputs": [
    {
     "data": {
      "image/png": "[encoded data removed]",
      "text/plain": [
       "<Figure size 400x156 with 1 Axes>"
      ]
     },
     "metadata": {},
     "output_type": "display_data"
    }
   ],
   "source": [
    "showimp(rf, X, y)"
   ]
  },
  {
   "cell_type": "markdown",
   "metadata": {
    "id": "1j0rANv5qwuV"
   },
   "source": [
    "### Cleaning up the Data\n",
    "\n",
    "In order to try to improve our model performance (which may or may not be possible) we will clean up our data with the following procedure:\n",
    "- Drop features that have no predictive value or have known problems that can't be fixed;\n",
    "- Convert actual categorical features from current numeric data type to an object data type;\n",
    "- normalize the representation of missing data;\n",
    "- clean up strings that are actually numeric; \n",
    "- extract features;\n",
    "- encode categorical features; \n",
    "- deal with missing data. "
   ]
  },
  {
   "cell_type": "markdown",
   "metadata": {
    "id": "8Xik6kcVqwuW"
   },
   "source": [
    "#### Removing Features\n",
    "\n",
    "Let's start with features we can get rid of: \n",
    "\n",
    "- `SalesID` can be deleted as it is a unique identifier, that is, each row in the data has a unique value for `SalesID` so our model will not be able to use this to help it generalize; \n",
    "- `MachineID` should be deleted as it can be shown to have inconsistencies and errors, as in the same `MachineID` showing up as being manufactured in many different years (see link in [Section 7.4](https://mlbook.explained.ai/bulldozer-intro.html#sec:7.4) for details).  "
   ]
  },
  {
   "cell_type": "code",
   "execution_count": 18,
   "metadata": {
    "id": "riwWXMb9qwuW"
   },
   "outputs": [
    {
     "data": {
      "text/plain": [
       "Index(['SalePrice', 'ModelID', 'datasource', 'auctioneerID', 'YearMade',\n",
       "       'MachineHoursCurrentMeter', 'UsageBand', 'saledate', 'fiModelDesc',\n",
       "       'fiBaseModel', 'fiSecondaryDesc', 'fiModelSeries', 'fiModelDescriptor',\n",
       "       'ProductSize', 'fiProductClassDesc', 'state', 'ProductGroup',\n",
       "       'ProductGroupDesc', 'Drive_System', 'Enclosure', 'Forks', 'Pad_Type',\n",
       "       'Ride_Control', 'Stick', 'Transmission', 'Turbocharged',\n",
       "       'Blade_Extension', 'Blade_Width', 'Enclosure_Type', 'Engine_Horsepower',\n",
       "       'Hydraulics', 'Pushblock', 'Ripper', 'Scarifier', 'Tip_Control',\n",
       "       'Tire_Size', 'Coupler', 'Coupler_System', 'Grouser_Tracks',\n",
       "       'Hydraulics_Flow', 'Track_Type', 'Undercarriage_Pad_Width',\n",
       "       'Stick_Length', 'Thumb', 'Pattern_Changer', 'Grouser_Type',\n",
       "       'Backhoe_Mounting', 'Blade_Type', 'Travel_Controls',\n",
       "       'Differential_Type', 'Steering_Controls'],\n",
       "      dtype='object')"
      ]
     },
     "execution_count": 18,
     "metadata": {},
     "output_type": "execute_result"
    }
   ],
   "source": [
    "df.drop(['SalesID', 'MachineID'], axis=1, inplace=True)\n",
    "df.columns"
   ]
  },
  {
   "cell_type": "markdown",
   "metadata": {
    "id": "S8xgXiszqwuW"
   },
   "source": [
    "#### Convert DataType\n",
    "\n",
    "Sometimes what are really categorical variables show up in our data as numeric, so we need to figure out how to handle these situations. Of our original numeric data, it seems that we have a few that are categorical:\n",
    "\n",
    "- `ModelID` is a nominal categorical feature but it is already encoded as a number and has no missing values so we will leave it as it is;\n",
    "- `datasource` is a nominal categorical feature but it is already encoded as a number and has no missing values so we will leave it as it is;\n",
    "- `auctioneerID` is a nominal categorical feature and since it has missing values we will convert this to an *object* data type and deal with it when we handle categorical encoding and missing values.\n",
    "\n",
    "So, for now we will simply convert `auctioneerID` from numeric to string data type. "
   ]
  },
  {
   "cell_type": "code",
   "execution_count": 19,
   "metadata": {
    "id": "KC_OqfkeqwuW"
   },
   "outputs": [],
   "source": [
    "df['auctioneerID'] = df['auctioneerID'].astype(str)"
   ]
  },
  {
   "cell_type": "markdown",
   "metadata": {
    "id": "rkJtydt6qwuW"
   },
   "source": [
    "#### What does *missing* mean?\n",
    "\n",
    "The concept of missing is not usually straightforward so you will have to do some digging into the data to see what you find. "
   ]
  },
  {
   "cell_type": "code",
   "execution_count": 20,
   "metadata": {
    "id": "jO_WLreQqwuW"
   },
   "outputs": [
    {
     "data": {
      "text/html": [
       "<div>\n",
       "<style scoped>\n",
       "    .dataframe tbody tr th:only-of-type {\n",
       "        vertical-align: middle;\n",
       "    }\n",
       "\n",
       "    .dataframe tbody tr th {\n",
       "        vertical-align: top;\n",
       "    }\n",
       "\n",
       "    .dataframe thead th {\n",
       "        text-align: right;\n",
       "    }\n",
       "</style>\n",
       "<table border=\"1\" class=\"dataframe\">\n",
       "  <thead>\n",
       "    <tr style=\"text-align: right;\">\n",
       "      <th></th>\n",
       "      <th>colour</th>\n",
       "      <th>width</th>\n",
       "    </tr>\n",
       "  </thead>\n",
       "  <tbody>\n",
       "    <tr>\n",
       "      <th>0</th>\n",
       "      <td>Unspecified</td>\n",
       "      <td>12</td>\n",
       "    </tr>\n",
       "    <tr>\n",
       "      <th>1</th>\n",
       "      <td>red</td>\n",
       "      <td>-1</td>\n",
       "    </tr>\n",
       "    <tr>\n",
       "      <th>2</th>\n",
       "      <td>None</td>\n",
       "      <td></td>\n",
       "    </tr>\n",
       "    <tr>\n",
       "      <th>3</th>\n",
       "      <td></td>\n",
       "      <td>14</td>\n",
       "    </tr>\n",
       "    <tr>\n",
       "      <th>4</th>\n",
       "      <td>None</td>\n",
       "      <td>999</td>\n",
       "    </tr>\n",
       "    <tr>\n",
       "      <th>5</th>\n",
       "      <td>yellow</td>\n",
       "      <td>NaN</td>\n",
       "    </tr>\n",
       "  </tbody>\n",
       "</table>\n",
       "</div>"
      ],
      "text/plain": [
       "        colour width\n",
       "0  Unspecified    12\n",
       "1          red    -1\n",
       "2         None      \n",
       "3                 14\n",
       "4         None   999\n",
       "5       yellow   NaN"
      ]
     },
     "execution_count": 20,
     "metadata": {},
     "output_type": "execute_result"
    }
   ],
   "source": [
    "missing = pd.DataFrame({'colour':['Unspecified', 'red', None, '', 'None', 'yellow'], 'width':[ 12, -1, '', 14, 999, np.nan]})\n",
    "missing"
   ]
  },
  {
   "cell_type": "code",
   "execution_count": 21,
   "metadata": {
    "id": "qHLI5dMxqwuW"
   },
   "outputs": [
    {
     "data": {
      "text/html": [
       "<div>\n",
       "<style scoped>\n",
       "    .dataframe tbody tr th:only-of-type {\n",
       "        vertical-align: middle;\n",
       "    }\n",
       "\n",
       "    .dataframe tbody tr th {\n",
       "        vertical-align: top;\n",
       "    }\n",
       "\n",
       "    .dataframe thead th {\n",
       "        text-align: right;\n",
       "    }\n",
       "</style>\n",
       "<table border=\"1\" class=\"dataframe\">\n",
       "  <thead>\n",
       "    <tr style=\"text-align: right;\">\n",
       "      <th></th>\n",
       "      <th>colour</th>\n",
       "      <th>width</th>\n",
       "    </tr>\n",
       "  </thead>\n",
       "  <tbody>\n",
       "    <tr>\n",
       "      <th>0</th>\n",
       "      <td>False</td>\n",
       "      <td>False</td>\n",
       "    </tr>\n",
       "    <tr>\n",
       "      <th>1</th>\n",
       "      <td>False</td>\n",
       "      <td>False</td>\n",
       "    </tr>\n",
       "    <tr>\n",
       "      <th>2</th>\n",
       "      <td>True</td>\n",
       "      <td>False</td>\n",
       "    </tr>\n",
       "    <tr>\n",
       "      <th>3</th>\n",
       "      <td>False</td>\n",
       "      <td>False</td>\n",
       "    </tr>\n",
       "    <tr>\n",
       "      <th>4</th>\n",
       "      <td>False</td>\n",
       "      <td>False</td>\n",
       "    </tr>\n",
       "    <tr>\n",
       "      <th>5</th>\n",
       "      <td>False</td>\n",
       "      <td>True</td>\n",
       "    </tr>\n",
       "  </tbody>\n",
       "</table>\n",
       "</div>"
      ],
      "text/plain": [
       "   colour  width\n",
       "0   False  False\n",
       "1   False  False\n",
       "2    True  False\n",
       "3   False  False\n",
       "4   False  False\n",
       "5   False   True"
      ]
     },
     "execution_count": 21,
     "metadata": {},
     "output_type": "execute_result"
    }
   ],
   "source": [
    "missing.isnull()"
   ]
  },
  {
   "cell_type": "markdown",
   "metadata": {
    "id": "oPKsoTa3qwuW"
   },
   "source": [
    "#### How Missing is Represented in Our Data\n",
    "\n",
    "Let's see how missing values are showing up in our data:"
   ]
  },
  {
   "cell_type": "code",
   "execution_count": 22,
   "metadata": {
    "id": "YWTF_dvxqwuW"
   },
   "outputs": [
    {
     "data": {
      "text/plain": [
       "array([None, 'Two Wheel Drive', 'Four Wheel Drive', 'No',\n",
       "       'All Wheel Drive'], dtype=object)"
      ]
     },
     "execution_count": 22,
     "metadata": {},
     "output_type": "execute_result"
    }
   ],
   "source": [
    "df['Drive_System'].unique()"
   ]
  },
  {
   "cell_type": "code",
   "execution_count": 23,
   "metadata": {
    "id": "TpMyLa4VqwuW"
   },
   "outputs": [
    {
     "data": {
      "text/plain": [
       "array(['None or Unspecified', None, 'Yes'], dtype=object)"
      ]
     },
     "execution_count": 23,
     "metadata": {},
     "output_type": "execute_result"
    }
   ],
   "source": [
    "df['Backhoe_Mounting'].unique()"
   ]
  },
  {
   "cell_type": "code",
   "execution_count": 24,
   "metadata": {
    "id": "0bN9r1PZqwuW"
   },
   "outputs": [
    {
     "data": {
      "text/plain": [
       "array([None, 'LC', 'III', 'II', '-12', '-5', 'V', '-7', '-21', '-2', '-8',\n",
       "       '6.00E+00', '6', '-2N', 'IV', '-1', '-3LK', '-3PT', '-6',\n",
       "       '7.00E+00', '-3MC', '7', '-15', '15', '-3', '-3LC', '5', '-5L',\n",
       "       '-20', '-1L', '-6E', 'XT', '8', '3', '-18', '-3L', 'VHP', '5N',\n",
       "       'ZTS', 'A', '22', '-5H', '2', '-6K', '1', '-2C', '2B', '-3EO',\n",
       "       'SeriesII', '-7E', 'LT', '-16', '17', 'IV-2', '-4', '2T', '-6LC',\n",
       "       'XLT', '18', '#NAME?', 'D', 'E', '6F', '-21A', ' III', '-7K',\n",
       "       'FASTRRACK', 'GALEO', '-5LC', '-1.50E+01', 'TC', '20', 'L', '-6A',\n",
       "       '16', 'V-2', '21KomStat', '6LE', '-5E', '-3H', '7A', '12', '-6C',\n",
       "       '-17', '3C', '-7B', 'ZHS', '3A', 'WX', 'LGP', '-6LK', 'AWS', '6LK',\n",
       "       '14FT', '6L', '-3C', 'Elite', 'Q', '-1B', 'EX', 'VI', '4', 'H',\n",
       "       'LV', '21KomStatII', '7L', '-11'], dtype=object)"
      ]
     },
     "execution_count": 24,
     "metadata": {},
     "output_type": "execute_result"
    }
   ],
   "source": [
    "df['fiModelSeries'].unique()"
   ]
  },
  {
   "cell_type": "markdown",
   "metadata": {
    "id": "k0KtMSvGqwuW"
   },
   "source": [
    "#### Normalize the Representation of Missing Values\n",
    "\n",
    "It will be much easier to handle if we convert all the different ways this data has to signal missing data down to a single representation: `np.nan`. To do this we will use the following function which: \n",
    "- converts all strings (text) to lower case;\n",
    "- fill actual missing data with `np.nan`; the impact of this is to convert `None` to `np.nan`;\n",
    "- convert all the other representations ('none', 'none or unspecified', '#name?', and '') to `np.nan`."
   ]
  },
  {
   "cell_type": "code",
   "execution_count": 25,
   "metadata": {
    "id": "D_GlOGqhqwuW"
   },
   "outputs": [],
   "source": [
    "from pandas.api.types import is_string_dtype, is_object_dtype\n",
    "\n",
    "def df_normalize_strings(df):\n",
    "    for col in df.columns:\n",
    "        if is_string_dtype(df[col]) or is_object_dtype(df[col]):\n",
    "            df[col] = df[col].str.lower() # lower case\n",
    "            df[col] = df[col].fillna(np.nan) # replacing na with np.nan\n",
    "            df[col] = df[col].replace('none or unspecified', np.nan)\n",
    "            df[col] = df[col].replace('none', np.nan)\n",
    "            df[col] = df[col].replace('#name?', np.nan)\n",
    "            df[col] = df[col].replace('', np.nan)"
   ]
  },
  {
   "cell_type": "code",
   "execution_count": 26,
   "metadata": {
    "id": "rq3rJf7RqwuW"
   },
   "outputs": [],
   "source": [
    "df_normalize_strings(df)"
   ]
  },
  {
   "cell_type": "code",
   "execution_count": 27,
   "metadata": {
    "id": "AklT2WAKqwuW"
   },
   "outputs": [
    {
     "data": {
      "text/plain": [
       "array([nan, 'two wheel drive', 'four wheel drive', 'no',\n",
       "       'all wheel drive'], dtype=object)"
      ]
     },
     "execution_count": 27,
     "metadata": {},
     "output_type": "execute_result"
    }
   ],
   "source": [
    "df['Drive_System'].unique()"
   ]
  },
  {
   "cell_type": "code",
   "execution_count": 28,
   "metadata": {
    "id": "YTF0To9pqwuW"
   },
   "outputs": [
    {
     "data": {
      "text/plain": [
       "array([nan, 'yes'], dtype=object)"
      ]
     },
     "execution_count": 28,
     "metadata": {},
     "output_type": "execute_result"
    }
   ],
   "source": [
    "df['Backhoe_Mounting'].unique()"
   ]
  },
  {
   "cell_type": "code",
   "execution_count": 29,
   "metadata": {
    "id": "wU_IEgpVqwuW"
   },
   "outputs": [
    {
     "data": {
      "text/plain": [
       "array([nan, 'lc', 'iii', 'ii', '-12', '-5', 'v', '-7', '-21', '-2', '-8',\n",
       "       '6.00e+00', '6', '-2n', 'iv', '-1', '-3lk', '-3pt', '-6',\n",
       "       '7.00e+00', '-3mc', '7', '-15', '15', '-3', '-3lc', '5', '-5l',\n",
       "       '-20', '-1l', '-6e', 'xt', '8', '3', '-18', '-3l', 'vhp', '5n',\n",
       "       'zts', 'a', '22', '-5h', '2', '-6k', '1', '-2c', '2b', '-3eo',\n",
       "       'seriesii', '-7e', 'lt', '-16', '17', 'iv-2', '-4', '2t', '-6lc',\n",
       "       'xlt', '18', 'd', 'e', '6f', '-21a', ' iii', '-7k', 'fastrrack',\n",
       "       'galeo', '-5lc', '-1.50e+01', 'tc', '20', 'l', '-6a', '16', 'v-2',\n",
       "       '21komstat', '6le', '-5e', '-3h', '7a', '12', '-6c', '-17', '3c',\n",
       "       '-7b', 'zhs', '3a', 'wx', 'lgp', '-6lk', 'aws', '6lk', '14ft',\n",
       "       '6l', '-3c', 'elite', 'q', '-1b', 'ex', 'vi', '4', 'h', 'lv',\n",
       "       '21komstatii', '7l', '-11'], dtype=object)"
      ]
     },
     "execution_count": 29,
     "metadata": {},
     "output_type": "execute_result"
    }
   ],
   "source": [
    "df['fiModelSeries'].unique()"
   ]
  },
  {
   "cell_type": "markdown",
   "metadata": {
    "id": "1IshOZLfqwuW"
   },
   "source": [
    "#### Numeric Features Hiding as Strings\n",
    "\n",
    "Some of the features that are being stored as strings are actually numeric: `TireSize`, `Undercarriage_Pad_Width`, `Blade_Width`, and `Stick_Length`. The first two are easier so let's look at them first."
   ]
  },
  {
   "cell_type": "code",
   "execution_count": 30,
   "metadata": {
    "id": "YZ13HEbaqwuW"
   },
   "outputs": [
    {
     "data": {
      "text/plain": [
       "array([nan, '26.5', '20.5', '17.5', '23.5', '14\"', '13\"', '29.5', '17.5\"',\n",
       "       '15.5\"', '20.5\"', '15.5', '23.5\"', '7.0\"', '10\"', '23.1\"'],\n",
       "      dtype=object)"
      ]
     },
     "execution_count": 30,
     "metadata": {},
     "output_type": "execute_result"
    }
   ],
   "source": [
    "df['Tire_Size'].unique()"
   ]
  },
  {
   "cell_type": "code",
   "execution_count": 31,
   "metadata": {
    "id": "_P5_KqOpqwuX"
   },
   "outputs": [
    {
     "data": {
      "text/plain": [
       "array([nan, '36 inch', '24 inch', '20 inch', '34 inch', '26 inch',\n",
       "       '30 inch', '28 inch', '32 inch', '16 inch', '31 inch', '18 inch',\n",
       "       '22 inch', '33 inch', '14 inch', '27 inch', '25 inch', '15 inch'],\n",
       "      dtype=object)"
      ]
     },
     "execution_count": 31,
     "metadata": {},
     "output_type": "execute_result"
    }
   ],
   "source": [
    "df['Undercarriage_Pad_Width'].unique()"
   ]
  },
  {
   "cell_type": "markdown",
   "metadata": {
    "id": "F0iSg_OIqwuX"
   },
   "source": [
    "For these two we are going to: \n",
    "- extract numbers using a regular expression;\n",
    "- replace any resulting missing value with `np.nan` (just in case);\n",
    "- convert the column to numeric data type.\n",
    "\n",
    "To see how regular expressions are going to work for us, let's use a toy dataframe. "
   ]
  },
  {
   "cell_type": "code",
   "execution_count": 32,
   "metadata": {
    "id": "JPuj7GP6qwuX"
   },
   "outputs": [
    {
     "data": {
      "text/html": [
       "<div>\n",
       "<style scoped>\n",
       "    .dataframe tbody tr th:only-of-type {\n",
       "        vertical-align: middle;\n",
       "    }\n",
       "\n",
       "    .dataframe tbody tr th {\n",
       "        vertical-align: top;\n",
       "    }\n",
       "\n",
       "    .dataframe thead th {\n",
       "        text-align: right;\n",
       "    }\n",
       "</style>\n",
       "<table border=\"1\" class=\"dataframe\">\n",
       "  <thead>\n",
       "    <tr style=\"text-align: right;\">\n",
       "      <th></th>\n",
       "      <th>Tire_Size</th>\n",
       "    </tr>\n",
       "  </thead>\n",
       "  <tbody>\n",
       "    <tr>\n",
       "      <th>0</th>\n",
       "      <td>12</td>\n",
       "    </tr>\n",
       "    <tr>\n",
       "      <th>1</th>\n",
       "      <td>some text 14 some text</td>\n",
       "    </tr>\n",
       "    <tr>\n",
       "      <th>2</th>\n",
       "      <td>13\"</td>\n",
       "    </tr>\n",
       "    <tr>\n",
       "      <th>3</th>\n",
       "      <td>12.5\"</td>\n",
       "    </tr>\n",
       "  </tbody>\n",
       "</table>\n",
       "</div>"
      ],
      "text/plain": [
       "                Tire_Size\n",
       "0                      12\n",
       "1  some text 14 some text\n",
       "2                     13\"\n",
       "3                   12.5\""
      ]
     },
     "execution_count": 32,
     "metadata": {},
     "output_type": "execute_result"
    }
   ],
   "source": [
    "regexp = pd.DataFrame({'Tire_Size':['12', 'some text 14 some text', '13\"', '12.5\"']})\n",
    "regexp"
   ]
  },
  {
   "cell_type": "code",
   "execution_count": 33,
   "metadata": {
    "id": "i-qc9JTaqwuX"
   },
   "outputs": [
    {
     "name": "stdout",
     "output_type": "stream",
     "text": [
      "<class 'pandas.core.frame.DataFrame'>\n",
      "RangeIndex: 4 entries, 0 to 3\n",
      "Data columns (total 1 columns):\n",
      " #   Column     Non-Null Count  Dtype \n",
      "---  ------     --------------  ----- \n",
      " 0   Tire_Size  4 non-null      object\n",
      "dtypes: object(1)\n",
      "memory usage: 160.0+ bytes\n"
     ]
    }
   ],
   "source": [
    "regexp.info()"
   ]
  },
  {
   "cell_type": "markdown",
   "metadata": {
    "id": "6ltcfd5kr0Ib"
   },
   "source": [
    "Now let's use a regular expression to extract the types of numbers we expect to see in the `Tire_Size` feature. \n"
   ]
  },
  {
   "cell_type": "code",
   "execution_count": 34,
   "metadata": {
    "id": "LIuwsrjpqwuX"
   },
   "outputs": [
    {
     "data": {
      "text/html": [
       "<div>\n",
       "<style scoped>\n",
       "    .dataframe tbody tr th:only-of-type {\n",
       "        vertical-align: middle;\n",
       "    }\n",
       "\n",
       "    .dataframe tbody tr th {\n",
       "        vertical-align: top;\n",
       "    }\n",
       "\n",
       "    .dataframe thead th {\n",
       "        text-align: right;\n",
       "    }\n",
       "</style>\n",
       "<table border=\"1\" class=\"dataframe\">\n",
       "  <thead>\n",
       "    <tr style=\"text-align: right;\">\n",
       "      <th></th>\n",
       "      <th>Tire_Size</th>\n",
       "    </tr>\n",
       "  </thead>\n",
       "  <tbody>\n",
       "    <tr>\n",
       "      <th>0</th>\n",
       "      <td>12</td>\n",
       "    </tr>\n",
       "    <tr>\n",
       "      <th>1</th>\n",
       "      <td>14</td>\n",
       "    </tr>\n",
       "    <tr>\n",
       "      <th>2</th>\n",
       "      <td>13</td>\n",
       "    </tr>\n",
       "    <tr>\n",
       "      <th>3</th>\n",
       "      <td>12.5</td>\n",
       "    </tr>\n",
       "  </tbody>\n",
       "</table>\n",
       "</div>"
      ],
      "text/plain": [
       "  Tire_Size\n",
       "0        12\n",
       "1        14\n",
       "2        13\n",
       "3      12.5"
      ]
     },
     "execution_count": 34,
     "metadata": {},
     "output_type": "execute_result"
    }
   ],
   "source": [
    "regexp['Tire_Size'] = regexp['Tire_Size'].str.extract('(\\d+\\.\\d+|\\d+)') \n",
    "regexp"
   ]
  },
  {
   "cell_type": "markdown",
   "metadata": {
    "id": "7Ur2e8qut3q-"
   },
   "source": [
    "In the `extract('(\\d+\\.\\d+|\\d+)')` code above we have the following basic elements:\n",
    "\n",
    "- `\\d+` to extract any sequence of digits (integers), e.g., '12', '123', '1234'; \n",
    "- `\\.` to extract a literal decimal point '.'; and, \n",
    "- `|` is the OR operator. \n",
    "\n",
    "These basic elements are used in the following way: \n",
    "- `\\d+\\.\\d+` to extract any sequence of one or more digits followed by a decimal point followed by another sequence of one or more digits; OR \n",
    "- `\\d+` to extract any sequence of one or more digits when there is no decimal point. \n",
    "\n",
    "We should also notice that extract the numbers does not mean that the column has been converted to a numeric data type. So far, we have just cleaned up the strings that represent numbers so that all non-numeric characters (like \" as the shorthand notation for inches) have been removed.  "
   ]
  },
  {
   "cell_type": "code",
   "execution_count": 35,
   "metadata": {
    "id": "oIitO8bPqwuX"
   },
   "outputs": [
    {
     "name": "stdout",
     "output_type": "stream",
     "text": [
      "<class 'pandas.core.frame.DataFrame'>\n",
      "RangeIndex: 4 entries, 0 to 3\n",
      "Data columns (total 1 columns):\n",
      " #   Column     Non-Null Count  Dtype \n",
      "---  ------     --------------  ----- \n",
      " 0   Tire_Size  4 non-null      object\n",
      "dtypes: object(1)\n",
      "memory usage: 160.0+ bytes\n"
     ]
    }
   ],
   "source": [
    "regexp.info()"
   ]
  },
  {
   "cell_type": "markdown",
   "metadata": {
    "id": "P0kWXhYdvRhV"
   },
   "source": [
    "We need to explicitly convert the feature to a numeric data type:"
   ]
  },
  {
   "cell_type": "code",
   "execution_count": 36,
   "metadata": {
    "id": "3dwK1NXTvP7J"
   },
   "outputs": [
    {
     "name": "stdout",
     "output_type": "stream",
     "text": [
      "<class 'pandas.core.frame.DataFrame'>\n",
      "RangeIndex: 4 entries, 0 to 3\n",
      "Data columns (total 1 columns):\n",
      " #   Column     Non-Null Count  Dtype  \n",
      "---  ------     --------------  -----  \n",
      " 0   Tire_Size  4 non-null      float64\n",
      "dtypes: float64(1)\n",
      "memory usage: 160.0 bytes\n"
     ]
    }
   ],
   "source": [
    "regexp['Tire_Size'] = pd.to_numeric(regexp['Tire_Size'])\n",
    "regexp.info()"
   ]
  },
  {
   "cell_type": "markdown",
   "metadata": {
    "id": "bBoq-hCcvG8B"
   },
   "source": [
    "We will now create a function to do this for any feature:"
   ]
  },
  {
   "cell_type": "code",
   "execution_count": 37,
   "metadata": {
    "id": "ddpVMLgsqwuX"
   },
   "outputs": [],
   "source": [
    "def extract_sizes(df, colname):\n",
    "    df[colname] = df[colname].str.extract('(\\d+\\.\\d+|\\d+)', expand=True)\n",
    "    df[colname] = df[colname].replace('', np.nan)\n",
    "    df[colname] = pd.to_numeric(df[colname])"
   ]
  },
  {
   "cell_type": "markdown",
   "metadata": {
    "id": "x5KJbCOfxJvP"
   },
   "source": [
    "We can now apply this function to `Tire_Size` and `Undercarriage_Pad_Width`. "
   ]
  },
  {
   "cell_type": "code",
   "execution_count": 38,
   "metadata": {
    "id": "MvyPvEBdxai1"
   },
   "outputs": [],
   "source": [
    "extract_sizes(df, 'Tire_Size')"
   ]
  },
  {
   "cell_type": "code",
   "execution_count": 39,
   "metadata": {
    "id": "PUEq3xK2xmN7"
   },
   "outputs": [],
   "source": [
    "extract_sizes(df, 'Undercarriage_Pad_Width')"
   ]
  },
  {
   "cell_type": "markdown",
   "metadata": {
    "id": "0EmGoBw6xse1"
   },
   "source": [
    "Dealing with `Blade_Width` is a bit more complicated because of the `\"<12'\"` value:"
   ]
  },
  {
   "cell_type": "code",
   "execution_count": 40,
   "metadata": {
    "id": "yVsx6AoZz7m8"
   },
   "outputs": [
    {
     "data": {
      "text/plain": [
       "array([nan, \"12'\", \"14'\", \"13'\", \"16'\", \"<12'\"], dtype=object)"
      ]
     },
     "execution_count": 40,
     "metadata": {},
     "output_type": "execute_result"
    }
   ],
   "source": [
    "df['Blade_Width'].unique()"
   ]
  },
  {
   "cell_type": "markdown",
   "metadata": {
    "id": "JliS1frJ0HZ7"
   },
   "source": [
    "There are a couple ways to approach this: \n",
    "- convert it into numeric form; or \n",
    "- consider this to be a categorical variable given the small number of unique values. \n",
    "\n",
    "This feature has missing values so we have to consider that as well. If we convert it to numeric we will end up replacing the missing values with a median value. And if we treat it as categorical, then the missing values will form their own category. \n",
    "\n",
    "We will treat this as a categorical variable but the next section shows how you could go about converting it to numeric if you chose to do that. "
   ]
  },
  {
   "cell_type": "markdown",
   "metadata": {
    "id": "RhaA0drC2Ofi"
   },
   "source": [
    "##### Aside: convert `Blade_Width` to numeric\n",
    "\n",
    "To demonstrate this will will use a toy dataset that consists of all the unique values found in our data. "
   ]
  },
  {
   "cell_type": "code",
   "execution_count": 41,
   "metadata": {
    "id": "oNKB0JMGxhZ4"
   },
   "outputs": [
    {
     "data": {
      "text/html": [
       "<div>\n",
       "<style scoped>\n",
       "    .dataframe tbody tr th:only-of-type {\n",
       "        vertical-align: middle;\n",
       "    }\n",
       "\n",
       "    .dataframe tbody tr th {\n",
       "        vertical-align: top;\n",
       "    }\n",
       "\n",
       "    .dataframe thead th {\n",
       "        text-align: right;\n",
       "    }\n",
       "</style>\n",
       "<table border=\"1\" class=\"dataframe\">\n",
       "  <thead>\n",
       "    <tr style=\"text-align: right;\">\n",
       "      <th></th>\n",
       "      <th>width</th>\n",
       "    </tr>\n",
       "  </thead>\n",
       "  <tbody>\n",
       "    <tr>\n",
       "      <th>0</th>\n",
       "      <td>NaN</td>\n",
       "    </tr>\n",
       "    <tr>\n",
       "      <th>1</th>\n",
       "      <td>12'</td>\n",
       "    </tr>\n",
       "    <tr>\n",
       "      <th>2</th>\n",
       "      <td>14'</td>\n",
       "    </tr>\n",
       "    <tr>\n",
       "      <th>3</th>\n",
       "      <td>13'</td>\n",
       "    </tr>\n",
       "    <tr>\n",
       "      <th>4</th>\n",
       "      <td>16'</td>\n",
       "    </tr>\n",
       "    <tr>\n",
       "      <th>5</th>\n",
       "      <td>&lt;12'</td>\n",
       "    </tr>\n",
       "  </tbody>\n",
       "</table>\n",
       "</div>"
      ],
      "text/plain": [
       "  width\n",
       "0   NaN\n",
       "1   12'\n",
       "2   14'\n",
       "3   13'\n",
       "4   16'\n",
       "5  <12'"
      ]
     },
     "execution_count": 41,
     "metadata": {},
     "output_type": "execute_result"
    }
   ],
   "source": [
    "blade = pd.DataFrame({'width':[np.nan, \"12'\", \"14'\", \"13'\", \"16'\", \"<12'\"]})\n",
    "blade"
   ]
  },
  {
   "cell_type": "markdown",
   "metadata": {
    "id": "0ixV7RTp2em6"
   },
   "source": [
    "Since there aren't that many unique values, we can create a mapping that directly converts all the values to their corresponding number. Here, I am grouping all the `\"<12'\"` under the number 11. This may not be ideal as that will impact the median value when we replace the missing values. "
   ]
  },
  {
   "cell_type": "code",
   "execution_count": 42,
   "metadata": {
    "id": "i4_7lM2-yKlc"
   },
   "outputs": [
    {
     "data": {
      "text/html": [
       "<div>\n",
       "<style scoped>\n",
       "    .dataframe tbody tr th:only-of-type {\n",
       "        vertical-align: middle;\n",
       "    }\n",
       "\n",
       "    .dataframe tbody tr th {\n",
       "        vertical-align: top;\n",
       "    }\n",
       "\n",
       "    .dataframe thead th {\n",
       "        text-align: right;\n",
       "    }\n",
       "</style>\n",
       "<table border=\"1\" class=\"dataframe\">\n",
       "  <thead>\n",
       "    <tr style=\"text-align: right;\">\n",
       "      <th></th>\n",
       "      <th>width</th>\n",
       "    </tr>\n",
       "  </thead>\n",
       "  <tbody>\n",
       "    <tr>\n",
       "      <th>0</th>\n",
       "      <td>NaN</td>\n",
       "    </tr>\n",
       "    <tr>\n",
       "      <th>1</th>\n",
       "      <td>12.0</td>\n",
       "    </tr>\n",
       "    <tr>\n",
       "      <th>2</th>\n",
       "      <td>14.0</td>\n",
       "    </tr>\n",
       "    <tr>\n",
       "      <th>3</th>\n",
       "      <td>13.0</td>\n",
       "    </tr>\n",
       "    <tr>\n",
       "      <th>4</th>\n",
       "      <td>16.0</td>\n",
       "    </tr>\n",
       "    <tr>\n",
       "      <th>5</th>\n",
       "      <td>11.0</td>\n",
       "    </tr>\n",
       "  </tbody>\n",
       "</table>\n",
       "</div>"
      ],
      "text/plain": [
       "   width\n",
       "0    NaN\n",
       "1   12.0\n",
       "2   14.0\n",
       "3   13.0\n",
       "4   16.0\n",
       "5   11.0"
      ]
     },
     "execution_count": 42,
     "metadata": {},
     "output_type": "execute_result"
    }
   ],
   "source": [
    "blade['width'] = blade['width'].map({\"NaN\": np.nan, \"12'\":12, \"13'\": 13, \"14'\":14, \"16'\":16, \"<12'\":11})\n",
    "blade"
   ]
  },
  {
   "cell_type": "code",
   "execution_count": 43,
   "metadata": {
    "id": "61V7Tjdxzayi"
   },
   "outputs": [
    {
     "name": "stdout",
     "output_type": "stream",
     "text": [
      "<class 'pandas.core.frame.DataFrame'>\n",
      "RangeIndex: 6 entries, 0 to 5\n",
      "Data columns (total 1 columns):\n",
      " #   Column  Non-Null Count  Dtype  \n",
      "---  ------  --------------  -----  \n",
      " 0   width   5 non-null      float64\n",
      "dtypes: float64(1)\n",
      "memory usage: 176.0 bytes\n"
     ]
    }
   ],
   "source": [
    "blade.info()"
   ]
  },
  {
   "cell_type": "markdown",
   "metadata": {
    "id": "NTD2_YST3V3l"
   },
   "source": [
    "`Stick_Length` is similar to `Blade_Width` and we could handle it in the same way. However, in this case I am going to try to convert it numeric `apply()` and a new function. Aside from the missing values, the entries for this feature all have the same structure: `'10\\'6\"'`. The outer quotations (' ') tell us this is a string, while the middle `\\'` is a single literal quotation that is shorthand for the distance measurement of `feet` and the single \" is shorthand for `inches`. \n",
    "\n",
    "The steps we'll need to take are: \n",
    "- extract the number for feet and the number for inches; \n",
    "- multiply the number of feet by 12 to convert to inches; and \n",
    "- add it to the number of inches. \n",
    "This will convert the `Stick_Length` feature to a numeric column where the unit of length is the inch. \n",
    "\n",
    "To see how this is going to work we will create a toy dataframe using the unique values for `Stick_Length`. "
   ]
  },
  {
   "cell_type": "code",
   "execution_count": 44,
   "metadata": {
    "id": "Iu_cwMNPzcji"
   },
   "outputs": [
    {
     "data": {
      "text/html": [
       "<div>\n",
       "<style scoped>\n",
       "    .dataframe tbody tr th:only-of-type {\n",
       "        vertical-align: middle;\n",
       "    }\n",
       "\n",
       "    .dataframe tbody tr th {\n",
       "        vertical-align: top;\n",
       "    }\n",
       "\n",
       "    .dataframe thead th {\n",
       "        text-align: right;\n",
       "    }\n",
       "</style>\n",
       "<table border=\"1\" class=\"dataframe\">\n",
       "  <thead>\n",
       "    <tr style=\"text-align: right;\">\n",
       "      <th></th>\n",
       "      <th>length</th>\n",
       "    </tr>\n",
       "  </thead>\n",
       "  <tbody>\n",
       "    <tr>\n",
       "      <th>0</th>\n",
       "      <td>NaN</td>\n",
       "    </tr>\n",
       "    <tr>\n",
       "      <th>1</th>\n",
       "      <td>10' 6\"</td>\n",
       "    </tr>\n",
       "    <tr>\n",
       "      <th>2</th>\n",
       "      <td>9' 6\"</td>\n",
       "    </tr>\n",
       "    <tr>\n",
       "      <th>3</th>\n",
       "      <td>9' 7\"</td>\n",
       "    </tr>\n",
       "    <tr>\n",
       "      <th>4</th>\n",
       "      <td>10' 2\"</td>\n",
       "    </tr>\n",
       "  </tbody>\n",
       "</table>\n",
       "</div>"
      ],
      "text/plain": [
       "   length\n",
       "0     NaN\n",
       "1  10' 6\"\n",
       "2   9' 6\"\n",
       "3   9' 7\"\n",
       "4  10' 2\""
      ]
     },
     "execution_count": 44,
     "metadata": {},
     "output_type": "execute_result"
    }
   ],
   "source": [
    "stick = pd.DataFrame({'length': df['Stick_Length'].unique()})\n",
    "                      \n",
    "stick.head()"
   ]
  },
  {
   "cell_type": "code",
   "execution_count": 45,
   "metadata": {
    "id": "eB8nVZ0h7h0m"
   },
   "outputs": [
    {
     "name": "stdout",
     "output_type": "stream",
     "text": [
      "<class 'pandas.core.frame.DataFrame'>\n",
      "RangeIndex: 25 entries, 0 to 24\n",
      "Data columns (total 1 columns):\n",
      " #   Column  Non-Null Count  Dtype \n",
      "---  ------  --------------  ----- \n",
      " 0   length  24 non-null     object\n",
      "dtypes: object(1)\n",
      "memory usage: 328.0+ bytes\n"
     ]
    }
   ],
   "source": [
    "stick.info()"
   ]
  },
  {
   "cell_type": "code",
   "execution_count": 46,
   "metadata": {
    "id": "r5O1yn2v7Lgq"
   },
   "outputs": [],
   "source": [
    "# modified version of: https://stackoverflow.com/questions/26986655/changing-height-feet-and-inches-to-an-integer-in-python-pandas\n",
    "\n",
    "def parse_length(length):\n",
    "    if length is not np.nan:\n",
    "      split_length = length.split(\"' \")\n",
    "      feet = float(split_length[0])\n",
    "      inches = float(split_length[1].replace(\"\\\"\",\"\"))\n",
    "      return (12*feet) + inches\n",
    "    else:\n",
    "      return np.nan\n",
    "\n",
    "stick['length'] = stick[\"length\"].apply(lambda x: parse_length(x))"
   ]
  },
  {
   "cell_type": "code",
   "execution_count": 47,
   "metadata": {
    "id": "TWyKEW3jRRUP"
   },
   "outputs": [
    {
     "data": {
      "text/html": [
       "<div>\n",
       "<style scoped>\n",
       "    .dataframe tbody tr th:only-of-type {\n",
       "        vertical-align: middle;\n",
       "    }\n",
       "\n",
       "    .dataframe tbody tr th {\n",
       "        vertical-align: top;\n",
       "    }\n",
       "\n",
       "    .dataframe thead th {\n",
       "        text-align: right;\n",
       "    }\n",
       "</style>\n",
       "<table border=\"1\" class=\"dataframe\">\n",
       "  <thead>\n",
       "    <tr style=\"text-align: right;\">\n",
       "      <th></th>\n",
       "      <th>length</th>\n",
       "    </tr>\n",
       "  </thead>\n",
       "  <tbody>\n",
       "    <tr>\n",
       "      <th>0</th>\n",
       "      <td>NaN</td>\n",
       "    </tr>\n",
       "    <tr>\n",
       "      <th>1</th>\n",
       "      <td>126.0</td>\n",
       "    </tr>\n",
       "    <tr>\n",
       "      <th>2</th>\n",
       "      <td>114.0</td>\n",
       "    </tr>\n",
       "    <tr>\n",
       "      <th>3</th>\n",
       "      <td>115.0</td>\n",
       "    </tr>\n",
       "    <tr>\n",
       "      <th>4</th>\n",
       "      <td>122.0</td>\n",
       "    </tr>\n",
       "  </tbody>\n",
       "</table>\n",
       "</div>"
      ],
      "text/plain": [
       "   length\n",
       "0     NaN\n",
       "1   126.0\n",
       "2   114.0\n",
       "3   115.0\n",
       "4   122.0"
      ]
     },
     "execution_count": 47,
     "metadata": {},
     "output_type": "execute_result"
    }
   ],
   "source": [
    "stick.head()"
   ]
  },
  {
   "cell_type": "code",
   "execution_count": 48,
   "metadata": {
    "id": "8z9Q-NQ4RfUd"
   },
   "outputs": [
    {
     "name": "stdout",
     "output_type": "stream",
     "text": [
      "<class 'pandas.core.frame.DataFrame'>\n",
      "RangeIndex: 25 entries, 0 to 24\n",
      "Data columns (total 1 columns):\n",
      " #   Column  Non-Null Count  Dtype  \n",
      "---  ------  --------------  -----  \n",
      " 0   length  24 non-null     float64\n",
      "dtypes: float64(1)\n",
      "memory usage: 328.0 bytes\n"
     ]
    }
   ],
   "source": [
    "stick.info()"
   ]
  },
  {
   "cell_type": "markdown",
   "metadata": {
    "id": "7o_MHJ9LJtVO"
   },
   "source": [
    "### Summary\n",
    "\n",
    "It is a good time to recall everything that we have done so far. We have:\n",
    "\n",
    "- dropped the `SalesID` and `MachineID` features;\n",
    "- converted `auctioneerID` to 'string' data type so we can treat it as a categorical feature;\n",
    "- decided to leave `Blade_Width` as 'string' and treat as a categorical feature instead of converting to numeric;\n",
    "- extracted numeric features from the original `Undercarriage_Pad_Width` and `Tire_Size` strings;\n",
    "- converted `Stick_Length` to a numeric feature from the original string representation;\n",
    "- normalized the representation of missing values to `np.nan`.\n",
    "\n",
    "Since this process gets messy and, at times, difficult to keep track of, let's reproduce everything we've done so we can see it all in one place. "
   ]
  },
  {
   "cell_type": "code",
   "execution_count": 49,
   "metadata": {
    "colab": {
     "base_uri": "https://localhost:8080/",
     "height": 273
    },
    "id": "l951ilWnqwuU",
    "outputId": "a5319b1e-95de-40d4-e71f-f003fb3cb64d"
   },
   "outputs": [],
   "source": [
    "df = df_raw.copy()\n",
    "df = df.iloc[-100000:]"
   ]
  },
  {
   "cell_type": "code",
   "execution_count": 50,
   "metadata": {},
   "outputs": [],
   "source": [
    "df.drop(['SalesID', 'MachineID'], axis=1, inplace=True)\n",
    "df['auctioneerID'] = df['auctioneerID'].astype(str)\n",
    "df_normalize_strings(df)\n",
    "extract_sizes(df, 'Tire_Size')\n",
    "extract_sizes(df, 'Undercarriage_Pad_Width')\n",
    "df['Stick_Length'] = df['Stick_Length'].apply(lambda x: parse_length(x))"
   ]
  },
  {
   "cell_type": "code",
   "execution_count": 51,
   "metadata": {
    "id": "8YpgRhGvOqET"
   },
   "outputs": [
    {
     "data": {
      "text/html": [
       "<div>\n",
       "<style scoped>\n",
       "    .dataframe tbody tr th:only-of-type {\n",
       "        vertical-align: middle;\n",
       "    }\n",
       "\n",
       "    .dataframe tbody tr th {\n",
       "        vertical-align: top;\n",
       "    }\n",
       "\n",
       "    .dataframe thead th {\n",
       "        text-align: right;\n",
       "    }\n",
       "</style>\n",
       "<table border=\"1\" class=\"dataframe\">\n",
       "  <thead>\n",
       "    <tr style=\"text-align: right;\">\n",
       "      <th></th>\n",
       "      <th>data type</th>\n",
       "      <th>percent missing</th>\n",
       "      <th>No. unique</th>\n",
       "      <th>unique values</th>\n",
       "    </tr>\n",
       "  </thead>\n",
       "  <tbody>\n",
       "    <tr>\n",
       "      <th>SalePrice</th>\n",
       "      <td>int64</td>\n",
       "      <td>0.000</td>\n",
       "      <td>574</td>\n",
       "      <td>[8300, 15500, 26000, 80000, 77500, 17750, 4900...</td>\n",
       "    </tr>\n",
       "    <tr>\n",
       "      <th>ModelID</th>\n",
       "      <td>int64</td>\n",
       "      <td>0.000</td>\n",
       "      <td>3703</td>\n",
       "      <td>[4663, 11859, 1133, 457, 3858, 4584, 2249, 340...</td>\n",
       "    </tr>\n",
       "    <tr>\n",
       "      <th>datasource</th>\n",
       "      <td>int64</td>\n",
       "      <td>0.000</td>\n",
       "      <td>5</td>\n",
       "      <td>[136, 132, 121, 172, 149]</td>\n",
       "    </tr>\n",
       "    <tr>\n",
       "      <th>YearMade</th>\n",
       "      <td>int64</td>\n",
       "      <td>0.000</td>\n",
       "      <td>63</td>\n",
       "      <td>[1985, 1995, 1997, 1993, 2000, 1999, 2005, 199...</td>\n",
       "    </tr>\n",
       "    <tr>\n",
       "      <th>Tire_Size</th>\n",
       "      <td>float64</td>\n",
       "      <td>85.891</td>\n",
       "      <td>12</td>\n",
       "      <td>[nan, 26.5, 20.5, 17.5, 23.5, 14.0, 13.0, 29.5...</td>\n",
       "    </tr>\n",
       "    <tr>\n",
       "      <th>Stick_Length</th>\n",
       "      <td>float64</td>\n",
       "      <td>93.602</td>\n",
       "      <td>25</td>\n",
       "      <td>[nan, 126.0, 114.0, 115.0, 122.0, 152.0, 154.0...</td>\n",
       "    </tr>\n",
       "    <tr>\n",
       "      <th>saledate</th>\n",
       "      <td>datetime64[ns]</td>\n",
       "      <td>0.000</td>\n",
       "      <td>674</td>\n",
       "      <td>[2009-01-23T00:00:00.000000000, 2009-01-24T00:...</td>\n",
       "    </tr>\n",
       "    <tr>\n",
       "      <th>Undercarriage_Pad_Width</th>\n",
       "      <td>float64</td>\n",
       "      <td>96.806</td>\n",
       "      <td>18</td>\n",
       "      <td>[nan, 36.0, 24.0, 20.0, 34.0, 26.0, 30.0, 28.0...</td>\n",
       "    </tr>\n",
       "    <tr>\n",
       "      <th>MachineHoursCurrentMeter</th>\n",
       "      <td>float64</td>\n",
       "      <td>20.955</td>\n",
       "      <td>13175</td>\n",
       "      <td>[0.0, nan, 2301.0, 2132.0, 212.0, 301.0, 3187....</td>\n",
       "    </tr>\n",
       "    <tr>\n",
       "      <th>Backhoe_Mounting</th>\n",
       "      <td>object</td>\n",
       "      <td>99.998</td>\n",
       "      <td>2</td>\n",
       "      <td>[nan, yes]</td>\n",
       "    </tr>\n",
       "    <tr>\n",
       "      <th>Hydraulics</th>\n",
       "      <td>object</td>\n",
       "      <td>19.702</td>\n",
       "      <td>12</td>\n",
       "      <td>[2 valve, standard, auxiliary, nan, 3 valve, b...</td>\n",
       "    </tr>\n",
       "    <tr>\n",
       "      <th>Pushblock</th>\n",
       "      <td>object</td>\n",
       "      <td>98.420</td>\n",
       "      <td>2</td>\n",
       "      <td>[nan, yes]</td>\n",
       "    </tr>\n",
       "    <tr>\n",
       "      <th>Ripper</th>\n",
       "      <td>object</td>\n",
       "      <td>94.407</td>\n",
       "      <td>4</td>\n",
       "      <td>[nan, single shank, multi shank, yes]</td>\n",
       "    </tr>\n",
       "    <tr>\n",
       "      <th>Scarifier</th>\n",
       "      <td>object</td>\n",
       "      <td>96.687</td>\n",
       "      <td>2</td>\n",
       "      <td>[nan, yes]</td>\n",
       "    </tr>\n",
       "    <tr>\n",
       "      <th>Tip_Control</th>\n",
       "      <td>object</td>\n",
       "      <td>98.687</td>\n",
       "      <td>3</td>\n",
       "      <td>[nan, sideshift &amp; tip, tip]</td>\n",
       "    </tr>\n",
       "    <tr>\n",
       "      <th>Travel_Controls</th>\n",
       "      <td>object</td>\n",
       "      <td>96.772</td>\n",
       "      <td>7</td>\n",
       "      <td>[nan, finger tip, differential steer, lever, 2...</td>\n",
       "    </tr>\n",
       "    <tr>\n",
       "      <th>Coupler</th>\n",
       "      <td>object</td>\n",
       "      <td>87.536</td>\n",
       "      <td>3</td>\n",
       "      <td>[nan, manual, hydraulic]</td>\n",
       "    </tr>\n",
       "    <tr>\n",
       "      <th>Coupler_System</th>\n",
       "      <td>object</td>\n",
       "      <td>97.811</td>\n",
       "      <td>2</td>\n",
       "      <td>[nan, yes]</td>\n",
       "    </tr>\n",
       "    <tr>\n",
       "      <th>Grouser_Tracks</th>\n",
       "      <td>object</td>\n",
       "      <td>98.000</td>\n",
       "      <td>2</td>\n",
       "      <td>[nan, yes]</td>\n",
       "    </tr>\n",
       "    <tr>\n",
       "      <th>Hydraulics_Flow</th>\n",
       "      <td>object</td>\n",
       "      <td>86.837</td>\n",
       "      <td>3</td>\n",
       "      <td>[nan, standard, high flow]</td>\n",
       "    </tr>\n",
       "    <tr>\n",
       "      <th>Track_Type</th>\n",
       "      <td>object</td>\n",
       "      <td>73.687</td>\n",
       "      <td>3</td>\n",
       "      <td>[nan, steel, rubber]</td>\n",
       "    </tr>\n",
       "    <tr>\n",
       "      <th>Engine_Horsepower</th>\n",
       "      <td>object</td>\n",
       "      <td>93.834</td>\n",
       "      <td>3</td>\n",
       "      <td>[nan, no, variable]</td>\n",
       "    </tr>\n",
       "    <tr>\n",
       "      <th>Thumb</th>\n",
       "      <td>object</td>\n",
       "      <td>94.143</td>\n",
       "      <td>3</td>\n",
       "      <td>[nan, manual, hydraulic]</td>\n",
       "    </tr>\n",
       "    <tr>\n",
       "      <th>Pattern_Changer</th>\n",
       "      <td>object</td>\n",
       "      <td>96.057</td>\n",
       "      <td>3</td>\n",
       "      <td>[nan, yes, no]</td>\n",
       "    </tr>\n",
       "    <tr>\n",
       "      <th>Grouser_Type</th>\n",
       "      <td>object</td>\n",
       "      <td>73.687</td>\n",
       "      <td>3</td>\n",
       "      <td>[nan, double, triple]</td>\n",
       "    </tr>\n",
       "    <tr>\n",
       "      <th>Blade_Type</th>\n",
       "      <td>object</td>\n",
       "      <td>85.154</td>\n",
       "      <td>10</td>\n",
       "      <td>[pat, nan, straight, vpat, semi u, angle, no, ...</td>\n",
       "    </tr>\n",
       "    <tr>\n",
       "      <th>Enclosure_Type</th>\n",
       "      <td>object</td>\n",
       "      <td>98.717</td>\n",
       "      <td>3</td>\n",
       "      <td>[nan, high profile, low profile]</td>\n",
       "    </tr>\n",
       "    <tr>\n",
       "      <th>Turbocharged</th>\n",
       "      <td>object</td>\n",
       "      <td>99.198</td>\n",
       "      <td>2</td>\n",
       "      <td>[nan, yes]</td>\n",
       "    </tr>\n",
       "    <tr>\n",
       "      <th>Blade_Extension</th>\n",
       "      <td>object</td>\n",
       "      <td>99.824</td>\n",
       "      <td>2</td>\n",
       "      <td>[nan, yes]</td>\n",
       "    </tr>\n",
       "    <tr>\n",
       "      <th>auctioneerID</th>\n",
       "      <td>object</td>\n",
       "      <td>0.000</td>\n",
       "      <td>31</td>\n",
       "      <td>[nan, 5.0, 2.0, 27.0, 1.0, 23.0, 3.0, 4.0, 20....</td>\n",
       "    </tr>\n",
       "    <tr>\n",
       "      <th>UsageBand</th>\n",
       "      <td>object</td>\n",
       "      <td>57.288</td>\n",
       "      <td>4</td>\n",
       "      <td>[nan, medium, low, high]</td>\n",
       "    </tr>\n",
       "    <tr>\n",
       "      <th>fiModelDesc</th>\n",
       "      <td>object</td>\n",
       "      <td>0.000</td>\n",
       "      <td>3579</td>\n",
       "      <td>[450d, sk120, 315l, pc300lc5, 966g, 244h, pc22...</td>\n",
       "    </tr>\n",
       "    <tr>\n",
       "      <th>fiBaseModel</th>\n",
       "      <td>object</td>\n",
       "      <td>0.000</td>\n",
       "      <td>1384</td>\n",
       "      <td>[450, sk120, 315, pc300, 966, 244, pc228, 226,...</td>\n",
       "    </tr>\n",
       "    <tr>\n",
       "      <th>fiSecondaryDesc</th>\n",
       "      <td>object</td>\n",
       "      <td>28.582</td>\n",
       "      <td>147</td>\n",
       "      <td>[d, nan, g, h, us, b, c, ex, f, e, z, a, sr, r...</td>\n",
       "    </tr>\n",
       "    <tr>\n",
       "      <th>fiModelSeries</th>\n",
       "      <td>object</td>\n",
       "      <td>85.451</td>\n",
       "      <td>106</td>\n",
       "      <td>[nan, lc, iii, ii, -12, -5, v, -7, -21, -2, -8...</td>\n",
       "    </tr>\n",
       "    <tr>\n",
       "      <th>fiModelDescriptor</th>\n",
       "      <td>object</td>\n",
       "      <td>75.374</td>\n",
       "      <td>126</td>\n",
       "      <td>[nan, l, 5, lc, sr, 3, 7, k, c, lgp, lt, u, xl...</td>\n",
       "    </tr>\n",
       "    <tr>\n",
       "      <th>ProductSize</th>\n",
       "      <td>object</td>\n",
       "      <td>52.513</td>\n",
       "      <td>7</td>\n",
       "      <td>[nan, small, large / medium, medium, compact, ...</td>\n",
       "    </tr>\n",
       "    <tr>\n",
       "      <th>fiProductClassDesc</th>\n",
       "      <td>object</td>\n",
       "      <td>0.000</td>\n",
       "      <td>74</td>\n",
       "      <td>[track type tractor, dozer - 20.0 to 75.0 hors...</td>\n",
       "    </tr>\n",
       "    <tr>\n",
       "      <th>Blade_Width</th>\n",
       "      <td>object</td>\n",
       "      <td>95.742</td>\n",
       "      <td>6</td>\n",
       "      <td>[nan, 12', 14', 13', 16', &lt;12']</td>\n",
       "    </tr>\n",
       "    <tr>\n",
       "      <th>state</th>\n",
       "      <td>object</td>\n",
       "      <td>0.000</td>\n",
       "      <td>52</td>\n",
       "      <td>[connecticut, georgia, tennessee, alabama, new...</td>\n",
       "    </tr>\n",
       "    <tr>\n",
       "      <th>ProductGroupDesc</th>\n",
       "      <td>object</td>\n",
       "      <td>0.000</td>\n",
       "      <td>6</td>\n",
       "      <td>[track type tractors, track excavators, wheel ...</td>\n",
       "    </tr>\n",
       "    <tr>\n",
       "      <th>Drive_System</th>\n",
       "      <td>object</td>\n",
       "      <td>74.424</td>\n",
       "      <td>5</td>\n",
       "      <td>[nan, two wheel drive, four wheel drive, no, a...</td>\n",
       "    </tr>\n",
       "    <tr>\n",
       "      <th>Enclosure</th>\n",
       "      <td>object</td>\n",
       "      <td>0.054</td>\n",
       "      <td>6</td>\n",
       "      <td>[orops, erops, erops w ac, nan, erops ac, no r...</td>\n",
       "    </tr>\n",
       "    <tr>\n",
       "      <th>Forks</th>\n",
       "      <td>object</td>\n",
       "      <td>95.256</td>\n",
       "      <td>2</td>\n",
       "      <td>[nan, yes]</td>\n",
       "    </tr>\n",
       "    <tr>\n",
       "      <th>Pad_Type</th>\n",
       "      <td>object</td>\n",
       "      <td>97.754</td>\n",
       "      <td>4</td>\n",
       "      <td>[nan, reversible, street, grouser]</td>\n",
       "    </tr>\n",
       "    <tr>\n",
       "      <th>Ride_Control</th>\n",
       "      <td>object</td>\n",
       "      <td>77.846</td>\n",
       "      <td>3</td>\n",
       "      <td>[nan, no, yes]</td>\n",
       "    </tr>\n",
       "    <tr>\n",
       "      <th>Stick</th>\n",
       "      <td>object</td>\n",
       "      <td>80.590</td>\n",
       "      <td>3</td>\n",
       "      <td>[nan, extended, standard]</td>\n",
       "    </tr>\n",
       "    <tr>\n",
       "      <th>Transmission</th>\n",
       "      <td>object</td>\n",
       "      <td>62.669</td>\n",
       "      <td>7</td>\n",
       "      <td>[standard, nan, hydrostatic, powershift, power...</td>\n",
       "    </tr>\n",
       "    <tr>\n",
       "      <th>Differential_Type</th>\n",
       "      <td>object</td>\n",
       "      <td>82.958</td>\n",
       "      <td>5</td>\n",
       "      <td>[nan, standard, limited slip, no spin, locking]</td>\n",
       "    </tr>\n",
       "    <tr>\n",
       "      <th>ProductGroup</th>\n",
       "      <td>object</td>\n",
       "      <td>0.000</td>\n",
       "      <td>6</td>\n",
       "      <td>[ttt, tex, wl, ssl, bl, mg]</td>\n",
       "    </tr>\n",
       "    <tr>\n",
       "      <th>Steering_Controls</th>\n",
       "      <td>object</td>\n",
       "      <td>82.966</td>\n",
       "      <td>4</td>\n",
       "      <td>[nan, conventional, command control, four whee...</td>\n",
       "    </tr>\n",
       "  </tbody>\n",
       "</table>\n",
       "</div>"
      ],
      "text/plain": [
       "                               data type  percent missing  No. unique  \\\n",
       "SalePrice                          int64            0.000         574   \n",
       "ModelID                            int64            0.000        3703   \n",
       "datasource                         int64            0.000           5   \n",
       "YearMade                           int64            0.000          63   \n",
       "Tire_Size                        float64           85.891          12   \n",
       "Stick_Length                     float64           93.602          25   \n",
       "saledate                  datetime64[ns]            0.000         674   \n",
       "Undercarriage_Pad_Width          float64           96.806          18   \n",
       "MachineHoursCurrentMeter         float64           20.955       13175   \n",
       "Backhoe_Mounting                  object           99.998           2   \n",
       "Hydraulics                        object           19.702          12   \n",
       "Pushblock                         object           98.420           2   \n",
       "Ripper                            object           94.407           4   \n",
       "Scarifier                         object           96.687           2   \n",
       "Tip_Control                       object           98.687           3   \n",
       "Travel_Controls                   object           96.772           7   \n",
       "Coupler                           object           87.536           3   \n",
       "Coupler_System                    object           97.811           2   \n",
       "Grouser_Tracks                    object           98.000           2   \n",
       "Hydraulics_Flow                   object           86.837           3   \n",
       "Track_Type                        object           73.687           3   \n",
       "Engine_Horsepower                 object           93.834           3   \n",
       "Thumb                             object           94.143           3   \n",
       "Pattern_Changer                   object           96.057           3   \n",
       "Grouser_Type                      object           73.687           3   \n",
       "Blade_Type                        object           85.154          10   \n",
       "Enclosure_Type                    object           98.717           3   \n",
       "Turbocharged                      object           99.198           2   \n",
       "Blade_Extension                   object           99.824           2   \n",
       "auctioneerID                      object            0.000          31   \n",
       "UsageBand                         object           57.288           4   \n",
       "fiModelDesc                       object            0.000        3579   \n",
       "fiBaseModel                       object            0.000        1384   \n",
       "fiSecondaryDesc                   object           28.582         147   \n",
       "fiModelSeries                     object           85.451         106   \n",
       "fiModelDescriptor                 object           75.374         126   \n",
       "ProductSize                       object           52.513           7   \n",
       "fiProductClassDesc                object            0.000          74   \n",
       "Blade_Width                       object           95.742           6   \n",
       "state                             object            0.000          52   \n",
       "ProductGroupDesc                  object            0.000           6   \n",
       "Drive_System                      object           74.424           5   \n",
       "Enclosure                         object            0.054           6   \n",
       "Forks                             object           95.256           2   \n",
       "Pad_Type                          object           97.754           4   \n",
       "Ride_Control                      object           77.846           3   \n",
       "Stick                             object           80.590           3   \n",
       "Transmission                      object           62.669           7   \n",
       "Differential_Type                 object           82.958           5   \n",
       "ProductGroup                      object            0.000           6   \n",
       "Steering_Controls                 object           82.966           4   \n",
       "\n",
       "                                                              unique values  \n",
       "SalePrice                 [8300, 15500, 26000, 80000, 77500, 17750, 4900...  \n",
       "ModelID                   [4663, 11859, 1133, 457, 3858, 4584, 2249, 340...  \n",
       "datasource                                        [136, 132, 121, 172, 149]  \n",
       "YearMade                  [1985, 1995, 1997, 1993, 2000, 1999, 2005, 199...  \n",
       "Tire_Size                 [nan, 26.5, 20.5, 17.5, 23.5, 14.0, 13.0, 29.5...  \n",
       "Stick_Length              [nan, 126.0, 114.0, 115.0, 122.0, 152.0, 154.0...  \n",
       "saledate                  [2009-01-23T00:00:00.000000000, 2009-01-24T00:...  \n",
       "Undercarriage_Pad_Width   [nan, 36.0, 24.0, 20.0, 34.0, 26.0, 30.0, 28.0...  \n",
       "MachineHoursCurrentMeter  [0.0, nan, 2301.0, 2132.0, 212.0, 301.0, 3187....  \n",
       "Backhoe_Mounting                                                 [nan, yes]  \n",
       "Hydraulics                [2 valve, standard, auxiliary, nan, 3 valve, b...  \n",
       "Pushblock                                                        [nan, yes]  \n",
       "Ripper                                [nan, single shank, multi shank, yes]  \n",
       "Scarifier                                                        [nan, yes]  \n",
       "Tip_Control                                     [nan, sideshift & tip, tip]  \n",
       "Travel_Controls           [nan, finger tip, differential steer, lever, 2...  \n",
       "Coupler                                            [nan, manual, hydraulic]  \n",
       "Coupler_System                                                   [nan, yes]  \n",
       "Grouser_Tracks                                                   [nan, yes]  \n",
       "Hydraulics_Flow                                  [nan, standard, high flow]  \n",
       "Track_Type                                             [nan, steel, rubber]  \n",
       "Engine_Horsepower                                       [nan, no, variable]  \n",
       "Thumb                                              [nan, manual, hydraulic]  \n",
       "Pattern_Changer                                              [nan, yes, no]  \n",
       "Grouser_Type                                          [nan, double, triple]  \n",
       "Blade_Type                [pat, nan, straight, vpat, semi u, angle, no, ...  \n",
       "Enclosure_Type                             [nan, high profile, low profile]  \n",
       "Turbocharged                                                     [nan, yes]  \n",
       "Blade_Extension                                                  [nan, yes]  \n",
       "auctioneerID              [nan, 5.0, 2.0, 27.0, 1.0, 23.0, 3.0, 4.0, 20....  \n",
       "UsageBand                                          [nan, medium, low, high]  \n",
       "fiModelDesc               [450d, sk120, 315l, pc300lc5, 966g, 244h, pc22...  \n",
       "fiBaseModel               [450, sk120, 315, pc300, 966, 244, pc228, 226,...  \n",
       "fiSecondaryDesc           [d, nan, g, h, us, b, c, ex, f, e, z, a, sr, r...  \n",
       "fiModelSeries             [nan, lc, iii, ii, -12, -5, v, -7, -21, -2, -8...  \n",
       "fiModelDescriptor         [nan, l, 5, lc, sr, 3, 7, k, c, lgp, lt, u, xl...  \n",
       "ProductSize               [nan, small, large / medium, medium, compact, ...  \n",
       "fiProductClassDesc        [track type tractor, dozer - 20.0 to 75.0 hors...  \n",
       "Blade_Width                                 [nan, 12', 14', 13', 16', <12']  \n",
       "state                     [connecticut, georgia, tennessee, alabama, new...  \n",
       "ProductGroupDesc          [track type tractors, track excavators, wheel ...  \n",
       "Drive_System              [nan, two wheel drive, four wheel drive, no, a...  \n",
       "Enclosure                 [orops, erops, erops w ac, nan, erops ac, no r...  \n",
       "Forks                                                            [nan, yes]  \n",
       "Pad_Type                                 [nan, reversible, street, grouser]  \n",
       "Ride_Control                                                 [nan, no, yes]  \n",
       "Stick                                             [nan, extended, standard]  \n",
       "Transmission              [standard, nan, hydrostatic, powershift, power...  \n",
       "Differential_Type           [nan, standard, limited slip, no spin, locking]  \n",
       "ProductGroup                                    [ttt, tex, wl, ssl, bl, mg]  \n",
       "Steering_Controls         [nan, conventional, command control, four whee...  "
      ]
     },
     "execution_count": 51,
     "metadata": {},
     "output_type": "execute_result"
    }
   ],
   "source": [
    "sniff_modified(df)"
   ]
  },
  {
   "cell_type": "code",
   "execution_count": null,
   "metadata": {},
   "outputs": [],
   "source": []
  }
 ],
 "metadata": {
  "colab": {
   "collapsed_sections": [],
   "name": "Missing_Data.ipynb",
   "provenance": []
  },
  "kernelspec": {
   "display_name": "Python 3 (ipykernel)",
   "language": "python",
   "name": "python3"
  },
  "language_info": {
   "codemirror_mode": {
    "name": "ipython",
    "version": 3
   },
   "file_extension": ".py",
   "mimetype": "text/x-python",
   "name": "python",
   "nbconvert_exporter": "python",
   "pygments_lexer": "ipython3",
   "version": "3.9.13"
  }
 },
 "nbformat": 4,
 "nbformat_minor": 4
}
