{
 "cells": [
  {
   "cell_type": "markdown",
   "metadata": {},
   "source": [
    "# Part 3 - Categorically Speaking\n",
    "\n",
    "**Notice: This notebook is a modification of [cats.ipynb and targetencode.ipynb](https://mlbook.explained.ai/notebooks/index.html) by Terence Parr and Jeremy Howard, which were used by permission of the author.**\n",
    "\n",
    "Please use this notebook to follow along with the lectures this week. Feel free to modify the code in any way. \n",
    "\n",
    "There may be minor differences between the notebook seen in the lecture videos and this one. "
   ]
  },
  {
   "cell_type": "markdown",
   "metadata": {},
   "source": [
    "### Reestablish Baseline"
   ]
  },
  {
   "cell_type": "code",
   "execution_count": 5,
   "metadata": {},
   "outputs": [
    {
     "name": "stdout",
     "output_type": "stream",
     "text": [
      "Collecting category_encoders\n",
      "  Downloading category_encoders-2.6.1-py2.py3-none-any.whl (81 kB)\n",
      "     ---------------------------------------- 81.9/81.9 kB 4.5 MB/s eta 0:00:00\n",
      "Requirement already satisfied: scikit-learn>=0.20.0 in c:\\users\\danielle\\anaconda3\\lib\\site-packages (from category_encoders) (1.0.2)\n",
      "Requirement already satisfied: pandas>=1.0.5 in c:\\users\\danielle\\anaconda3\\lib\\site-packages (from category_encoders) (1.4.4)\n",
      "Requirement already satisfied: statsmodels>=0.9.0 in c:\\users\\danielle\\anaconda3\\lib\\site-packages (from category_encoders) (0.13.2)\n",
      "Requirement already satisfied: patsy>=0.5.1 in c:\\users\\danielle\\anaconda3\\lib\\site-packages (from category_encoders) (0.5.2)\n",
      "Requirement already satisfied: scipy>=1.0.0 in c:\\users\\danielle\\anaconda3\\lib\\site-packages (from category_encoders) (1.9.1)\n",
      "Requirement already satisfied: numpy>=1.14.0 in c:\\users\\danielle\\anaconda3\\lib\\site-packages (from category_encoders) (1.21.5)\n",
      "Requirement already satisfied: pytz>=2020.1 in c:\\users\\danielle\\anaconda3\\lib\\site-packages (from pandas>=1.0.5->category_encoders) (2022.1)\n",
      "Requirement already satisfied: python-dateutil>=2.8.1 in c:\\users\\danielle\\anaconda3\\lib\\site-packages (from pandas>=1.0.5->category_encoders) (2.8.2)\n",
      "Requirement already satisfied: six in c:\\users\\danielle\\anaconda3\\lib\\site-packages (from patsy>=0.5.1->category_encoders) (1.16.0)\n",
      "Requirement already satisfied: joblib>=0.11 in c:\\users\\danielle\\anaconda3\\lib\\site-packages (from scikit-learn>=0.20.0->category_encoders) (1.1.0)\n",
      "Requirement already satisfied: threadpoolctl>=2.0.0 in c:\\users\\danielle\\anaconda3\\lib\\site-packages (from scikit-learn>=0.20.0->category_encoders) (2.2.0)\n",
      "Requirement already satisfied: packaging>=21.3 in c:\\users\\danielle\\anaconda3\\lib\\site-packages (from statsmodels>=0.9.0->category_encoders) (21.3)\n",
      "Requirement already satisfied: pyparsing!=3.0.5,>=2.0.2 in c:\\users\\danielle\\anaconda3\\lib\\site-packages (from packaging>=21.3->statsmodels>=0.9.0->category_encoders) (3.0.9)\n",
      "Installing collected packages: category_encoders\n",
      "Successfully installed category_encoders-2.6.1\n",
      "Note: you may need to restart the kernel to use updated packages.\n"
     ]
    }
   ],
   "source": [
    "pip install category_encoders"
   ]
  },
  {
   "cell_type": "code",
   "execution_count": 8,
   "metadata": {
    "id": "6P6fbYCnN7vH"
   },
   "outputs": [],
   "source": [
    "from sklearn.model_selection import train_test_split\n",
    "from sklearn.ensemble import RandomForestRegressor\n",
    "from sklearn.metrics import mean_absolute_error, r2_score\n",
    "import numpy as np\n",
    "import pandas as pd\n",
    "from rfpimp import *\n",
    "import category_encoders as ce"
   ]
  },
  {
   "cell_type": "code",
   "execution_count": 9,
   "metadata": {},
   "outputs": [],
   "source": [
    "def evaluate(X, y):\n",
    "    rf = RandomForestRegressor(n_estimators=100, n_jobs=-1, oob_score=True)\n",
    "    rf.fit(X, y)\n",
    "    oob = rf.oob_score_\n",
    "    n = rfnnodes(rf)\n",
    "    h = np.median(rfmaxdepths(rf))\n",
    "    print(f\"OOB R^2 is {oob:.5f} using {n:,d} tree nodes with {h} median tree depth\")\n",
    "    return rf, oob"
   ]
  },
  {
   "cell_type": "code",
   "execution_count": 10,
   "metadata": {},
   "outputs": [],
   "source": [
    "def showimp(rf, X, y):\n",
    "    features = list(X.columns)\n",
    "    features.remove('latitude')\n",
    "    features.remove('longitude')\n",
    "    features += [['latitude','longitude']]\n",
    "\n",
    "    I = importances(rf, X, y, features=features)\n",
    "    plot_importances(I, color='#4575b4')"
   ]
  },
  {
   "cell_type": "code",
   "execution_count": 11,
   "metadata": {
    "colab": {
     "base_uri": "https://localhost:8080/",
     "height": 142
    },
    "id": "dJ83sz4UN7vR",
    "outputId": "f604b55c-b267-42a2-b595-b460360679e0"
   },
   "outputs": [],
   "source": [
    "rent = pd.read_csv('rent.csv')\n",
    "\n",
    "rent_clean = rent[(rent['price'] > 1000) & (rent['price'] < 10000)]\n",
    "rent_clean = rent_clean[(rent_clean['longitude'] !=0) | (rent_clean['latitude']!=0)]\n",
    "rent_clean = rent_clean[(rent_clean['latitude']>40.55) &\n",
    "                        (rent_clean['latitude']<40.94) &\n",
    "                        (rent_clean['longitude']>-74.1) &\n",
    "                        (rent_clean['longitude']<-73.67)]"
   ]
  },
  {
   "cell_type": "code",
   "execution_count": 5,
   "metadata": {},
   "outputs": [
    {
     "data": {
      "text/html": [
       "<div>\n",
       "<style scoped>\n",
       "    .dataframe tbody tr th:only-of-type {\n",
       "        vertical-align: middle;\n",
       "    }\n",
       "\n",
       "    .dataframe tbody tr th {\n",
       "        vertical-align: top;\n",
       "    }\n",
       "\n",
       "    .dataframe thead th {\n",
       "        text-align: right;\n",
       "    }\n",
       "</style>\n",
       "<table border=\"1\" class=\"dataframe\">\n",
       "  <thead>\n",
       "    <tr style=\"text-align: right;\">\n",
       "      <th></th>\n",
       "      <th>0</th>\n",
       "      <th>1</th>\n",
       "      <th>2</th>\n",
       "      <th>3</th>\n",
       "      <th>4</th>\n",
       "    </tr>\n",
       "  </thead>\n",
       "  <tbody>\n",
       "    <tr>\n",
       "      <th>bathrooms</th>\n",
       "      <td>1.0</td>\n",
       "      <td>1.0</td>\n",
       "      <td>1.0</td>\n",
       "      <td>1.5</td>\n",
       "      <td>1.0</td>\n",
       "    </tr>\n",
       "    <tr>\n",
       "      <th>bedrooms</th>\n",
       "      <td>1</td>\n",
       "      <td>2</td>\n",
       "      <td>2</td>\n",
       "      <td>3</td>\n",
       "      <td>0</td>\n",
       "    </tr>\n",
       "    <tr>\n",
       "      <th>building_id</th>\n",
       "      <td>8579a0b0d54db803821a35a4a615e97a</td>\n",
       "      <td>b8e75fc949a6cd8225b455648a951712</td>\n",
       "      <td>cd759a988b8f23924b5a2058d5ab2b49</td>\n",
       "      <td>53a5b119ba8f7b61d4e010512e0dfc85</td>\n",
       "      <td>bfb9405149bfff42a92980b594c28234</td>\n",
       "    </tr>\n",
       "    <tr>\n",
       "      <th>created</th>\n",
       "      <td>2016-06-16 05:55:27</td>\n",
       "      <td>2016-06-01 05:44:33</td>\n",
       "      <td>2016-06-14 15:19:59</td>\n",
       "      <td>2016-06-24 07:54:24</td>\n",
       "      <td>2016-06-28 03:50:23</td>\n",
       "    </tr>\n",
       "    <tr>\n",
       "      <th>description</th>\n",
       "      <td>Spacious 1 Bedroom 1 Bathroom in Williamsburg!...</td>\n",
       "      <td>BRAND NEW GUT RENOVATED TRUE 2 BEDROOMFind you...</td>\n",
       "      <td>**FLEX 2 BEDROOM WITH FULL PRESSURIZED WALL**L...</td>\n",
       "      <td>A Brand New 3 Bedroom 1.5 bath ApartmentEnjoy ...</td>\n",
       "      <td>Over-sized Studio w abundant closets. Availabl...</td>\n",
       "    </tr>\n",
       "    <tr>\n",
       "      <th>display_address</th>\n",
       "      <td>145 Borinquen Place</td>\n",
       "      <td>East 44th</td>\n",
       "      <td>East 56th Street</td>\n",
       "      <td>Metropolitan Avenue</td>\n",
       "      <td>East 34th Street</td>\n",
       "    </tr>\n",
       "    <tr>\n",
       "      <th>features</th>\n",
       "      <td>['Dining Room', 'Pre-War', 'Laundry in Buildin...</td>\n",
       "      <td>['Doorman', 'Elevator', 'Laundry in Building',...</td>\n",
       "      <td>['Doorman', 'Elevator', 'Laundry in Building',...</td>\n",
       "      <td>[]</td>\n",
       "      <td>['Doorman', 'Elevator', 'Fitness Center', 'Lau...</td>\n",
       "    </tr>\n",
       "    <tr>\n",
       "      <th>latitude</th>\n",
       "      <td>40.7108</td>\n",
       "      <td>40.7513</td>\n",
       "      <td>40.7575</td>\n",
       "      <td>40.7145</td>\n",
       "      <td>40.7439</td>\n",
       "    </tr>\n",
       "    <tr>\n",
       "      <th>listing_id</th>\n",
       "      <td>7170325</td>\n",
       "      <td>7092344</td>\n",
       "      <td>7158677</td>\n",
       "      <td>7211212</td>\n",
       "      <td>7225292</td>\n",
       "    </tr>\n",
       "    <tr>\n",
       "      <th>longitude</th>\n",
       "      <td>-73.9539</td>\n",
       "      <td>-73.9722</td>\n",
       "      <td>-73.9625</td>\n",
       "      <td>-73.9425</td>\n",
       "      <td>-73.9743</td>\n",
       "    </tr>\n",
       "    <tr>\n",
       "      <th>manager_id</th>\n",
       "      <td>a10db4590843d78c784171a107bdacb4</td>\n",
       "      <td>955db33477af4f40004820b4aed804a0</td>\n",
       "      <td>c8b10a317b766204f08e613cef4ce7a0</td>\n",
       "      <td>5ba989232d0489da1b5f2c45f6688adc</td>\n",
       "      <td>2c3b41f588fbb5234d8a1e885a436cfa</td>\n",
       "    </tr>\n",
       "    <tr>\n",
       "      <th>photos</th>\n",
       "      <td>['https://photos.renthop.com/2/7170325_3bb5ac8...</td>\n",
       "      <td>['https://photos.renthop.com/2/7092344_7663c19...</td>\n",
       "      <td>['https://photos.renthop.com/2/7158677_c897a13...</td>\n",
       "      <td>['https://photos.renthop.com/2/7211212_1ed4542...</td>\n",
       "      <td>['https://photos.renthop.com/2/7225292_901f198...</td>\n",
       "    </tr>\n",
       "    <tr>\n",
       "      <th>price</th>\n",
       "      <td>2400</td>\n",
       "      <td>3800</td>\n",
       "      <td>3495</td>\n",
       "      <td>3000</td>\n",
       "      <td>2795</td>\n",
       "    </tr>\n",
       "    <tr>\n",
       "      <th>street_address</th>\n",
       "      <td>145 Borinquen Place</td>\n",
       "      <td>230 East 44th</td>\n",
       "      <td>405 East 56th Street</td>\n",
       "      <td>792 Metropolitan Avenue</td>\n",
       "      <td>340 East 34th Street</td>\n",
       "    </tr>\n",
       "    <tr>\n",
       "      <th>interest_level</th>\n",
       "      <td>medium</td>\n",
       "      <td>low</td>\n",
       "      <td>medium</td>\n",
       "      <td>medium</td>\n",
       "      <td>low</td>\n",
       "    </tr>\n",
       "  </tbody>\n",
       "</table>\n",
       "</div>"
      ],
      "text/plain": [
       "                                                                 0  \\\n",
       "bathrooms                                                      1.0   \n",
       "bedrooms                                                         1   \n",
       "building_id                       8579a0b0d54db803821a35a4a615e97a   \n",
       "created                                        2016-06-16 05:55:27   \n",
       "description      Spacious 1 Bedroom 1 Bathroom in Williamsburg!...   \n",
       "display_address                                145 Borinquen Place   \n",
       "features         ['Dining Room', 'Pre-War', 'Laundry in Buildin...   \n",
       "latitude                                                   40.7108   \n",
       "listing_id                                                 7170325   \n",
       "longitude                                                 -73.9539   \n",
       "manager_id                        a10db4590843d78c784171a107bdacb4   \n",
       "photos           ['https://photos.renthop.com/2/7170325_3bb5ac8...   \n",
       "price                                                         2400   \n",
       "street_address                                 145 Borinquen Place   \n",
       "interest_level                                              medium   \n",
       "\n",
       "                                                                 1  \\\n",
       "bathrooms                                                      1.0   \n",
       "bedrooms                                                         2   \n",
       "building_id                       b8e75fc949a6cd8225b455648a951712   \n",
       "created                                        2016-06-01 05:44:33   \n",
       "description      BRAND NEW GUT RENOVATED TRUE 2 BEDROOMFind you...   \n",
       "display_address                                          East 44th   \n",
       "features         ['Doorman', 'Elevator', 'Laundry in Building',...   \n",
       "latitude                                                   40.7513   \n",
       "listing_id                                                 7092344   \n",
       "longitude                                                 -73.9722   \n",
       "manager_id                        955db33477af4f40004820b4aed804a0   \n",
       "photos           ['https://photos.renthop.com/2/7092344_7663c19...   \n",
       "price                                                         3800   \n",
       "street_address                                       230 East 44th   \n",
       "interest_level                                                 low   \n",
       "\n",
       "                                                                 2  \\\n",
       "bathrooms                                                      1.0   \n",
       "bedrooms                                                         2   \n",
       "building_id                       cd759a988b8f23924b5a2058d5ab2b49   \n",
       "created                                        2016-06-14 15:19:59   \n",
       "description      **FLEX 2 BEDROOM WITH FULL PRESSURIZED WALL**L...   \n",
       "display_address                                   East 56th Street   \n",
       "features         ['Doorman', 'Elevator', 'Laundry in Building',...   \n",
       "latitude                                                   40.7575   \n",
       "listing_id                                                 7158677   \n",
       "longitude                                                 -73.9625   \n",
       "manager_id                        c8b10a317b766204f08e613cef4ce7a0   \n",
       "photos           ['https://photos.renthop.com/2/7158677_c897a13...   \n",
       "price                                                         3495   \n",
       "street_address                                405 East 56th Street   \n",
       "interest_level                                              medium   \n",
       "\n",
       "                                                                 3  \\\n",
       "bathrooms                                                      1.5   \n",
       "bedrooms                                                         3   \n",
       "building_id                       53a5b119ba8f7b61d4e010512e0dfc85   \n",
       "created                                        2016-06-24 07:54:24   \n",
       "description      A Brand New 3 Bedroom 1.5 bath ApartmentEnjoy ...   \n",
       "display_address                                Metropolitan Avenue   \n",
       "features                                                        []   \n",
       "latitude                                                   40.7145   \n",
       "listing_id                                                 7211212   \n",
       "longitude                                                 -73.9425   \n",
       "manager_id                        5ba989232d0489da1b5f2c45f6688adc   \n",
       "photos           ['https://photos.renthop.com/2/7211212_1ed4542...   \n",
       "price                                                         3000   \n",
       "street_address                             792 Metropolitan Avenue   \n",
       "interest_level                                              medium   \n",
       "\n",
       "                                                                 4  \n",
       "bathrooms                                                      1.0  \n",
       "bedrooms                                                         0  \n",
       "building_id                       bfb9405149bfff42a92980b594c28234  \n",
       "created                                        2016-06-28 03:50:23  \n",
       "description      Over-sized Studio w abundant closets. Availabl...  \n",
       "display_address                                   East 34th Street  \n",
       "features         ['Doorman', 'Elevator', 'Fitness Center', 'Lau...  \n",
       "latitude                                                   40.7439  \n",
       "listing_id                                                 7225292  \n",
       "longitude                                                 -73.9743  \n",
       "manager_id                        2c3b41f588fbb5234d8a1e885a436cfa  \n",
       "photos           ['https://photos.renthop.com/2/7225292_901f198...  \n",
       "price                                                         2795  \n",
       "street_address                                340 East 34th Street  \n",
       "interest_level                                                 low  "
      ]
     },
     "execution_count": 5,
     "metadata": {},
     "output_type": "execute_result"
    }
   ],
   "source": [
    "rent_clean.head().T"
   ]
  },
  {
   "cell_type": "code",
   "execution_count": 6,
   "metadata": {},
   "outputs": [
    {
     "data": {
      "text/plain": [
       "(48300, 15)"
      ]
     },
     "execution_count": 6,
     "metadata": {},
     "output_type": "execute_result"
    }
   ],
   "source": [
    "rent_clean.shape"
   ]
  },
  {
   "cell_type": "code",
   "execution_count": 7,
   "metadata": {},
   "outputs": [],
   "source": [
    "numfeatures = ['bathrooms', 'bedrooms', 'longitude', 'latitude']\n",
    "\n",
    "X = rent_clean[numfeatures]\n",
    "y = rent_clean['price']"
   ]
  },
  {
   "cell_type": "code",
   "execution_count": 8,
   "metadata": {},
   "outputs": [
    {
     "name": "stdout",
     "output_type": "stream",
     "text": [
      "OOB R^2 is 0.86771 using 2,431,170 tree nodes with 35.0 median tree depth\n"
     ]
    }
   ],
   "source": [
    "rf, oob = evaluate(X, y)"
   ]
  },
  {
   "cell_type": "code",
   "execution_count": 9,
   "metadata": {},
   "outputs": [
    {
     "data": {
      "image/png": "[encoded data removed]",
      "text/plain": [
       "<Figure size 288x108 with 1 Axes>"
      ]
     },
     "metadata": {
      "needs_background": "light"
     },
     "output_type": "display_data"
    }
   ],
   "source": [
    "showimp(rf, X, y)"
   ]
  },
  {
   "cell_type": "markdown",
   "metadata": {},
   "source": [
    "### Feature Engineering\n",
    "\n",
    "What we will embark on now can be broadly categorized as *feature engineering*, which can be defined as: \n",
    "\n",
    "> the process of transforming raw data into features that better represent the underlying problem to the predictive models, resulting in improved model accuracy on unseen data. (Jason Brownlee)\n",
    "\n",
    "The goal is to discover (through domain knowledge, experimentation, etc.) which input features make it easier for the model to best predict the corresponding outputs. We won't cover all aspects of this topic, but will cover a few approaches that should prove useful in your practical work. "
   ]
  },
  {
   "cell_type": "markdown",
   "metadata": {},
   "source": [
    "#### Extracting Features from Strings\n",
    "\n",
    "Our apartment rental data has a few features that are made up of *string* (or text): \n",
    "- `description` contains free-form text that presumably highlights all the desirable qualities of the apartment;\n",
    "- `features` contains lists of specific amenities each apartment offers; and, \n",
    "- `photos` contains strings representing the filenames of pictures of the apartment. \n",
    "\n",
    "It would seem reasonable to think that some of the information contained in these columns would be connected to the price, since, after all, they are listed to show how much you are getting for the amount you have to spend. \n",
    "\n",
    "Let's consider each in turn, noting that processing free-form text may require a little more work and creativity than other columns. "
   ]
  },
  {
   "cell_type": "code",
   "execution_count": 10,
   "metadata": {},
   "outputs": [
    {
     "data": {
      "text/html": [
       "<div>\n",
       "<style scoped>\n",
       "    .dataframe tbody tr th:only-of-type {\n",
       "        vertical-align: middle;\n",
       "    }\n",
       "\n",
       "    .dataframe tbody tr th {\n",
       "        vertical-align: top;\n",
       "    }\n",
       "\n",
       "    .dataframe thead th {\n",
       "        text-align: right;\n",
       "    }\n",
       "</style>\n",
       "<table border=\"1\" class=\"dataframe\">\n",
       "  <thead>\n",
       "    <tr style=\"text-align: right;\">\n",
       "      <th></th>\n",
       "      <th>description</th>\n",
       "      <th>features</th>\n",
       "      <th>photos</th>\n",
       "    </tr>\n",
       "  </thead>\n",
       "  <tbody>\n",
       "    <tr>\n",
       "      <th>0</th>\n",
       "      <td>Spacious 1 Bedroom 1 Bathroom in Williamsburg!...</td>\n",
       "      <td>['Dining Room', 'Pre-War', 'Laundry in Buildin...</td>\n",
       "      <td>['https://photos.renthop.com/2/7170325_3bb5ac8...</td>\n",
       "    </tr>\n",
       "    <tr>\n",
       "      <th>1</th>\n",
       "      <td>BRAND NEW GUT RENOVATED TRUE 2 BEDROOMFind you...</td>\n",
       "      <td>['Doorman', 'Elevator', 'Laundry in Building',...</td>\n",
       "      <td>['https://photos.renthop.com/2/7092344_7663c19...</td>\n",
       "    </tr>\n",
       "    <tr>\n",
       "      <th>2</th>\n",
       "      <td>**FLEX 2 BEDROOM WITH FULL PRESSURIZED WALL**L...</td>\n",
       "      <td>['Doorman', 'Elevator', 'Laundry in Building',...</td>\n",
       "      <td>['https://photos.renthop.com/2/7158677_c897a13...</td>\n",
       "    </tr>\n",
       "    <tr>\n",
       "      <th>3</th>\n",
       "      <td>A Brand New 3 Bedroom 1.5 bath ApartmentEnjoy ...</td>\n",
       "      <td>[]</td>\n",
       "      <td>['https://photos.renthop.com/2/7211212_1ed4542...</td>\n",
       "    </tr>\n",
       "    <tr>\n",
       "      <th>4</th>\n",
       "      <td>Over-sized Studio w abundant closets. Availabl...</td>\n",
       "      <td>['Doorman', 'Elevator', 'Fitness Center', 'Lau...</td>\n",
       "      <td>['https://photos.renthop.com/2/7225292_901f198...</td>\n",
       "    </tr>\n",
       "  </tbody>\n",
       "</table>\n",
       "</div>"
      ],
      "text/plain": [
       "                                         description  \\\n",
       "0  Spacious 1 Bedroom 1 Bathroom in Williamsburg!...   \n",
       "1  BRAND NEW GUT RENOVATED TRUE 2 BEDROOMFind you...   \n",
       "2  **FLEX 2 BEDROOM WITH FULL PRESSURIZED WALL**L...   \n",
       "3  A Brand New 3 Bedroom 1.5 bath ApartmentEnjoy ...   \n",
       "4  Over-sized Studio w abundant closets. Availabl...   \n",
       "\n",
       "                                            features  \\\n",
       "0  ['Dining Room', 'Pre-War', 'Laundry in Buildin...   \n",
       "1  ['Doorman', 'Elevator', 'Laundry in Building',...   \n",
       "2  ['Doorman', 'Elevator', 'Laundry in Building',...   \n",
       "3                                                 []   \n",
       "4  ['Doorman', 'Elevator', 'Fitness Center', 'Lau...   \n",
       "\n",
       "                                              photos  \n",
       "0  ['https://photos.renthop.com/2/7170325_3bb5ac8...  \n",
       "1  ['https://photos.renthop.com/2/7092344_7663c19...  \n",
       "2  ['https://photos.renthop.com/2/7158677_c897a13...  \n",
       "3  ['https://photos.renthop.com/2/7211212_1ed4542...  \n",
       "4  ['https://photos.renthop.com/2/7225292_901f198...  "
      ]
     },
     "execution_count": 10,
     "metadata": {},
     "output_type": "execute_result"
    }
   ],
   "source": [
    "rent_text = rent_clean[['description', 'features', 'photos']].copy()\n",
    "rent_text.head()"
   ]
  },
  {
   "cell_type": "markdown",
   "metadata": {},
   "source": [
    "The first thing we should do is check to see if there are any missing values."
   ]
  },
  {
   "cell_type": "code",
   "execution_count": 11,
   "metadata": {},
   "outputs": [
    {
     "data": {
      "text/plain": [
       "description    1421\n",
       "features          0\n",
       "photos            0\n",
       "dtype: int64"
      ]
     },
     "execution_count": 11,
     "metadata": {},
     "output_type": "execute_result"
    }
   ],
   "source": [
    "rent_text.isnull().sum()"
   ]
  },
  {
   "cell_type": "markdown",
   "metadata": {},
   "source": [
    "So, we will need to deal with this for the `description` column only. "
   ]
  },
  {
   "cell_type": "markdown",
   "metadata": {},
   "source": [
    "#### `Description`\n",
    "\n",
    "If we look at the first couple descriptions, we see words like *spacious* and *renovated*. These may have predictive power because: \n",
    "- even though we have the number of bedrooms and bathrooms, it doesn't tell us how big the apartment is overall, since one 1 bed/1 bath apartment could have twice the square footage of another, which may be worth more money; and, \n",
    "- a renovated apartment could mean that everything has been update so it may look nicer and may have fewer problems compared to an apartment that has not been renovated. \n",
    "\n",
    "It's worth seeing if these can provide us with any performance improvement. \n",
    "\n",
    "First, let's replace the missing values with an empty string '' and convert the description to lower case text. "
   ]
  },
  {
   "cell_type": "code",
   "execution_count": 12,
   "metadata": {
    "scrolled": true
   },
   "outputs": [
    {
     "data": {
      "text/html": [
       "<div>\n",
       "<style scoped>\n",
       "    .dataframe tbody tr th:only-of-type {\n",
       "        vertical-align: middle;\n",
       "    }\n",
       "\n",
       "    .dataframe tbody tr th {\n",
       "        vertical-align: top;\n",
       "    }\n",
       "\n",
       "    .dataframe thead th {\n",
       "        text-align: right;\n",
       "    }\n",
       "</style>\n",
       "<table border=\"1\" class=\"dataframe\">\n",
       "  <thead>\n",
       "    <tr style=\"text-align: right;\">\n",
       "      <th></th>\n",
       "      <th>0</th>\n",
       "      <th>1</th>\n",
       "      <th>2</th>\n",
       "    </tr>\n",
       "  </thead>\n",
       "  <tbody>\n",
       "    <tr>\n",
       "      <th>bathrooms</th>\n",
       "      <td>1.0</td>\n",
       "      <td>1.0</td>\n",
       "      <td>1.0</td>\n",
       "    </tr>\n",
       "    <tr>\n",
       "      <th>bedrooms</th>\n",
       "      <td>1</td>\n",
       "      <td>2</td>\n",
       "      <td>2</td>\n",
       "    </tr>\n",
       "    <tr>\n",
       "      <th>building_id</th>\n",
       "      <td>8579a0b0d54db803821a35a4a615e97a</td>\n",
       "      <td>b8e75fc949a6cd8225b455648a951712</td>\n",
       "      <td>cd759a988b8f23924b5a2058d5ab2b49</td>\n",
       "    </tr>\n",
       "    <tr>\n",
       "      <th>created</th>\n",
       "      <td>2016-06-16 05:55:27</td>\n",
       "      <td>2016-06-01 05:44:33</td>\n",
       "      <td>2016-06-14 15:19:59</td>\n",
       "    </tr>\n",
       "    <tr>\n",
       "      <th>description</th>\n",
       "      <td>spacious 1 bedroom 1 bathroom in williamsburg!...</td>\n",
       "      <td>brand new gut renovated true 2 bedroomfind you...</td>\n",
       "      <td>**flex 2 bedroom with full pressurized wall**l...</td>\n",
       "    </tr>\n",
       "    <tr>\n",
       "      <th>display_address</th>\n",
       "      <td>145 Borinquen Place</td>\n",
       "      <td>East 44th</td>\n",
       "      <td>East 56th Street</td>\n",
       "    </tr>\n",
       "    <tr>\n",
       "      <th>features</th>\n",
       "      <td>['Dining Room', 'Pre-War', 'Laundry in Buildin...</td>\n",
       "      <td>['Doorman', 'Elevator', 'Laundry in Building',...</td>\n",
       "      <td>['Doorman', 'Elevator', 'Laundry in Building',...</td>\n",
       "    </tr>\n",
       "    <tr>\n",
       "      <th>latitude</th>\n",
       "      <td>40.7108</td>\n",
       "      <td>40.7513</td>\n",
       "      <td>40.7575</td>\n",
       "    </tr>\n",
       "    <tr>\n",
       "      <th>listing_id</th>\n",
       "      <td>7170325</td>\n",
       "      <td>7092344</td>\n",
       "      <td>7158677</td>\n",
       "    </tr>\n",
       "    <tr>\n",
       "      <th>longitude</th>\n",
       "      <td>-73.9539</td>\n",
       "      <td>-73.9722</td>\n",
       "      <td>-73.9625</td>\n",
       "    </tr>\n",
       "    <tr>\n",
       "      <th>manager_id</th>\n",
       "      <td>a10db4590843d78c784171a107bdacb4</td>\n",
       "      <td>955db33477af4f40004820b4aed804a0</td>\n",
       "      <td>c8b10a317b766204f08e613cef4ce7a0</td>\n",
       "    </tr>\n",
       "    <tr>\n",
       "      <th>photos</th>\n",
       "      <td>['https://photos.renthop.com/2/7170325_3bb5ac8...</td>\n",
       "      <td>['https://photos.renthop.com/2/7092344_7663c19...</td>\n",
       "      <td>['https://photos.renthop.com/2/7158677_c897a13...</td>\n",
       "    </tr>\n",
       "    <tr>\n",
       "      <th>price</th>\n",
       "      <td>2400</td>\n",
       "      <td>3800</td>\n",
       "      <td>3495</td>\n",
       "    </tr>\n",
       "    <tr>\n",
       "      <th>street_address</th>\n",
       "      <td>145 Borinquen Place</td>\n",
       "      <td>230 East 44th</td>\n",
       "      <td>405 East 56th Street</td>\n",
       "    </tr>\n",
       "    <tr>\n",
       "      <th>interest_level</th>\n",
       "      <td>medium</td>\n",
       "      <td>low</td>\n",
       "      <td>medium</td>\n",
       "    </tr>\n",
       "  </tbody>\n",
       "</table>\n",
       "</div>"
      ],
      "text/plain": [
       "                                                                 0  \\\n",
       "bathrooms                                                      1.0   \n",
       "bedrooms                                                         1   \n",
       "building_id                       8579a0b0d54db803821a35a4a615e97a   \n",
       "created                                        2016-06-16 05:55:27   \n",
       "description      spacious 1 bedroom 1 bathroom in williamsburg!...   \n",
       "display_address                                145 Borinquen Place   \n",
       "features         ['Dining Room', 'Pre-War', 'Laundry in Buildin...   \n",
       "latitude                                                   40.7108   \n",
       "listing_id                                                 7170325   \n",
       "longitude                                                 -73.9539   \n",
       "manager_id                        a10db4590843d78c784171a107bdacb4   \n",
       "photos           ['https://photos.renthop.com/2/7170325_3bb5ac8...   \n",
       "price                                                         2400   \n",
       "street_address                                 145 Borinquen Place   \n",
       "interest_level                                              medium   \n",
       "\n",
       "                                                                 1  \\\n",
       "bathrooms                                                      1.0   \n",
       "bedrooms                                                         2   \n",
       "building_id                       b8e75fc949a6cd8225b455648a951712   \n",
       "created                                        2016-06-01 05:44:33   \n",
       "description      brand new gut renovated true 2 bedroomfind you...   \n",
       "display_address                                          East 44th   \n",
       "features         ['Doorman', 'Elevator', 'Laundry in Building',...   \n",
       "latitude                                                   40.7513   \n",
       "listing_id                                                 7092344   \n",
       "longitude                                                 -73.9722   \n",
       "manager_id                        955db33477af4f40004820b4aed804a0   \n",
       "photos           ['https://photos.renthop.com/2/7092344_7663c19...   \n",
       "price                                                         3800   \n",
       "street_address                                       230 East 44th   \n",
       "interest_level                                                 low   \n",
       "\n",
       "                                                                 2  \n",
       "bathrooms                                                      1.0  \n",
       "bedrooms                                                         2  \n",
       "building_id                       cd759a988b8f23924b5a2058d5ab2b49  \n",
       "created                                        2016-06-14 15:19:59  \n",
       "description      **flex 2 bedroom with full pressurized wall**l...  \n",
       "display_address                                   East 56th Street  \n",
       "features         ['Doorman', 'Elevator', 'Laundry in Building',...  \n",
       "latitude                                                   40.7575  \n",
       "listing_id                                                 7158677  \n",
       "longitude                                                 -73.9625  \n",
       "manager_id                        c8b10a317b766204f08e613cef4ce7a0  \n",
       "photos           ['https://photos.renthop.com/2/7158677_c897a13...  \n",
       "price                                                         3495  \n",
       "street_address                                405 East 56th Street  \n",
       "interest_level                                              medium  "
      ]
     },
     "execution_count": 12,
     "metadata": {},
     "output_type": "execute_result"
    }
   ],
   "source": [
    "#The fillna() method replaces the NULL values with a specified value.\n",
    "rent_clean['description'] = rent_clean['description'].fillna('')  \n",
    "rent_clean['description'] = rent_clean['description'].str.lower() \n",
    "rent_clean.head(3).T"
   ]
  },
  {
   "cell_type": "markdown",
   "metadata": {},
   "source": [
    "Note that converting the text to lower case will remove the problem of Python treating *Spacious* and *spacious* as different, which is the default behaviour. \n",
    "\n",
    "Now let's create two new columns based on these two concepts of *spacious* and *renovated*. "
   ]
  },
  {
   "cell_type": "code",
   "execution_count": 13,
   "metadata": {},
   "outputs": [
    {
     "data": {
      "text/plain": [
       "description    1421\n",
       "features          0\n",
       "photos            0\n",
       "dtype: int64"
      ]
     },
     "execution_count": 13,
     "metadata": {},
     "output_type": "execute_result"
    }
   ],
   "source": [
    "rent_text.isnull().sum()"
   ]
  },
  {
   "cell_type": "code",
   "execution_count": 14,
   "metadata": {},
   "outputs": [
    {
     "data": {
      "text/html": [
       "<div>\n",
       "<style scoped>\n",
       "    .dataframe tbody tr th:only-of-type {\n",
       "        vertical-align: middle;\n",
       "    }\n",
       "\n",
       "    .dataframe tbody tr th {\n",
       "        vertical-align: top;\n",
       "    }\n",
       "\n",
       "    .dataframe thead th {\n",
       "        text-align: right;\n",
       "    }\n",
       "</style>\n",
       "<table border=\"1\" class=\"dataframe\">\n",
       "  <thead>\n",
       "    <tr style=\"text-align: right;\">\n",
       "      <th></th>\n",
       "      <th>0</th>\n",
       "      <th>1</th>\n",
       "      <th>2</th>\n",
       "    </tr>\n",
       "  </thead>\n",
       "  <tbody>\n",
       "    <tr>\n",
       "      <th>bathrooms</th>\n",
       "      <td>1.0</td>\n",
       "      <td>1.0</td>\n",
       "      <td>1.0</td>\n",
       "    </tr>\n",
       "    <tr>\n",
       "      <th>bedrooms</th>\n",
       "      <td>1</td>\n",
       "      <td>2</td>\n",
       "      <td>2</td>\n",
       "    </tr>\n",
       "    <tr>\n",
       "      <th>building_id</th>\n",
       "      <td>8579a0b0d54db803821a35a4a615e97a</td>\n",
       "      <td>b8e75fc949a6cd8225b455648a951712</td>\n",
       "      <td>cd759a988b8f23924b5a2058d5ab2b49</td>\n",
       "    </tr>\n",
       "    <tr>\n",
       "      <th>created</th>\n",
       "      <td>2016-06-16 05:55:27</td>\n",
       "      <td>2016-06-01 05:44:33</td>\n",
       "      <td>2016-06-14 15:19:59</td>\n",
       "    </tr>\n",
       "    <tr>\n",
       "      <th>description</th>\n",
       "      <td>spacious 1 bedroom 1 bathroom in williamsburg!...</td>\n",
       "      <td>brand new gut renovated true 2 bedroomfind you...</td>\n",
       "      <td>**flex 2 bedroom with full pressurized wall**l...</td>\n",
       "    </tr>\n",
       "    <tr>\n",
       "      <th>display_address</th>\n",
       "      <td>145 Borinquen Place</td>\n",
       "      <td>East 44th</td>\n",
       "      <td>East 56th Street</td>\n",
       "    </tr>\n",
       "    <tr>\n",
       "      <th>features</th>\n",
       "      <td>['Dining Room', 'Pre-War', 'Laundry in Buildin...</td>\n",
       "      <td>['Doorman', 'Elevator', 'Laundry in Building',...</td>\n",
       "      <td>['Doorman', 'Elevator', 'Laundry in Building',...</td>\n",
       "    </tr>\n",
       "    <tr>\n",
       "      <th>latitude</th>\n",
       "      <td>40.7108</td>\n",
       "      <td>40.7513</td>\n",
       "      <td>40.7575</td>\n",
       "    </tr>\n",
       "    <tr>\n",
       "      <th>listing_id</th>\n",
       "      <td>7170325</td>\n",
       "      <td>7092344</td>\n",
       "      <td>7158677</td>\n",
       "    </tr>\n",
       "    <tr>\n",
       "      <th>longitude</th>\n",
       "      <td>-73.9539</td>\n",
       "      <td>-73.9722</td>\n",
       "      <td>-73.9625</td>\n",
       "    </tr>\n",
       "    <tr>\n",
       "      <th>manager_id</th>\n",
       "      <td>a10db4590843d78c784171a107bdacb4</td>\n",
       "      <td>955db33477af4f40004820b4aed804a0</td>\n",
       "      <td>c8b10a317b766204f08e613cef4ce7a0</td>\n",
       "    </tr>\n",
       "    <tr>\n",
       "      <th>photos</th>\n",
       "      <td>['https://photos.renthop.com/2/7170325_3bb5ac8...</td>\n",
       "      <td>['https://photos.renthop.com/2/7092344_7663c19...</td>\n",
       "      <td>['https://photos.renthop.com/2/7158677_c897a13...</td>\n",
       "    </tr>\n",
       "    <tr>\n",
       "      <th>price</th>\n",
       "      <td>2400</td>\n",
       "      <td>3800</td>\n",
       "      <td>3495</td>\n",
       "    </tr>\n",
       "    <tr>\n",
       "      <th>street_address</th>\n",
       "      <td>145 Borinquen Place</td>\n",
       "      <td>230 East 44th</td>\n",
       "      <td>405 East 56th Street</td>\n",
       "    </tr>\n",
       "    <tr>\n",
       "      <th>interest_level</th>\n",
       "      <td>medium</td>\n",
       "      <td>low</td>\n",
       "      <td>medium</td>\n",
       "    </tr>\n",
       "    <tr>\n",
       "      <th>renov</th>\n",
       "      <td>True</td>\n",
       "      <td>True</td>\n",
       "      <td>False</td>\n",
       "    </tr>\n",
       "    <tr>\n",
       "      <th>large_apt</th>\n",
       "      <td>True</td>\n",
       "      <td>False</td>\n",
       "      <td>False</td>\n",
       "    </tr>\n",
       "  </tbody>\n",
       "</table>\n",
       "</div>"
      ],
      "text/plain": [
       "                                                                 0  \\\n",
       "bathrooms                                                      1.0   \n",
       "bedrooms                                                         1   \n",
       "building_id                       8579a0b0d54db803821a35a4a615e97a   \n",
       "created                                        2016-06-16 05:55:27   \n",
       "description      spacious 1 bedroom 1 bathroom in williamsburg!...   \n",
       "display_address                                145 Borinquen Place   \n",
       "features         ['Dining Room', 'Pre-War', 'Laundry in Buildin...   \n",
       "latitude                                                   40.7108   \n",
       "listing_id                                                 7170325   \n",
       "longitude                                                 -73.9539   \n",
       "manager_id                        a10db4590843d78c784171a107bdacb4   \n",
       "photos           ['https://photos.renthop.com/2/7170325_3bb5ac8...   \n",
       "price                                                         2400   \n",
       "street_address                                 145 Borinquen Place   \n",
       "interest_level                                              medium   \n",
       "renov                                                         True   \n",
       "large_apt                                                     True   \n",
       "\n",
       "                                                                 1  \\\n",
       "bathrooms                                                      1.0   \n",
       "bedrooms                                                         2   \n",
       "building_id                       b8e75fc949a6cd8225b455648a951712   \n",
       "created                                        2016-06-01 05:44:33   \n",
       "description      brand new gut renovated true 2 bedroomfind you...   \n",
       "display_address                                          East 44th   \n",
       "features         ['Doorman', 'Elevator', 'Laundry in Building',...   \n",
       "latitude                                                   40.7513   \n",
       "listing_id                                                 7092344   \n",
       "longitude                                                 -73.9722   \n",
       "manager_id                        955db33477af4f40004820b4aed804a0   \n",
       "photos           ['https://photos.renthop.com/2/7092344_7663c19...   \n",
       "price                                                         3800   \n",
       "street_address                                       230 East 44th   \n",
       "interest_level                                                 low   \n",
       "renov                                                         True   \n",
       "large_apt                                                    False   \n",
       "\n",
       "                                                                 2  \n",
       "bathrooms                                                      1.0  \n",
       "bedrooms                                                         2  \n",
       "building_id                       cd759a988b8f23924b5a2058d5ab2b49  \n",
       "created                                        2016-06-14 15:19:59  \n",
       "description      **flex 2 bedroom with full pressurized wall**l...  \n",
       "display_address                                   East 56th Street  \n",
       "features         ['Doorman', 'Elevator', 'Laundry in Building',...  \n",
       "latitude                                                   40.7575  \n",
       "listing_id                                                 7158677  \n",
       "longitude                                                 -73.9625  \n",
       "manager_id                        c8b10a317b766204f08e613cef4ce7a0  \n",
       "photos           ['https://photos.renthop.com/2/7158677_c897a13...  \n",
       "price                                                         3495  \n",
       "street_address                                405 East 56th Street  \n",
       "interest_level                                              medium  \n",
       "renov                                                        False  \n",
       "large_apt                                                    False  "
      ]
     },
     "execution_count": 14,
     "metadata": {},
     "output_type": "execute_result"
    }
   ],
   "source": [
    "rent_clean['renov'] = rent_clean['description'].str.contains(\"renov\")\n",
    "rent_clean['large_apt'] = rent_clean['description'].str.contains(\"spacious\")\n",
    "rent_clean.head(3).T"
   ]
  },
  {
   "cell_type": "markdown",
   "metadata": {},
   "source": [
    "It's probably a good idea to check how many apartments have these new features we have created, because if almost all (or none) of them have this feature it may not be much help in making predictions. "
   ]
  },
  {
   "cell_type": "code",
   "execution_count": 15,
   "metadata": {},
   "outputs": [
    {
     "data": {
      "text/plain": [
       "17327"
      ]
     },
     "execution_count": 15,
     "metadata": {},
     "output_type": "execute_result"
    }
   ],
   "source": [
    "rent_clean['renov'].sum()"
   ]
  },
  {
   "cell_type": "code",
   "execution_count": 16,
   "metadata": {},
   "outputs": [
    {
     "data": {
      "text/plain": [
       "10496"
      ]
     },
     "execution_count": 16,
     "metadata": {},
     "output_type": "execute_result"
    }
   ],
   "source": [
    "rent_clean['large_apt'].sum()"
   ]
  },
  {
   "cell_type": "code",
   "execution_count": 17,
   "metadata": {},
   "outputs": [
    {
     "data": {
      "text/plain": [
       "(48300, 17)"
      ]
     },
     "execution_count": 17,
     "metadata": {},
     "output_type": "execute_result"
    }
   ],
   "source": [
    "rent_clean.shape"
   ]
  },
  {
   "cell_type": "markdown",
   "metadata": {},
   "source": [
    "That seems like a decent amount so let's use them to build a model. Remember that `False` and `True` get treated as 0 and 1, respectively, so even though they look like words, the computer is going to treat them as numbers. "
   ]
  },
  {
   "cell_type": "code",
   "execution_count": 18,
   "metadata": {},
   "outputs": [
    {
     "data": {
      "text/plain": [
       "['bathrooms', 'bedrooms', 'longitude', 'latitude']"
      ]
     },
     "execution_count": 18,
     "metadata": {},
     "output_type": "execute_result"
    }
   ],
   "source": [
    "numfeatures"
   ]
  },
  {
   "cell_type": "code",
   "execution_count": 19,
   "metadata": {},
   "outputs": [],
   "source": [
    "X = rent_clean[numfeatures + ['renov', 'large_apt']]\n",
    "y = rent_clean['price']"
   ]
  },
  {
   "cell_type": "code",
   "execution_count": 20,
   "metadata": {},
   "outputs": [
    {
     "name": "stdout",
     "output_type": "stream",
     "text": [
      "OOB R^2 is 0.86651 using 3,208,726 tree nodes with 36.0 median tree depth\n"
     ]
    }
   ],
   "source": [
    "rf, oob = evaluate(X, y)"
   ]
  },
  {
   "cell_type": "code",
   "execution_count": 21,
   "metadata": {},
   "outputs": [
    {
     "data": {
      "image/png": "[encoded data removed]",
      "text/plain": [
       "<Figure size 288x108 with 1 Axes>"
      ]
     },
     "metadata": {
      "needs_background": "light"
     },
     "output_type": "display_data"
    }
   ],
   "source": [
    "showimp(rf, X, y)"
   ]
  },
  {
   "cell_type": "markdown",
   "metadata": {},
   "source": [
    "While these new features don't seem to have much predictive power, it is usually a good idea to try out different ideas like this based on our understanding of what may or may not be important to someone looking for an apartment. "
   ]
  },
  {
   "cell_type": "markdown",
   "metadata": {},
   "source": [
    "##### Exercise\n",
    "\n",
    "In a manner similar to what we did to create the new features `renov` and `large_apt`, try creating other features for: \n",
    "- apartments that have a balcony (see if you can do it in a way so you capture descriptions that say both *balcony* and *balconies*; and \n",
    "- apartments that allow pets, which in this case, is either *cats* or *dogs*. (Hint: you will need to combine the two conditions with a [logical operator](https://www.w3schools.com/python/gloss_python_logical_operators.asp).)"
   ]
  },
  {
   "cell_type": "code",
   "execution_count": 22,
   "metadata": {},
   "outputs": [
    {
     "data": {
      "text/html": [
       "<div>\n",
       "<style scoped>\n",
       "    .dataframe tbody tr th:only-of-type {\n",
       "        vertical-align: middle;\n",
       "    }\n",
       "\n",
       "    .dataframe tbody tr th {\n",
       "        vertical-align: top;\n",
       "    }\n",
       "\n",
       "    .dataframe thead th {\n",
       "        text-align: right;\n",
       "    }\n",
       "</style>\n",
       "<table border=\"1\" class=\"dataframe\">\n",
       "  <thead>\n",
       "    <tr style=\"text-align: right;\">\n",
       "      <th></th>\n",
       "      <th>0</th>\n",
       "      <th>1</th>\n",
       "      <th>2</th>\n",
       "      <th>3</th>\n",
       "      <th>4</th>\n",
       "      <th>5</th>\n",
       "      <th>6</th>\n",
       "      <th>7</th>\n",
       "      <th>8</th>\n",
       "      <th>9</th>\n",
       "    </tr>\n",
       "  </thead>\n",
       "  <tbody>\n",
       "    <tr>\n",
       "      <th>bathrooms</th>\n",
       "      <td>1.0</td>\n",
       "      <td>1.0</td>\n",
       "      <td>1.0</td>\n",
       "      <td>1.5</td>\n",
       "      <td>1.0</td>\n",
       "      <td>1.0</td>\n",
       "      <td>2.0</td>\n",
       "      <td>1.0</td>\n",
       "      <td>0.0</td>\n",
       "      <td>3.0</td>\n",
       "    </tr>\n",
       "    <tr>\n",
       "      <th>bedrooms</th>\n",
       "      <td>1</td>\n",
       "      <td>2</td>\n",
       "      <td>2</td>\n",
       "      <td>3</td>\n",
       "      <td>0</td>\n",
       "      <td>3</td>\n",
       "      <td>3</td>\n",
       "      <td>0</td>\n",
       "      <td>1</td>\n",
       "      <td>3</td>\n",
       "    </tr>\n",
       "    <tr>\n",
       "      <th>building_id</th>\n",
       "      <td>8579a0b0d54db803821a35a4a615e97a</td>\n",
       "      <td>b8e75fc949a6cd8225b455648a951712</td>\n",
       "      <td>cd759a988b8f23924b5a2058d5ab2b49</td>\n",
       "      <td>53a5b119ba8f7b61d4e010512e0dfc85</td>\n",
       "      <td>bfb9405149bfff42a92980b594c28234</td>\n",
       "      <td>300d27d8ba2adbcbc8c6f2bcbc1c6f9d</td>\n",
       "      <td>0d01cabe55fa5192cdbcabd5c585c1ea</td>\n",
       "      <td>d48767c37a934daaf0bbb0e58c755d0c</td>\n",
       "      <td>d1ca33a2853e64fad6e4009d5d5d168f</td>\n",
       "      <td>5f35dc2f0191baf109221752e6ee0c48</td>\n",
       "    </tr>\n",
       "    <tr>\n",
       "      <th>created</th>\n",
       "      <td>2016-06-16 05:55:27</td>\n",
       "      <td>2016-06-01 05:44:33</td>\n",
       "      <td>2016-06-14 15:19:59</td>\n",
       "      <td>2016-06-24 07:54:24</td>\n",
       "      <td>2016-06-28 03:50:23</td>\n",
       "      <td>2016-06-28 05:59:06</td>\n",
       "      <td>2016-06-08 06:21:36</td>\n",
       "      <td>2016-06-05 05:28:22</td>\n",
       "      <td>2016-06-09 04:42:03</td>\n",
       "      <td>2016-06-28 03:26:18</td>\n",
       "    </tr>\n",
       "    <tr>\n",
       "      <th>description</th>\n",
       "      <td>spacious 1 bedroom 1 bathroom in williamsburg!...</td>\n",
       "      <td>brand new gut renovated true 2 bedroomfind you...</td>\n",
       "      <td>**flex 2 bedroom with full pressurized wall**l...</td>\n",
       "      <td>a brand new 3 bedroom 1.5 bath apartmentenjoy ...</td>\n",
       "      <td>over-sized studio w abundant closets. availabl...</td>\n",
       "      <td>this spectacular converted 3 bed apartment all...</td>\n",
       "      <td>amazing deal!! brand new renovations in this h...</td>\n",
       "      <td>no fee large renovated sun splashed studio. wa...</td>\n",
       "      <td>extra large one bedroom apartment located in p...</td>\n",
       "      <td>listed: 06/26/16&lt;br /&gt;&lt;br /&gt;available:...</td>\n",
       "    </tr>\n",
       "    <tr>\n",
       "      <th>display_address</th>\n",
       "      <td>145 Borinquen Place</td>\n",
       "      <td>East 44th</td>\n",
       "      <td>East 56th Street</td>\n",
       "      <td>Metropolitan Avenue</td>\n",
       "      <td>East 34th Street</td>\n",
       "      <td>East 16th Street</td>\n",
       "      <td>East 13th Street</td>\n",
       "      <td>York Avenue</td>\n",
       "      <td>E 19 Street</td>\n",
       "      <td>Hicks Street</td>\n",
       "    </tr>\n",
       "    <tr>\n",
       "      <th>features</th>\n",
       "      <td>['Dining Room', 'Pre-War', 'Laundry in Buildin...</td>\n",
       "      <td>['Doorman', 'Elevator', 'Laundry in Building',...</td>\n",
       "      <td>['Doorman', 'Elevator', 'Laundry in Building',...</td>\n",
       "      <td>[]</td>\n",
       "      <td>['Doorman', 'Elevator', 'Fitness Center', 'Lau...</td>\n",
       "      <td>['Doorman', 'Elevator', 'Loft', 'Dishwasher', ...</td>\n",
       "      <td>['Fireplace', 'Laundry in Unit', 'Dishwasher',...</td>\n",
       "      <td>['Elevator', 'Laundry in Building', 'Dishwashe...</td>\n",
       "      <td>['Hardwood Floors']</td>\n",
       "      <td>['Cats Allowed', 'Dogs Allowed']</td>\n",
       "    </tr>\n",
       "    <tr>\n",
       "      <th>latitude</th>\n",
       "      <td>40.7108</td>\n",
       "      <td>40.7513</td>\n",
       "      <td>40.7575</td>\n",
       "      <td>40.7145</td>\n",
       "      <td>40.7439</td>\n",
       "      <td>40.7348</td>\n",
       "      <td>40.7302</td>\n",
       "      <td>40.7769</td>\n",
       "      <td>40.7346</td>\n",
       "      <td>40.699</td>\n",
       "    </tr>\n",
       "    <tr>\n",
       "      <th>listing_id</th>\n",
       "      <td>7170325</td>\n",
       "      <td>7092344</td>\n",
       "      <td>7158677</td>\n",
       "      <td>7211212</td>\n",
       "      <td>7225292</td>\n",
       "      <td>7226687</td>\n",
       "      <td>7126989</td>\n",
       "      <td>7114138</td>\n",
       "      <td>7131094</td>\n",
       "      <td>7224815</td>\n",
       "    </tr>\n",
       "    <tr>\n",
       "      <th>longitude</th>\n",
       "      <td>-73.9539</td>\n",
       "      <td>-73.9722</td>\n",
       "      <td>-73.9625</td>\n",
       "      <td>-73.9425</td>\n",
       "      <td>-73.9743</td>\n",
       "      <td>-73.9865</td>\n",
       "      <td>-73.9826</td>\n",
       "      <td>-73.9467</td>\n",
       "      <td>-73.9811</td>\n",
       "      <td>-73.9943</td>\n",
       "    </tr>\n",
       "    <tr>\n",
       "      <th>manager_id</th>\n",
       "      <td>a10db4590843d78c784171a107bdacb4</td>\n",
       "      <td>955db33477af4f40004820b4aed804a0</td>\n",
       "      <td>c8b10a317b766204f08e613cef4ce7a0</td>\n",
       "      <td>5ba989232d0489da1b5f2c45f6688adc</td>\n",
       "      <td>2c3b41f588fbb5234d8a1e885a436cfa</td>\n",
       "      <td>30a7951cfc21240e8c46b2d079d292e5</td>\n",
       "      <td>9f39caedae295bf81e67463e6fd0af40</td>\n",
       "      <td>9cbfa7a31ae9dfba70b4383636d99788</td>\n",
       "      <td>b89e62bf8cdc98e9fb8b97d9bc627197</td>\n",
       "      <td>d5d246c9d9d4e7079e5a0fc962d2f1a7</td>\n",
       "    </tr>\n",
       "    <tr>\n",
       "      <th>photos</th>\n",
       "      <td>['https://photos.renthop.com/2/7170325_3bb5ac8...</td>\n",
       "      <td>['https://photos.renthop.com/2/7092344_7663c19...</td>\n",
       "      <td>['https://photos.renthop.com/2/7158677_c897a13...</td>\n",
       "      <td>['https://photos.renthop.com/2/7211212_1ed4542...</td>\n",
       "      <td>['https://photos.renthop.com/2/7225292_901f198...</td>\n",
       "      <td>['https://photos.renthop.com/2/7226687_4ea22bf...</td>\n",
       "      <td>['https://photos.renthop.com/2/7126989_a74ab3d...</td>\n",
       "      <td>['https://photos.renthop.com/2/7114138_68d035c...</td>\n",
       "      <td>['https://photos.renthop.com/2/7131094_2117d8a...</td>\n",
       "      <td>['https://photos.renthop.com/2/7224815_8ff8a81...</td>\n",
       "    </tr>\n",
       "    <tr>\n",
       "      <th>price</th>\n",
       "      <td>2400</td>\n",
       "      <td>3800</td>\n",
       "      <td>3495</td>\n",
       "      <td>3000</td>\n",
       "      <td>2795</td>\n",
       "      <td>7200</td>\n",
       "      <td>6000</td>\n",
       "      <td>1945</td>\n",
       "      <td>2435</td>\n",
       "      <td>6850</td>\n",
       "    </tr>\n",
       "    <tr>\n",
       "      <th>street_address</th>\n",
       "      <td>145 Borinquen Place</td>\n",
       "      <td>230 East 44th</td>\n",
       "      <td>405 East 56th Street</td>\n",
       "      <td>792 Metropolitan Avenue</td>\n",
       "      <td>340 East 34th Street</td>\n",
       "      <td>145 East 16th Street</td>\n",
       "      <td>410 East 13th Street</td>\n",
       "      <td>1661 York Avenue</td>\n",
       "      <td>346 E 19 Street</td>\n",
       "      <td>94 Hicks Street</td>\n",
       "    </tr>\n",
       "    <tr>\n",
       "      <th>interest_level</th>\n",
       "      <td>medium</td>\n",
       "      <td>low</td>\n",
       "      <td>medium</td>\n",
       "      <td>medium</td>\n",
       "      <td>low</td>\n",
       "      <td>low</td>\n",
       "      <td>low</td>\n",
       "      <td>high</td>\n",
       "      <td>low</td>\n",
       "      <td>low</td>\n",
       "    </tr>\n",
       "    <tr>\n",
       "      <th>renov</th>\n",
       "      <td>True</td>\n",
       "      <td>True</td>\n",
       "      <td>False</td>\n",
       "      <td>False</td>\n",
       "      <td>False</td>\n",
       "      <td>False</td>\n",
       "      <td>True</td>\n",
       "      <td>True</td>\n",
       "      <td>False</td>\n",
       "      <td>False</td>\n",
       "    </tr>\n",
       "    <tr>\n",
       "      <th>large_apt</th>\n",
       "      <td>True</td>\n",
       "      <td>False</td>\n",
       "      <td>False</td>\n",
       "      <td>False</td>\n",
       "      <td>False</td>\n",
       "      <td>False</td>\n",
       "      <td>False</td>\n",
       "      <td>False</td>\n",
       "      <td>False</td>\n",
       "      <td>False</td>\n",
       "    </tr>\n",
       "    <tr>\n",
       "      <th>balcony</th>\n",
       "      <td>False</td>\n",
       "      <td>False</td>\n",
       "      <td>False</td>\n",
       "      <td>False</td>\n",
       "      <td>False</td>\n",
       "      <td>False</td>\n",
       "      <td>False</td>\n",
       "      <td>False</td>\n",
       "      <td>False</td>\n",
       "      <td>False</td>\n",
       "    </tr>\n",
       "    <tr>\n",
       "      <th>pet</th>\n",
       "      <td>False</td>\n",
       "      <td>False</td>\n",
       "      <td>False</td>\n",
       "      <td>False</td>\n",
       "      <td>False</td>\n",
       "      <td>False</td>\n",
       "      <td>False</td>\n",
       "      <td>False</td>\n",
       "      <td>False</td>\n",
       "      <td>False</td>\n",
       "    </tr>\n",
       "  </tbody>\n",
       "</table>\n",
       "</div>"
      ],
      "text/plain": [
       "                                                                 0  \\\n",
       "bathrooms                                                      1.0   \n",
       "bedrooms                                                         1   \n",
       "building_id                       8579a0b0d54db803821a35a4a615e97a   \n",
       "created                                        2016-06-16 05:55:27   \n",
       "description      spacious 1 bedroom 1 bathroom in williamsburg!...   \n",
       "display_address                                145 Borinquen Place   \n",
       "features         ['Dining Room', 'Pre-War', 'Laundry in Buildin...   \n",
       "latitude                                                   40.7108   \n",
       "listing_id                                                 7170325   \n",
       "longitude                                                 -73.9539   \n",
       "manager_id                        a10db4590843d78c784171a107bdacb4   \n",
       "photos           ['https://photos.renthop.com/2/7170325_3bb5ac8...   \n",
       "price                                                         2400   \n",
       "street_address                                 145 Borinquen Place   \n",
       "interest_level                                              medium   \n",
       "renov                                                         True   \n",
       "large_apt                                                     True   \n",
       "balcony                                                      False   \n",
       "pet                                                          False   \n",
       "\n",
       "                                                                 1  \\\n",
       "bathrooms                                                      1.0   \n",
       "bedrooms                                                         2   \n",
       "building_id                       b8e75fc949a6cd8225b455648a951712   \n",
       "created                                        2016-06-01 05:44:33   \n",
       "description      brand new gut renovated true 2 bedroomfind you...   \n",
       "display_address                                          East 44th   \n",
       "features         ['Doorman', 'Elevator', 'Laundry in Building',...   \n",
       "latitude                                                   40.7513   \n",
       "listing_id                                                 7092344   \n",
       "longitude                                                 -73.9722   \n",
       "manager_id                        955db33477af4f40004820b4aed804a0   \n",
       "photos           ['https://photos.renthop.com/2/7092344_7663c19...   \n",
       "price                                                         3800   \n",
       "street_address                                       230 East 44th   \n",
       "interest_level                                                 low   \n",
       "renov                                                         True   \n",
       "large_apt                                                    False   \n",
       "balcony                                                      False   \n",
       "pet                                                          False   \n",
       "\n",
       "                                                                 2  \\\n",
       "bathrooms                                                      1.0   \n",
       "bedrooms                                                         2   \n",
       "building_id                       cd759a988b8f23924b5a2058d5ab2b49   \n",
       "created                                        2016-06-14 15:19:59   \n",
       "description      **flex 2 bedroom with full pressurized wall**l...   \n",
       "display_address                                   East 56th Street   \n",
       "features         ['Doorman', 'Elevator', 'Laundry in Building',...   \n",
       "latitude                                                   40.7575   \n",
       "listing_id                                                 7158677   \n",
       "longitude                                                 -73.9625   \n",
       "manager_id                        c8b10a317b766204f08e613cef4ce7a0   \n",
       "photos           ['https://photos.renthop.com/2/7158677_c897a13...   \n",
       "price                                                         3495   \n",
       "street_address                                405 East 56th Street   \n",
       "interest_level                                              medium   \n",
       "renov                                                        False   \n",
       "large_apt                                                    False   \n",
       "balcony                                                      False   \n",
       "pet                                                          False   \n",
       "\n",
       "                                                                 3  \\\n",
       "bathrooms                                                      1.5   \n",
       "bedrooms                                                         3   \n",
       "building_id                       53a5b119ba8f7b61d4e010512e0dfc85   \n",
       "created                                        2016-06-24 07:54:24   \n",
       "description      a brand new 3 bedroom 1.5 bath apartmentenjoy ...   \n",
       "display_address                                Metropolitan Avenue   \n",
       "features                                                        []   \n",
       "latitude                                                   40.7145   \n",
       "listing_id                                                 7211212   \n",
       "longitude                                                 -73.9425   \n",
       "manager_id                        5ba989232d0489da1b5f2c45f6688adc   \n",
       "photos           ['https://photos.renthop.com/2/7211212_1ed4542...   \n",
       "price                                                         3000   \n",
       "street_address                             792 Metropolitan Avenue   \n",
       "interest_level                                              medium   \n",
       "renov                                                        False   \n",
       "large_apt                                                    False   \n",
       "balcony                                                      False   \n",
       "pet                                                          False   \n",
       "\n",
       "                                                                 4  \\\n",
       "bathrooms                                                      1.0   \n",
       "bedrooms                                                         0   \n",
       "building_id                       bfb9405149bfff42a92980b594c28234   \n",
       "created                                        2016-06-28 03:50:23   \n",
       "description      over-sized studio w abundant closets. availabl...   \n",
       "display_address                                   East 34th Street   \n",
       "features         ['Doorman', 'Elevator', 'Fitness Center', 'Lau...   \n",
       "latitude                                                   40.7439   \n",
       "listing_id                                                 7225292   \n",
       "longitude                                                 -73.9743   \n",
       "manager_id                        2c3b41f588fbb5234d8a1e885a436cfa   \n",
       "photos           ['https://photos.renthop.com/2/7225292_901f198...   \n",
       "price                                                         2795   \n",
       "street_address                                340 East 34th Street   \n",
       "interest_level                                                 low   \n",
       "renov                                                        False   \n",
       "large_apt                                                    False   \n",
       "balcony                                                      False   \n",
       "pet                                                          False   \n",
       "\n",
       "                                                                 5  \\\n",
       "bathrooms                                                      1.0   \n",
       "bedrooms                                                         3   \n",
       "building_id                       300d27d8ba2adbcbc8c6f2bcbc1c6f9d   \n",
       "created                                        2016-06-28 05:59:06   \n",
       "description      this spectacular converted 3 bed apartment all...   \n",
       "display_address                                   East 16th Street   \n",
       "features         ['Doorman', 'Elevator', 'Loft', 'Dishwasher', ...   \n",
       "latitude                                                   40.7348   \n",
       "listing_id                                                 7226687   \n",
       "longitude                                                 -73.9865   \n",
       "manager_id                        30a7951cfc21240e8c46b2d079d292e5   \n",
       "photos           ['https://photos.renthop.com/2/7226687_4ea22bf...   \n",
       "price                                                         7200   \n",
       "street_address                                145 East 16th Street   \n",
       "interest_level                                                 low   \n",
       "renov                                                        False   \n",
       "large_apt                                                    False   \n",
       "balcony                                                      False   \n",
       "pet                                                          False   \n",
       "\n",
       "                                                                 6  \\\n",
       "bathrooms                                                      2.0   \n",
       "bedrooms                                                         3   \n",
       "building_id                       0d01cabe55fa5192cdbcabd5c585c1ea   \n",
       "created                                        2016-06-08 06:21:36   \n",
       "description      amazing deal!! brand new renovations in this h...   \n",
       "display_address                                   East 13th Street   \n",
       "features         ['Fireplace', 'Laundry in Unit', 'Dishwasher',...   \n",
       "latitude                                                   40.7302   \n",
       "listing_id                                                 7126989   \n",
       "longitude                                                 -73.9826   \n",
       "manager_id                        9f39caedae295bf81e67463e6fd0af40   \n",
       "photos           ['https://photos.renthop.com/2/7126989_a74ab3d...   \n",
       "price                                                         6000   \n",
       "street_address                                410 East 13th Street   \n",
       "interest_level                                                 low   \n",
       "renov                                                         True   \n",
       "large_apt                                                    False   \n",
       "balcony                                                      False   \n",
       "pet                                                          False   \n",
       "\n",
       "                                                                 7  \\\n",
       "bathrooms                                                      1.0   \n",
       "bedrooms                                                         0   \n",
       "building_id                       d48767c37a934daaf0bbb0e58c755d0c   \n",
       "created                                        2016-06-05 05:28:22   \n",
       "description      no fee large renovated sun splashed studio. wa...   \n",
       "display_address                                        York Avenue   \n",
       "features         ['Elevator', 'Laundry in Building', 'Dishwashe...   \n",
       "latitude                                                   40.7769   \n",
       "listing_id                                                 7114138   \n",
       "longitude                                                 -73.9467   \n",
       "manager_id                        9cbfa7a31ae9dfba70b4383636d99788   \n",
       "photos           ['https://photos.renthop.com/2/7114138_68d035c...   \n",
       "price                                                         1945   \n",
       "street_address                                    1661 York Avenue   \n",
       "interest_level                                                high   \n",
       "renov                                                         True   \n",
       "large_apt                                                    False   \n",
       "balcony                                                      False   \n",
       "pet                                                          False   \n",
       "\n",
       "                                                                 8  \\\n",
       "bathrooms                                                      0.0   \n",
       "bedrooms                                                         1   \n",
       "building_id                       d1ca33a2853e64fad6e4009d5d5d168f   \n",
       "created                                        2016-06-09 04:42:03   \n",
       "description      extra large one bedroom apartment located in p...   \n",
       "display_address                                        E 19 Street   \n",
       "features                                       ['Hardwood Floors']   \n",
       "latitude                                                   40.7346   \n",
       "listing_id                                                 7131094   \n",
       "longitude                                                 -73.9811   \n",
       "manager_id                        b89e62bf8cdc98e9fb8b97d9bc627197   \n",
       "photos           ['https://photos.renthop.com/2/7131094_2117d8a...   \n",
       "price                                                         2435   \n",
       "street_address                                     346 E 19 Street   \n",
       "interest_level                                                 low   \n",
       "renov                                                        False   \n",
       "large_apt                                                    False   \n",
       "balcony                                                      False   \n",
       "pet                                                          False   \n",
       "\n",
       "                                                                 9  \n",
       "bathrooms                                                      3.0  \n",
       "bedrooms                                                         3  \n",
       "building_id                       5f35dc2f0191baf109221752e6ee0c48  \n",
       "created                                        2016-06-28 03:26:18  \n",
       "description              listed: 06/26/16<br /><br />available:...  \n",
       "display_address                                       Hicks Street  \n",
       "features                          ['Cats Allowed', 'Dogs Allowed']  \n",
       "latitude                                                    40.699  \n",
       "listing_id                                                 7224815  \n",
       "longitude                                                 -73.9943  \n",
       "manager_id                        d5d246c9d9d4e7079e5a0fc962d2f1a7  \n",
       "photos           ['https://photos.renthop.com/2/7224815_8ff8a81...  \n",
       "price                                                         6850  \n",
       "street_address                                     94 Hicks Street  \n",
       "interest_level                                                 low  \n",
       "renov                                                        False  \n",
       "large_apt                                                    False  \n",
       "balcony                                                      False  \n",
       "pet                                                          False  "
      ]
     },
     "execution_count": 22,
     "metadata": {},
     "output_type": "execute_result"
    }
   ],
   "source": [
    "rent_clean['balcony'] = rent_clean['description'].str.contains(\"balcon\")\n",
    "rent_clean['pet'] = rent_clean['description'].str.contains(\"cats|dogs\")\n",
    "rent_clean.head(10).T"
   ]
  },
  {
   "cell_type": "code",
   "execution_count": 23,
   "metadata": {},
   "outputs": [
    {
     "name": "stdout",
     "output_type": "stream",
     "text": [
      "700\n",
      "2501\n"
     ]
    }
   ],
   "source": [
    "print(rent_clean['pet'].sum())\n",
    "print(rent_clean['balcony'].sum())"
   ]
  },
  {
   "cell_type": "code",
   "execution_count": 24,
   "metadata": {},
   "outputs": [],
   "source": [
    "X = rent_clean[numfeatures + ['pet', 'balcony']]\n",
    "y = rent_clean['price']"
   ]
  },
  {
   "cell_type": "code",
   "execution_count": 25,
   "metadata": {},
   "outputs": [
    {
     "name": "stdout",
     "output_type": "stream",
     "text": [
      "OOB R^2 is 0.86734 using 2,546,114 tree nodes with 36.0 median tree depth\n"
     ]
    }
   ],
   "source": [
    "rf, oob = evaluate(X, y)"
   ]
  },
  {
   "cell_type": "code",
   "execution_count": 26,
   "metadata": {},
   "outputs": [
    {
     "data": {
      "image/png": "[encoded data removed]",
      "text/plain": [
       "<Figure size 288x108 with 1 Axes>"
      ]
     },
     "metadata": {
      "needs_background": "light"
     },
     "output_type": "display_data"
    }
   ],
   "source": [
    "showimp(rf, X, y)"
   ]
  },
  {
   "cell_type": "markdown",
   "metadata": {},
   "source": [
    "#### `Features`\n",
    "\n",
    "The column `features`, which is not to be confused with the general machine learning term, refers to specific amenities that an apartment offers. Let's take a look at some entries to see what kind of information is available and whether or not it may help our model improve its performance. "
   ]
  },
  {
   "cell_type": "code",
   "execution_count": 27,
   "metadata": {},
   "outputs": [
    {
     "data": {
      "text/plain": [
       "0    ['Dining Room', 'Pre-War', 'Laundry in Buildin...\n",
       "1    ['Doorman', 'Elevator', 'Laundry in Building',...\n",
       "2    ['Doorman', 'Elevator', 'Laundry in Building',...\n",
       "3                                                   []\n",
       "4    ['Doorman', 'Elevator', 'Fitness Center', 'Lau...\n",
       "5    ['Doorman', 'Elevator', 'Loft', 'Dishwasher', ...\n",
       "6    ['Fireplace', 'Laundry in Unit', 'Dishwasher',...\n",
       "7    ['Elevator', 'Laundry in Building', 'Dishwashe...\n",
       "8                                  ['Hardwood Floors']\n",
       "9                     ['Cats Allowed', 'Dogs Allowed']\n",
       "Name: features, dtype: object"
      ]
     },
     "execution_count": 27,
     "metadata": {},
     "output_type": "execute_result"
    }
   ],
   "source": [
    "rent_clean['features'][:10]"
   ]
  },
  {
   "cell_type": "markdown",
   "metadata": {},
   "source": [
    "We can see that some of the features listed could reasonably be related to the price of an apartment. For example, one would expect that having a *doorman* would be associated with higher-priced apartments. "
   ]
  },
  {
   "cell_type": "code",
   "execution_count": 28,
   "metadata": {},
   "outputs": [
    {
     "data": {
      "text/html": [
       "<div>\n",
       "<style scoped>\n",
       "    .dataframe tbody tr th:only-of-type {\n",
       "        vertical-align: middle;\n",
       "    }\n",
       "\n",
       "    .dataframe tbody tr th {\n",
       "        vertical-align: top;\n",
       "    }\n",
       "\n",
       "    .dataframe thead th {\n",
       "        text-align: right;\n",
       "    }\n",
       "</style>\n",
       "<table border=\"1\" class=\"dataframe\">\n",
       "  <thead>\n",
       "    <tr style=\"text-align: right;\">\n",
       "      <th></th>\n",
       "      <th>doorman</th>\n",
       "      <th>parking</th>\n",
       "      <th>garage</th>\n",
       "      <th>laundry</th>\n",
       "    </tr>\n",
       "  </thead>\n",
       "  <tbody>\n",
       "    <tr>\n",
       "      <th>0</th>\n",
       "      <td>False</td>\n",
       "      <td>False</td>\n",
       "      <td>False</td>\n",
       "      <td>True</td>\n",
       "    </tr>\n",
       "    <tr>\n",
       "      <th>1</th>\n",
       "      <td>True</td>\n",
       "      <td>False</td>\n",
       "      <td>False</td>\n",
       "      <td>True</td>\n",
       "    </tr>\n",
       "    <tr>\n",
       "      <th>2</th>\n",
       "      <td>True</td>\n",
       "      <td>False</td>\n",
       "      <td>False</td>\n",
       "      <td>True</td>\n",
       "    </tr>\n",
       "    <tr>\n",
       "      <th>3</th>\n",
       "      <td>False</td>\n",
       "      <td>False</td>\n",
       "      <td>False</td>\n",
       "      <td>False</td>\n",
       "    </tr>\n",
       "    <tr>\n",
       "      <th>4</th>\n",
       "      <td>True</td>\n",
       "      <td>False</td>\n",
       "      <td>False</td>\n",
       "      <td>True</td>\n",
       "    </tr>\n",
       "  </tbody>\n",
       "</table>\n",
       "</div>"
      ],
      "text/plain": [
       "   doorman  parking  garage  laundry\n",
       "0    False    False   False     True\n",
       "1     True    False   False     True\n",
       "2     True    False   False     True\n",
       "3    False    False   False    False\n",
       "4     True    False   False     True"
      ]
     },
     "execution_count": 28,
     "metadata": {},
     "output_type": "execute_result"
    }
   ],
   "source": [
    "rent_clean['features'] = rent_clean['features'].fillna('')\n",
    "rent_clean['features'] = rent_clean['features'].str.lower() \n",
    "\n",
    "for feature in ['doorman', 'parking', 'garage', 'laundry']:\n",
    "    rent_clean[feature] = rent_clean['features'].str.contains(feature)\n",
    "    \n",
    "rent_clean[['doorman', 'parking', 'garage', 'laundry']].head(5)"
   ]
  },
  {
   "cell_type": "markdown",
   "metadata": {},
   "source": [
    "And now check how many apartments have these new features we have created, because if almost all (or none) of them have this feature it may not be much help in making predictions. "
   ]
  },
  {
   "cell_type": "code",
   "execution_count": 29,
   "metadata": {},
   "outputs": [
    {
     "data": {
      "text/plain": [
       "doorman    20248\n",
       "parking      654\n",
       "garage      1006\n",
       "laundry    23172\n",
       "dtype: int64"
      ]
     },
     "execution_count": 29,
     "metadata": {},
     "output_type": "execute_result"
    }
   ],
   "source": [
    "rent_clean[['doorman', 'parking', 'garage', 'laundry']].sum()"
   ]
  },
  {
   "cell_type": "markdown",
   "metadata": {},
   "source": [
    "Seems like enough apartments have these particular features, so we can build and evaluate our model. "
   ]
  },
  {
   "cell_type": "code",
   "execution_count": 30,
   "metadata": {},
   "outputs": [
    {
     "data": {
      "text/html": [
       "<div>\n",
       "<style scoped>\n",
       "    .dataframe tbody tr th:only-of-type {\n",
       "        vertical-align: middle;\n",
       "    }\n",
       "\n",
       "    .dataframe tbody tr th {\n",
       "        vertical-align: top;\n",
       "    }\n",
       "\n",
       "    .dataframe thead th {\n",
       "        text-align: right;\n",
       "    }\n",
       "</style>\n",
       "<table border=\"1\" class=\"dataframe\">\n",
       "  <thead>\n",
       "    <tr style=\"text-align: right;\">\n",
       "      <th></th>\n",
       "      <th>0</th>\n",
       "      <th>1</th>\n",
       "      <th>2</th>\n",
       "    </tr>\n",
       "  </thead>\n",
       "  <tbody>\n",
       "    <tr>\n",
       "      <th>bathrooms</th>\n",
       "      <td>1.0</td>\n",
       "      <td>1.0</td>\n",
       "      <td>1.0</td>\n",
       "    </tr>\n",
       "    <tr>\n",
       "      <th>bedrooms</th>\n",
       "      <td>1</td>\n",
       "      <td>2</td>\n",
       "      <td>2</td>\n",
       "    </tr>\n",
       "    <tr>\n",
       "      <th>longitude</th>\n",
       "      <td>-73.9539</td>\n",
       "      <td>-73.9722</td>\n",
       "      <td>-73.9625</td>\n",
       "    </tr>\n",
       "    <tr>\n",
       "      <th>latitude</th>\n",
       "      <td>40.7108</td>\n",
       "      <td>40.7513</td>\n",
       "      <td>40.7575</td>\n",
       "    </tr>\n",
       "    <tr>\n",
       "      <th>doorman</th>\n",
       "      <td>False</td>\n",
       "      <td>True</td>\n",
       "      <td>True</td>\n",
       "    </tr>\n",
       "    <tr>\n",
       "      <th>parking</th>\n",
       "      <td>False</td>\n",
       "      <td>False</td>\n",
       "      <td>False</td>\n",
       "    </tr>\n",
       "    <tr>\n",
       "      <th>garage</th>\n",
       "      <td>False</td>\n",
       "      <td>False</td>\n",
       "      <td>False</td>\n",
       "    </tr>\n",
       "    <tr>\n",
       "      <th>laundry</th>\n",
       "      <td>True</td>\n",
       "      <td>True</td>\n",
       "      <td>True</td>\n",
       "    </tr>\n",
       "  </tbody>\n",
       "</table>\n",
       "</div>"
      ],
      "text/plain": [
       "                 0        1        2\n",
       "bathrooms      1.0      1.0      1.0\n",
       "bedrooms         1        2        2\n",
       "longitude -73.9539 -73.9722 -73.9625\n",
       "latitude   40.7108  40.7513  40.7575\n",
       "doorman      False     True     True\n",
       "parking      False    False    False\n",
       "garage       False    False    False\n",
       "laundry       True     True     True"
      ]
     },
     "execution_count": 30,
     "metadata": {},
     "output_type": "execute_result"
    }
   ],
   "source": [
    "X = rent_clean[numfeatures + ['doorman', 'parking', 'garage', 'laundry']]\n",
    "y = rent_clean['price']\n",
    "X.head(3).T"
   ]
  },
  {
   "cell_type": "code",
   "execution_count": 31,
   "metadata": {},
   "outputs": [
    {
     "name": "stdout",
     "output_type": "stream",
     "text": [
      "OOB R^2 is 0.86986 using 2,931,708 tree nodes with 36.0 median tree depth\n"
     ]
    }
   ],
   "source": [
    "rf, oob = evaluate(X, y)"
   ]
  },
  {
   "cell_type": "code",
   "execution_count": 32,
   "metadata": {},
   "outputs": [
    {
     "data": {
      "image/png": "[encoded data removed]",
      "text/plain": [
       "<Figure size 288x126.72 with 1 Axes>"
      ]
     },
     "metadata": {
      "needs_background": "light"
     },
     "output_type": "display_data"
    }
   ],
   "source": [
    "showimp(rf, X, y)"
   ]
  },
  {
   "cell_type": "markdown",
   "metadata": {},
   "source": [
    "##### Exercise\n",
    "\n",
    "In a manner similar to what we did using `features`, try creating a few more columns based on other apartment characteristics that you can find. (Hint: Try using `rent_clean['features'][0:10]` and replace the start and end rows to explore what's listed in the `features` column. See if you can find anything that might be related to price. ) "
   ]
  },
  {
   "cell_type": "code",
   "execution_count": 33,
   "metadata": {},
   "outputs": [
    {
     "data": {
      "text/plain": [
       "0    ['dining room', 'pre-war', 'laundry in buildin...\n",
       "1    ['doorman', 'elevator', 'laundry in building',...\n",
       "2    ['doorman', 'elevator', 'laundry in building',...\n",
       "3                                                   []\n",
       "4    ['doorman', 'elevator', 'fitness center', 'lau...\n",
       "5    ['doorman', 'elevator', 'loft', 'dishwasher', ...\n",
       "6    ['fireplace', 'laundry in unit', 'dishwasher',...\n",
       "7    ['elevator', 'laundry in building', 'dishwashe...\n",
       "8                                  ['hardwood floors']\n",
       "9                     ['cats allowed', 'dogs allowed']\n",
       "Name: features, dtype: object"
      ]
     },
     "execution_count": 33,
     "metadata": {},
     "output_type": "execute_result"
    }
   ],
   "source": [
    "rent_clean['features'][0:10]"
   ]
  },
  {
   "cell_type": "code",
   "execution_count": 34,
   "metadata": {},
   "outputs": [
    {
     "data": {
      "text/html": [
       "<div>\n",
       "<style scoped>\n",
       "    .dataframe tbody tr th:only-of-type {\n",
       "        vertical-align: middle;\n",
       "    }\n",
       "\n",
       "    .dataframe tbody tr th {\n",
       "        vertical-align: top;\n",
       "    }\n",
       "\n",
       "    .dataframe thead th {\n",
       "        text-align: right;\n",
       "    }\n",
       "</style>\n",
       "<table border=\"1\" class=\"dataframe\">\n",
       "  <thead>\n",
       "    <tr style=\"text-align: right;\">\n",
       "      <th></th>\n",
       "      <th>dining</th>\n",
       "      <th>dishwasher</th>\n",
       "      <th>hardwood</th>\n",
       "      <th>elevator</th>\n",
       "    </tr>\n",
       "  </thead>\n",
       "  <tbody>\n",
       "    <tr>\n",
       "      <th>0</th>\n",
       "      <td>True</td>\n",
       "      <td>True</td>\n",
       "      <td>True</td>\n",
       "      <td>False</td>\n",
       "    </tr>\n",
       "    <tr>\n",
       "      <th>1</th>\n",
       "      <td>False</td>\n",
       "      <td>True</td>\n",
       "      <td>True</td>\n",
       "      <td>True</td>\n",
       "    </tr>\n",
       "    <tr>\n",
       "      <th>2</th>\n",
       "      <td>False</td>\n",
       "      <td>True</td>\n",
       "      <td>True</td>\n",
       "      <td>True</td>\n",
       "    </tr>\n",
       "    <tr>\n",
       "      <th>3</th>\n",
       "      <td>False</td>\n",
       "      <td>False</td>\n",
       "      <td>False</td>\n",
       "      <td>False</td>\n",
       "    </tr>\n",
       "    <tr>\n",
       "      <th>4</th>\n",
       "      <td>False</td>\n",
       "      <td>False</td>\n",
       "      <td>False</td>\n",
       "      <td>True</td>\n",
       "    </tr>\n",
       "  </tbody>\n",
       "</table>\n",
       "</div>"
      ],
      "text/plain": [
       "   dining  dishwasher  hardwood  elevator\n",
       "0    True        True      True     False\n",
       "1   False        True      True      True\n",
       "2   False        True      True      True\n",
       "3   False       False     False     False\n",
       "4   False       False     False      True"
      ]
     },
     "execution_count": 34,
     "metadata": {},
     "output_type": "execute_result"
    }
   ],
   "source": [
    "for feature in ['dining', 'dishwasher', 'hardwood', 'elevator']:\n",
    "    rent_clean[feature] = rent_clean['features'].str.contains(feature)\n",
    "    \n",
    "rent_clean[['dining', 'dishwasher', 'hardwood', 'elevator']].head(5)"
   ]
  },
  {
   "cell_type": "code",
   "execution_count": 35,
   "metadata": {},
   "outputs": [
    {
     "data": {
      "text/plain": [
       "dining         4684\n",
       "dishwasher    20170\n",
       "hardwood      24021\n",
       "elevator      25492\n",
       "dtype: int64"
      ]
     },
     "execution_count": 35,
     "metadata": {},
     "output_type": "execute_result"
    }
   ],
   "source": [
    "rent_clean[['dining', 'dishwasher', 'hardwood', 'elevator']].sum()"
   ]
  },
  {
   "cell_type": "code",
   "execution_count": 36,
   "metadata": {},
   "outputs": [
    {
     "name": "stdout",
     "output_type": "stream",
     "text": [
      "OOB R^2 is 0.86390 using 3,453,450 tree nodes with 37.0 median tree depth\n"
     ]
    }
   ],
   "source": [
    "X = rent_clean[numfeatures + ['dining', 'dishwasher', 'hardwood', 'elevator']]\n",
    "y = rent_clean['price']\n",
    "rf, oob = evaluate(X, y)"
   ]
  },
  {
   "cell_type": "code",
   "execution_count": 37,
   "metadata": {},
   "outputs": [
    {
     "data": {
      "image/png": "[encoded data removed]",
      "text/plain": [
       "<Figure size 288x126.72 with 1 Axes>"
      ]
     },
     "metadata": {
      "needs_background": "light"
     },
     "output_type": "display_data"
    }
   ],
   "source": [
    "showimp(rf, X, y)"
   ]
  },
  {
   "cell_type": "markdown",
   "metadata": {},
   "source": [
    "##### More Counting\n",
    "\n",
    "Counting is something that humans do well, so let's see if we can make it work for us here. Maybe higher-priced apartments have more for the manager to talk about so descriptions of the rental unit, lists of amenities, and the number of pictures of the apartment would all be higher than for lower-priced apartments. We can see if this has any impact on our model by doing some straightforward counting on the strings in these columns.  The basic approach is that for each apartment (row) we: \n",
    "- split the words in the `description` after each space (\" \") to create a list and then count how many elements are in the list; \n",
    "- split the list of amenities in `features` after each comma (\",\") to create a list and then count how many elements are in the list; and, \n",
    "- split the list of filenames in `photos` after each comma (\",\") to create a list and then count how many elements are in the list.\n",
    "\n",
    "Using the `description` as an example, here is what the original data looks like:"
   ]
  },
  {
   "cell_type": "code",
   "execution_count": 38,
   "metadata": {},
   "outputs": [
    {
     "data": {
      "text/plain": [
       "0        spacious 1 bedroom 1 bathroom in williamsburg!...\n",
       "1        brand new gut renovated true 2 bedroomfind you...\n",
       "2        **flex 2 bedroom with full pressurized wall**l...\n",
       "3        a brand new 3 bedroom 1.5 bath apartmentenjoy ...\n",
       "4        over-sized studio w abundant closets. availabl...\n",
       "                               ...                        \n",
       "49347    there is 700 square feet of recently renovated...\n",
       "49348    2 bedroom apartment with updated kitchen, rece...\n",
       "49349    no brokers fee * never lived 1 bedroom 1 bathr...\n",
       "49350    wonderful bright chelsea 2 bedroom apartment o...\n",
       "49351    ***prime midtown east off park ave***true 3 be...\n",
       "Name: description, Length: 48300, dtype: object"
      ]
     },
     "execution_count": 38,
     "metadata": {},
     "output_type": "execute_result"
    }
   ],
   "source": [
    "rent_clean[\"description\"]"
   ]
  },
  {
   "cell_type": "markdown",
   "metadata": {},
   "source": [
    "And here is what it looks like after we split each description on the white spaces between the words:"
   ]
  },
  {
   "cell_type": "code",
   "execution_count": 39,
   "metadata": {},
   "outputs": [
    {
     "data": {
      "text/plain": [
       "0        [spacious, 1, bedroom, 1, bathroom, in, willia...\n",
       "1        [brand, new, gut, renovated, true, 2, bedroomf...\n",
       "2        [**flex, 2, bedroom, with, full, pressurized, ...\n",
       "3        [a, brand, new, 3, bedroom, 1.5, bath, apartme...\n",
       "4        [over-sized, studio, w, abundant, closets., av...\n",
       "                               ...                        \n",
       "49347    [there, is, 700, square, feet, of, recently, r...\n",
       "49348    [2, bedroom, apartment, with, updated, kitchen...\n",
       "49349    [no, brokers, fee, *, never, lived, 1, bedroom...\n",
       "49350    [wonderful, bright, chelsea, 2, bedroom, apart...\n",
       "49351    [***prime, midtown, east, off, park, ave***tru...\n",
       "Name: description, Length: 48300, dtype: object"
      ]
     },
     "execution_count": 39,
     "metadata": {},
     "output_type": "execute_result"
    }
   ],
   "source": [
    "rent_clean[\"description\"].apply(lambda x: x.split())"
   ]
  },
  {
   "cell_type": "markdown",
   "metadata": {},
   "source": [
    "And here is what it looks like after we split and count:"
   ]
  },
  {
   "cell_type": "code",
   "execution_count": 40,
   "metadata": {},
   "outputs": [
    {
     "data": {
      "text/plain": [
       "0         75\n",
       "1        129\n",
       "2        117\n",
       "3         93\n",
       "4         39\n",
       "        ... \n",
       "49347    129\n",
       "49348     69\n",
       "49349     79\n",
       "49350    114\n",
       "49351     56\n",
       "Name: description, Length: 48300, dtype: int64"
      ]
     },
     "execution_count": 40,
     "metadata": {},
     "output_type": "execute_result"
    }
   ],
   "source": [
    "rent_clean[\"description\"].apply(lambda x: len(x.split()))"
   ]
  },
  {
   "cell_type": "markdown",
   "metadata": {},
   "source": [
    "Let's do this procedure on all 3 columns and add the new columns to our data for training. "
   ]
  },
  {
   "cell_type": "code",
   "execution_count": 41,
   "metadata": {},
   "outputs": [
    {
     "data": {
      "text/html": [
       "<div>\n",
       "<style scoped>\n",
       "    .dataframe tbody tr th:only-of-type {\n",
       "        vertical-align: middle;\n",
       "    }\n",
       "\n",
       "    .dataframe tbody tr th {\n",
       "        vertical-align: top;\n",
       "    }\n",
       "\n",
       "    .dataframe thead th {\n",
       "        text-align: right;\n",
       "    }\n",
       "</style>\n",
       "<table border=\"1\" class=\"dataframe\">\n",
       "  <thead>\n",
       "    <tr style=\"text-align: right;\">\n",
       "      <th></th>\n",
       "      <th>num_desc_words</th>\n",
       "      <th>num_features</th>\n",
       "      <th>num_photos</th>\n",
       "    </tr>\n",
       "  </thead>\n",
       "  <tbody>\n",
       "    <tr>\n",
       "      <th>0</th>\n",
       "      <td>75</td>\n",
       "      <td>7</td>\n",
       "      <td>12</td>\n",
       "    </tr>\n",
       "    <tr>\n",
       "      <th>1</th>\n",
       "      <td>129</td>\n",
       "      <td>6</td>\n",
       "      <td>6</td>\n",
       "    </tr>\n",
       "    <tr>\n",
       "      <th>2</th>\n",
       "      <td>117</td>\n",
       "      <td>6</td>\n",
       "      <td>6</td>\n",
       "    </tr>\n",
       "    <tr>\n",
       "      <th>3</th>\n",
       "      <td>93</td>\n",
       "      <td>1</td>\n",
       "      <td>5</td>\n",
       "    </tr>\n",
       "    <tr>\n",
       "      <th>4</th>\n",
       "      <td>39</td>\n",
       "      <td>4</td>\n",
       "      <td>4</td>\n",
       "    </tr>\n",
       "  </tbody>\n",
       "</table>\n",
       "</div>"
      ],
      "text/plain": [
       "   num_desc_words  num_features  num_photos\n",
       "0              75             7          12\n",
       "1             129             6           6\n",
       "2             117             6           6\n",
       "3              93             1           5\n",
       "4              39             4           4"
      ]
     },
     "execution_count": 41,
     "metadata": {},
     "output_type": "execute_result"
    }
   ],
   "source": [
    "rent_clean['num_desc_words'] = rent_clean[\"description\"].apply(lambda x: len(x.split()))\n",
    "rent_clean['num_features'] = rent_clean[\"features\"].apply(lambda x: len(x.split(\",\")))\n",
    "rent_clean['num_photos'] = rent_clean[\"photos\"].apply(lambda x: len(x.split(\",\")))\n",
    "rent_clean[['num_desc_words', 'num_features', 'num_photos']].head()"
   ]
  },
  {
   "cell_type": "markdown",
   "metadata": {},
   "source": [
    "Now let's use these columns to build a model: "
   ]
  },
  {
   "cell_type": "code",
   "execution_count": 42,
   "metadata": {},
   "outputs": [],
   "source": [
    "X = rent_clean[numfeatures + ['num_desc_words', 'num_features', 'num_photos']]\n",
    "y = rent_clean['price']"
   ]
  },
  {
   "cell_type": "code",
   "execution_count": 43,
   "metadata": {},
   "outputs": [
    {
     "name": "stdout",
     "output_type": "stream",
     "text": [
      "OOB R^2 is 0.85373 using 4,829,456 tree nodes with 41.0 median tree depth\n"
     ]
    }
   ],
   "source": [
    "rf, oob = evaluate(X, y)"
   ]
  },
  {
   "cell_type": "code",
   "execution_count": 44,
   "metadata": {},
   "outputs": [
    {
     "data": {
      "image/png": "[encoded data removed]",
      "text/plain": [
       "<Figure size 288x110.88 with 1 Axes>"
      ]
     },
     "metadata": {
      "needs_background": "light"
     },
     "output_type": "display_data"
    }
   ],
   "source": [
    "showimp(rf, X, y)"
   ]
  },
  {
   "cell_type": "markdown",
   "metadata": {},
   "source": [
    "### What We Have So Far\n",
    "\n",
    "Let's put all the features we've worked on so far together and build a model so we can see how it all fits together. "
   ]
  },
  {
   "cell_type": "code",
   "execution_count": 45,
   "metadata": {},
   "outputs": [],
   "source": [
    "X = rent_clean[numfeatures + \n",
    "               ['renov', 'large_apt'] + \n",
    "               ['doorman', 'parking', 'garage', 'laundry'] +\n",
    "               ['num_desc_words', 'num_features', 'num_photos']]\n",
    "y = rent_clean['price']"
   ]
  },
  {
   "cell_type": "code",
   "execution_count": 46,
   "metadata": {},
   "outputs": [
    {
     "name": "stdout",
     "output_type": "stream",
     "text": [
      "OOB R^2 is 0.86097 using 4,776,698 tree nodes with 43.0 median tree depth\n"
     ]
    }
   ],
   "source": [
    "rf, oob = evaluate(X, y)"
   ]
  },
  {
   "cell_type": "code",
   "execution_count": 47,
   "metadata": {},
   "outputs": [
    {
     "data": {
      "image/png": "[encoded data removed]",
      "text/plain": [
       "<Figure size 288x205.92 with 1 Axes>"
      ]
     },
     "metadata": {
      "needs_background": "light"
     },
     "output_type": "display_data"
    }
   ],
   "source": [
    "showimp(rf, X, y)"
   ]
  },
  {
   "cell_type": "code",
   "execution_count": null,
   "metadata": {},
   "outputs": [],
   "source": []
  },
  {
   "cell_type": "code",
   "execution_count": null,
   "metadata": {},
   "outputs": [],
   "source": []
  }
 ],
 "metadata": {
  "colab": {
   "collapsed_sections": [],
   "name": "new_initial_model.ipynb",
   "provenance": []
  },
  "kernelspec": {
   "display_name": "Python 3 (ipykernel)",
   "language": "python",
   "name": "python3"
  },
  "language_info": {
   "codemirror_mode": {
    "name": "ipython",
    "version": 3
   },
   "file_extension": ".py",
   "mimetype": "text/x-python",
   "name": "python",
   "nbconvert_exporter": "python",
   "pygments_lexer": "ipython3",
   "version": "3.9.13"
  }
 },
 "nbformat": 4,
 "nbformat_minor": 4
}
