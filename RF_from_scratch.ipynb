{
 "cells": [
  {
   "cell_type": "markdown",
   "id": "c7f3fd7d",
   "metadata": {},
   "source": [
    "# Practice Lab 3: Random Forest from scratch (we really hope!)"
   ]
  },
  {
   "cell_type": "markdown",
   "id": "610833d3",
   "metadata": {},
   "source": [
    "## Data Creation "
   ]
  },
  {
   "cell_type": "code",
   "execution_count": 1,
   "id": "1db8fdfa",
   "metadata": {},
   "outputs": [],
   "source": [
    "from numpy.random import default_rng\n",
    "import numpy as np"
   ]
  },
  {
   "cell_type": "code",
   "execution_count": 5,
   "id": "9ee9d4eb-c2bf-42d1-a2f9-b413f0401620",
   "metadata": {},
   "outputs": [],
   "source": [
    "rng = default_rng(45)\n",
    "new_list = rng.integers(1, 100, (10,6))"
   ]
  },
  {
   "cell_type": "code",
   "execution_count": 6,
   "id": "b08f69e9",
   "metadata": {},
   "outputs": [
    {
     "data": {
      "text/plain": [
       "array([[92, 57, 73, 53, 53, 76],\n",
       "       [70, 81, 56, 51, 42, 78],\n",
       "       [57, 79, 77, 59, 28, 41],\n",
       "       [54, 67, 51, 63, 82, 84],\n",
       "       [12, 72, 93, 53, 57, 96],\n",
       "       [49, 47, 42, 81, 77, 86],\n",
       "       [36, 63, 84,  5, 43,  6],\n",
       "       [30, 12, 42, 70, 41,  5],\n",
       "       [34, 70, 81, 42, 92, 37],\n",
       "       [ 7, 16, 55, 11, 18, 13]], dtype=int64)"
      ]
     },
     "execution_count": 6,
     "metadata": {},
     "output_type": "execute_result"
    }
   ],
   "source": [
    "new_list"
   ]
  },
  {
   "cell_type": "markdown",
   "id": "f2a7ebd4",
   "metadata": {},
   "source": [
    "## Create Bootstrap Samples (Physical)"
   ]
  },
  {
   "cell_type": "code",
   "execution_count": 8,
   "id": "7d482848-33f5-46ad-a806-a48f6a204228",
   "metadata": {},
   "outputs": [
    {
     "data": {
      "text/plain": [
       "array([[54, 67, 51, 63, 82, 84],\n",
       "       [30, 12, 42, 70, 41,  5],\n",
       "       [34, 70, 81, 42, 92, 37],\n",
       "       [70, 81, 56, 51, 42, 78],\n",
       "       [70, 81, 56, 51, 42, 78],\n",
       "       [30, 12, 42, 70, 41,  5],\n",
       "       [57, 79, 77, 59, 28, 41],\n",
       "       [30, 12, 42, 70, 41,  5],\n",
       "       [12, 72, 93, 53, 57, 96],\n",
       "       [49, 47, 42, 81, 77, 86]], dtype=int64)"
      ]
     },
     "execution_count": 8,
     "metadata": {},
     "output_type": "execute_result"
    }
   ],
   "source": [
    "rng = default_rng(45)\n",
    "new_list = rng.integers(1, 100, (10,6))"
   ]
  },
  {
   "cell_type": "markdown",
   "id": "37db9734",
   "metadata": {},
   "source": [
    "## Create Bootstrap Samples (Code)"
   ]
  },
  {
   "cell_type": "code",
   "execution_count": null,
   "id": "ef282de6",
   "metadata": {},
   "outputs": [],
   "source": [
    "# randomly generate 100 datasets from same data\n",
    "# calculate oob scores for each dataset\n",
    "# save it in array\n",
    "# take average of it"
   ]
  },
  {
   "cell_type": "code",
   "execution_count": 51,
   "id": "3b6cf77a-b9c2-4c6d-9668-f126b729aaea",
   "metadata": {},
   "outputs": [
    {
     "data": {
      "text/plain": [
       "[0.3,\n",
       " 0.4,\n",
       " 0.4,\n",
       " 0.3,\n",
       " 0.5,\n",
       " 0.3,\n",
       " 0.2,\n",
       " 0.3,\n",
       " 0.4,\n",
       " 0.3,\n",
       " 0.4,\n",
       " 0.2,\n",
       " 0.3,\n",
       " 0.3,\n",
       " 0.4,\n",
       " 0.3,\n",
       " 0.2,\n",
       " 0.4,\n",
       " 0.4,\n",
       " 0.3,\n",
       " 0.4,\n",
       " 0.2,\n",
       " 0.4,\n",
       " 0.3,\n",
       " 0.4,\n",
       " 0.4,\n",
       " 0.2,\n",
       " 0.2,\n",
       " 0.3,\n",
       " 0.4,\n",
       " 0.4,\n",
       " 0.3,\n",
       " 0.3,\n",
       " 0.4,\n",
       " 0.4,\n",
       " 0.2,\n",
       " 0.4,\n",
       " 0.3,\n",
       " 0.4,\n",
       " 0.3,\n",
       " 0.3,\n",
       " 0.4,\n",
       " 0.3,\n",
       " 0.4,\n",
       " 0.3,\n",
       " 0.4,\n",
       " 0.2,\n",
       " 0.3,\n",
       " 0.6,\n",
       " 0.4,\n",
       " 0.3,\n",
       " 0.3,\n",
       " 0.4,\n",
       " 0.3,\n",
       " 0.4,\n",
       " 0.3,\n",
       " 0.3,\n",
       " 0.3,\n",
       " 0.2,\n",
       " 0.2,\n",
       " 0.6,\n",
       " 0.3,\n",
       " 0.4,\n",
       " 0.3,\n",
       " 0.5,\n",
       " 0.2,\n",
       " 0.3,\n",
       " 0.2,\n",
       " 0.5,\n",
       " 0.4,\n",
       " 0.3,\n",
       " 0.4,\n",
       " 0.2,\n",
       " 0.4,\n",
       " 0.5,\n",
       " 0.3,\n",
       " 0.4,\n",
       " 0.3,\n",
       " 0.4,\n",
       " 0.5,\n",
       " 0.3,\n",
       " 0.3,\n",
       " 0.3,\n",
       " 0.4,\n",
       " 0.3,\n",
       " 0.3,\n",
       " 0.4,\n",
       " 0.2,\n",
       " 0.3,\n",
       " 0.1,\n",
       " 0.4,\n",
       " 0.3,\n",
       " 0.3,\n",
       " 0.4,\n",
       " 0.4,\n",
       " 0.3,\n",
       " 0.4,\n",
       " 0.3,\n",
       " 0.3,\n",
       " 0.4]"
      ]
     },
     "execution_count": 51,
     "metadata": {},
     "output_type": "execute_result"
    }
   ],
   "source": [
    "boot = []\n",
    "for i in range(100):\n",
    "    bs =(rng.choice(new_list, new_list.shape[0], replace=True))\n",
    "    bs_uniq = np.unique(bs, axis = 0)\n",
    "    n_unique_row = bs_uniq.shape[0]\n",
    "    oob_smp = (new_list.shape[0] -  n_unique_row) / new_list.shape[0] \n",
    "    boot.append(oob_smp)\n",
    "boot   "
   ]
  },
  {
   "cell_type": "markdown",
   "id": "48c1df60",
   "metadata": {},
   "source": [
    "## Average Number of Out-of-Bag Samples"
   ]
  },
  {
   "cell_type": "code",
   "execution_count": 62,
   "id": "5318c8e1-d4ea-4a51-b225-4961a9d16c21",
   "metadata": {},
   "outputs": [
    {
     "ename": "TypeError",
     "evalue": "list.append() takes exactly one argument (0 given)",
     "output_type": "error",
     "traceback": [
      "\u001b[1;31m---------------------------------------------------------------------------\u001b[0m",
      "\u001b[1;31mTypeError\u001b[0m                                 Traceback (most recent call last)",
      "\u001b[1;32m~\\AppData\\Local\\Temp\\ipykernel_30820\\2942001729.py\u001b[0m in \u001b[0;36m<module>\u001b[1;34m\u001b[0m\n\u001b[0;32m      5\u001b[0m     \u001b[0mn_unique_row\u001b[0m \u001b[1;33m=\u001b[0m \u001b[0mbs_uniq\u001b[0m\u001b[1;33m.\u001b[0m\u001b[0mshape\u001b[0m\u001b[1;33m[\u001b[0m\u001b[1;36m0\u001b[0m\u001b[1;33m]\u001b[0m\u001b[1;33m\u001b[0m\u001b[1;33m\u001b[0m\u001b[0m\n\u001b[0;32m      6\u001b[0m     \u001b[0moob_smp\u001b[0m \u001b[1;33m=\u001b[0m \u001b[0mnp\u001b[0m\u001b[1;33m.\u001b[0m\u001b[0mmean\u001b[0m\u001b[1;33m(\u001b[0m\u001b[1;33m(\u001b[0m\u001b[0mnew_list\u001b[0m\u001b[1;33m.\u001b[0m\u001b[0mshape\u001b[0m\u001b[1;33m[\u001b[0m\u001b[1;36m0\u001b[0m\u001b[1;33m]\u001b[0m \u001b[1;33m-\u001b[0m  \u001b[0mn_unique_row\u001b[0m\u001b[1;33m)\u001b[0m \u001b[1;33m/\u001b[0m \u001b[0mnew_list\u001b[0m\u001b[1;33m.\u001b[0m\u001b[0mshape\u001b[0m\u001b[1;33m[\u001b[0m\u001b[1;36m0\u001b[0m\u001b[1;33m]\u001b[0m\u001b[1;33m)\u001b[0m\u001b[1;33m\u001b[0m\u001b[1;33m\u001b[0m\u001b[0m\n\u001b[1;32m----> 7\u001b[1;33m     \u001b[0mboot_avg\u001b[0m\u001b[1;33m.\u001b[0m\u001b[0mappend\u001b[0m\u001b[1;33m(\u001b[0m\u001b[1;33m)\u001b[0m\u001b[1;33m\u001b[0m\u001b[1;33m\u001b[0m\u001b[0m\n\u001b[0m\u001b[0;32m      8\u001b[0m \u001b[0mboot_avg\u001b[0m\u001b[1;33m\u001b[0m\u001b[1;33m\u001b[0m\u001b[0m\n",
      "\u001b[1;31mTypeError\u001b[0m: list.append() takes exactly one argument (0 given)"
     ]
    }
   ],
   "source": [
    "boot = []\n",
    "for i in range(100):\n",
    "    bs =(rng.choice(new_list, new_list.shape[0], replace=True))\n",
    "    bs_uniq = np.unique(bs, axis = 0)\n",
    "    n_unique_row = bs_uniq.shape[0]\n",
    "    oob_smp = (new_list.shape[0] -  n_unique_row) / new_list.shape[0] \n",
    "    boot.append(oob_smp)\n",
    "boot   "
   ]
  },
  {
   "cell_type": "code",
   "execution_count": 52,
   "id": "8d0eae93",
   "metadata": {},
   "outputs": [
    {
     "data": {
      "text/plain": [
       "0.33599999999999997"
      ]
     },
     "execution_count": 52,
     "metadata": {},
     "output_type": "execute_result"
    }
   ],
   "source": [
    "avg_num = np.mean(boot)\n",
    "avg_num"
   ]
  },
  {
   "cell_type": "markdown",
   "id": "0bf06fc6",
   "metadata": {},
   "source": [
    "## Create a Function to Produce a Bootstrap Sample and Corresponding OOB Samples"
   ]
  },
  {
   "cell_type": "code",
   "execution_count": 46,
   "id": "19452f97",
   "metadata": {},
   "outputs": [
    {
     "name": "stdout",
     "output_type": "stream",
     "text": [
      "[[92 57 73 53 53 76]\n",
      " [70 81 56 51 42 78]\n",
      " [57 79 77 59 28 41]\n",
      " [54 67 51 63 82 84]\n",
      " [12 72 93 53 57 96]\n",
      " [49 47 42 81 77 86]\n",
      " [36 63 84  5 43  6]\n",
      " [30 12 42 70 41  5]\n",
      " [34 70 81 42 92 37]\n",
      " [ 7 16 55 11 18 13]] [0.5, 0.5, 0.2, 0.3, 0.1, 0.4, 0.5, 0.3, 0.5, 0.3, 0.4, 0.4, 0.3, 0.2, 0.2, 0.3, 0.4, 0.3, 0.4, 0.3, 0.3, 0.5, 0.3, 0.2, 0.2, 0.4, 0.4, 0.2, 0.4, 0.4, 0.2, 0.3, 0.3, 0.3, 0.5, 0.2, 0.3, 0.4, 0.3, 0.3, 0.2, 0.5, 0.5, 0.4, 0.3, 0.5, 0.4, 0.3, 0.4, 0.4, 0.3, 0.2, 0.4, 0.5, 0.4, 0.2, 0.3, 0.5, 0.2, 0.5, 0.4, 0.4, 0.3, 0.3, 0.5, 0.4, 0.3, 0.3, 0.3, 0.3, 0.3, 0.3, 0.4, 0.4, 0.4, 0.3, 0.3, 0.5, 0.4, 0.4, 0.4, 0.4, 0.4, 0.4, 0.2, 0.3, 0.2, 0.3, 0.2, 0.5, 0.4, 0.3, 0.3, 0.2, 0.3, 0.2, 0.4, 0.3, 0.2, 0.2]\n"
     ]
    }
   ],
   "source": [
    "boot = []\n",
    "for i in range(100):\n",
    "    bs =(rng.choice(new_list, new_list.shape[0], replace=True))\n",
    "    bs_uniq = np.unique(bs, axis = 0)\n",
    "    n_unique_rown = bs_uniq.shape[0]\n",
    "    oob_smp = (new_list.shape[0] -  n_unique_rown) / new_list.shape[0] \n",
    "    boot.append(oob_smp)\n",
    "print(new_list, boot)"
   ]
  },
  {
   "cell_type": "markdown",
   "id": "ebb23a40",
   "metadata": {},
   "source": [
    "## Create a Function to Produce a Decision Tree from a Data Sample"
   ]
  },
  {
   "cell_type": "code",
   "execution_count": null,
   "id": "0f0f234a",
   "metadata": {},
   "outputs": [],
   "source": []
  },
  {
   "cell_type": "markdown",
   "id": "4a2abf2b",
   "metadata": {},
   "source": [
    "## Make Predictions using the Decision Tree "
   ]
  },
  {
   "cell_type": "code",
   "execution_count": null,
   "id": "751e760f",
   "metadata": {},
   "outputs": [],
   "source": []
  },
  {
   "cell_type": "markdown",
   "id": "81ea901c",
   "metadata": {},
   "source": [
    "## Select a Random Subset of Features/Columns from a Data Sample"
   ]
  },
  {
   "cell_type": "code",
   "execution_count": null,
   "id": "98735c4e",
   "metadata": {},
   "outputs": [],
   "source": []
  },
  {
   "cell_type": "markdown",
   "id": "a01386c0",
   "metadata": {},
   "source": [
    "## Put it All Together"
   ]
  },
  {
   "cell_type": "code",
   "execution_count": null,
   "id": "ac21fd69",
   "metadata": {},
   "outputs": [],
   "source": []
  }
 ],
 "metadata": {
  "kernelspec": {
   "display_name": "Python 3 (ipykernel)",
   "language": "python",
   "name": "python3"
  },
  "language_info": {
   "codemirror_mode": {
    "name": "ipython",
    "version": 3
   },
   "file_extension": ".py",
   "mimetype": "text/x-python",
   "name": "python",
   "nbconvert_exporter": "python",
   "pygments_lexer": "ipython3",
   "version": "3.9.13"
  }
 },
 "nbformat": 4,
 "nbformat_minor": 5
}
