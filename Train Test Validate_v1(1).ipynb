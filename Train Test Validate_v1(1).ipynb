{
 "cells": [
  {
   "cell_type": "markdown",
   "id": "e7eed79f-6d02-4243-86d9-f4c903bca6eb",
   "metadata": {},
   "source": [
    "## Train, Validate, Test\n"
   ]
  },
  {
   "cell_type": "markdown",
   "id": "3a7bf5d0-1f76-48ec-bb98-e50488fb0ee4",
   "metadata": {},
   "source": [
    "### Recap\n",
    "\n",
    "- We used R-squared and MAE as **metrics** that quantify the accuracy between predicted and true values\n",
    "- We **separated validation data** from training data because we care about a model's performance on future observations, not how well it does on its own training data\n",
    "- We've been using the RF model's handy **OOB (out-of-bag) samples** as a substitute for a validation set\n",
    "- Accuracy metrics derived from the OOB samples are excellent estimates of the true validation scores **but only for time-insensitive data**"
   ]
  },
  {
   "cell_type": "markdown",
   "id": "3de79736-18e4-4431-a97c-5be4b9fedec9",
   "metadata": {},
   "source": [
    "### Time-sensitive Datasets\n",
    "\n",
    "- Inflation alone means that future prices far beyond the training period will be much higher. An RF bulldozer price predictor trained on data from years 2000-2005 won't make accurate predictions for bulldozers sold in 2020\n",
    "- Metrics derived from OOB samples are, therefore, overly optimistic about the generality of a model and how it will perform on future predictions\n",
    "- We must obtain a validation set beyond the date range of the training set in order to properly measure an RF's accuracy on time-sensitive data"
   ]
  },
  {
   "cell_type": "markdown",
   "id": "c5d2f6ad-5f5f-4ade-874c-14fda8889e1a",
   "metadata": {},
   "source": [
    "### The testing trilogy\n",
    "\n",
    "- Training, validation, and test sets\n",
    "- The model trains just on the training set and model accuracy is evaluated using the validation set during development\n",
    "- We run the test set through the model to get our final measure of model accuracy and generality\n",
    "- **The only true measure of model generality comes from computing metrics on a test set that has never previously been run through the model**"
   ]
  },
  {
   "cell_type": "markdown",
   "id": "53aeb870-63b5-434e-8825-6f20e661a868",
   "metadata": {},
   "source": [
    "#### Holdout Method for splitting time-insensitive datasets\n",
    "\n",
    "Sample Code:"
   ]
  },
  {
   "cell_type": "raw",
   "id": "5ceca87d-f3f3-4849-b0de-3b9461744858",
   "metadata": {},
   "source": [
    "from sklearn.model_selection import train_test_split\n",
    "df = df.sample(frac=1) # shuffle data\n",
    "df_dev, df_test = train_test_split(df, test_size=0.15)\n",
    "df_train, df_valid = train_test_split(df_dev, test_size=0.15)"
   ]
  },
  {
   "cell_type": "markdown",
   "id": "86a83f93-7e4c-4868-ab80-854aefcec074",
   "metadata": {},
   "source": [
    "**An example:**\n",
    "\n",
    "[Diabetes Dataset](https://scikit-learn.org/stable/datasets/toy_dataset.html#diabetes-dataset)"
   ]
  },
  {
   "cell_type": "code",
   "execution_count": 1,
   "id": "23029a6f-9cdb-4d60-8766-fe33dfaf0df4",
   "metadata": {},
   "outputs": [
    {
     "data": {
      "text/html": [
       "<div>\n",
       "<style scoped>\n",
       "    .dataframe tbody tr th:only-of-type {\n",
       "        vertical-align: middle;\n",
       "    }\n",
       "\n",
       "    .dataframe tbody tr th {\n",
       "        vertical-align: top;\n",
       "    }\n",
       "\n",
       "    .dataframe thead th {\n",
       "        text-align: right;\n",
       "    }\n",
       "</style>\n",
       "<table border=\"1\" class=\"dataframe\">\n",
       "  <thead>\n",
       "    <tr style=\"text-align: right;\">\n",
       "      <th></th>\n",
       "      <th>age</th>\n",
       "      <th>sex</th>\n",
       "      <th>bmi</th>\n",
       "      <th>bp</th>\n",
       "      <th>s1</th>\n",
       "      <th>s2</th>\n",
       "      <th>s3</th>\n",
       "      <th>s4</th>\n",
       "      <th>s5</th>\n",
       "      <th>s6</th>\n",
       "      <th>target</th>\n",
       "    </tr>\n",
       "  </thead>\n",
       "  <tbody>\n",
       "    <tr>\n",
       "      <th>0</th>\n",
       "      <td>0.038076</td>\n",
       "      <td>0.050680</td>\n",
       "      <td>0.061696</td>\n",
       "      <td>0.021872</td>\n",
       "      <td>-0.044223</td>\n",
       "      <td>-0.034821</td>\n",
       "      <td>-0.043401</td>\n",
       "      <td>-0.002592</td>\n",
       "      <td>0.019908</td>\n",
       "      <td>-0.017646</td>\n",
       "      <td>151.0</td>\n",
       "    </tr>\n",
       "    <tr>\n",
       "      <th>1</th>\n",
       "      <td>-0.001882</td>\n",
       "      <td>-0.044642</td>\n",
       "      <td>-0.051474</td>\n",
       "      <td>-0.026328</td>\n",
       "      <td>-0.008449</td>\n",
       "      <td>-0.019163</td>\n",
       "      <td>0.074412</td>\n",
       "      <td>-0.039493</td>\n",
       "      <td>-0.068330</td>\n",
       "      <td>-0.092204</td>\n",
       "      <td>75.0</td>\n",
       "    </tr>\n",
       "    <tr>\n",
       "      <th>2</th>\n",
       "      <td>0.085299</td>\n",
       "      <td>0.050680</td>\n",
       "      <td>0.044451</td>\n",
       "      <td>-0.005671</td>\n",
       "      <td>-0.045599</td>\n",
       "      <td>-0.034194</td>\n",
       "      <td>-0.032356</td>\n",
       "      <td>-0.002592</td>\n",
       "      <td>0.002864</td>\n",
       "      <td>-0.025930</td>\n",
       "      <td>141.0</td>\n",
       "    </tr>\n",
       "    <tr>\n",
       "      <th>3</th>\n",
       "      <td>-0.089063</td>\n",
       "      <td>-0.044642</td>\n",
       "      <td>-0.011595</td>\n",
       "      <td>-0.036656</td>\n",
       "      <td>0.012191</td>\n",
       "      <td>0.024991</td>\n",
       "      <td>-0.036038</td>\n",
       "      <td>0.034309</td>\n",
       "      <td>0.022692</td>\n",
       "      <td>-0.009362</td>\n",
       "      <td>206.0</td>\n",
       "    </tr>\n",
       "    <tr>\n",
       "      <th>4</th>\n",
       "      <td>0.005383</td>\n",
       "      <td>-0.044642</td>\n",
       "      <td>-0.036385</td>\n",
       "      <td>0.021872</td>\n",
       "      <td>0.003935</td>\n",
       "      <td>0.015596</td>\n",
       "      <td>0.008142</td>\n",
       "      <td>-0.002592</td>\n",
       "      <td>-0.031991</td>\n",
       "      <td>-0.046641</td>\n",
       "      <td>135.0</td>\n",
       "    </tr>\n",
       "    <tr>\n",
       "      <th>...</th>\n",
       "      <td>...</td>\n",
       "      <td>...</td>\n",
       "      <td>...</td>\n",
       "      <td>...</td>\n",
       "      <td>...</td>\n",
       "      <td>...</td>\n",
       "      <td>...</td>\n",
       "      <td>...</td>\n",
       "      <td>...</td>\n",
       "      <td>...</td>\n",
       "      <td>...</td>\n",
       "    </tr>\n",
       "    <tr>\n",
       "      <th>437</th>\n",
       "      <td>0.041708</td>\n",
       "      <td>0.050680</td>\n",
       "      <td>0.019662</td>\n",
       "      <td>0.059744</td>\n",
       "      <td>-0.005697</td>\n",
       "      <td>-0.002566</td>\n",
       "      <td>-0.028674</td>\n",
       "      <td>-0.002592</td>\n",
       "      <td>0.031193</td>\n",
       "      <td>0.007207</td>\n",
       "      <td>178.0</td>\n",
       "    </tr>\n",
       "    <tr>\n",
       "      <th>438</th>\n",
       "      <td>-0.005515</td>\n",
       "      <td>0.050680</td>\n",
       "      <td>-0.015906</td>\n",
       "      <td>-0.067642</td>\n",
       "      <td>0.049341</td>\n",
       "      <td>0.079165</td>\n",
       "      <td>-0.028674</td>\n",
       "      <td>0.034309</td>\n",
       "      <td>-0.018118</td>\n",
       "      <td>0.044485</td>\n",
       "      <td>104.0</td>\n",
       "    </tr>\n",
       "    <tr>\n",
       "      <th>439</th>\n",
       "      <td>0.041708</td>\n",
       "      <td>0.050680</td>\n",
       "      <td>-0.015906</td>\n",
       "      <td>0.017282</td>\n",
       "      <td>-0.037344</td>\n",
       "      <td>-0.013840</td>\n",
       "      <td>-0.024993</td>\n",
       "      <td>-0.011080</td>\n",
       "      <td>-0.046879</td>\n",
       "      <td>0.015491</td>\n",
       "      <td>132.0</td>\n",
       "    </tr>\n",
       "    <tr>\n",
       "      <th>440</th>\n",
       "      <td>-0.045472</td>\n",
       "      <td>-0.044642</td>\n",
       "      <td>0.039062</td>\n",
       "      <td>0.001215</td>\n",
       "      <td>0.016318</td>\n",
       "      <td>0.015283</td>\n",
       "      <td>-0.028674</td>\n",
       "      <td>0.026560</td>\n",
       "      <td>0.044528</td>\n",
       "      <td>-0.025930</td>\n",
       "      <td>220.0</td>\n",
       "    </tr>\n",
       "    <tr>\n",
       "      <th>441</th>\n",
       "      <td>-0.045472</td>\n",
       "      <td>-0.044642</td>\n",
       "      <td>-0.073030</td>\n",
       "      <td>-0.081414</td>\n",
       "      <td>0.083740</td>\n",
       "      <td>0.027809</td>\n",
       "      <td>0.173816</td>\n",
       "      <td>-0.039493</td>\n",
       "      <td>-0.004220</td>\n",
       "      <td>0.003064</td>\n",
       "      <td>57.0</td>\n",
       "    </tr>\n",
       "  </tbody>\n",
       "</table>\n",
       "<p>442 rows × 11 columns</p>\n",
       "</div>"
      ],
      "text/plain": [
       "          age       sex       bmi        bp        s1        s2        s3  \\\n",
       "0    0.038076  0.050680  0.061696  0.021872 -0.044223 -0.034821 -0.043401   \n",
       "1   -0.001882 -0.044642 -0.051474 -0.026328 -0.008449 -0.019163  0.074412   \n",
       "2    0.085299  0.050680  0.044451 -0.005671 -0.045599 -0.034194 -0.032356   \n",
       "3   -0.089063 -0.044642 -0.011595 -0.036656  0.012191  0.024991 -0.036038   \n",
       "4    0.005383 -0.044642 -0.036385  0.021872  0.003935  0.015596  0.008142   \n",
       "..        ...       ...       ...       ...       ...       ...       ...   \n",
       "437  0.041708  0.050680  0.019662  0.059744 -0.005697 -0.002566 -0.028674   \n",
       "438 -0.005515  0.050680 -0.015906 -0.067642  0.049341  0.079165 -0.028674   \n",
       "439  0.041708  0.050680 -0.015906  0.017282 -0.037344 -0.013840 -0.024993   \n",
       "440 -0.045472 -0.044642  0.039062  0.001215  0.016318  0.015283 -0.028674   \n",
       "441 -0.045472 -0.044642 -0.073030 -0.081414  0.083740  0.027809  0.173816   \n",
       "\n",
       "           s4        s5        s6  target  \n",
       "0   -0.002592  0.019908 -0.017646   151.0  \n",
       "1   -0.039493 -0.068330 -0.092204    75.0  \n",
       "2   -0.002592  0.002864 -0.025930   141.0  \n",
       "3    0.034309  0.022692 -0.009362   206.0  \n",
       "4   -0.002592 -0.031991 -0.046641   135.0  \n",
       "..        ...       ...       ...     ...  \n",
       "437 -0.002592  0.031193  0.007207   178.0  \n",
       "438  0.034309 -0.018118  0.044485   104.0  \n",
       "439 -0.011080 -0.046879  0.015491   132.0  \n",
       "440  0.026560  0.044528 -0.025930   220.0  \n",
       "441 -0.039493 -0.004220  0.003064    57.0  \n",
       "\n",
       "[442 rows x 11 columns]"
      ]
     },
     "execution_count": 1,
     "metadata": {},
     "output_type": "execute_result"
    }
   ],
   "source": [
    "from sklearn import datasets\n",
    "from sklearn.model_selection import train_test_split\n",
    "df = datasets.load_diabetes(as_frame=True)['frame']\n",
    "\n",
    "df"
   ]
  },
  {
   "cell_type": "code",
   "execution_count": 2,
   "id": "78b2199a-157a-4286-a7f1-ce431b1c4915",
   "metadata": {},
   "outputs": [],
   "source": [
    "df = df.sample(frac=1) # shuffle data\n",
    "df_dev, df_test = train_test_split(df, test_size=0.15)\n",
    "df_train, df_valid = train_test_split(df_dev, test_size=0.15)"
   ]
  },
  {
   "cell_type": "code",
   "execution_count": 3,
   "id": "109a4af0-cd82-406b-8319-011358e99043",
   "metadata": {},
   "outputs": [
    {
     "data": {
      "text/html": [
       "<div>\n",
       "<style scoped>\n",
       "    .dataframe tbody tr th:only-of-type {\n",
       "        vertical-align: middle;\n",
       "    }\n",
       "\n",
       "    .dataframe tbody tr th {\n",
       "        vertical-align: top;\n",
       "    }\n",
       "\n",
       "    .dataframe thead th {\n",
       "        text-align: right;\n",
       "    }\n",
       "</style>\n",
       "<table border=\"1\" class=\"dataframe\">\n",
       "  <thead>\n",
       "    <tr style=\"text-align: right;\">\n",
       "      <th></th>\n",
       "      <th>age</th>\n",
       "      <th>sex</th>\n",
       "      <th>bmi</th>\n",
       "      <th>bp</th>\n",
       "      <th>s1</th>\n",
       "      <th>s2</th>\n",
       "      <th>s3</th>\n",
       "      <th>s4</th>\n",
       "      <th>s5</th>\n",
       "      <th>s6</th>\n",
       "      <th>target</th>\n",
       "    </tr>\n",
       "  </thead>\n",
       "  <tbody>\n",
       "    <tr>\n",
       "      <th>22</th>\n",
       "      <td>-0.08543</td>\n",
       "      <td>-0.044642</td>\n",
       "      <td>-0.00405</td>\n",
       "      <td>-0.009113</td>\n",
       "      <td>-0.002945</td>\n",
       "      <td>0.007767</td>\n",
       "      <td>0.022869</td>\n",
       "      <td>-0.039493</td>\n",
       "      <td>-0.061177</td>\n",
       "      <td>-0.013504</td>\n",
       "      <td>68.0</td>\n",
       "    </tr>\n",
       "  </tbody>\n",
       "</table>\n",
       "</div>"
      ],
      "text/plain": [
       "        age       sex      bmi        bp        s1        s2        s3  \\\n",
       "22 -0.08543 -0.044642 -0.00405 -0.009113 -0.002945  0.007767  0.022869   \n",
       "\n",
       "          s4        s5        s6  target  \n",
       "22 -0.039493 -0.061177 -0.013504    68.0  "
      ]
     },
     "execution_count": 3,
     "metadata": {},
     "output_type": "execute_result"
    }
   ],
   "source": [
    "df_train.head(1)"
   ]
  },
  {
   "cell_type": "code",
   "execution_count": 4,
   "id": "6b6e47b5-be7f-497d-a9c9-365f12d39d0b",
   "metadata": {},
   "outputs": [
    {
     "data": {
      "text/html": [
       "<div>\n",
       "<style scoped>\n",
       "    .dataframe tbody tr th:only-of-type {\n",
       "        vertical-align: middle;\n",
       "    }\n",
       "\n",
       "    .dataframe tbody tr th {\n",
       "        vertical-align: top;\n",
       "    }\n",
       "\n",
       "    .dataframe thead th {\n",
       "        text-align: right;\n",
       "    }\n",
       "</style>\n",
       "<table border=\"1\" class=\"dataframe\">\n",
       "  <thead>\n",
       "    <tr style=\"text-align: right;\">\n",
       "      <th></th>\n",
       "      <th>age</th>\n",
       "      <th>sex</th>\n",
       "      <th>bmi</th>\n",
       "      <th>bp</th>\n",
       "      <th>s1</th>\n",
       "      <th>s2</th>\n",
       "      <th>s3</th>\n",
       "      <th>s4</th>\n",
       "      <th>s5</th>\n",
       "      <th>s6</th>\n",
       "      <th>target</th>\n",
       "    </tr>\n",
       "  </thead>\n",
       "  <tbody>\n",
       "    <tr>\n",
       "      <th>246</th>\n",
       "      <td>0.041708</td>\n",
       "      <td>-0.044642</td>\n",
       "      <td>-0.032073</td>\n",
       "      <td>-0.061904</td>\n",
       "      <td>0.079612</td>\n",
       "      <td>0.050982</td>\n",
       "      <td>0.056003</td>\n",
       "      <td>-0.009972</td>\n",
       "      <td>0.045066</td>\n",
       "      <td>-0.059067</td>\n",
       "      <td>78.0</td>\n",
       "    </tr>\n",
       "  </tbody>\n",
       "</table>\n",
       "</div>"
      ],
      "text/plain": [
       "          age       sex       bmi        bp        s1        s2        s3  \\\n",
       "246  0.041708 -0.044642 -0.032073 -0.061904  0.079612  0.050982  0.056003   \n",
       "\n",
       "           s4        s5        s6  target  \n",
       "246 -0.009972  0.045066 -0.059067    78.0  "
      ]
     },
     "execution_count": 4,
     "metadata": {},
     "output_type": "execute_result"
    }
   ],
   "source": [
    "df_valid.head(1)"
   ]
  },
  {
   "cell_type": "code",
   "execution_count": 5,
   "id": "387adb82-393d-425c-9c90-398f59b832ea",
   "metadata": {},
   "outputs": [],
   "source": [
    "X_train = df_train.drop('target', axis=1)\n",
    "y_train = df_train['target']\n",
    "\n",
    "\n",
    "X_valid = df_valid.drop('target', axis=1)\n",
    "y_valid = df_valid['target']"
   ]
  },
  {
   "cell_type": "code",
   "execution_count": 6,
   "id": "283041c2-8820-447e-a647-4daa12094f3e",
   "metadata": {},
   "outputs": [
    {
     "name": "stdout",
     "output_type": "stream",
     "text": [
      "OOB R-squared:  0.42006983361357786\n",
      "Training R-squared:  0.9226899552920524\n",
      "Validation R-squared:  0.42586230214778553\n"
     ]
    }
   ],
   "source": [
    "from sklearn.ensemble import RandomForestRegressor\n",
    "\n",
    "rf = RandomForestRegressor(n_jobs=-1, oob_score=True) \n",
    "\n",
    "rf.fit(X_train, y_train) \n",
    "\n",
    "print(\"OOB R-squared: \", rf.oob_score_)\n",
    "print(\"Training R-squared: \", rf.score(X_train, y_train))\n",
    "print(\"Validation R-squared: \", rf.score(X_valid, y_valid))"
   ]
  },
  {
   "cell_type": "markdown",
   "id": "28893ec1-9bee-407b-995c-438f4dda0f7e",
   "metadata": {},
   "source": [
    "Because we're selecting validation and test sets randomly, it's possible that the sets will contain a **disproportionate number of outlier records**, such as really expensive bulldozers. Such tests are not representative and yield pessimistic accuracy metrics"
   ]
  },
  {
   "cell_type": "markdown",
   "id": "f05fba78-07b1-42c5-affa-1288f00585c1",
   "metadata": {},
   "source": [
    "#### k-fold cross validation Method for splitting time-insensitive datasets\n",
    "\n",
    "- Splits the dataset into k chunks of equal size. We train the model on k-1 chunks and test it on the other, repeating the procedure k times so that every chunk gets used as a **validation set**\n",
    "- The overall validation error is the average of the k validation errors"
   ]
  },
  {
   "cell_type": "markdown",
   "id": "16d164b2-1357-4e00-ba00-5587ae0ed7a1",
   "metadata": {},
   "source": [
    "![](kfold.png)"
   ]
  },
  {
   "cell_type": "markdown",
   "id": "6457d81f-0ada-4d54-85ec-0c922349a40d",
   "metadata": {},
   "source": [
    "Sample Code:"
   ]
  },
  {
   "cell_type": "raw",
   "id": "122aa1ef-02f1-464a-af9e-5e18c3baa07c",
   "metadata": {},
   "source": [
    "from sklearn.model_selection import cross_val_score\n",
    "rf = RandomForestRegressor(...)\n",
    "scores = cross_val_score(rf, X, y, cv=5) # k=5\n",
    "print(scores.mean())"
   ]
  },
  {
   "cell_type": "markdown",
   "id": "423af099-2d48-4a74-94ef-b462baff3b67",
   "metadata": {},
   "source": [
    "Creating arrays from `dev` set:"
   ]
  },
  {
   "cell_type": "code",
   "execution_count": 7,
   "id": "241e2914-ea9e-4fdc-bd03-dee24e5788d0",
   "metadata": {},
   "outputs": [],
   "source": [
    "X_dev = df_dev.drop('target', axis=1)\n",
    "y_dev = df_dev['target']"
   ]
  },
  {
   "cell_type": "code",
   "execution_count": 8,
   "id": "142d739d-127c-467c-9cd6-583d7cf84950",
   "metadata": {},
   "outputs": [
    {
     "name": "stdout",
     "output_type": "stream",
     "text": [
      "[0.42637875 0.37750823 0.39387314 0.43333058 0.35154863]\n",
      "0.3965278667039188\n"
     ]
    }
   ],
   "source": [
    "from sklearn.model_selection import cross_val_score\n",
    "\n",
    "rf = RandomForestRegressor(n_jobs=-1, oob_score=True) \n",
    "\n",
    "scores = cross_val_score(rf, X_dev, y_dev, cv=5) # k=5\n",
    "\n",
    "print(scores)\n",
    "print(scores.mean())"
   ]
  },
  {
   "cell_type": "markdown",
   "id": "938b3b4f-1fc7-4332-a670-3da7178fd777",
   "metadata": {},
   "source": [
    "### Hyperparameter Tuning"
   ]
  },
  {
   "cell_type": "code",
   "execution_count": 9,
   "id": "659799c5-b35e-43be-bc67-9f0709de1591",
   "metadata": {},
   "outputs": [
    {
     "data": {
      "text/plain": [
       "RandomizedSearchCV(cv=5,\n",
       "                   estimator=RandomForestRegressor(n_jobs=-1, oob_score=True),\n",
       "                   param_distributions={'max_features': <scipy.stats._distn_infrastructure.rv_discrete_frozen object at 0x000002655BB23880>,\n",
       "                                        'n_estimators': <scipy.stats._distn_infrastructure.rv_discrete_frozen object at 0x000002655BAECB80>},\n",
       "                   random_state=42)"
      ]
     },
     "execution_count": 9,
     "metadata": {},
     "output_type": "execute_result"
    }
   ],
   "source": [
    "from sklearn.model_selection import RandomizedSearchCV\n",
    "from scipy.stats import randint as sp_randint\n",
    "\n",
    "# specify parameters and distributions to sample from\n",
    "param_dist = {\"max_features\": sp_randint(1, X_dev.shape[1]),\n",
    "              \"n_estimators\": sp_randint(100, 1000)}\n",
    "\n",
    "rf = RandomForestRegressor(n_jobs=-1, oob_score=True) \n",
    "\n",
    "random_search = RandomizedSearchCV(rf, param_distributions=param_dist,\n",
    "                                   n_iter=10, cv=5, random_state=42)\n",
    "\n",
    "random_search.fit(X_dev, y_dev)"
   ]
  },
  {
   "cell_type": "markdown",
   "id": "993e5321-ee80-469e-839f-cf0643bed4c9",
   "metadata": {},
   "source": [
    "**Best Parameters:**"
   ]
  },
  {
   "cell_type": "code",
   "execution_count": 10,
   "id": "97a8cf5f-fd0d-4615-a9d2-fc0aa2609f4b",
   "metadata": {},
   "outputs": [
    {
     "name": "stdout",
     "output_type": "stream",
     "text": [
      "{'max_features': 2, 'n_estimators': 443}\n"
     ]
    }
   ],
   "source": [
    "print(random_search.best_params_)"
   ]
  },
  {
   "cell_type": "markdown",
   "id": "b6ad10c8-fa00-43e4-ad4f-4af4e52631fb",
   "metadata": {},
   "source": [
    "Using the best params to make predictions:"
   ]
  },
  {
   "cell_type": "code",
   "execution_count": 11,
   "id": "4cbf587d-8c55-4c2e-90cd-8782b954da1b",
   "metadata": {},
   "outputs": [
    {
     "data": {
      "text/plain": [
       "0.45953874183530996"
      ]
     },
     "execution_count": 11,
     "metadata": {},
     "output_type": "execute_result"
    }
   ],
   "source": [
    "from sklearn.metrics import r2_score\n",
    "\n",
    "X_test = df_test.drop('target', axis=1)\n",
    "y_test = df_test['target']\n",
    "\n",
    "y_preds_test = random_search.predict(X_test)\n",
    "\n",
    "r2_score(y_test, y_preds_test)"
   ]
  },
  {
   "cell_type": "markdown",
   "id": "521420a2-335f-46ac-9083-155adae3058a",
   "metadata": {},
   "source": [
    "### Splitting time-sensitive datasets"
   ]
  },
  {
   "cell_type": "markdown",
   "id": "10e39310-2503-4a6d-98ee-e22e1a9d70f3",
   "metadata": {},
   "source": [
    "The process for extracting training, validation, and test sets for time-sensitive data is:\n",
    "\n",
    "- Sort the records by date, earliest to latest\n",
    "- Extract the last, say, 15% of the records as `df_test`\n",
    "- Extract the second to last 15% of the records as `df_valid`\n",
    "- The remaining 70% of the original data is `df_train`\n",
    "\n",
    "See an example in [Chapter 9](https://mlbook.explained.ai/bulldozer-testing.html)\n",
    "\n",
    "Sample Code for Bulldozer data:"
   ]
  },
  {
   "cell_type": "raw",
   "id": "bb85caac-2fa7-4a41-a068-07a1bcfb128b",
   "metadata": {},
   "source": [
    "df = df.sort_values('saledate')\n",
    "n_valid = 12000  # same as Kaggle's test set size\n",
    "n_train = len(df)-n_valid\n",
    "df_train = df[:n_train].reset_index(drop=True)\n",
    "df_valid = df[n_train:].reset_index(drop=True)"
   ]
  },
  {
   "cell_type": "markdown",
   "id": "8df4b9f4-1db6-4ab2-803a-d7534cb254d2",
   "metadata": {},
   "source": [
    "### Rectifying training and validation sets"
   ]
  },
  {
   "cell_type": "markdown",
   "id": "fe014609-3f0f-4839-af2a-363e7639eaa0",
   "metadata": {},
   "source": [
    "Important rules for preparing separated training and test sets:\n",
    "\n",
    "- Transformations must be applied to features consistently across data subsets.\n",
    "- Transformations of validation and test sets can only use data derived from the training set."
   ]
  }
 ],
 "metadata": {
  "kernelspec": {
   "display_name": "Python 3 (ipykernel)",
   "language": "python",
   "name": "python3"
  },
  "language_info": {
   "codemirror_mode": {
    "name": "ipython",
    "version": 3
   },
   "file_extension": ".py",
   "mimetype": "text/x-python",
   "name": "python",
   "nbconvert_exporter": "python",
   "pygments_lexer": "ipython3",
   "version": "3.9.13"
  }
 },
 "nbformat": 4,
 "nbformat_minor": 5
}
