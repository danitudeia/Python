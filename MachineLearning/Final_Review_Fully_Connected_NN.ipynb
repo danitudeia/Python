{
  "cells": [
    {
      "cell_type": "markdown",
      "id": "fe89e332",
      "metadata": {
        "id": "fe89e332"
      },
      "source": [
        "# Final Review: Fully-Connected Networks"
      ]
    },
    {
      "cell_type": "markdown",
      "id": "af699720",
      "metadata": {
        "id": "af699720"
      },
      "source": [
        "1. Code all the necessary mathematical operations to calculate the output of neuron for all samples in given data and calculate loss using MSE using the following information:\n",
        "    \n",
        "    -**You get your data by first running np.random.seed(9261)**\n",
        "     - X = np.random.randint(0, 24, (3, 4))\n",
        "     - y = np.random.random(3)\n",
        "     - W = [1, 0, 2, 1]\n",
        "     - b = [-4]\n",
        "     - tanh activation function\n"
      ]
    },
    {
      "cell_type": "markdown",
      "id": "dc9ee1db",
      "metadata": {
        "id": "dc9ee1db"
      },
      "source": [
        "2. Code the fully connected neural network with 4 neuron in hidden layer and 1 neuron in output layer\n",
        "\n",
        "-**You get your weights and bias by first running np.random.seed(789)**\n",
        "\n",
        "*   Generate the random weights with values between (-5 to 25) for all neurons in network\n",
        "*   Generate bias for all neurons in the network with value  1.\n",
        "* Activation function is  Sigmoid for all neurons in the network\n",
        "\n",
        " Calculate the output of network for sample 2 with given data\n",
        "    "
      ]
    },
    {
      "cell_type": "markdown",
      "source": [
        " \\begin{align}\n",
        "    X^{[1]}= \\begin{pmatrix}\n",
        "    2 & -1 & 3 \\\\\n",
        "    -4 & 1 & 2\\\\\n",
        "    \\end{pmatrix}\n",
        "    \\end{align}"
      ],
      "metadata": {
        "id": "bEwFsKZm7v2c"
      },
      "id": "bEwFsKZm7v2c"
    },
    {
      "cell_type": "markdown",
      "id": "49990fe8",
      "metadata": {
        "id": "49990fe8"
      },
      "source": [
        "3. Explain the model summary and architecture NN from a tensorflow model\n",
        "\n",
        "4. Explain the role of the `optimizer`, `loss`, and `metric` that we specify during the `compile` step.\n",
        "\n",
        "5. Explain the three ways of carrying out *gradient descent*.\n",
        "\n",
        "6. What does the term `epoch` mean?\n",
        "\n",
        "\n",
        "7. What does the term `batch_size` mean?\n",
        "\n",
        "\n",
        "8. How many samples does the following data have:\n",
        "    - $X = \\left[\\begin{array}{cccccc}\n",
        "                -1 & -1 & -5 &  2 &  1 &  2 \\\\\n",
        "                 1 &  3 & -4 & -1 & -1 &  2 \\\\\n",
        "                -2 & -1 &  4 & -2 & -3 &  0 \\\\\n",
        "                 4 &  4 & -4 &  4 & -1 &  1 \\\\\n",
        "                -4 &  3 & -3 & -5 &  2 &  2 \\\\\n",
        "                -4 & -1 & -4 & -1 & -4 & -4 \\\\\n",
        "                 0 & -1 &  1 & -1 & -3 & -5 \\end{array}\\right]$"
      ]
    },
    {
      "cell_type": "markdown",
      "id": "858a2ba3",
      "metadata": {
        "id": "858a2ba3"
      },
      "source": [
        "9. How many features does each sample in the following data have:\n",
        "    - $X = \\left[\\begin{array}{cccccccc}\n",
        "                -1 & -1 & -5 &  2 &  1 &  2 & -1 &  4 \\\\\n",
        "                 1 &  3 & -4 & -1 & -1 &  2 & -5 &  2 \\\\\n",
        "                -2 & -1 &  4 & -2 & -3 &  0 &  3 & -4 \\\\\n",
        "                 4 &  4 & -4 &  4 & -1 &  1 & -4 & -1 \\\\\n",
        "                -4 &  3 & -3 & -5 &  2 &  2 & -1 &  4\n",
        "                \\end{array}\\right]$"
      ]
    },
    {
      "cell_type": "markdown",
      "id": "7763b0ff",
      "metadata": {
        "id": "7763b0ff"
      },
      "source": [
        "10. How many neurons are in layer 3:\n",
        "    - $W^{[3]} = \\left[\\begin{array}{cccc}\n",
        "                -1 & -5 &  2 &  1 \\\\\n",
        "                 3 & -4 & -1 & -1 \\\\\n",
        "                -1 &  4 & -2 & -3 \\\\\n",
        "                 4 & -4 &  4 & -1 \\\\\n",
        "                 3 & -3 & -5 &  2 \\\\\n",
        "                -1 & -4 & -1 & -4 \\end{array}\\right]$"
      ]
    },
    {
      "cell_type": "markdown",
      "id": "9dbc8b24",
      "metadata": {
        "id": "9dbc8b24"
      },
      "source": [
        "11. Explain the role of the `learning_rate`.\n"
      ]
    },
    {
      "cell_type": "markdown",
      "id": "e6de9a21",
      "metadata": {
        "id": "e6de9a21"
      },
      "source": [
        "13. What is the difference between the network used for training and the network used for testing?\n",
        "14. What two pieces of information does the derivative tells with respect to adjusting the parameters of the network?\n",
        "15. Describe a straightforward method that could be used to update the weights in a neural network.\n",
        "16. What do you happens in forward pass?\n",
        "18. Explain Backpropagation.\n",
        "19. If a network is fully connected, what does that mean?\n",
        "20. What is deep learning? Give one difference between deep learning and  simple machine learning\n",
        "21. Explain different types of gradient descent method   \n",
        "23. Explain vanishing and exploding gradient problem.\n"
      ]
    },
    {
      "cell_type": "markdown",
      "source": [
        "22. You get your data by running np.random.seed(3813) and then creating the array X = np.random.randint(0,255,(3520, 105, 87)).When the data is converted to the correct dimensions for a fully-connected network, what is the new 3536th pixel value for the 2735th image?"
      ],
      "metadata": {
        "id": "UCquDV7ChSUc"
      },
      "id": "UCquDV7ChSUc"
    }
  ],
  "metadata": {
    "kernelspec": {
      "display_name": "Python 3 (ipykernel)",
      "language": "python",
      "name": "python3"
    },
    "language_info": {
      "codemirror_mode": {
        "name": "ipython",
        "version": 3
      },
      "file_extension": ".py",
      "mimetype": "text/x-python",
      "name": "python",
      "nbconvert_exporter": "python",
      "pygments_lexer": "ipython3",
      "version": "3.7.13"
    },
    "colab": {
      "provenance": []
    }
  },
  "nbformat": 4,
  "nbformat_minor": 5
}
