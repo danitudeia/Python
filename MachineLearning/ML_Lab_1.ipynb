{
 "cells": [
  {
   "cell_type": "markdown",
   "metadata": {
    "tags": []
   },
   "source": [
    "## DAB200 -- Graded Lab 1\n",
    "\n",
    "In this lab, you will gain some experience in **denoising** a dataset in the context of a specific objective. \n",
    "\n",
    "**Overall Objective**: Create a model that predicts rent prices as well as possible for typical New York City apartments."
   ]
  },
  {
   "cell_type": "markdown",
   "metadata": {},
   "source": [
    "**Data set**: make sure you use the data with the same number as your group number!\n",
    "\n",
    "| Group | Data set |\n",
    "| :-: | :-: |\n",
    "| 1 | rent_1.csv |\n",
    "| 2 | rent_2.csv |\n",
    "| etc. | etc. |\n",
    "\n",
    "**Important Notes:**\n",
    " - This lab is more open-ended so be prepared to think on your own, in a logical way, in order to solve the problem at hand\n",
    "     - You should be able to support any decision you make with logical evidence\n",
    " - The data looks like the data we have been using in class but it has other **surprises**\n",
    "     - Be sure to investigate the data in a way that allows you to discover all these surprises\n",
    " - Use [Chapter 5](https://mlbook.explained.ai/prep.html) of the textbook as a **guide**, except:\n",
    "     - you only need to use **random forest** models;\n",
    "     - exclude Section 5.5; \n",
    " - Code submitted for this lab should be:\n",
    "     - error free\n",
    "         - to make sure this is the case, before submitting, close all Jupyter notebooks, exit Anaconda, reload the lab notebook and execute all cells\n",
    "     - final code\n",
    "         - this means that I don't want to see every piece of code you try as you work through this lab but only the final code; only the code that fulfills the objective\n",
    " - Use the **out-of-bag score** to evaluate models\n",
    "     - Read Section 5.2 carefully so that you use this method properly\n",
    "     - The oob score that you provide should be the average of 10 runs\n",
    " - Don't make assumptions!\n",
    "\n",
    "I have broken the lab down into 4 main parts. "
   ]
  },
  {
   "cell_type": "markdown",
   "metadata": {},
   "source": [
    "### Part 0\n",
    "\n",
    "Please provide the following information:\n",
    " - Group Number: Group 10\n",
    " - Group Members\n",
    "     - Danielle Do Val Goncalves Tudeia (W0823569)\n",
    "     - Fernanda Barbieri de Camargo (W0825882)\n",
    "     - Mostafa Issa Mahmoud Kanaan (Student ID)\n",
    "\n",
    "     "
   ]
  },
  {
   "cell_type": "markdown",
   "metadata": {},
   "source": [
    "### Part 1 - Create and evaluate an initial model\n",
    "\n",
    "#### Code (15 marks)"
   ]
  },
  {
   "cell_type": "code",
   "execution_count": 62,
   "metadata": {},
   "outputs": [],
   "source": [
    "import pandas as pd"
   ]
  },
  {
   "cell_type": "code",
   "execution_count": 63,
   "metadata": {
    "tags": []
   },
   "outputs": [
    {
     "name": "stdout",
     "output_type": "stream",
     "text": [
      "<class 'pandas.core.frame.DataFrame'>\n",
      "RangeIndex: 20000 entries, 0 to 19999\n",
      "Data columns (total 15 columns):\n",
      " #   Column           Non-Null Count  Dtype  \n",
      "---  ------           --------------  -----  \n",
      " 0   bathrooms        20000 non-null  float64\n",
      " 1   bedrooms         20000 non-null  int64  \n",
      " 2   building_id      20000 non-null  object \n",
      " 3   created          20000 non-null  object \n",
      " 4   description      19399 non-null  object \n",
      " 5   display_address  19943 non-null  object \n",
      " 6   features         20000 non-null  object \n",
      " 7   latitude         20000 non-null  float64\n",
      " 8   longitude        20000 non-null  float64\n",
      " 9   manager_id       20000 non-null  object \n",
      " 10  photos           20000 non-null  object \n",
      " 11  price            20000 non-null  int64  \n",
      " 12  street_address   19996 non-null  object \n",
      " 13  interest_level   20000 non-null  int64  \n",
      " 14  num_desc_words   20000 non-null  int64  \n",
      "dtypes: float64(3), int64(4), object(8)\n",
      "memory usage: 2.3+ MB\n"
     ]
    }
   ],
   "source": [
    "# read and understand the data frame structure\n",
    "df = pd.read_csv(\"rent_10.csv\")\n",
    "df.info()   "
   ]
  },
  {
   "cell_type": "code",
   "execution_count": 64,
   "metadata": {},
   "outputs": [
    {
     "name": "stdout",
     "output_type": "stream",
     "text": [
      "<class 'pandas.core.frame.DataFrame'>\n",
      "RangeIndex: 20000 entries, 0 to 19999\n",
      "Data columns (total 5 columns):\n",
      " #   Column     Non-Null Count  Dtype  \n",
      "---  ------     --------------  -----  \n",
      " 0   bathrooms  20000 non-null  float64\n",
      " 1   bedrooms   20000 non-null  int64  \n",
      " 2   latitude   20000 non-null  float64\n",
      " 3   longitude  20000 non-null  float64\n",
      " 4   price      20000 non-null  int64  \n",
      "dtypes: float64(3), int64(2)\n",
      "memory usage: 781.4 KB\n"
     ]
    }
   ],
   "source": [
    "# create a new data frame only with the numerical features\n",
    "df_num = df[['bathrooms','bedrooms','latitude','longitude','price']]\n",
    "df_num.info()"
   ]
  },
  {
   "cell_type": "code",
   "execution_count": 65,
   "metadata": {},
   "outputs": [
    {
     "data": {
      "text/plain": [
       "bathrooms    False\n",
       "bedrooms     False\n",
       "latitude     False\n",
       "longitude    False\n",
       "price        False\n",
       "dtype: bool"
      ]
     },
     "execution_count": 65,
     "metadata": {},
     "output_type": "execute_result"
    }
   ],
   "source": [
    "# make sure if we have any missin values\n",
    "df_num.isnull().any() "
   ]
  },
  {
   "cell_type": "code",
   "execution_count": 66,
   "metadata": {},
   "outputs": [
    {
     "data": {
      "text/html": [
       "<div>\n",
       "<style scoped>\n",
       "    .dataframe tbody tr th:only-of-type {\n",
       "        vertical-align: middle;\n",
       "    }\n",
       "\n",
       "    .dataframe tbody tr th {\n",
       "        vertical-align: top;\n",
       "    }\n",
       "\n",
       "    .dataframe thead th {\n",
       "        text-align: right;\n",
       "    }\n",
       "</style>\n",
       "<table border=\"1\" class=\"dataframe\">\n",
       "  <thead>\n",
       "    <tr style=\"text-align: right;\">\n",
       "      <th></th>\n",
       "      <th>bathrooms</th>\n",
       "      <th>bedrooms</th>\n",
       "      <th>latitude</th>\n",
       "      <th>longitude</th>\n",
       "      <th>price</th>\n",
       "    </tr>\n",
       "  </thead>\n",
       "  <tbody>\n",
       "    <tr>\n",
       "      <th>count</th>\n",
       "      <td>20000.000000</td>\n",
       "      <td>20000.000000</td>\n",
       "      <td>20000.000000</td>\n",
       "      <td>20000.000000</td>\n",
       "      <td>2.000000e+04</td>\n",
       "    </tr>\n",
       "    <tr>\n",
       "      <th>mean</th>\n",
       "      <td>1.211850</td>\n",
       "      <td>1.551500</td>\n",
       "      <td>38.562216</td>\n",
       "      <td>-70.486621</td>\n",
       "      <td>3.547407e+03</td>\n",
       "    </tr>\n",
       "    <tr>\n",
       "      <th>std</th>\n",
       "      <td>0.501106</td>\n",
       "      <td>1.112029</td>\n",
       "      <td>12.656632</td>\n",
       "      <td>41.806241</td>\n",
       "      <td>8.602687e+03</td>\n",
       "    </tr>\n",
       "    <tr>\n",
       "      <th>min</th>\n",
       "      <td>0.000000</td>\n",
       "      <td>0.000000</td>\n",
       "      <td>-41.363900</td>\n",
       "      <td>-176.805900</td>\n",
       "      <td>-2.500000e+04</td>\n",
       "    </tr>\n",
       "    <tr>\n",
       "      <th>25%</th>\n",
       "      <td>1.000000</td>\n",
       "      <td>1.000000</td>\n",
       "      <td>40.723900</td>\n",
       "      <td>-73.992700</td>\n",
       "      <td>2.450000e+03</td>\n",
       "    </tr>\n",
       "    <tr>\n",
       "      <th>50%</th>\n",
       "      <td>1.000000</td>\n",
       "      <td>1.000000</td>\n",
       "      <td>40.748700</td>\n",
       "      <td>-73.977900</td>\n",
       "      <td>3.100000e+03</td>\n",
       "    </tr>\n",
       "    <tr>\n",
       "      <th>75%</th>\n",
       "      <td>1.000000</td>\n",
       "      <td>2.000000</td>\n",
       "      <td>40.772300</td>\n",
       "      <td>-73.953800</td>\n",
       "      <td>4.025000e+03</td>\n",
       "    </tr>\n",
       "    <tr>\n",
       "      <th>max</th>\n",
       "      <td>10.000000</td>\n",
       "      <td>8.000000</td>\n",
       "      <td>42.303300</td>\n",
       "      <td>174.766400</td>\n",
       "      <td>1.150000e+06</td>\n",
       "    </tr>\n",
       "  </tbody>\n",
       "</table>\n",
       "</div>"
      ],
      "text/plain": [
       "          bathrooms      bedrooms      latitude     longitude         price\n",
       "count  20000.000000  20000.000000  20000.000000  20000.000000  2.000000e+04\n",
       "mean       1.211850      1.551500     38.562216    -70.486621  3.547407e+03\n",
       "std        0.501106      1.112029     12.656632     41.806241  8.602687e+03\n",
       "min        0.000000      0.000000    -41.363900   -176.805900 -2.500000e+04\n",
       "25%        1.000000      1.000000     40.723900    -73.992700  2.450000e+03\n",
       "50%        1.000000      1.000000     40.748700    -73.977900  3.100000e+03\n",
       "75%        1.000000      2.000000     40.772300    -73.953800  4.025000e+03\n",
       "max       10.000000      8.000000     42.303300    174.766400  1.150000e+06"
      ]
     },
     "execution_count": 66,
     "metadata": {},
     "output_type": "execute_result"
    }
   ],
   "source": [
    "# describe the data. PS: observe the \"max\" value -> 10 bathrooms, and the longitude (probably we have outliers)\n",
    "df_num.describe() "
   ]
  },
  {
   "cell_type": "code",
   "execution_count": 67,
   "metadata": {
    "tags": []
   },
   "outputs": [],
   "source": [
    "import seaborn as sns\n",
    "import matplotlib.pyplot as plt"
   ]
  },
  {
   "cell_type": "code",
   "execution_count": 68,
   "metadata": {},
   "outputs": [
    {
     "data": {
      "text/plain": [
       "<AxesSubplot:title={'center':'Bedrooms vs Bathrooms'}, xlabel='bedrooms', ylabel='bathrooms'>"
      ]
     },
     "execution_count": 68,
     "metadata": {},
     "output_type": "execute_result"
    },
    {
     "data": {
      "image/png": "[encoded data removed]",
      "text/plain": [
       "<Figure size 640x480 with 1 Axes>"
      ]
     },
     "metadata": {},
     "output_type": "display_data"
    }
   ],
   "source": [
    "# Check for some possible outliers (analyzing bedrooms vs bathrooms)\n",
    "sns.set_style(\"whitegrid\")\n",
    "h = sns.scatterplot(x= 'bedrooms', y = 'bathrooms', data = df_num)\n",
    "plt.title(\"Bedrooms vs Bathrooms\")\n",
    "h"
   ]
  },
  {
   "cell_type": "code",
   "execution_count": 69,
   "metadata": {
    "tags": []
   },
   "outputs": [
    {
     "data": {
      "text/plain": [
       "1    6421\n",
       "2    5986\n",
       "0    3733\n",
       "3    2960\n",
       "4     767\n",
       "5     112\n",
       "6      19\n",
       "8       1\n",
       "7       1\n",
       "Name: bedrooms, dtype: int64"
      ]
     },
     "execution_count": 69,
     "metadata": {},
     "output_type": "execute_result"
    }
   ],
   "source": [
    "# Check how many apartments we have grouping them by number of bedrooms\n",
    "df_num['bedrooms'].value_counts()"
   ]
  },
  {
   "cell_type": "code",
   "execution_count": 70,
   "metadata": {},
   "outputs": [
    {
     "data": {
      "text/plain": [
       "1.0     15951\n",
       "2.0      3095\n",
       "3.0       312\n",
       "1.5       284\n",
       "0.0       133\n",
       "2.5       121\n",
       "4.0        60\n",
       "3.5        23\n",
       "5.0         8\n",
       "4.5         7\n",
       "5.5         3\n",
       "6.0         1\n",
       "7.0         1\n",
       "10.0        1\n",
       "Name: bathrooms, dtype: int64"
      ]
     },
     "execution_count": 70,
     "metadata": {},
     "output_type": "execute_result"
    }
   ],
   "source": [
    "# Check how many apartments we have grouping them by number of bathrooms\n",
    "df_num['bathrooms'].value_counts()"
   ]
  },
  {
   "cell_type": "code",
   "execution_count": 71,
   "metadata": {},
   "outputs": [
    {
     "data": {
      "text/plain": [
       "<AxesSubplot:title={'center':'NY Lat, Long = (40.71427, -74.00597)'}, xlabel='longitude', ylabel='latitude'>"
      ]
     },
     "execution_count": 71,
     "metadata": {},
     "output_type": "execute_result"
    },
    {
     "data": {
      "image/png": "[encoded data removed]",
      "text/plain": [
       "<Figure size 640x480 with 1 Axes>"
      ]
     },
     "metadata": {},
     "output_type": "display_data"
    }
   ],
   "source": [
    "# Check for some possible outliers (analyzing latitude vs longitude)\n",
    "sns.set_style(\"whitegrid\")\n",
    "h = sns.scatterplot(x= 'longitude', y = 'latitude', data = df_num)\n",
    "plt.suptitle(\"Latitude vs Longitude\")\n",
    "plt.title(\"NY Lat, Long = (40.71427, -74.00597)\")\n",
    "h"
   ]
  },
  {
   "cell_type": "code",
   "execution_count": 72,
   "metadata": {},
   "outputs": [
    {
     "data": {
      "text/plain": [
       "<AxesSubplot:title={'center':'Bedrooms vs Price'}, xlabel='bedrooms', ylabel='price'>"
      ]
     },
     "execution_count": 72,
     "metadata": {},
     "output_type": "execute_result"
    },
    {
     "data": {
      "image/png": "[encoded data removed]",
      "text/plain": [
       "<Figure size 640x480 with 1 Axes>"
      ]
     },
     "metadata": {},
     "output_type": "display_data"
    }
   ],
   "source": [
    "# Check for some possible outliers (analyzing bedrooms vs price)\n",
    "sns.set_style(\"whitegrid\")\n",
    "h = sns.scatterplot(x= 'bedrooms', y = 'price', data = df_num, alpha = 0.5)\n",
    "plt.title(\"Bedrooms vs Price\")\n",
    "h"
   ]
  },
  {
   "cell_type": "code",
   "execution_count": 73,
   "metadata": {
    "tags": []
   },
   "outputs": [
    {
     "data": {
      "text/plain": [
       "2500    423\n",
       "3200    372\n",
       "2700    338\n",
       "3000    324\n",
       "2400    307\n",
       "       ... \n",
       "5565      1\n",
       "8722      1\n",
       "3706      1\n",
       "3596      1\n",
       "1460      1\n",
       "Name: price, Length: 2054, dtype: int64"
      ]
     },
     "execution_count": 73,
     "metadata": {},
     "output_type": "execute_result"
    }
   ],
   "source": [
    "# Check how many apartments we have grouping them by rent price\n",
    "df_num[\"price\"].value_counts()"
   ]
  },
  {
   "cell_type": "code",
   "execution_count": 74,
   "metadata": {},
   "outputs": [
    {
     "data": {
      "text/plain": [
       "963       -25000\n",
       "1039      -18000\n",
       "17336     -14000\n",
       "3744      -13995\n",
       "16540     -11250\n",
       "          ...   \n",
       "11046      60000\n",
       "7584      100000\n",
       "7516      111111\n",
       "19435     135000\n",
       "17471    1150000\n",
       "Name: price, Length: 20000, dtype: int64"
      ]
     },
     "execution_count": 74,
     "metadata": {},
     "output_type": "execute_result"
    }
   ],
   "source": [
    "df_num[\"price\"].sort_values()"
   ]
  },
  {
   "cell_type": "code",
   "execution_count": 75,
   "metadata": {},
   "outputs": [
    {
     "data": {
      "text/html": [
       "<div>\n",
       "<style scoped>\n",
       "    .dataframe tbody tr th:only-of-type {\n",
       "        vertical-align: middle;\n",
       "    }\n",
       "\n",
       "    .dataframe tbody tr th {\n",
       "        vertical-align: top;\n",
       "    }\n",
       "\n",
       "    .dataframe thead th {\n",
       "        text-align: right;\n",
       "    }\n",
       "</style>\n",
       "<table border=\"1\" class=\"dataframe\">\n",
       "  <thead>\n",
       "    <tr style=\"text-align: right;\">\n",
       "      <th></th>\n",
       "      <th>bathrooms</th>\n",
       "      <th>bedrooms</th>\n",
       "      <th>latitude</th>\n",
       "      <th>longitude</th>\n",
       "      <th>price</th>\n",
       "    </tr>\n",
       "  </thead>\n",
       "  <tbody>\n",
       "    <tr>\n",
       "      <th>79</th>\n",
       "      <td>1.0</td>\n",
       "      <td>1</td>\n",
       "      <td>32.8498</td>\n",
       "      <td>-176.8059</td>\n",
       "      <td>-2600</td>\n",
       "    </tr>\n",
       "    <tr>\n",
       "      <th>94</th>\n",
       "      <td>1.0</td>\n",
       "      <td>1</td>\n",
       "      <td>40.7186</td>\n",
       "      <td>-73.9860</td>\n",
       "      <td>-2600</td>\n",
       "    </tr>\n",
       "    <tr>\n",
       "      <th>96</th>\n",
       "      <td>1.0</td>\n",
       "      <td>1</td>\n",
       "      <td>40.7606</td>\n",
       "      <td>-73.9963</td>\n",
       "      <td>-3300</td>\n",
       "    </tr>\n",
       "    <tr>\n",
       "      <th>101</th>\n",
       "      <td>1.0</td>\n",
       "      <td>1</td>\n",
       "      <td>40.7755</td>\n",
       "      <td>-73.9531</td>\n",
       "      <td>-2295</td>\n",
       "    </tr>\n",
       "    <tr>\n",
       "      <th>155</th>\n",
       "      <td>1.0</td>\n",
       "      <td>2</td>\n",
       "      <td>40.7081</td>\n",
       "      <td>-74.0065</td>\n",
       "      <td>-5500</td>\n",
       "    </tr>\n",
       "    <tr>\n",
       "      <th>...</th>\n",
       "      <td>...</td>\n",
       "      <td>...</td>\n",
       "      <td>...</td>\n",
       "      <td>...</td>\n",
       "      <td>...</td>\n",
       "    </tr>\n",
       "    <tr>\n",
       "      <th>19842</th>\n",
       "      <td>1.0</td>\n",
       "      <td>1</td>\n",
       "      <td>40.7827</td>\n",
       "      <td>-73.9461</td>\n",
       "      <td>-2050</td>\n",
       "    </tr>\n",
       "    <tr>\n",
       "      <th>19884</th>\n",
       "      <td>2.0</td>\n",
       "      <td>3</td>\n",
       "      <td>40.7180</td>\n",
       "      <td>-74.0112</td>\n",
       "      <td>-5895</td>\n",
       "    </tr>\n",
       "    <tr>\n",
       "      <th>19927</th>\n",
       "      <td>1.0</td>\n",
       "      <td>0</td>\n",
       "      <td>40.7433</td>\n",
       "      <td>-73.9809</td>\n",
       "      <td>-2150</td>\n",
       "    </tr>\n",
       "    <tr>\n",
       "      <th>19948</th>\n",
       "      <td>1.0</td>\n",
       "      <td>1</td>\n",
       "      <td>40.7388</td>\n",
       "      <td>-73.9198</td>\n",
       "      <td>-1600</td>\n",
       "    </tr>\n",
       "    <tr>\n",
       "      <th>19978</th>\n",
       "      <td>1.0</td>\n",
       "      <td>2</td>\n",
       "      <td>41.0243</td>\n",
       "      <td>-73.7708</td>\n",
       "      <td>-2150</td>\n",
       "    </tr>\n",
       "  </tbody>\n",
       "</table>\n",
       "<p>491 rows × 5 columns</p>\n",
       "</div>"
      ],
      "text/plain": [
       "       bathrooms  bedrooms  latitude  longitude  price\n",
       "79           1.0         1   32.8498  -176.8059  -2600\n",
       "94           1.0         1   40.7186   -73.9860  -2600\n",
       "96           1.0         1   40.7606   -73.9963  -3300\n",
       "101          1.0         1   40.7755   -73.9531  -2295\n",
       "155          1.0         2   40.7081   -74.0065  -5500\n",
       "...          ...       ...       ...        ...    ...\n",
       "19842        1.0         1   40.7827   -73.9461  -2050\n",
       "19884        2.0         3   40.7180   -74.0112  -5895\n",
       "19927        1.0         0   40.7433   -73.9809  -2150\n",
       "19948        1.0         1   40.7388   -73.9198  -1600\n",
       "19978        1.0         2   41.0243   -73.7708  -2150\n",
       "\n",
       "[491 rows x 5 columns]"
      ]
     },
     "execution_count": 75,
     "metadata": {},
     "output_type": "execute_result"
    }
   ],
   "source": [
    "# How many negative rent prices do we have?\n",
    "df_num[df_num[\"price\"] <= 0]"
   ]
  },
  {
   "cell_type": "markdown",
   "metadata": {},
   "source": [
    "##### Train Data"
   ]
  },
  {
   "cell_type": "code",
   "execution_count": 76,
   "metadata": {},
   "outputs": [],
   "source": [
    "# Create our train data\n",
    "X_train = df_num.drop('price', axis = 1)\n",
    "y_train = df_num['price']"
   ]
  },
  {
   "cell_type": "code",
   "execution_count": 77,
   "metadata": {},
   "outputs": [],
   "source": [
    "from sklearn.ensemble import RandomForestRegressor"
   ]
  },
  {
   "cell_type": "code",
   "execution_count": 78,
   "metadata": {},
   "outputs": [
    {
     "data": {
      "text/plain": [
       "RandomForestRegressor(n_jobs=-1, oob_score=True, random_state=30)"
      ]
     },
     "execution_count": 78,
     "metadata": {},
     "output_type": "execute_result"
    }
   ],
   "source": [
    "rf = RandomForestRegressor(n_estimators=100, n_jobs=-1, oob_score = True, random_state = 30)\n",
    "rf.fit(X_train, y_train)"
   ]
  },
  {
   "cell_type": "code",
   "execution_count": 79,
   "metadata": {},
   "outputs": [
    {
     "name": "stdout",
     "output_type": "stream",
     "text": [
      "0.8599020230321259\n"
     ]
    }
   ],
   "source": [
    "# Calculate the r2 score\n",
    "r2 = rf.score(X_train, y_train)\n",
    "print(r2)"
   ]
  },
  {
   "cell_type": "code",
   "execution_count": 80,
   "metadata": {},
   "outputs": [
    {
     "name": "stdout",
     "output_type": "stream",
     "text": [
      "OOB score is -0.01812318891663467\n"
     ]
    }
   ],
   "source": [
    "# Calculate the OOB\n",
    "noisy_oob_r2 = rf.oob_score_\n",
    "print(\"OOB score is\", noisy_oob_r2)  #the result is the worst (the same as predict using only the average)"
   ]
  },
  {
   "cell_type": "markdown",
   "metadata": {},
   "source": [
    "#### Explanation (5 marks)\n",
    "\n",
    "Please provide an explanation and justification for the code submitted in **Part 1** in the context of the overall objective. "
   ]
  },
  {
   "cell_type": "markdown",
   "metadata": {},
   "source": [
    "As we can observe, our main dataset (df) has missing values in the non-numerical features.\n",
    "\n",
    "We created a new data set (df_num) only with the folowwing features ('bathrooms','bedrooms','latitude','longitude','price'). For this model, only these features will be taken into consideration for the analysis. There are no missing values.\n",
    "\n",
    "Looking at the features description, we can observe some interesting things:\n",
    "    - BATHROOM: we have apartments with 0 bathroom and 10 bathrooms; 0 bathrooms could not make any sense, and 10 bathrooms seems exagerated.\n",
    "    - BEDROOMS: we have apartments with 0 bedrooms and 8 bedrooms; 0 bedrooms could not make any sense to an apartment, and 8 bedrooms could be exagerated.\n",
    "    - LATITUDE: if some value is negative, it means that the apartment is located in the south hemisphere. New york latitude is 40.71427\n",
    "    - LONGITUDE: we have longitude equals 174.766400 and -176.805900. New York longitude is -74.00597. \n",
    "    - PRICE: we have apartments with negative price (-2.500000e+04) which does not make any sense.\n",
    "PS: the information about New York latitude and longitude can be found on https://www.geodatos.net/en/coordinates/united-states/new-york-city\n",
    "\n",
    "\n",
    "Because we have found some inconsistencies in our dataset, some charts were plotted to understand the data.\n",
    "\n",
    "- INCONSISTENCIES - BEDROM VS. BATHROOM\n",
    "    - Apartments with many more bathrooms than bedrooms\n",
    "    - Apartments with 0 bathrooms and more than 1 bedroom\n",
    "    - Apartments with 0 bedrooms and more than 1 bathroom\n",
    "    - POSSIBLE INCONSISTENCIE: apartments with 7 and 8 bedrooms\n",
    "    \n",
    "    \n",
    "- INCONSISTENCIES - LATITUDE VS. LONGITUDE\n",
    "    - New York coordinates are (40.71427, -74.00597). Any coordinate much different than this is wrong\n",
    "    \n",
    "    \n",
    "- INCONSISTENCES - BEDROOM VS. PRICE\n",
    "    - We have an apartment with 2 bedrooms with the rent price of $1.2MM\n",
    "    - We have apartments with 0 bedrooms more expansive than apartments with 3 bedrooms\n",
    "    - We have 491 negative prices\n",
    "\n",
    "Then, we created our first model\n",
    "- X_train = df_num.drop('price', axis = 1) -> our X_train variable is considering the features: bathrooms, bedrooms, latitude and longitude.\n",
    "- y_train = df_num['price'] -> our y_train variable is our predicted variable, only considering the price feature.\n",
    "- We created a variable \"rf\" to use the RandomForestRegressor algorithim considering 3 parameters:\n",
    "    - number of estimators defines the number of decisions trees used in our model (for our case is 100)\n",
    "    - number of jobs defines how many processors the train model can use in parallel. -1 means that all processors available can be used.\n",
    "    - oob_score to estimate the generalization score. Our case is oob_score = True, so we can calculate it during the training phase\n",
    "- Train the model - rf.fit(X_train, y_train) - using our training data defined.\n",
    "- After all those steps, our model is trained and ready to be evaluated.\n",
    "\n",
    "#### Evaluate the Model\n",
    "Here we are going to evaluate our model using two methods: R^2 and oob_score.\n",
    "- R^2 = 0.85 - approximately 84.43% of the variance of the 'price' can be explained by the independent variables ('bathrooms', 'bedrooms', 'latitude', 'longitude', 'price'). Only the R^2 score is not enough to determine if our model is a good model.\n",
    "- OOB Score = -0.0181 - our model's predictions are performing poorly. The OOB value is calculated by testing the model on the data points that were not included in the bootstrap samples during training.\n",
    "\n",
    "The model is not good. We must clean our data"
   ]
  },
  {
   "cell_type": "markdown",
   "metadata": {
    "tags": []
   },
   "source": [
    "### Part 2 - Denoise the data\n",
    "\n",
    "This section should only include the code necessary to **denoise** the data, NOT the code necessary to identify inconsistencies, problems, errors, etc. in the data. \n",
    "\n",
    "#### Code (25 marks)"
   ]
  },
  {
   "cell_type": "code",
   "execution_count": 91,
   "metadata": {},
   "outputs": [
    {
     "data": {
      "text/html": [
       "<div>\n",
       "<style scoped>\n",
       "    .dataframe tbody tr th:only-of-type {\n",
       "        vertical-align: middle;\n",
       "    }\n",
       "\n",
       "    .dataframe tbody tr th {\n",
       "        vertical-align: top;\n",
       "    }\n",
       "\n",
       "    .dataframe thead th {\n",
       "        text-align: right;\n",
       "    }\n",
       "</style>\n",
       "<table border=\"1\" class=\"dataframe\">\n",
       "  <thead>\n",
       "    <tr style=\"text-align: right;\">\n",
       "      <th></th>\n",
       "      <th>bathrooms</th>\n",
       "      <th>bedrooms</th>\n",
       "      <th>latitude</th>\n",
       "      <th>longitude</th>\n",
       "      <th>price</th>\n",
       "    </tr>\n",
       "  </thead>\n",
       "  <tbody>\n",
       "    <tr>\n",
       "      <th>0</th>\n",
       "      <td>1.0</td>\n",
       "      <td>2</td>\n",
       "      <td>40.6853</td>\n",
       "      <td>-73.9130</td>\n",
       "      <td>2195</td>\n",
       "    </tr>\n",
       "    <tr>\n",
       "      <th>1</th>\n",
       "      <td>1.0</td>\n",
       "      <td>1</td>\n",
       "      <td>40.7631</td>\n",
       "      <td>-73.9581</td>\n",
       "      <td>2100</td>\n",
       "    </tr>\n",
       "    <tr>\n",
       "      <th>2</th>\n",
       "      <td>1.0</td>\n",
       "      <td>0</td>\n",
       "      <td>40.7366</td>\n",
       "      <td>-73.9934</td>\n",
       "      <td>3200</td>\n",
       "    </tr>\n",
       "    <tr>\n",
       "      <th>3</th>\n",
       "      <td>0.0</td>\n",
       "      <td>0</td>\n",
       "      <td>40.7413</td>\n",
       "      <td>-73.9781</td>\n",
       "      <td>2653</td>\n",
       "    </tr>\n",
       "    <tr>\n",
       "      <th>4</th>\n",
       "      <td>1.0</td>\n",
       "      <td>2</td>\n",
       "      <td>40.6907</td>\n",
       "      <td>-73.9216</td>\n",
       "      <td>2933</td>\n",
       "    </tr>\n",
       "    <tr>\n",
       "      <th>...</th>\n",
       "      <td>...</td>\n",
       "      <td>...</td>\n",
       "      <td>...</td>\n",
       "      <td>...</td>\n",
       "      <td>...</td>\n",
       "    </tr>\n",
       "    <tr>\n",
       "      <th>19995</th>\n",
       "      <td>1.0</td>\n",
       "      <td>1</td>\n",
       "      <td>40.8675</td>\n",
       "      <td>-73.9241</td>\n",
       "      <td>2100</td>\n",
       "    </tr>\n",
       "    <tr>\n",
       "      <th>19996</th>\n",
       "      <td>1.0</td>\n",
       "      <td>3</td>\n",
       "      <td>40.7080</td>\n",
       "      <td>-74.0149</td>\n",
       "      <td>3995</td>\n",
       "    </tr>\n",
       "    <tr>\n",
       "      <th>19997</th>\n",
       "      <td>3.0</td>\n",
       "      <td>3</td>\n",
       "      <td>40.7669</td>\n",
       "      <td>-73.9621</td>\n",
       "      <td>11000</td>\n",
       "    </tr>\n",
       "    <tr>\n",
       "      <th>19998</th>\n",
       "      <td>1.0</td>\n",
       "      <td>0</td>\n",
       "      <td>40.7815</td>\n",
       "      <td>-73.9472</td>\n",
       "      <td>1825</td>\n",
       "    </tr>\n",
       "    <tr>\n",
       "      <th>19999</th>\n",
       "      <td>1.0</td>\n",
       "      <td>0</td>\n",
       "      <td>40.7137</td>\n",
       "      <td>-73.9904</td>\n",
       "      <td>2400</td>\n",
       "    </tr>\n",
       "  </tbody>\n",
       "</table>\n",
       "<p>19496 rows × 5 columns</p>\n",
       "</div>"
      ],
      "text/plain": [
       "       bathrooms  bedrooms  latitude  longitude  price\n",
       "0            1.0         2   40.6853   -73.9130   2195\n",
       "1            1.0         1   40.7631   -73.9581   2100\n",
       "2            1.0         0   40.7366   -73.9934   3200\n",
       "3            0.0         0   40.7413   -73.9781   2653\n",
       "4            1.0         2   40.6907   -73.9216   2933\n",
       "...          ...       ...       ...        ...    ...\n",
       "19995        1.0         1   40.8675   -73.9241   2100\n",
       "19996        1.0         3   40.7080   -74.0149   3995\n",
       "19997        3.0         3   40.7669   -73.9621  11000\n",
       "19998        1.0         0   40.7815   -73.9472   1825\n",
       "19999        1.0         0   40.7137   -73.9904   2400\n",
       "\n",
       "[19496 rows x 5 columns]"
      ]
     },
     "execution_count": 91,
     "metadata": {},
     "output_type": "execute_result"
    }
   ],
   "source": [
    "# Removing negative rent prices and overprices\n",
    "df_clean = df_num[(df_num['price'] > 1000) & (df_num['price'] <= 100000)] \n",
    "df_clean"
   ]
  },
  {
   "cell_type": "code",
   "execution_count": 92,
   "metadata": {},
   "outputs": [
    {
     "data": {
      "text/html": [
       "<div>\n",
       "<style scoped>\n",
       "    .dataframe tbody tr th:only-of-type {\n",
       "        vertical-align: middle;\n",
       "    }\n",
       "\n",
       "    .dataframe tbody tr th {\n",
       "        vertical-align: top;\n",
       "    }\n",
       "\n",
       "    .dataframe thead th {\n",
       "        text-align: right;\n",
       "    }\n",
       "</style>\n",
       "<table border=\"1\" class=\"dataframe\">\n",
       "  <thead>\n",
       "    <tr style=\"text-align: right;\">\n",
       "      <th></th>\n",
       "      <th>bathrooms</th>\n",
       "      <th>bedrooms</th>\n",
       "      <th>latitude</th>\n",
       "      <th>longitude</th>\n",
       "      <th>price</th>\n",
       "    </tr>\n",
       "  </thead>\n",
       "  <tbody>\n",
       "    <tr>\n",
       "      <th>0</th>\n",
       "      <td>1.0</td>\n",
       "      <td>2</td>\n",
       "      <td>40.6853</td>\n",
       "      <td>-73.9130</td>\n",
       "      <td>2195</td>\n",
       "    </tr>\n",
       "    <tr>\n",
       "      <th>1</th>\n",
       "      <td>1.0</td>\n",
       "      <td>1</td>\n",
       "      <td>40.7631</td>\n",
       "      <td>-73.9581</td>\n",
       "      <td>2100</td>\n",
       "    </tr>\n",
       "    <tr>\n",
       "      <th>2</th>\n",
       "      <td>1.0</td>\n",
       "      <td>0</td>\n",
       "      <td>40.7366</td>\n",
       "      <td>-73.9934</td>\n",
       "      <td>3200</td>\n",
       "    </tr>\n",
       "    <tr>\n",
       "      <th>3</th>\n",
       "      <td>0.0</td>\n",
       "      <td>0</td>\n",
       "      <td>40.7413</td>\n",
       "      <td>-73.9781</td>\n",
       "      <td>2653</td>\n",
       "    </tr>\n",
       "    <tr>\n",
       "      <th>4</th>\n",
       "      <td>1.0</td>\n",
       "      <td>2</td>\n",
       "      <td>40.6907</td>\n",
       "      <td>-73.9216</td>\n",
       "      <td>2933</td>\n",
       "    </tr>\n",
       "    <tr>\n",
       "      <th>...</th>\n",
       "      <td>...</td>\n",
       "      <td>...</td>\n",
       "      <td>...</td>\n",
       "      <td>...</td>\n",
       "      <td>...</td>\n",
       "    </tr>\n",
       "    <tr>\n",
       "      <th>19995</th>\n",
       "      <td>1.0</td>\n",
       "      <td>1</td>\n",
       "      <td>40.8675</td>\n",
       "      <td>-73.9241</td>\n",
       "      <td>2100</td>\n",
       "    </tr>\n",
       "    <tr>\n",
       "      <th>19996</th>\n",
       "      <td>1.0</td>\n",
       "      <td>3</td>\n",
       "      <td>40.7080</td>\n",
       "      <td>-74.0149</td>\n",
       "      <td>3995</td>\n",
       "    </tr>\n",
       "    <tr>\n",
       "      <th>19997</th>\n",
       "      <td>3.0</td>\n",
       "      <td>3</td>\n",
       "      <td>40.7669</td>\n",
       "      <td>-73.9621</td>\n",
       "      <td>11000</td>\n",
       "    </tr>\n",
       "    <tr>\n",
       "      <th>19998</th>\n",
       "      <td>1.0</td>\n",
       "      <td>0</td>\n",
       "      <td>40.7815</td>\n",
       "      <td>-73.9472</td>\n",
       "      <td>1825</td>\n",
       "    </tr>\n",
       "    <tr>\n",
       "      <th>19999</th>\n",
       "      <td>1.0</td>\n",
       "      <td>0</td>\n",
       "      <td>40.7137</td>\n",
       "      <td>-73.9904</td>\n",
       "      <td>2400</td>\n",
       "    </tr>\n",
       "  </tbody>\n",
       "</table>\n",
       "<p>18515 rows × 5 columns</p>\n",
       "</div>"
      ],
      "text/plain": [
       "       bathrooms  bedrooms  latitude  longitude  price\n",
       "0            1.0         2   40.6853   -73.9130   2195\n",
       "1            1.0         1   40.7631   -73.9581   2100\n",
       "2            1.0         0   40.7366   -73.9934   3200\n",
       "3            0.0         0   40.7413   -73.9781   2653\n",
       "4            1.0         2   40.6907   -73.9216   2933\n",
       "...          ...       ...       ...        ...    ...\n",
       "19995        1.0         1   40.8675   -73.9241   2100\n",
       "19996        1.0         3   40.7080   -74.0149   3995\n",
       "19997        3.0         3   40.7669   -73.9621  11000\n",
       "19998        1.0         0   40.7815   -73.9472   1825\n",
       "19999        1.0         0   40.7137   -73.9904   2400\n",
       "\n",
       "[18515 rows x 5 columns]"
      ]
     },
     "execution_count": 92,
     "metadata": {},
     "output_type": "execute_result"
    }
   ],
   "source": [
    "# Removing the apartments outside NYC \n",
    "df_clean = df_clean[(df_clean['latitude'] <= 40.94) & (df_clean['latitude'] >= 40.55)] \n",
    "df_clean = df_clean[(df_clean['longitude'] >= -74.1) & (df_clean['longitude'] <= -73.67)]\n",
    "df_clean"
   ]
  },
  {
   "cell_type": "code",
   "execution_count": 93,
   "metadata": {},
   "outputs": [
    {
     "data": {
      "text/html": [
       "<div>\n",
       "<style scoped>\n",
       "    .dataframe tbody tr th:only-of-type {\n",
       "        vertical-align: middle;\n",
       "    }\n",
       "\n",
       "    .dataframe tbody tr th {\n",
       "        vertical-align: top;\n",
       "    }\n",
       "\n",
       "    .dataframe thead th {\n",
       "        text-align: right;\n",
       "    }\n",
       "</style>\n",
       "<table border=\"1\" class=\"dataframe\">\n",
       "  <thead>\n",
       "    <tr style=\"text-align: right;\">\n",
       "      <th></th>\n",
       "      <th>bathrooms</th>\n",
       "      <th>bedrooms</th>\n",
       "      <th>latitude</th>\n",
       "      <th>longitude</th>\n",
       "      <th>price</th>\n",
       "    </tr>\n",
       "  </thead>\n",
       "  <tbody>\n",
       "    <tr>\n",
       "      <th>0</th>\n",
       "      <td>1.0</td>\n",
       "      <td>2</td>\n",
       "      <td>40.6853</td>\n",
       "      <td>-73.9130</td>\n",
       "      <td>2195</td>\n",
       "    </tr>\n",
       "    <tr>\n",
       "      <th>1</th>\n",
       "      <td>1.0</td>\n",
       "      <td>1</td>\n",
       "      <td>40.7631</td>\n",
       "      <td>-73.9581</td>\n",
       "      <td>2100</td>\n",
       "    </tr>\n",
       "    <tr>\n",
       "      <th>4</th>\n",
       "      <td>1.0</td>\n",
       "      <td>2</td>\n",
       "      <td>40.6907</td>\n",
       "      <td>-73.9216</td>\n",
       "      <td>2933</td>\n",
       "    </tr>\n",
       "    <tr>\n",
       "      <th>6</th>\n",
       "      <td>1.0</td>\n",
       "      <td>1</td>\n",
       "      <td>40.7677</td>\n",
       "      <td>-73.9251</td>\n",
       "      <td>2350</td>\n",
       "    </tr>\n",
       "    <tr>\n",
       "      <th>7</th>\n",
       "      <td>1.0</td>\n",
       "      <td>1</td>\n",
       "      <td>40.7634</td>\n",
       "      <td>-73.9596</td>\n",
       "      <td>3565</td>\n",
       "    </tr>\n",
       "    <tr>\n",
       "      <th>...</th>\n",
       "      <td>...</td>\n",
       "      <td>...</td>\n",
       "      <td>...</td>\n",
       "      <td>...</td>\n",
       "      <td>...</td>\n",
       "    </tr>\n",
       "    <tr>\n",
       "      <th>19991</th>\n",
       "      <td>1.0</td>\n",
       "      <td>1</td>\n",
       "      <td>40.6575</td>\n",
       "      <td>-73.9505</td>\n",
       "      <td>1950</td>\n",
       "    </tr>\n",
       "    <tr>\n",
       "      <th>19993</th>\n",
       "      <td>1.0</td>\n",
       "      <td>1</td>\n",
       "      <td>40.7288</td>\n",
       "      <td>-74.0031</td>\n",
       "      <td>2800</td>\n",
       "    </tr>\n",
       "    <tr>\n",
       "      <th>19995</th>\n",
       "      <td>1.0</td>\n",
       "      <td>1</td>\n",
       "      <td>40.8675</td>\n",
       "      <td>-73.9241</td>\n",
       "      <td>2100</td>\n",
       "    </tr>\n",
       "    <tr>\n",
       "      <th>19996</th>\n",
       "      <td>1.0</td>\n",
       "      <td>3</td>\n",
       "      <td>40.7080</td>\n",
       "      <td>-74.0149</td>\n",
       "      <td>3995</td>\n",
       "    </tr>\n",
       "    <tr>\n",
       "      <th>19997</th>\n",
       "      <td>3.0</td>\n",
       "      <td>3</td>\n",
       "      <td>40.7669</td>\n",
       "      <td>-73.9621</td>\n",
       "      <td>11000</td>\n",
       "    </tr>\n",
       "  </tbody>\n",
       "</table>\n",
       "<p>14982 rows × 5 columns</p>\n",
       "</div>"
      ],
      "text/plain": [
       "       bathrooms  bedrooms  latitude  longitude  price\n",
       "0            1.0         2   40.6853   -73.9130   2195\n",
       "1            1.0         1   40.7631   -73.9581   2100\n",
       "4            1.0         2   40.6907   -73.9216   2933\n",
       "6            1.0         1   40.7677   -73.9251   2350\n",
       "7            1.0         1   40.7634   -73.9596   3565\n",
       "...          ...       ...       ...        ...    ...\n",
       "19991        1.0         1   40.6575   -73.9505   1950\n",
       "19993        1.0         1   40.7288   -74.0031   2800\n",
       "19995        1.0         1   40.8675   -73.9241   2100\n",
       "19996        1.0         3   40.7080   -74.0149   3995\n",
       "19997        3.0         3   40.7669   -73.9621  11000\n",
       "\n",
       "[14982 rows x 5 columns]"
      ]
     },
     "execution_count": 93,
     "metadata": {},
     "output_type": "execute_result"
    }
   ],
   "source": [
    "# Removing the apartments - number of bathrooms are more or equal twice number of bedrooms \n",
    "df_clean = df_clean.drop(df_clean.index[df_clean['bathrooms'] >= 2*df_clean['bedrooms']])\n",
    "df_clean"
   ]
  },
  {
   "cell_type": "markdown",
   "metadata": {},
   "source": [
    "### Part 3 - Create and evaluate a final model\n",
    "\n",
    "#### Code (15 marks)"
   ]
  },
  {
   "cell_type": "code",
   "execution_count": 84,
   "metadata": {},
   "outputs": [],
   "source": [
    "# Create our train data - final model\n",
    "X_train_nm = df_clean.drop('price', axis = 1)\n",
    "y_train_nm = df_clean['price']"
   ]
  },
  {
   "cell_type": "code",
   "execution_count": 85,
   "metadata": {},
   "outputs": [
    {
     "data": {
      "text/plain": [
       "RandomForestRegressor(n_jobs=-1, oob_score=True, random_state=30)"
      ]
     },
     "execution_count": 85,
     "metadata": {},
     "output_type": "execute_result"
    }
   ],
   "source": [
    "rf = RandomForestRegressor(n_estimators=100, n_jobs=-1, oob_score = True, random_state = 30)\n",
    "rf.fit(X_train_nm, y_train_nm)"
   ]
  },
  {
   "cell_type": "code",
   "execution_count": 86,
   "metadata": {},
   "outputs": [
    {
     "name": "stdout",
     "output_type": "stream",
     "text": [
      "0.9603311710779848\n"
     ]
    }
   ],
   "source": [
    "# Calculate the r2 score\n",
    "r2 = rf.score(X_train_nm, y_train_nm)\n",
    "print(r2)"
   ]
  },
  {
   "cell_type": "code",
   "execution_count": 87,
   "metadata": {},
   "outputs": [
    {
     "name": "stdout",
     "output_type": "stream",
     "text": [
      "OOB score is 0.8244244524038898\n"
     ]
    }
   ],
   "source": [
    "# Calculate the OOB\n",
    "noisy_oob_r2 = rf.oob_score_\n",
    "print(\"OOB score is\", noisy_oob_r2)  #the result is the worst (the same as predict using only the average)"
   ]
  },
  {
   "cell_type": "markdown",
   "metadata": {},
   "source": [
    "#### Explanation (5 marks)\n",
    "\n",
    "Please provide an explanation and justification for the code submitted in **Part 3** in the context of the overall objective. "
   ]
  },
  {
   "cell_type": "markdown",
   "metadata": {},
   "source": [
    "We cleaned the data (denoise) by deleting apartments that:\n",
    "   <br>- Have a rent price below 1k or above 100k (504 apartments deleted)\n",
    "   <br>- Were outside NYC (981 apartments deleted)\n",
    "   <br>- Have the number of bathrooms higher than twice the number of bedrooms (3533 apartments deleted)\n",
    "\n",
    "Then we created our final model following the same steps we did on the first model but now using the cleaned dataset \"df_clean\". \n",
    "\n",
    "#### Evaluate the Model\n",
    "Here we are going to evaluate our model using two methods: R^2 and oob_score.\n",
    "- R^2 = 0.9603 - approximately 96% of the variance of the 'price' can be explained by the independent variables ('bathrooms', 'bedrooms', 'latitude', 'longitude', 'price'). Only the R^2 score is not enough to determine if our model is a good model.\n",
    "- OOB Score = 0.8244 - our model's predictions are performing well. The OOB value is calculated by testing the model using the data points that were not included in the bootstrap samples during training.\n",
    "\n",
    "The model is good now after denoise the data."
   ]
  },
  {
   "cell_type": "markdown",
   "metadata": {},
   "source": [
    "### Part 4 - Document the problems (35 marks)\n",
    "\n",
    "In this part, please use the table below to document your understanding of all the data issues you discovered. Note that **no code** should be included, as that should be covered in **Part 2**. Also, note that even if one line of code fixed a few problems, you should list each problem separately in the table below, so be sure you have investigated the data properly. For example, if the list `[-6, 5, 0, 50]` represents heights of adults, the -6, 0, and 50 would represent three data issues to be included in the table below, even though one line of code may be able to address all of them. \n",
    "\n",
    "| Data issue discovered | Why is this a problem? | How did you fix it? | Why is this fix appropriate? |\n",
    "| :- | :- | :- | :- | \n",
    "| Negative prices  | Negative price does not make sense    | Deleted the data  | We couldn't find data to adjust this information accurately    |\n",
    "|  Unreal prices - Over  | Rent price of more then 100k for apartments of 0 to 2 bedrooms are not real  | Deleted the data | When you look to this rows information you can see that must be an error  |\n",
    "|  Unreal prices - Lower  | Rent price of less then 1k for apartments have low probability of being real in NYC   | Deleted the data  | When you look to this rows you can see that must be an error  |\n",
    "|  Apartments outside NYC  | Because they don't fit the model's goal    | Deleted the data  | Because we only can use data that fits our model's goal during its creation, otherwise the model won't be precise |\n",
    "|  Unusual number of bathrooms  | When you look to this rows you can see that must be an error   | Deleted the data  | Kepping them could compromise our model's accuracy  |\n"
   ]
  },
  {
   "cell_type": "code",
   "execution_count": null,
   "metadata": {},
   "outputs": [],
   "source": []
  }
 ],
 "metadata": {
  "kernelspec": {
   "display_name": "Python 3 (ipykernel)",
   "language": "python",
   "name": "python3"
  },
  "language_info": {
   "codemirror_mode": {
    "name": "ipython",
    "version": 3
   },
   "file_extension": ".py",
   "mimetype": "text/x-python",
   "name": "python",
   "nbconvert_exporter": "python",
   "pygments_lexer": "ipython3",
   "version": "3.9.13"
  }
 },
 "nbformat": 4,
 "nbformat_minor": 4
}
