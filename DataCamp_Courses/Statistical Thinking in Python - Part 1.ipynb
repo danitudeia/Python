{
 "cells": [
  {
   "cell_type": "markdown",
   "id": "bbdac727-ed0c-46ce-9c03-bce24942f781",
   "metadata": {},
   "source": [
    "### Plotting a histogram of iris data"
   ]
  },
  {
   "cell_type": "markdown",
   "id": "95a9a529-0154-40ae-95cf-cf85261dce5e",
   "metadata": {},
   "source": [
    "##### Import matplotlib.pyplot and seaborn as their usual aliases (plt and sns).\n",
    "##### Use seaborn to set the plotting defaults.\n",
    "##### Plot a histogram of the Iris versicolor petal lengths using plt.hist() and the provided NumPy array versicolor_petal_length.\n",
    "##### Show the histogram using plt.show()."
   ]
  },
  {
   "cell_type": "code",
   "execution_count": null,
   "id": "d015ce93-8acd-465d-873c-8094941f91d3",
   "metadata": {},
   "outputs": [],
   "source": [
    "# Import plotting modules\n",
    "import matplotlib.pyplot as plt\n",
    "import seaborn as sns\n",
    "\n",
    "# Set default Seaborn style\n",
    "sns.set()\n",
    "\n",
    "# Plot histogram of versicolor petal lengths\n",
    "plt.hist(versicolor_petal_length)\n",
    "\n",
    "# Show histogram\n",
    "plt.show()"
   ]
  },
  {
   "cell_type": "markdown",
   "id": "bbbe1ae4-d55e-43ca-a7f5-27231c1cd571",
   "metadata": {},
   "source": [
    "### Axis labels!"
   ]
  },
  {
   "cell_type": "markdown",
   "id": "0c0d9afe-240b-4fb2-bc16-caffb14d8d48",
   "metadata": {},
   "source": [
    "##### Label the axes. Don't forget that you should always include units in your axis labels. Your \n",
    "##### -axis label is just 'count'. Your \n",
    "##### -axis label is 'petal length (cm)'. The units are essential!\n",
    "##### Display the plot constructed in the above steps using plt.show()."
   ]
  },
  {
   "cell_type": "code",
   "execution_count": null,
   "id": "6aa46860-2da8-416f-b7fd-bb40f605e156",
   "metadata": {},
   "outputs": [],
   "source": [
    "# Plot histogram of versicolor petal lengths\n",
    "_ = plt.hist(versicolor_petal_length)\n",
    "\n",
    "# Label axes\n",
    "plt.xlabel('petal length (cm)')\n",
    "plt.ylabel('count')\n",
    "\n",
    "# Show histogram\n",
    "plt.show()"
   ]
  },
  {
   "cell_type": "markdown",
   "id": "328ad815-d9c6-45e8-88a5-8344079a9056",
   "metadata": {},
   "source": [
    "### Adjusting the number of bins in a histogram"
   ]
  },
  {
   "cell_type": "markdown",
   "id": "2c750c60-fe53-49b8-a9e6-4e7644c7c58e",
   "metadata": {},
   "source": [
    "##### Import numpy as np. This gives access to the square root function, np.sqrt().\n",
    "##### Determine how many data points you have using len().\n",
    "##### Compute the number of bins using the square root rule.\n",
    "##### Convert the number of bins to an integer using the built in int() function.\n",
    "##### Generate the histogram and make sure to use the bins keyword argument.\n",
    "##### Hit submit to plot the figure and see the fruit of your labors!"
   ]
  },
  {
   "cell_type": "code",
   "execution_count": null,
   "id": "49b87ef6-d54b-4061-9f3a-c6d609bc5e82",
   "metadata": {},
   "outputs": [],
   "source": [
    "# Import numpy\n",
    "import numpy as np\n",
    "\n",
    "# Compute number of data points: n_data\n",
    "n_data = len(versicolor_petal_length)\n",
    "\n",
    "# Number of bins is the square root of number of data points: n_bins\n",
    "n_bins = np.sqrt(n_data)\n",
    "\n",
    "\n",
    "# Convert number of bins to integer: n_bins\n",
    "n_bins = int(n_bins)\n",
    "\n",
    "# Plot the histogram\n",
    "plt.hist(versicolor_petal_length, bins = n_bins )\n",
    "\n",
    "# Label axes\n",
    "_ = plt.xlabel('petal length (cm)')\n",
    "_ = plt.ylabel('count')\n",
    "\n",
    "# Show histogram\n",
    "plt.show()"
   ]
  },
  {
   "cell_type": "markdown",
   "id": "f5faf2c1-94ac-4eba-a7c5-12e0d37b389b",
   "metadata": {},
   "source": [
    "### Bee swarm plot"
   ]
  },
  {
   "cell_type": "markdown",
   "id": "ce3cd8f8-ec7f-468c-baec-eb9a747ba413",
   "metadata": {},
   "source": [
    "##### In the IPython Shell, inspect the DataFrame df using df.head(). This will let you identify which column names you need to pass as the x and y keyword arguments in your call to sns.swarmplot().\n",
    "##### Use sns.swarmplot() to make a bee swarm plot from the DataFrame containing the Fisher iris data set, df. The x-axis should contain each of the three species, and the y-axis should contain the petal lengths.\n",
    "##### Label the axes.\n",
    "##### Show your plot."
   ]
  },
  {
   "cell_type": "code",
   "execution_count": null,
   "id": "9a1c75be-76e5-447f-91d2-785b915817b3",
   "metadata": {},
   "outputs": [],
   "source": [
    "# Create bee swarm plot with Seaborn's default settings\n",
    "sns.swarmplot(x = 'species', y='petal length (cm)', data=df)\n",
    "\n",
    "# Label the axes\n",
    "plt.xlabel ('species')\n",
    "plt.ylabel('petal length (cm)')\n",
    "\n",
    "# Show the plot\n",
    "plt.show()"
   ]
  },
  {
   "cell_type": "markdown",
   "id": "6a2fc67e-e0f8-403e-a20a-d4693cefd7c9",
   "metadata": {},
   "source": [
    "### Computing the ECDF"
   ]
  },
  {
   "cell_type": "markdown",
   "id": "498ce7ae-bfa6-4f00-ab72-eb21dc975581",
   "metadata": {},
   "source": [
    "##### Define a function with the signature ecdf(data). Within the function definition,\n",
    "##### Compute the number of data points, n, using the len() function.\n",
    "##### The x-values are the sorted data. Use the np.sort() function to perform the sorting.\n",
    "##### The y data of the ECDF go from 1/n to 1 in equally spaced increments. You can construct this using np.arange(). Remember, however, that the end value in np.arange() is not inclusive. Therefore, np.arange() will need to go from 1 to n+1. Be sure to divide this by n.\n",
    "##### The function returns the values x and y."
   ]
  },
  {
   "cell_type": "code",
   "execution_count": null,
   "id": "5e37d2ed-5c20-46fa-be2f-abb5ccaf9832",
   "metadata": {},
   "outputs": [],
   "source": [
    "def ecdf(data):\n",
    "    \"\"\"Compute ECDF for a one-dimensional array of measurements.\"\"\"\n",
    "    # Number of data points: n\n",
    "    n = len(data)\n",
    "\n",
    "    # x-data for the ECDF: x\n",
    "    x = np.sort(data)\n",
    "\n",
    "    # y-data for the ECDF: y\n",
    "    y = np.arange(1, n+1) / n\n",
    "\n",
    "    return x, y"
   ]
  },
  {
   "cell_type": "markdown",
   "id": "0e5d8608-7f87-423d-82dd-6b52b58e0e60",
   "metadata": {},
   "source": [
    "### Plotting the ECDF"
   ]
  },
  {
   "cell_type": "markdown",
   "id": "289a43df-97e4-47cd-98cb-f7519b05dc40",
   "metadata": {},
   "source": [
    "##### Use ecdf() to compute the ECDF of versicolor_petal_length. Unpack the output into x_vers and y_vers.\n",
    "##### Plot the ECDF as dots. Remember to include marker = '.' and linestyle = 'none' in addition to x_vers and y_vers as arguments inside plt.plot().\n",
    "##### Label the axes. You can label the y-axis 'ECDF'.\n",
    "##### Show your plot."
   ]
  },
  {
   "cell_type": "code",
   "execution_count": null,
   "id": "d58834e6-25e9-4423-a45f-e9ee604724f1",
   "metadata": {},
   "outputs": [],
   "source": [
    "# Compute ECDF for versicolor data: x_vers, y_vers\n",
    "x_vers, y_vers = ecdf(versicolor_petal_length)\n",
    "\n",
    "# Generate plot\n",
    "plt.plot(x_vers, y_vers, marker = '.', linestyle = 'none')\n",
    "\n",
    "# Label the axes\n",
    "plt.xlabel('length')\n",
    "plt.ylabel('ECDF')\n",
    "\n",
    "\n",
    "# Display the plot\n",
    "plt.show()"
   ]
  },
  {
   "cell_type": "markdown",
   "id": "5bbba3c9-0853-4180-acaa-5739ac9435ce",
   "metadata": {},
   "source": [
    "### Comparison of ECDFs"
   ]
  },
  {
   "cell_type": "markdown",
   "id": "585606a8-804a-49e4-ae51-27af3dc9d086",
   "metadata": {},
   "source": [
    "##### Compute ECDFs for each of the three species using your ecdf() function. The variables setosa_petal_length, versicolor_petal_length, and virginica_petal_length are all in your namespace. Unpack the ECDFs into x_set, y_set, x_vers, y_vers and x_virg, y_virg, respectively.\n",
    "##### Plot all three ECDFs on the same plot as dots. To do this, you will need three plt.plot() commands. Assign the result of each to _.\n",
    "##### A legend and axis labels have been added for you, so hit submit to see all the ECDFs!"
   ]
  },
  {
   "cell_type": "code",
   "execution_count": null,
   "id": "c4ada37a-e1f4-4754-b940-0f3ccf3cff9f",
   "metadata": {},
   "outputs": [],
   "source": [
    "# Compute ECDFs\n",
    "x_set, y_set = ecdf(setosa_petal_length)\n",
    "x_vers, y_vers = ecdf(versicolor_petal_length)\n",
    "x_virg, y_virg = ecdf(virginica_petal_length)\n",
    "\n",
    "# Plot all ECDFs on the same plot\n",
    "plt.plot(x_set, y_set, marker='.', linestyle='none')\n",
    "plt.plot(x_vers, y_vers, marker='.', linestyle='none')\n",
    "plt.plot(x_virg, y_virg, marker='.', linestyle='none')\n",
    "\n",
    "# Annotate the plot\n",
    "plt.legend(('setosa', 'versicolor', 'virginica'), loc='lower right')\n",
    "_ = plt.xlabel('petal length (cm)')\n",
    "_ = plt.ylabel('ECDF')\n",
    "\n",
    "# Display the plot\n",
    "plt.show()"
   ]
  },
  {
   "cell_type": "markdown",
   "id": "7f870d3c-a0d6-4826-946d-40f9cdc141cf",
   "metadata": {},
   "source": [
    "### Computing means"
   ]
  },
  {
   "cell_type": "markdown",
   "id": "f927e083-72c7-4195-ba62-1a0d5f4fe0d1",
   "metadata": {},
   "source": [
    "##### Compute the mean petal length of Iris versicolor from Anderson's classic data set. The variable versicolor_petal_length is provided in your namespace. Assign the mean to mean_length_vers.\n",
    "##### Hit submit to print the result."
   ]
  },
  {
   "cell_type": "code",
   "execution_count": null,
   "id": "0bb17545-62ff-4ebb-8cde-0ddbaa6c1752",
   "metadata": {},
   "outputs": [],
   "source": [
    "# Compute the mean: mean_length_vers\n",
    "mean_length_vers = np.mean(versicolor_petal_length)\n",
    "\n",
    "# Print the result with some nice formatting\n",
    "print('I. versicolor:', mean_length_vers, 'cm')"
   ]
  },
  {
   "cell_type": "markdown",
   "id": "193c2866-d83c-4793-a63d-1f5e0ee398db",
   "metadata": {},
   "source": [
    "### Computing percentiles"
   ]
  },
  {
   "cell_type": "markdown",
   "id": "b7710853-385e-45f0-b637-996270fcea54",
   "metadata": {},
   "source": [
    "##### Create percentiles, a NumPy array of percentiles you want to compute. These are the 2.5th, 25th, 50th, 75th, and 97.5th. You can do so by creating a list containing these ints/floats and convert the list to a NumPy array using np.array(). For example, np.array([30, 50]) would create an array consisting of the 30th and 50th percentiles.\n",
    "##### Use np.percentile() to compute the percentiles of the petal lengths from the Iris versicolor samples. The variable versicolor_petal_length is in your namespace.\n",
    "##### Print the percentiles."
   ]
  },
  {
   "cell_type": "code",
   "execution_count": null,
   "id": "d1b34d4d-a450-400b-8747-a261541a0bbd",
   "metadata": {},
   "outputs": [],
   "source": [
    "# Specify array of percentiles: percentiles\n",
    "percentiles = np.array([2.5,25,50,75,97.5])\n",
    "\n",
    "# Compute percentiles: ptiles_vers\n",
    "ptiles_vers = np.percentile (versicolor_petal_length,percentiles)\n",
    "\n",
    "# Print the result\n",
    "print(ptiles_vers)"
   ]
  },
  {
   "cell_type": "markdown",
   "id": "906a8a49-1375-49e6-b8b6-bcec54f7021a",
   "metadata": {},
   "source": [
    "### Comparing percentiles to ECDF"
   ]
  },
  {
   "cell_type": "markdown",
   "id": "5958d513-bf30-4120-b81f-6f9fdefbcb33",
   "metadata": {},
   "source": [
    "##### Plot the percentiles as red diamonds on the ECDF. Pass the x and y co-ordinates - ptiles_vers and percentiles/100 - as positional arguments and specify the marker='D', color='red' and linestyle='none' keyword arguments. The argument for the y-axis - percentiles/100 has been specified for you.\n",
    "##### Display the plot."
   ]
  },
  {
   "cell_type": "code",
   "execution_count": null,
   "id": "32df04bf-abd8-4deb-bd64-e720748da837",
   "metadata": {},
   "outputs": [],
   "source": [
    "# Plot the ECDF\n",
    "_ = plt.plot(x_vers, y_vers, '.')\n",
    "_ = plt.xlabel('petal length (cm)')\n",
    "_ = plt.ylabel('ECDF')\n",
    "\n",
    "# Overlay percentiles as red diamonds.\n",
    "_ = plt.plot(ptiles_vers, percentiles/100, marker='D', color='red',\n",
    "         linestyle='none')\n",
    "\n",
    "# Show the plot\n",
    "plt.show()"
   ]
  },
  {
   "cell_type": "markdown",
   "id": "2d82322c-98f1-478a-8004-d3ce2b9bc587",
   "metadata": {},
   "source": [
    "### Box-and-whisker plot"
   ]
  },
  {
   "cell_type": "markdown",
   "id": "703dd375-afe4-4bd2-ac65-00781ee734eb",
   "metadata": {},
   "source": [
    "##### The set-up is exactly the same as for the bee swarm plot; you just call sns.boxplot() with the same keyword arguments as you would sns.swarmplot(). The x-axis is 'species' and y-axis is 'petal length (cm)'.\n",
    "##### Don't forget to label your axes!\n",
    "##### Display the figure using the normal call."
   ]
  },
  {
   "cell_type": "code",
   "execution_count": null,
   "id": "256cee4e-6c7f-450c-b4ac-ecfe83318853",
   "metadata": {},
   "outputs": [],
   "source": [
    "# Create box plot with Seaborn's default settings\n",
    "sns.boxplot(x='species', y='petal length (cm)', data=df)\n",
    "\n",
    "# Label the axes\n",
    "plt.xlabel('species')\n",
    "plt.ylabel('petal length (cm)')\n",
    "\n",
    "# Show the plot\n",
    "plt.show()"
   ]
  },
  {
   "cell_type": "markdown",
   "id": "bf36093b-5182-4bfc-b189-403472c8552b",
   "metadata": {},
   "source": [
    "### Computing the variance"
   ]
  },
  {
   "cell_type": "markdown",
   "id": "7b73e94d-d703-4ece-bb89-617fa2e09359",
   "metadata": {},
   "source": [
    "##### Create an array called differences that is the difference between the petal lengths (versicolor_petal_length) and the mean petal length. The variable versicolor_petal_length is already in your namespace as a NumPy array so you can take advantage of NumPy's vectorized operations.\n",
    "##### Square each element in this array. For example, x**2 squares each element in the array x. Store the result as diff_sq.\n",
    "##### Compute the mean of the elements in diff_sq using np.mean(). Store the result as variance_explicit.\n",
    "##### Compute the variance of versicolor_petal_length using np.var(). Store the result as variance_np.\n",
    "##### Print both variance_explicit and variance_np in one print call to make sure they are consistent."
   ]
  },
  {
   "cell_type": "code",
   "execution_count": null,
   "id": "5f7583e3-24e8-4e2b-af0e-19ce58268672",
   "metadata": {},
   "outputs": [],
   "source": [
    "# Array of differences to mean: differences\n",
    "differences = versicolor_petal_length - np.mean(versicolor_petal_length)\n",
    "\n",
    "# Square the differences: diff_sq\n",
    "diff_sq = differences**2\n",
    "\n",
    "# Compute the mean square difference: variance_explicit\n",
    "variance_explicit = np.mean(diff_sq)\n",
    "\n",
    "# Compute the variance using NumPy: variance_np\n",
    "variance_np = np.var(differences)\n",
    "\n",
    "# Print the results\n",
    "print(variance_explicit, variance_np)\n"
   ]
  },
  {
   "cell_type": "markdown",
   "id": "3c3d063d-559d-46fa-ac79-a396d56039ff",
   "metadata": {},
   "source": [
    "### The standard deviation and the variance"
   ]
  },
  {
   "cell_type": "markdown",
   "id": "6979ae41-fd51-4a73-bd96-fe03685e180a",
   "metadata": {},
   "source": [
    "##### Compute the variance of the data in the versicolor_petal_length array using np.var() and store it in a variable called variance.\n",
    "##### Print the square root of this value.\n",
    "##### Print the standard deviation of the data in the versicolor_petal_length array using np.std()."
   ]
  },
  {
   "cell_type": "code",
   "execution_count": null,
   "id": "538685df-3062-4349-899b-ef9733c1d168",
   "metadata": {},
   "outputs": [],
   "source": [
    "# Compute the variance: variance\n",
    "variance = np.var(versicolor_petal_length)\n",
    "\n",
    "# Print the square root of the variance\n",
    "print(np.sqrt(variance))\n",
    "\n",
    "# Print the standard deviation\n",
    "print(np.std(versicolor_petal_length))"
   ]
  },
  {
   "cell_type": "markdown",
   "id": "eef7aea0-0f17-4b52-b483-4eb2038e2798",
   "metadata": {},
   "source": [
    "### Scatter plots"
   ]
  },
  {
   "cell_type": "markdown",
   "id": "03c089c1-fc6c-47bc-8de8-3bd53211e6e3",
   "metadata": {},
   "source": [
    "##### Use plt.plot() with the appropriate keyword arguments to make a scatter plot of versicolor petal length (x-axis) versus petal width (y-axis). The variables versicolor_petal_length and versicolor_petal_width are already in your namespace. Do not forget to use the marker='.' and linestyle='none' keyword arguments.\n",
    "##### Label the axes.\n",
    "##### Display the plot."
   ]
  },
  {
   "cell_type": "code",
   "execution_count": null,
   "id": "7a7dea52-09cc-41ec-82e4-398fabaaf845",
   "metadata": {},
   "outputs": [],
   "source": [
    "# Make a scatter plot\n",
    "plt.plot(versicolor_petal_length, versicolor_petal_width, marker='.', linestyle='none')\n",
    "\n",
    "# Label the axes\n",
    "plt.xlabel('versicolor petal length')\n",
    "plt.ylabel('petal width')\n",
    "\n",
    "# Show the result\n",
    "plt.show()"
   ]
  },
  {
   "cell_type": "markdown",
   "id": "418d0cb3-0926-42a3-b7f1-da545b034b7e",
   "metadata": {},
   "source": [
    "### Computing the covariance"
   ]
  },
  {
   "cell_type": "markdown",
   "id": "1a52b7e0-cf40-4658-bb72-0c89931ad495",
   "metadata": {},
   "source": [
    "##### Use np.cov() to compute the covariance matrix for the petal length (versicolor_petal_length) and width (versicolor_petal_width) of I. versicolor.\n",
    "##### Print the covariance matrix.\n",
    "##### Extract the covariance from entry [0,1] of the covariance matrix. Note that by symmetry, entry [1,0] is the same as entry [0,1].\n",
    "##### Print the covariance."
   ]
  },
  {
   "cell_type": "code",
   "execution_count": null,
   "id": "178931ed-f9b7-41eb-9cec-da2477125106",
   "metadata": {},
   "outputs": [],
   "source": [
    "# Compute the covariance matrix: covariance_matrix\n",
    "covariance_matrix = np.cov(versicolor_petal_length,versicolor_petal_width)\n",
    "\n",
    "# Print covariance matrix\n",
    "print(covariance_matrix)\n",
    "\n",
    "# Extract covariance of length and width of petals: petal_cov\n",
    "petal_cov = covariance_matrix[0,1]\n",
    "\n",
    "# Print the length/width covariance\n",
    "print(petal_cov)\n"
   ]
  },
  {
   "cell_type": "markdown",
   "id": "dcd4f713-6fd7-4a9f-a314-45e44aa3e2a8",
   "metadata": {},
   "source": [
    "### Computing the Pearson correlation coefficient"
   ]
  },
  {
   "cell_type": "markdown",
   "id": "2a6e8f6d-1e15-4c55-9e10-4fd566e714b7",
   "metadata": {},
   "source": [
    "##### Define a function with signature pearson_r(x, y).\n",
    "##### Use np.corrcoef() to compute the correlation matrix of x and y (pass them to np.corrcoef() in that order).\n",
    "##### The function returns entry [0,1] of the correlation matrix.\n",
    "##### Compute the Pearson correlation between the data in the arrays versicolor_petal_length and versicolor_petal_width. Assign the result to r.\n",
    "##### Print the result."
   ]
  },
  {
   "cell_type": "code",
   "execution_count": null,
   "id": "9a2cd90b-394a-4041-86c5-5b420f13d29a",
   "metadata": {},
   "outputs": [],
   "source": [
    "def pearson_r(x, y):\n",
    "    \"\"\"Compute Pearson correlation coefficient between two arrays.\"\"\"\n",
    "    # Compute correlation matrix: corr_mat\n",
    "    corr_mat = np.corrcoef(x,y)\n",
    "\n",
    "    # Return entry [0,1]\n",
    "    return corr_mat[0,1]\n",
    "\n",
    "# Compute Pearson correlation coefficient for I. versicolor: r\n",
    "r = pearson_r(versicolor_petal_length, versicolor_petal_width)\n",
    "\n",
    "# Print the result\n",
    "print(r)"
   ]
  },
  {
   "cell_type": "markdown",
   "id": "bd9d9742-9c0a-4138-bdd9-f348e7508b8d",
   "metadata": {},
   "source": [
    "### Generating random numbers using the np.random module"
   ]
  },
  {
   "cell_type": "markdown",
   "id": "baf770a3-76e5-4d4f-aca2-abdf8b771424",
   "metadata": {},
   "source": [
    "##### Instantiate and seed a random number generator, rng, using the seed 42.\n",
    "##### Initialize an empty array, random_numbers, of 100,000 entries to store the random numbers. Make sure you use np.empty(100000) to do this.\n",
    "##### Write a for loop to draw 100,000 random numbers using rng.random(), storing them in the random_numbers array. To do so, loop over range(100000).\n",
    "##### Plot a histogram of random_numbers. It is not necessary to label the axes in this case because we are just checking the random number generator. Hit submit to show your plot."
   ]
  },
  {
   "cell_type": "code",
   "execution_count": null,
   "id": "9afbd774-2e81-4f93-849f-6314b63dc3c5",
   "metadata": {},
   "outputs": [],
   "source": [
    "# Import necessary modules\n",
    "import numpy as np\n",
    "import matplotlib.pyplot as plt\n",
    "\n",
    "# Instantiate and seed the random number generator\n",
    "rng = np.random.default_rng(42)\n",
    "\n",
    "# Initialize random numbers: random_numbers\n",
    "random_numbers = np.empty(100000)\n",
    "\n",
    "# Generate random numbers by looping over range(100000)\n",
    "for i in range(100000):\n",
    "    random_numbers[i] = rng.random()\n",
    "\n",
    "# Plot a histogram\n",
    "_ = plt.hist(random_numbers)\n",
    "\n",
    "# Show the plot\n",
    "plt.show()\n"
   ]
  },
  {
   "cell_type": "markdown",
   "id": "d818d12e-0d6f-4953-8efd-046b0e7a8b86",
   "metadata": {},
   "source": [
    "### The np.random module and Bernoulli trials"
   ]
  },
  {
   "cell_type": "markdown",
   "id": "440c39ce-816e-4a54-8d59-613430502964",
   "metadata": {},
   "source": [
    "##### Define a function with signature perform_bernoulli_trials(n, p).\n",
    "##### Initialize to zero a variable n_success the counter of Trues, which are Bernoulli trial successes.\n",
    "##### Write a for loop where you perform a Bernoulli trial in each iteration and increment the number of success if the result is True. Perform n iterations by looping over range(n).\n",
    "##### To perform a Bernoulli trial, choose a random number between zero and one using rng.random(). If the number you chose is less than p, increment n_success (use the += 1 operator to achieve this). An RNG has already been instantiated as the variable rng and seeded.\n",
    "##### The function returns the number of successes n_success."
   ]
  },
  {
   "cell_type": "code",
   "execution_count": null,
   "id": "125d8061-3533-40c4-a225-6512a8aaa90e",
   "metadata": {},
   "outputs": [],
   "source": [
    "def perform_bernoulli_trials(n, p):\n",
    "    \"\"\"Perform n Bernoulli trials with success probability p\n",
    "    and return number of successes.\"\"\"\n",
    "    # Initialize number of successes: n_success\n",
    "    n_success = 0\n",
    "\n",
    "    # Perform trials\n",
    "    for i in range(n):\n",
    "        # Choose random number between zero and one: random_number\n",
    "        random_number = rng.random()\n",
    "\n",
    "        # If less than p, it's a success so add one to n_success\n",
    "        if random_number < p:\n",
    "            n_success += 1\n",
    "\n",
    "    return n_success"
   ]
  },
  {
   "cell_type": "markdown",
   "id": "112132ef-6377-4c20-8eb0-b45fc933fc89",
   "metadata": {},
   "source": [
    "### How many defaults might we expect?"
   ]
  },
  {
   "cell_type": "markdown",
   "id": "7c2a843f-ef6a-419b-a19c-6e2ea997567c",
   "metadata": {},
   "source": [
    "##### Seed the random number generator to 42.\n",
    "##### Initialize n_defaults, an empty array, using np.empty(). It should contain 1000 entries, since we are doing 1000 simulations.\n",
    "##### Write a for loop with 1000 iterations to compute the number of defaults per 100 loans using the perform_bernoulli_trials() function. It accepts two arguments: the number of trials n - in this case 100 - and the probability of success p - in this case the probability of a default, which is 0.05. On each iteration of the loop store the result in an entry of n_defaults.\n",
    "##### Plot a histogram of n_defaults. Include the density=True keyword argument so that the height of the bars of the histogram indicate the probability.\n",
    "##### Show your plot."
   ]
  },
  {
   "cell_type": "code",
   "execution_count": null,
   "id": "32c0caaa-def9-4f6d-b08a-db3ffd5d249b",
   "metadata": {},
   "outputs": [],
   "source": [
    "# Instantiate and seed random number generator\n",
    "rng = np.random.default_rng(42)\n",
    "\n",
    "# Initialize the number of defaults: n_defaults\n",
    "n_defaults = np.empty(1000)\n",
    "\n",
    "# Compute the number of defaults\n",
    "for i in range(1000):\n",
    "    n_defaults[i] = perform_bernoulli_trials(100, 0.05)\n",
    "\n",
    "\n",
    "# Plot the histogram with default number of bins; label your axes\n",
    "_ = plt.hist(n_defaults, density=True)\n",
    "_ = plt.xlabel('number of defaults out of 100 loans')\n",
    "_ = plt.ylabel('probability')\n",
    "\n",
    "# Show the plot\n",
    "plt.show()"
   ]
  },
  {
   "cell_type": "markdown",
   "id": "8fb20c16-941c-49e8-abbf-63762822a5c2",
   "metadata": {},
   "source": [
    "### Will the bank fail?"
   ]
  },
  {
   "cell_type": "markdown",
   "id": "622fb227-10cd-419b-8bb2-0d29b804964e",
   "metadata": {},
   "source": [
    "##### Compute the x and y values for the ECDF of n_defaults.\n",
    "##### Plot the ECDF, making sure to label the axes. Remember to include marker = '.' and linestyle = 'none' in addition to x and y in your call plt.plot().\n",
    "##### Show the plot.\n",
    "##### Compute the total number of entries in your n_defaults array that were greater than or equal to 10. To do so, compute a boolean array that tells you whether a given entry of n_defaults is >= 10. Then sum all the entries in this array using np.sum(). For example, np.sum(n_defaults <= 5) would compute the number of defaults with 5 or fewer defaults.\n",
    "##### The probability that the bank loses money is the fraction of n_defaults that are greater than or equal to 10. Print this result by hitting submit!"
   ]
  },
  {
   "cell_type": "code",
   "execution_count": null,
   "id": "173cb189-5cec-499d-bbd3-ae78a4ed687c",
   "metadata": {},
   "outputs": [],
   "source": [
    "# Compute ECDF: x, y\n",
    "x, y = ecdf(n_defaults)\n",
    "\n",
    "# Plot the CDF with labeled axes\n",
    "_ = plt.plot(x, y, marker='.', linestyle='none')\n",
    "_ = plt.xlabel('number of defaults out of 100')\n",
    "_ = plt.ylabel('CDF')\n",
    "\n",
    "# Show the plot\n",
    "plt.show()\n",
    "\n",
    "# Compute the number of 100-loan simulations with 10 or more defaults: n_lose_money\n",
    "n_lose_money = np.sum(n_defaults >= 10)\n",
    "\n",
    "# Compute and print probability of losing money\n",
    "print('Probability of losing money =', n_lose_money / len(n_defaults))\n"
   ]
  },
  {
   "cell_type": "markdown",
   "id": "652c4db0-5b82-458b-b3ab-650de24adf8b",
   "metadata": {},
   "source": [
    "### Sampling out of the Binomial distribution"
   ]
  },
  {
   "cell_type": "markdown",
   "id": "53bf5e27-e8d7-414e-ae24-86d21a7cb41b",
   "metadata": {},
   "source": [
    "##### Draw samples out of the Binomial distribution using rng.binomial(). You should use parameters n = 100 and p = 0.05, and set the size keyword argument to 10000.\n",
    "##### Compute the CDF using your previously-written ecdf() function.\n",
    "##### Plot the CDF with axis labels. The x-axis here is the number of defaults out of 100 loans, while the y-axis is the CDF.\n",
    "##### Show the plot."
   ]
  },
  {
   "cell_type": "code",
   "execution_count": null,
   "id": "b62d8a61-08d2-4547-a4e2-dab0531c09cb",
   "metadata": {},
   "outputs": [],
   "source": [
    "# Take 10,000 samples out of the binomial distribution: n_defaults\n",
    "n_defaults = rng.binomial(n=100, p=0.05, size=10000)\n",
    "\n",
    "# Compute CDF: x, y\n",
    "x, y = ecdf(n_defaults)\n",
    "\n",
    "# Plot the CDF with axis labels\n",
    "_ = plt.plot(x, y, marker='.', linestyle='none')\n",
    "_ = plt.xlabel('number of defaults out of 100 loans')\n",
    "_ = plt.ylabel('CDF')\n",
    "\n",
    "# Show the plot\n",
    "plt.show()\n"
   ]
  },
  {
   "cell_type": "markdown",
   "id": "2d43bb5c-3461-4d90-a395-a1fdd5518d9d",
   "metadata": {},
   "source": [
    "### Plotting the Binomial PMF"
   ]
  },
  {
   "cell_type": "markdown",
   "id": "8a946a82-8545-4e4c-8d55-962a7fe67203",
   "metadata": {},
   "source": [
    "##### Using np.arange(), compute the bin edges such that the bins are centered on the integers. Store the resulting array in the variable bins.\n",
    "##### Use plt.hist() to plot the histogram of n_defaults with the density=True and bins=bins keyword arguments.\n",
    "##### Show the plot."
   ]
  },
  {
   "cell_type": "code",
   "execution_count": null,
   "id": "6c706b04-fe99-41e7-af67-8159dfab9d04",
   "metadata": {},
   "outputs": [],
   "source": [
    "# Compute bin edges: bins\n",
    "bins = np.arange(0, max(n_defaults) + 1.5) - 0.5\n",
    "\n",
    "# Generate histogram\n",
    "plt.hist(n_defaults, density=True, bins=bins)\n",
    "\n",
    "# Label axes\n",
    "plt.xlabel('xsdhslkds')\n",
    "plt.ylabel('slhddishlds')\n",
    "\n",
    "# Show the plot\n",
    "plt.show()"
   ]
  },
  {
   "cell_type": "markdown",
   "id": "91d63ed2-c103-4fb3-840e-209100853a8e",
   "metadata": {},
   "source": [
    "### Relationship between Binomial and Poisson distributions"
   ]
  },
  {
   "cell_type": "markdown",
   "id": "3b4ad1ac-6677-400e-ad97-a0e41036d4a2",
   "metadata": {},
   "source": [
    "##### Using the rng.poisson() function, draw 10000 samples from a Poisson distribution with a mean of 10.\n",
    "##### Make a list of the n and p values to consider for the Binomial distribution. Choose n = [20, 100, 1000] and p = [0.5, 0.1, 0.01] so that is always 10.\n",
    "##### Using rng.binomial() inside the provided for loop, draw 10000 samples from a Binomial distribution with each n, p pair and print the mean and standard deviation of the samples. There are 3 n, p pairs: 20, 0.5, 100, 0.1, and 1000, 0.01. These can be accessed inside the loop as n[i], p[i]."
   ]
  },
  {
   "cell_type": "code",
   "execution_count": null,
   "id": "19688e1f-1e66-4916-99bf-baf5f6ed5d55",
   "metadata": {},
   "outputs": [],
   "source": [
    "# Draw 10,000 samples out of Poisson distribution: samples_poisson\n",
    "samples_poisson = rng.poisson(10, size=10000)\n",
    "\n",
    "# Print the mean and standard deviation\n",
    "print('Poisson:     ', np.mean(samples_poisson),\n",
    "                       np.std(samples_poisson))\n",
    "\n",
    "# Specify values of n and p to consider for Binomial: n, p\n",
    "n = [20, 100, 1000]\n",
    "p = [0.5, 0.1, 0.01]\n",
    "\n",
    "\n",
    "# Draw 10,000 samples for each n,p pair: samples_binomial\n",
    "for i in range(3):\n",
    "    samples_binomial = rng.binomial( n[i], p[i], size=10000)\n",
    "  \n",
    "    # Print results\n",
    "    print('n =', n[i], 'Binom:', np.mean(samples_binomial),\n",
    "                                 np.std(samples_binomial))"
   ]
  },
  {
   "cell_type": "markdown",
   "id": "213bb5e9-d980-4ab5-a8d8-ec8eab1e206e",
   "metadata": {},
   "source": [
    "### Was 2015 anomalous?"
   ]
  },
  {
   "cell_type": "markdown",
   "id": "e39ac998-0e08-465f-9010-50dbdd0cc799",
   "metadata": {},
   "source": [
    "##### Draw 10000 samples from a Poisson distribution with a mean of 251/115 and assign to n_nohitters.\n",
    "##### Determine how many of your samples had a result greater than or equal to 7 and assign to n_large.\n",
    "##### Compute the probability, p_large, of having 7 or more no-hitters by dividing n_large by the total number of samples (10000).\n",
    "##### Hit submit to print the probability that you calculated."
   ]
  },
  {
   "cell_type": "code",
   "execution_count": null,
   "id": "38c4e575-36e4-4177-a0d3-11f40c8ec1b1",
   "metadata": {},
   "outputs": [],
   "source": [
    "# Draw 10,000 samples out of Poisson distribution: n_nohitters\n",
    "n_nohitters = rng.poisson(251/115, size=10000)\n",
    "\n",
    "# Compute number of samples that are seven or greater: n_large\n",
    "n_large = np.sum(n_nohitters >=7)\n",
    "\n",
    "# Compute probability of getting seven or more: p_large\n",
    "p_large = n_large/10000\n",
    "\n",
    "# Print the result\n",
    "print('Probability of seven or more no-hitters:', p_large)\n"
   ]
  },
  {
   "cell_type": "markdown",
   "id": "deffd1ae-2aab-48b9-9123-90a26dacae35",
   "metadata": {},
   "source": [
    "### The Normal PDF"
   ]
  },
  {
   "cell_type": "markdown",
   "id": "04b9cec5-3d3f-483d-9089-39ed3c5b4e1c",
   "metadata": {},
   "source": [
    "##### Draw 100,000 samples from a Normal distribution that has a mean of 20 and a standard deviation of 1. Do the same for Normal distributions with standard deviations of 3 and 10, each still with a mean of 20. Assign the results to samples_std1, samples_std3 and samples_std10, respectively.\n",
    "##### Plot a histogram of each of the samples; for each, use 100 bins, also using the keyword arguments density=True and histtype='step'. The latter keyword argument makes the plot look much like the smooth theoretical PDF. You will need to make 3 plt.hist() calls.\n",
    "##### Hit submit to make a legend, showing which standard deviations you used, and show your plot! There is no need to label the axes because we have not defined what is being described by the Normal distribution; we are just looking at shapes of PDFs."
   ]
  },
  {
   "cell_type": "code",
   "execution_count": null,
   "id": "02800a23-4efc-4087-8a06-72e6c4d534ce",
   "metadata": {},
   "outputs": [],
   "source": [
    "# Draw 100000 samples from Normal distribution with stds of interest: samples_std1, samples_std3, samples_std10\n",
    "samples_std1 = rng.normal(20,1, size=100000)\n",
    "samples_std3 = rng.normal(20,3, size=100000)\n",
    "samples_std10 = rng.normal(20,10, size=100000)\n",
    "\n",
    "\n",
    "# Make histograms\n",
    "plt.hist(samples_std1, density=True, histtype='step', bins=100)\n",
    "plt.hist(samples_std3, density=True, histtype='step', bins=100)\n",
    "plt.hist(samples_std10, density=True, histtype='step', bins=100)\n",
    "\n",
    "# Make a legend, set limits and show plot\n",
    "_ = plt.legend(('std = 1', 'std = 3', 'std = 10'))\n",
    "plt.ylim(-0.01, 0.42)\n",
    "plt.show()\n"
   ]
  },
  {
   "cell_type": "markdown",
   "id": "a8f1a115-6ac2-4f1d-9c14-d24f2f5f07ad",
   "metadata": {},
   "source": [
    "### The Normal CDF"
   ]
  },
  {
   "cell_type": "markdown",
   "id": "f2a05b2b-849a-439a-b14d-d838aa70872f",
   "metadata": {},
   "source": [
    "##### Use your ecdf() function to generate x and y values for CDFs: x_std1, y_std1, x_std3, y_std3 and x_std10, y_std10, respectively.\n",
    "##### Plot all three CDFs as dots (do not forget the marker and linestyle keyword arguments!).\n",
    "##### Hit submit to make a legend, showing which standard deviations you used, and to show your plot. There is no need to label the axes because we have not defined what is being described by the Normal distribution; we are just looking at shapes of CDFs."
   ]
  },
  {
   "cell_type": "code",
   "execution_count": null,
   "id": "c6767c45-bdf2-4732-bec4-6603a8713aa8",
   "metadata": {},
   "outputs": [],
   "source": [
    "# Generate CDFs\n",
    "x_std1, y_std1 = ecdf(samples_std1)\n",
    "x_std3, y_std3 = ecdf(samples_std3)\n",
    "x_std10, y_std10 = ecdf(samples_std10)\n",
    "\n",
    "# Plot CDFs\n",
    "plt.plot(x_std1, y_std1, marker ='.', linestyle='none')\n",
    "plt.plot(x_std3, y_std3, marker ='.', linestyle='none')\n",
    "plt.plot(x_std10, y_std10, marker ='.', linestyle='none')\n",
    "\n",
    "# Make a legend and show the plot\n",
    "_ = plt.legend(('std = 1', 'std = 3', 'std = 10'), loc='lower right')\n",
    "plt.show()"
   ]
  },
  {
   "cell_type": "markdown",
   "id": "4b04c6dc-8dd2-4094-be4d-de47698dc186",
   "metadata": {},
   "source": [
    "### Are the Belmont Stakes results Normally distributed?"
   ]
  },
  {
   "cell_type": "markdown",
   "id": "67961d84-5c21-4b4b-ab96-33e2cefb2eef",
   "metadata": {},
   "source": [
    "##### Compute mean and standard deviation of Belmont winners' times with the two outliers removed. The NumPy array belmont_no_outliers has these data.\n",
    "##### Take 10,000 samples out of a normal distribution with this mean and standard deviation using rng.normal().\n",
    "##### Compute the CDF of the theoretical samples and the ECDF of the Belmont winners' data, assigning the results to x_theor, y_theor and x, y, respectively.\n",
    "##### Hit submit to plot the CDF of your samples with the ECDF, label your axes and show the plot."
   ]
  },
  {
   "cell_type": "code",
   "execution_count": null,
   "id": "e9ebc20a-53e9-41c5-927f-17a2f7a329c1",
   "metadata": {},
   "outputs": [],
   "source": [
    "# Compute mean and standard deviation: mu, sigma\n",
    "mu = np.mean(belmont_no_outliers)\n",
    "sigma = np.std(belmont_no_outliers)\n",
    "\n",
    "# Sample out of a normal distribution with this mu and sigma: samples\n",
    "samples = rng.normal(mu, sigma, size=10000)\n",
    "\n",
    "# Get the CDF of the samples and of the data\n",
    "x_theor, y_theor = ecdf(samples)\n",
    "x, y = ecdf(belmont_no_outliers)\n",
    "\n",
    "# Plot the CDFs and show the plot\n",
    "_ = plt.plot(x_theor, y_theor)\n",
    "_ = plt.plot(x, y, marker='.', linestyle='none')\n",
    "_ = plt.xlabel('Belmont winning time (sec.)')\n",
    "_ = plt.ylabel('CDF')\n",
    "plt.show()\n"
   ]
  },
  {
   "cell_type": "markdown",
   "id": "a737968d-af42-4935-a672-a1222883bc5e",
   "metadata": {},
   "source": [
    "### What are the chances of a horse matching or beating Secretariat's record?"
   ]
  },
  {
   "cell_type": "markdown",
   "id": "468bec5d-f59a-42bd-9920-0cba172a668a",
   "metadata": {},
   "source": [
    "##### Take 1,000,000 samples from the normal distribution using the rng.normal() function. The mean mu and standard deviation sigma are already loaded into the namespace of your IPython instance.\n",
    "##### Compute the fraction of samples that have a time less than or equal to Secretariat's time of 144 seconds.\n",
    "##### Print the result."
   ]
  },
  {
   "cell_type": "code",
   "execution_count": null,
   "id": "9395239b-8a41-44cd-a818-fa3a2c580052",
   "metadata": {},
   "outputs": [],
   "source": [
    "# Take a million samples out of the Normal distribution: samples\n",
    "samples = rng.normal(mu, sigma, size=1000000)\n",
    "\n",
    "# Compute the fraction that are faster than 144 seconds: prob\n",
    "prob = np.sum(samples <=144)/len(samples)\n",
    "\n",
    "# Print the result\n",
    "print('Probability of besting Secretariat:', prob)"
   ]
  },
  {
   "cell_type": "markdown",
   "id": "9de21496-3844-40c0-932d-7689770d95ec",
   "metadata": {},
   "source": [
    "### If you have a story, you can simulate it!"
   ]
  },
  {
   "cell_type": "markdown",
   "id": "05631123-620f-4ff5-b012-9fad4b229cef",
   "metadata": {},
   "source": [
    "##### Define a function with call signature successive_poisson(tau1, tau2, size=1) that samples the waiting time for a no-hitter and a hit of the cycle.\n",
    "##### Draw waiting times (size number of samples) for the no-hitter out of an exponential distribution parametrized by tau1 and assign to t1.\n",
    "##### Draw waiting times (size number of samples) for hitting the cycle out of an exponential distribution parametrized by tau2 and assign to t2.\n",
    "##### The function returns the sum of the waiting times for the two events."
   ]
  },
  {
   "cell_type": "code",
   "execution_count": null,
   "id": "b3630f87-816c-464d-9f46-506f609871ed",
   "metadata": {},
   "outputs": [],
   "source": [
    "def successive_poisson(tau1, tau2, size=1):\n",
    "    \"\"\"Compute time for arrival of 2 successive Poisson processes.\"\"\"\n",
    "    # Draw samples out of first exponential distribution: t1\n",
    "    t1 = rng.exponential(tau1, size=size)\n",
    "\n",
    "    # Draw samples out of second exponential distribution: t2\n",
    "    t2 = rng.exponential(tau2, size=size)\n",
    "\n",
    "    return t1 + t2"
   ]
  },
  {
   "cell_type": "markdown",
   "id": "70a154b0-6f34-489a-aed4-026cddbabb39",
   "metadata": {},
   "source": [
    "### Distribution of no-hitters and cycles"
   ]
  },
  {
   "cell_type": "markdown",
   "id": "12881008-37a1-4151-9ec5-c38e76e24f47",
   "metadata": {},
   "source": [
    "##### Use your successive_poisson() function to draw 100,000 out of the distribution of waiting times for observing a no-hitter and a hitting of the cycle.\n",
    "##### Plot the PDF of the waiting times using the step histogram technique of a previous exercise. Don't forget the necessary keyword arguments. You should use bins=100, density=True, and histtype='step'.\n",
    "##### Label the axes.\n",
    "##### Show your plot."
   ]
  },
  {
   "cell_type": "code",
   "execution_count": null,
   "id": "fb624281-a634-471e-8f89-ba04a353e32a",
   "metadata": {},
   "outputs": [],
   "source": [
    "# Draw samples of waiting times: waiting_times\n",
    "waiting_times = successive_poisson(764, 715, size=100000)\n",
    "\n",
    "# Make the histogram\n",
    "plt.hist(waiting_times, bins=100, density=True, histtype='step')\n",
    "\n",
    "\n",
    "# Label axes\n",
    "plt.xlabel('waiting_times')\n",
    "plt.ylabel('number of samples')\n",
    "\n",
    "# Show the plot\n",
    "plt.show()"
   ]
  }
 ],
 "metadata": {
  "kernelspec": {
   "display_name": "Python 3 (ipykernel)",
   "language": "python",
   "name": "python3"
  },
  "language_info": {
   "codemirror_mode": {
    "name": "ipython",
    "version": 3
   },
   "file_extension": ".py",
   "mimetype": "text/x-python",
   "name": "python",
   "nbconvert_exporter": "python",
   "pygments_lexer": "ipython3",
   "version": "3.9.13"
  }
 },
 "nbformat": 4,
 "nbformat_minor": 5
}
