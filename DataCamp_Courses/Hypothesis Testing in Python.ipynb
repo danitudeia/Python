{
 "cells": [
  {
   "cell_type": "markdown",
   "id": "94faf663-f5c1-48c3-a782-329254b8300b",
   "metadata": {},
   "source": [
    "### Calculating the sample mean"
   ]
  },
  {
   "cell_type": "markdown",
   "id": "ff798977-a552-4df1-9077-ec3b7b08952c",
   "metadata": {},
   "source": [
    "##### Print the late_shipments dataset."
   ]
  },
  {
   "cell_type": "code",
   "execution_count": null,
   "id": "c172f3c4-9938-4989-9961-62989e4b525d",
   "metadata": {},
   "outputs": [],
   "source": [
    "# Print the late_shipments dataset\n",
    "print(late_shipments)"
   ]
  },
  {
   "cell_type": "markdown",
   "id": "fada28a0-bdcb-4eea-9d57-14312ee5dd7c",
   "metadata": {},
   "source": [
    "##### Calculate the proportion of late shipments in the sample; that is, the mean cases where the late column is \"Yes\"."
   ]
  },
  {
   "cell_type": "code",
   "execution_count": null,
   "id": "4713261d-dfda-442d-92ab-a94c55fcc78a",
   "metadata": {},
   "outputs": [],
   "source": [
    "# Print the late_shipments dataset\n",
    "print(late_shipments)\n",
    "\n",
    "# Calculate the proportion of late shipments\n",
    "late_prop_samp = (late_shipments['late']=='Yes').mean()\n",
    "\n",
    "# Print the results\n",
    "print(late_prop_samp)"
   ]
  },
  {
   "cell_type": "markdown",
   "id": "83fccd43-b973-4c54-9a59-db4dd4889dda",
   "metadata": {},
   "source": [
    "### Calculating a z-score"
   ]
  },
  {
   "cell_type": "markdown",
   "id": "c09c6f3e-2536-49c9-be0b-8d07e5108f29",
   "metadata": {},
   "source": [
    "##### Hypothesize that the proportion of late shipments is 6%.\n",
    "##### Calculate the standard error from the standard deviation of the bootstrap distribution.\n",
    "##### Calculate the z-score."
   ]
  },
  {
   "cell_type": "code",
   "execution_count": null,
   "id": "51a33246-c0c6-4f44-ad90-e53e9563a473",
   "metadata": {},
   "outputs": [],
   "source": [
    "# Hypothesize that the proportion is 6%\n",
    "late_prop_hyp = 0.06\n",
    "\n",
    "# Calculate the standard error\n",
    "std_error = np.std(late_shipments_boot_distn, ddof=1)\n",
    "\n",
    "# Find z-score of late_prop_samp\n",
    "z_score = (late_prop_samp-late_prop_hyp)/std_error\n",
    "\n",
    "# Print z_score\n",
    "print(z_score)"
   ]
  },
  {
   "cell_type": "markdown",
   "id": "554c666b-2cf2-48b5-8a32-d7ea2b5b9e71",
   "metadata": {},
   "source": [
    "### Calculating a confidence interval"
   ]
  },
  {
   "cell_type": "markdown",
   "id": "5b86055c-4a2f-47cb-88ff-5047dcb24179",
   "metadata": {},
   "source": [
    "##### Calculate a 95% confidence interval from late_shipments_boot_distn using the quantile method, labeling the lower and upper intervals lower and upper."
   ]
  },
  {
   "cell_type": "code",
   "execution_count": null,
   "id": "03e58a7f-af40-4d73-ac10-43671a3696be",
   "metadata": {},
   "outputs": [],
   "source": [
    "# Calculate 95% confidence interval using quantile method\n",
    "lower = np.percentile(late_shipments_boot_distn, 2.5)\n",
    "upper = np.percentile(late_shipments_boot_distn, 97.5)\n",
    "\n",
    "# Print the confidence interval\n",
    "print((lower, upper))"
   ]
  },
  {
   "cell_type": "markdown",
   "id": "2984cacd-d8b6-449d-bb14-83eab1fd36f8",
   "metadata": {},
   "source": [
    "### Two sample mean test statistic"
   ]
  },
  {
   "cell_type": "markdown",
   "id": "f661aa81-8225-42f1-8521-390e0a12ab23",
   "metadata": {},
   "source": [
    "##### Calculate the numerator of the test statistic.\n",
    "##### Calculate the denominator of the test statistic.\n",
    "##### Use those two numbers to calculate the test statistic."
   ]
  },
  {
   "cell_type": "code",
   "execution_count": null,
   "id": "3a862bd0-30e0-4c41-afe6-2e6dc0662cc3",
   "metadata": {},
   "outputs": [],
   "source": [
    "# Calculate the numerator of the test statistic\n",
    "numerator = xbar_yes-xbar_no\n",
    "\n",
    "# Calculate the denominator of the test statistic\n",
    "denominator = np.sqrt(s_yes**2/n_yes+s_no**2/n_no)\n",
    "\n",
    "# Calculate the test statistic\n",
    "t_stat = numerator/denominator\n",
    "\n",
    "# Print the test statistic\n",
    "print(t_stat)"
   ]
  },
  {
   "cell_type": "markdown",
   "id": "e73cf10a-2b6b-4c1d-9c3e-ab81e9b232bb",
   "metadata": {},
   "source": [
    "### Visualizing the difference"
   ]
  },
  {
   "cell_type": "markdown",
   "id": "cd000efd-e8a7-494c-8983-13bd186559d0",
   "metadata": {},
   "source": [
    "##### Create a new diff column containing the percentage of votes for the democratic candidate in 2012 minus the percentage of votes for the democratic candidate in 2016."
   ]
  },
  {
   "cell_type": "code",
   "execution_count": null,
   "id": "921bc734-593b-4d39-9b10-b5ac7630fef9",
   "metadata": {},
   "outputs": [],
   "source": [
    "# Calculate the differences from 2012 to 2016\n",
    "sample_dem_data['diff'] = sample_dem_data['dem_percent_12'] - sample_dem_data['dem_percent_16']\n",
    "\n",
    "# Print sample_dem_data\n",
    "print(sample_dem_data)"
   ]
  },
  {
   "cell_type": "markdown",
   "id": "3365b460-cc14-4ac4-b90b-d46b262e7d93",
   "metadata": {},
   "source": [
    "##### Calculate the mean of the diff column as xbar_diff."
   ]
  },
  {
   "cell_type": "code",
   "execution_count": null,
   "id": "d13439b4-b1a3-4a88-b208-70889aa21883",
   "metadata": {},
   "outputs": [],
   "source": [
    "# Calculate the differences from 2012 to 2016\n",
    "sample_dem_data['diff'] = sample_dem_data['dem_percent_12'] - sample_dem_data['dem_percent_16']\n",
    "\n",
    "# Find the mean of the diff column\n",
    "xbar_diff = sample_dem_data['diff'].mean()\n",
    "\n",
    "# Print xbar_diff\n",
    "print(xbar_diff)"
   ]
  },
  {
   "cell_type": "markdown",
   "id": "901fd28d-1159-41a6-b3ec-6fafe7428c7c",
   "metadata": {},
   "source": [
    "##### Calculate the standard deviation of the diff column as s_diff."
   ]
  },
  {
   "cell_type": "code",
   "execution_count": null,
   "id": "e1dfd237-aa5e-4ff2-904e-d802a0d3ba57",
   "metadata": {},
   "outputs": [],
   "source": [
    "# Calculate the differences from 2012 to 2016\n",
    "sample_dem_data['diff'] = sample_dem_data['dem_percent_12'] - sample_dem_data['dem_percent_16']\n",
    "\n",
    "# Find the mean of the diff column\n",
    "xbar_diff = sample_dem_data['diff'].mean()\n",
    "\n",
    "# Find the standard deviation of the diff column\n",
    "s_diff = sample_dem_data['diff'].std()\n",
    "\n",
    "# Print s_diff\n",
    "print(s_diff)"
   ]
  },
  {
   "cell_type": "markdown",
   "id": "cc24a504-eecb-43cb-8b8a-14282f298e84",
   "metadata": {},
   "source": [
    "##### Plot a histogram of the diff column with 20 bins."
   ]
  },
  {
   "cell_type": "code",
   "execution_count": null,
   "id": "8b685ce6-8414-481f-a414-f51fa955e569",
   "metadata": {},
   "outputs": [],
   "source": [
    "# Calculate the differences from 2012 to 2016\n",
    "sample_dem_data['diff'] = sample_dem_data['dem_percent_12'] - sample_dem_data['dem_percent_16']\n",
    "\n",
    "# Find the mean of the diff column\n",
    "xbar_diff = sample_dem_data['diff'].mean()\n",
    "\n",
    "# Find the standard deviation of the diff column\n",
    "s_diff = sample_dem_data['diff'].std()\n",
    "\n",
    "# Plot a histogram of diff with 20 bins\n",
    "sample_dem_data['diff'].hist(bins=20)\n",
    "plt.show()"
   ]
  },
  {
   "cell_type": "markdown",
   "id": "3e49ccec-0599-42ea-91e4-89dc2adc94bf",
   "metadata": {},
   "source": [
    "### Using ttest()"
   ]
  },
  {
   "cell_type": "markdown",
   "id": "5d00aba1-e087-4954-82c7-485f8c4e404f",
   "metadata": {},
   "source": [
    "##### Conduct a t-test on the sample differences (the diff column of sample_dem_data), using an appropriate alternative hypothesis chosen from \"two-sided\", \"less\", and \"greater\"."
   ]
  },
  {
   "cell_type": "code",
   "execution_count": null,
   "id": "1bcb933c-edaa-4956-8987-fd1998f1bff5",
   "metadata": {},
   "outputs": [],
   "source": [
    "# Conduct a t-test on diff\n",
    "test_results = pingouin.ttest(sample_dem_data['diff'],y=0, paired=True,alternative = 'two-sided' )\n",
    "                             \n",
    "# Print the test results\n",
    "print(test_results)"
   ]
  },
  {
   "cell_type": "markdown",
   "id": "5c6629fb-8c3f-4d37-8419-8593822552fa",
   "metadata": {},
   "source": [
    "##### Conduct a paired test on the democratic votes in 2012 and 2016 (the dem_percent_12 and dem_percent_16 columns of sample_dem_data), using an appropriate alternative hypothesis."
   ]
  },
  {
   "cell_type": "code",
   "execution_count": null,
   "id": "c3618cc4-035e-4e49-a8c2-00cba606b842",
   "metadata": {},
   "outputs": [],
   "source": [
    "# Conduct a t-test on diff\n",
    "test_results = pingouin.ttest(x=sample_dem_data['diff'], \n",
    "                              y=0, \n",
    "                              alternative=\"two-sided\")\n",
    "\n",
    "# Conduct a paired t-test on dem_percent_12 and dem_percent_16\n",
    "paired_test_results = pingouin.ttest(x=sample_dem_data['dem_percent_12'], \n",
    "                              y=sample_dem_data['dem_percent_16'], \n",
    "                              alternative=\"two-sided\")\n",
    "                             \n",
    "# Print the paired test results\n",
    "print(paired_test_results)"
   ]
  },
  {
   "cell_type": "markdown",
   "id": "93de24ad-cdc6-4f76-8592-b5f1b527fdc2",
   "metadata": {},
   "source": [
    "### ANOVA - Visualizing many categories"
   ]
  },
  {
   "cell_type": "markdown",
   "id": "9d2fb54b-db52-4759-b91a-68ef7726d5c8",
   "metadata": {},
   "source": [
    "##### Group late_shipments by shipment_mode and calculate the mean pack_price for each group, storing the result in xbar_pack_by_mode."
   ]
  },
  {
   "cell_type": "code",
   "execution_count": null,
   "id": "f3790923-c1c6-429d-bedc-f9b8dac25c29",
   "metadata": {},
   "outputs": [],
   "source": [
    "# Calculate the mean pack_price for each shipment_mode\n",
    "xbar_pack_by_mode = late_shipments.groupby('shipment_mode')['pack_price'].mean()\n",
    "\n",
    "# Print the grouped means\n",
    "print(xbar_pack_by_mode)"
   ]
  },
  {
   "cell_type": "markdown",
   "id": "c23e30ec-280c-473e-97d4-16995cd71c5c",
   "metadata": {},
   "source": [
    "##### Group late_shipments by shipment_mode and calculate the standard deviation pack_price for each group, storing the result in s_pack_by_mode."
   ]
  },
  {
   "cell_type": "code",
   "execution_count": null,
   "id": "7f0bc989-eeac-4b10-89a0-676e91936eea",
   "metadata": {},
   "outputs": [],
   "source": [
    "# Calculate the mean pack_price for each shipment_mode\n",
    "xbar_pack_by_mode = late_shipments.groupby(\"shipment_mode\")['pack_price'].mean()\n",
    "\n",
    "# Calculate the standard deviation of the pack_price for each shipment_mode\n",
    "s_pack_by_mode = late_shipments.groupby(\"shipment_mode\")['pack_price'].std()\n",
    "\n",
    "# Print the grouped standard deviations\n",
    "print(s_pack_by_mode)"
   ]
  },
  {
   "cell_type": "markdown",
   "id": "6bb2952a-254e-42f8-a51d-c40df2c7223d",
   "metadata": {},
   "source": [
    "##### Create a boxplot from late_shipments with \"pack_price\" as x and \"shipment_mode\" as y."
   ]
  },
  {
   "cell_type": "code",
   "execution_count": null,
   "id": "a48da30d-be7c-430f-8142-4c000ee4094e",
   "metadata": {},
   "outputs": [],
   "source": [
    "# Calculate the mean pack_price for each shipment_mode\n",
    "xbar_pack_by_mode = late_shipments.groupby(\"shipment_mode\")['pack_price'].mean()\n",
    "\n",
    "# Calculate the standard deviation of the pack_price for each shipment_mode\n",
    "s_pack_by_mode = late_shipments.groupby(\"shipment_mode\")['pack_price'].std()\n",
    "\n",
    "# Boxplot of shipment_mode vs. pack_price\n",
    "sns.boxplot(x='pack_price',y='shipment_mode', data= late_shipments )\n",
    "plt.show()"
   ]
  },
  {
   "cell_type": "markdown",
   "id": "e154c1f5-6c07-4425-a9c2-b7d29a4280cf",
   "metadata": {},
   "source": [
    "### Conducting an ANOVA test"
   ]
  },
  {
   "cell_type": "markdown",
   "id": "218eb78f-c27a-4196-9b57-354cd07fe0a8",
   "metadata": {},
   "source": [
    "##### Run an ANOVA on late_shipments investigating 'pack_price' (the dependent variable) between the groups of 'shipment_mode'."
   ]
  },
  {
   "cell_type": "code",
   "execution_count": null,
   "id": "86e0fcc4-90cf-4394-bb22-52f993dd7eb9",
   "metadata": {},
   "outputs": [],
   "source": [
    "# Run an ANOVA for pack_price across shipment_mode\n",
    "anova_results = pingouin.anova(late_shipments, dv='pack_price',between = 'shipment_mode')\n",
    "\n",
    "# Print anova_results\n",
    "print(anova_results)"
   ]
  },
  {
   "cell_type": "markdown",
   "id": "a93a23da-63ec-4c8d-bf8e-d12c49c94540",
   "metadata": {},
   "source": [
    "### Pairwise t-tests"
   ]
  },
  {
   "cell_type": "markdown",
   "id": "0094fb6a-3fd7-47c1-9797-aad9025ee024",
   "metadata": {},
   "source": [
    "##### Perform pairwise t-tests on late_shipments's pack_price variable, grouped by shipment_mode, without doing any p-value adjustment."
   ]
  },
  {
   "cell_type": "code",
   "execution_count": null,
   "id": "206bacaf-8b91-4832-9353-380c70cdb331",
   "metadata": {},
   "outputs": [],
   "source": [
    "# Perform a pairwise t-test on pack price, grouped by shipment mode\n",
    "pairwise_results = pingouin.pairwise_tests(data=late_shipments, dv='pack_price', between='shipment_mode', padjust='none') \n",
    "\n",
    "# Print pairwise_results\n",
    "print(pairwise_results)"
   ]
  },
  {
   "cell_type": "markdown",
   "id": "c780cb25-d4d9-47c8-9077-c6226b90aa73",
   "metadata": {},
   "source": [
    "##### Modify the pairwise t-tests to use the Bonferroni p-value adjustment."
   ]
  },
  {
   "cell_type": "code",
   "execution_count": null,
   "id": "b16373ed-7ddd-47d1-a14f-536bba6615d9",
   "metadata": {},
   "outputs": [],
   "source": [
    "# Modify the pairwise t-tests to use Bonferroni p-value adjustment\n",
    "pairwise_results = pingouin.pairwise_tests(data=late_shipments, \n",
    "                                           dv=\"pack_price\",\n",
    "                                           between=\"shipment_mode\",\n",
    "                                           padjust=\"bonf\")\n",
    "\n",
    "# Print pairwise_results\n",
    "print(pairwise_results)"
   ]
  },
  {
   "cell_type": "markdown",
   "id": "904b9ecd-96d9-4fef-9c58-cfff088daf99",
   "metadata": {},
   "source": [
    "### Test for single proportions"
   ]
  },
  {
   "cell_type": "markdown",
   "id": "db9400b1-01b8-4e81-9081-739c312cf3d1",
   "metadata": {},
   "source": [
    "##### Hypothesize that the proportion of late shipments is 6%.\n",
    "##### Calculate the sample proportion of shipments where late equals \"Yes\".\n",
    "##### Calculate the number of observations in the sample."
   ]
  },
  {
   "cell_type": "code",
   "execution_count": null,
   "id": "503fd407-6e44-4037-9f64-ebe06d1d2810",
   "metadata": {},
   "outputs": [],
   "source": [
    "# Hypothesize that the proportion of late shipments is 6%\n",
    "p_0 = 0.06\n",
    "\n",
    "# Calculate the sample proportion of late shipments\n",
    "p_hat = (late_shipments['late']=='Yes').mean()\n",
    "\n",
    "# Calculate the sample size\n",
    "n = len((late_shipments['late']=='Yes'))\n",
    "\n",
    "# Print p_hat and n\n",
    "print(p_hat, n)"
   ]
  },
  {
   "cell_type": "markdown",
   "id": "0cd2ff34-c4ad-467f-8ad4-d16443d47edc",
   "metadata": {},
   "source": [
    "##### Calculate the numerator and denominator of the z-score.\n",
    "##### Calculate the z-score as the ratio of these numbers."
   ]
  },
  {
   "cell_type": "code",
   "execution_count": null,
   "id": "0df391c1-8001-4fd4-92ab-8f2bd5f0aa7e",
   "metadata": {},
   "outputs": [],
   "source": [
    "# Hypothesize that the proportion of late shipments is 6%\n",
    "p_0 = 0.06\n",
    "\n",
    "# Calculate the sample proportion of late shipments\n",
    "p_hat = (late_shipments['late'] == \"Yes\").mean()\n",
    "\n",
    "# Calculate the sample size\n",
    "n = len(late_shipments)\n",
    "\n",
    "# Calculate the numerator and denominator of the test statistic\n",
    "numerator = p_hat-p_0\n",
    "denominator = np.sqrt(p_0*(1-p_0)/n)\n",
    "\n",
    "# Calculate the test statistic\n",
    "z_score = numerator/denominator\n",
    "\n",
    "# Print the result\n",
    "print(z_score)"
   ]
  },
  {
   "cell_type": "markdown",
   "id": "b10a4610-571b-4186-b132-df556d2daf60",
   "metadata": {},
   "source": [
    "##### Transform the z-scorinto a p-value, remembering that this is a \"greater than\" alternative hypothesis."
   ]
  },
  {
   "cell_type": "code",
   "execution_count": null,
   "id": "e8dae82a-ad0f-436b-8df5-31b72d7e4e26",
   "metadata": {},
   "outputs": [],
   "source": [
    "# Hypothesize that the proportion of late shipments is 6%\n",
    "p_0 = 0.06\n",
    "\n",
    "# Calculate the sample proportion of late shipments\n",
    "p_hat = (late_shipments['late'] == \"Yes\").mean()\n",
    "\n",
    "# Calculate the sample size\n",
    "n = len(late_shipments)\n",
    "\n",
    "# Calculate the numerator and denominator of the test statistic\n",
    "numerator = p_hat - p_0\n",
    "denominator = np.sqrt(p_0 * (1 - p_0) / n)\n",
    "\n",
    "# Calculate the test statistic\n",
    "z_score = numerator / denominator\n",
    "\n",
    "# Calculate the p-value from the z-score\n",
    "p_value = 1- norm.cdf(z_score)\n",
    "\n",
    "# Print the p-value\n",
    "print(p_value)"
   ]
  },
  {
   "cell_type": "markdown",
   "id": "34feb331-528a-4839-a649-e903ba169ddf",
   "metadata": {},
   "source": [
    "### Test of two proportions"
   ]
  },
  {
   "cell_type": "markdown",
   "id": "a9eac2e2-6aeb-4fea-bba7-dbb2dadcd708",
   "metadata": {},
   "source": [
    "##### Calculate the pooled sample proportion, p, from p_hats and ns."
   ]
  },
  {
   "cell_type": "code",
   "execution_count": null,
   "id": "ba749557-4fe8-4fb2-9431-b8004aadd30b",
   "metadata": {},
   "outputs": [],
   "source": [
    "# Calculate the pooled estimate of the population proportion\n",
    "p_hat = (p_hats[\"reasonable\"] * ns[\"reasonable\"] + p_hats[\"expensive\"] * ns[\"expensive\"]) / (ns[\"reasonable\"] + ns[\"expensive\"])\n",
    "\n",
    "# Print the result\n",
    "print(p_hat)"
   ]
  },
  {
   "cell_type": "markdown",
   "id": "7b8e7538-491e-44c2-b7b3-68be92e79f94",
   "metadata": {},
   "source": [
    "##### Calculate p_hat multiplied by (1 - p_hat).\n",
    "##### Divide p_hat_times_not_p_hat by the number of \"reasonable\" rows and by the number of \"expensive\" rows, and sum those two values.\n",
    "##### Calculate std_error by taking the square root of p_hat_times_not_p_hat_over_ns."
   ]
  },
  {
   "cell_type": "code",
   "execution_count": null,
   "id": "ad336801-9ea8-47c6-ad17-5a3f05cf468a",
   "metadata": {},
   "outputs": [],
   "source": [
    "# Calculate the pooled estimate of the population proportion\n",
    "p_hat = (p_hats[\"reasonable\"] * ns[\"reasonable\"] + p_hats[\"expensive\"] * ns[\"expensive\"]) / (ns[\"reasonable\"] + ns[\"expensive\"])\n",
    "\n",
    "# Calculate p_hat one minus p_hat\n",
    "p_hat_times_not_p_hat = 1 - p_hat\n",
    "\n",
    "# Divide this by each of the sample sizes and then sum\n",
    "p_hat_times_not_p_hat_over_ns = (p_hat*(1-p_hat)/ns[\"expensive\"])+(p_hat*(1-p_hat)/ns[\"reasonable\"])\n",
    "\n",
    "# Calculate the standard error\n",
    "std_error = np.sqrt(p_hat_times_not_p_hat_over_ns)\n",
    "\n",
    "# Print the result\n",
    "print(std_error)"
   ]
  },
  {
   "cell_type": "markdown",
   "id": "af7a5569-6c68-433a-ab3b-81f4f49576f1",
   "metadata": {},
   "source": [
    "##### Calculate the z-score using the following equation."
   ]
  },
  {
   "cell_type": "code",
   "execution_count": null,
   "id": "1b66866a-521f-47cd-9334-d1f5efa8667b",
   "metadata": {},
   "outputs": [],
   "source": [
    "# Calculate the pooled estimate of the population proportion\n",
    "p_hat = (p_hats[\"reasonable\"] * ns[\"reasonable\"] + p_hats[\"expensive\"] * ns[\"expensive\"]) / (ns[\"reasonable\"] + ns[\"expensive\"])\n",
    "\n",
    "# Calculate p_hat one minus p_hat\n",
    "p_hat_times_not_p_hat = p_hat * (1 - p_hat)\n",
    "\n",
    "# Divide this by each of the sample sizes and then sum\n",
    "p_hat_times_not_p_hat_over_ns = p_hat_times_not_p_hat / ns[\"expensive\"] + p_hat_times_not_p_hat / ns[\"reasonable\"]\n",
    "\n",
    "# Calculate the standard error\n",
    "std_error = np.sqrt(p_hat_times_not_p_hat_over_ns)\n",
    "\n",
    "# Calculate the z-score\n",
    "z_score = ( p_hats[\"expensive\"] - p_hats[\"reasonable\"])/(std_error)\n",
    "\n",
    "# Print z_score\n",
    "print(z_score)"
   ]
  },
  {
   "cell_type": "markdown",
   "id": "8bd928e6-29c2-4e7d-a31e-fd7a6effc905",
   "metadata": {},
   "source": [
    "##### Calculate the p-value from the z-score."
   ]
  },
  {
   "cell_type": "code",
   "execution_count": null,
   "id": "22fc218a-11f0-4920-a7b1-cd3e0afd4a20",
   "metadata": {},
   "outputs": [],
   "source": [
    "# Calculate the pooled estimate of the population proportion\n",
    "p_hat = (p_hats[\"reasonable\"] * ns[\"reasonable\"] + p_hats[\"expensive\"] * ns[\"expensive\"]) / (ns[\"reasonable\"] + ns[\"expensive\"])\n",
    "\n",
    "# Calculate p_hat one minus p_hat\n",
    "p_hat_times_not_p_hat = p_hat * (1 - p_hat)\n",
    "\n",
    "# Divide this by each of the sample sizes and then sum\n",
    "p_hat_times_not_p_hat_over_ns = p_hat_times_not_p_hat / ns[\"expensive\"] + p_hat_times_not_p_hat / ns[\"reasonable\"]\n",
    "\n",
    "# Calculate the standard error\n",
    "std_error = np.sqrt(p_hat_times_not_p_hat_over_ns)\n",
    "\n",
    "# Calculate the z-score\n",
    "z_score = (p_hats[\"expensive\"] - p_hats[\"reasonable\"]) / std_error\n",
    "\n",
    "# Calculate the p-value from the z-score\n",
    "p_value = 1 - norm.cdf(z_score)\n",
    "\n",
    "# Print p_value\n",
    "print(p_value)"
   ]
  },
  {
   "cell_type": "markdown",
   "id": "3041a7ce-2ebb-4d26-a5d8-18cee6019cfe",
   "metadata": {},
   "source": [
    "### Proportions_ztest() for two samples"
   ]
  },
  {
   "cell_type": "markdown",
   "id": "2c6f521e-06ff-43f0-8948-1bdee41244d9",
   "metadata": {},
   "source": [
    "##### Get the counts of the late column grouped by freight_cost_group."
   ]
  },
  {
   "cell_type": "code",
   "execution_count": null,
   "id": "07de38e3-f198-429b-affa-8fe0ec62ea52",
   "metadata": {},
   "outputs": [],
   "source": [
    "# Count the late column values for each freight_cost_group\n",
    "late_by_freight_cost_group = late_shipments.groupby('freight_cost_group')['late'].value_counts()\n",
    "\n",
    "# Print the counts\n",
    "print(late_by_freight_cost_group)"
   ]
  },
  {
   "cell_type": "markdown",
   "id": "6fe86ed1-1ac3-4d72-9a1e-30435e430d78",
   "metadata": {},
   "source": [
    "##### Extract the number of \"Yes\"'s for the two freight_cost_group into a numpy array, specifying the 'expensive' count and then 'reasonable'.\n",
    "##### Determine the overall number of rows in each freight_cost_group as a numpy array, specifying the 'expensive' count and then 'reasonable'.\n",
    "##### Run a z-test using proportions_ztest(), specifying alternative as \"larger\""
   ]
  },
  {
   "cell_type": "code",
   "execution_count": null,
   "id": "f93ce961-7e51-4945-9b33-0c13ce3a04ea",
   "metadata": {},
   "outputs": [],
   "source": [
    "# Count the late column values for each freight_cost_group\n",
    "late_by_freight_cost_group = late_shipments.groupby(\"freight_cost_group\")['late'].value_counts()\n",
    "\n",
    "# Create an array of the \"Yes\" counts for each freight_cost_group\n",
    "success_counts = np.array([45, 16])\n",
    "\n",
    "# Create an array of the total number of rows in each freight_cost_group\n",
    "n = np.array([45 + 500, 16 + 439])\n",
    "\n",
    "# Run a z-test on the two proportions\n",
    "stat, p_value = proportions_ztest(count=success_counts, nobs=n,\n",
    "                                  alternative=\"larger\")\n",
    "\n",
    "# Print the results\n",
    "print(stat, p_value)"
   ]
  },
  {
   "cell_type": "markdown",
   "id": "0b1e57ea-602f-474a-8a07-d5f293f00d9d",
   "metadata": {},
   "source": [
    "### Performing a chi-square test"
   ]
  },
  {
   "cell_type": "markdown",
   "id": "d0d674cc-ba28-417b-9daf-ee46e431d850",
   "metadata": {},
   "source": [
    "##### Calculate the proportion of freight_cost_group in late_shipments grouped by vendor_inco_term."
   ]
  },
  {
   "cell_type": "code",
   "execution_count": null,
   "id": "18e4e87b-5b48-47d0-980a-a956b977d383",
   "metadata": {},
   "outputs": [],
   "source": [
    "# Proportion of freight_cost_group grouped by vendor_inco_term\n",
    "props = late_shipments.groupby('vendor_inco_term')['freight_cost_group'].value_counts(normalize=True)\n",
    "\n",
    "# Print props\n",
    "print(props)"
   ]
  },
  {
   "cell_type": "markdown",
   "id": "08b2432a-4010-45ed-833a-a256677e4ba2",
   "metadata": {},
   "source": [
    "##### Unstack the .value_counts() result to be in wide format instead of long."
   ]
  },
  {
   "cell_type": "code",
   "execution_count": null,
   "id": "a5b8633b-f07a-465a-9b7c-defddd2d6587",
   "metadata": {},
   "outputs": [],
   "source": [
    "# Proportion of freight_cost_group grouped by vendor_inco_term\n",
    "props = late_shipments.groupby('vendor_inco_term')['freight_cost_group'].value_counts(normalize=True)\n",
    "\n",
    "# Convert props to wide format\n",
    "wide_props = props.unstack()\n",
    "\n",
    "# Print wide_props\n",
    "print(wide_props)"
   ]
  },
  {
   "cell_type": "markdown",
   "id": "ab267f8a-21a0-4ded-9957-62bb36815695",
   "metadata": {},
   "source": [
    "##### Create a proportional stacked bar plot with bars filled based on freight_cost_group across the levels of vendor_inco_term."
   ]
  },
  {
   "cell_type": "code",
   "execution_count": null,
   "id": "28987b1d-898b-45d7-b886-6807637fb1e4",
   "metadata": {},
   "outputs": [],
   "source": [
    "# Proportion of freight_cost_group grouped by vendor_inco_term\n",
    "props = late_shipments.groupby('vendor_inco_term')['freight_cost_group'].value_counts(normalize=True)\n",
    "\n",
    "# Convert props to wide format\n",
    "wide_props = props.unstack()\n",
    "\n",
    "# Proportional stacked bar plot of freight_cost_group vs. vendor_inco_term\n",
    "wide_props.plot(kind=\"bar\", stacked=True)\n",
    "plt.show()"
   ]
  },
  {
   "cell_type": "markdown",
   "id": "6ceeec68-0ce7-4560-a1e5-e26305295020",
   "metadata": {},
   "source": [
    "##### Perform a chi-square test of independence on freight_cost_group and vendor_inco_term in the late_shipments dataset."
   ]
  },
  {
   "cell_type": "code",
   "execution_count": null,
   "id": "08429ecb-a0f7-4109-9fc3-b011e0f423bf",
   "metadata": {},
   "outputs": [],
   "source": [
    "# Proportion of freight_cost_group grouped by vendor_inco_term\n",
    "props = late_shipments.groupby('vendor_inco_term')['freight_cost_group'].value_counts(normalize=True)\n",
    "\n",
    "# Convert props to wide format\n",
    "wide_props = props.unstack()\n",
    "\n",
    "# Proportional stacked bar plot of freight_cost_group vs. vendor_inco_term\n",
    "wide_props.plot(kind=\"bar\", stacked=True)\n",
    "plt.show()\n",
    "\n",
    "# Determine if freight_cost_group and vendor_inco_term are independent\n",
    "expected, observed, stats = pingouin.chi2_independence(data=late_shipments, x=\"vendor_inco_term\", y=\"freight_cost_group\")\n",
    "\n",
    "# Print results\n",
    "print(stats[stats['test'] == 'pearson']) "
   ]
  },
  {
   "cell_type": "markdown",
   "id": "979b1bef-5912-4040-88dd-553aee82819a",
   "metadata": {},
   "source": [
    "### Visualizing goodness of fit"
   ]
  },
  {
   "cell_type": "markdown",
   "id": "67ab8651-8c6e-4c29-aec1-95e743045413",
   "metadata": {},
   "source": [
    "##### Find the total number of rows in late_shipments."
   ]
  },
  {
   "cell_type": "code",
   "execution_count": null,
   "id": "84d6e34d-afd9-414a-8816-a80ac9ccfa35",
   "metadata": {},
   "outputs": [],
   "source": [
    "# Find the number of rows in late_shipments\n",
    "n_total = len(late_shipments)\n",
    "\n",
    "# Print n_total\n",
    "print(n_total)"
   ]
  },
  {
   "cell_type": "markdown",
   "id": "5fea39b3-a60e-4ec5-bda5-580a4b929efd",
   "metadata": {},
   "source": [
    "##### Add a column named n to the hypothesized DataFrame that is the hypothesized prop column times n_total."
   ]
  },
  {
   "cell_type": "code",
   "execution_count": null,
   "id": "9a8cf761-671f-4ed6-97b8-885561ec6b94",
   "metadata": {},
   "outputs": [],
   "source": [
    "# Find the number of rows in late_shipments\n",
    "n_total = len(late_shipments)\n",
    "\n",
    "# Create n column that is prop column * n_total\n",
    "hypothesized['n'] = hypothesized['prop'] * n_total\n",
    "\n",
    "# Print the modified hypothesized DataFrame\n",
    "print(hypothesized)"
   ]
  },
  {
   "cell_type": "markdown",
   "id": "850c8373-761d-4a82-b017-6c39dc36a5fe",
   "metadata": {},
   "source": [
    "##### Create a bar graph of 'n' versus 'vendor_inco_term' for the incoterm_counts data, specifying a red color."
   ]
  },
  {
   "cell_type": "code",
   "execution_count": null,
   "id": "36334ab7-517f-4bf3-aa56-60381d54503a",
   "metadata": {},
   "outputs": [],
   "source": [
    "# Find the number of rows in late_shipments\n",
    "n_total = len(late_shipments)\n",
    "\n",
    "# Create n column that is prop column * n_total\n",
    "hypothesized[\"n\"] = hypothesized[\"prop\"] * n_total\n",
    "\n",
    "# Plot a red bar graph of n vs. vendor_inco_term for incoterm_counts\n",
    "plt.bar(incoterm_counts['vendor_inco_term'], incoterm_counts['n'], color=\"red\", label=\"Observed\")\n",
    "plt.legend()\n",
    "plt.show()"
   ]
  },
  {
   "cell_type": "markdown",
   "id": "861891da-ca81-4586-97bf-b70d4cc02c19",
   "metadata": {},
   "source": [
    "##### Add blue bars to the plot showing the same results from the hypothesized DataFrame, specifying an alpha of 0.5."
   ]
  },
  {
   "cell_type": "code",
   "execution_count": null,
   "id": "baf68a76-025f-4b2e-b7ac-a3dd43432221",
   "metadata": {},
   "outputs": [],
   "source": [
    "# Find the number of rows in late_shipments\n",
    "n_total = len(late_shipments)\n",
    "\n",
    "# Create n column that is prop column * n_total\n",
    "hypothesized[\"n\"] = hypothesized[\"prop\"] * n_total\n",
    "\n",
    "# Plot a red bar graph of n vs. vendor_inco_term for incoterm_counts\n",
    "plt.bar(incoterm_counts['vendor_inco_term'], incoterm_counts['n'], color=\"red\", label=\"Observed\")\n",
    "\n",
    "# Add a blue bar plot for the hypothesized counts\n",
    "plt.bar(hypothesized['vendor_inco_term'], hypothesized['n'], color=\"blue\",alpha=0.5, label=\"Hypothesized\")\n",
    "plt.legend()\n",
    "plt.show()"
   ]
  },
  {
   "cell_type": "markdown",
   "id": "c81d4eb7-23c3-4960-a544-b11afba0943f",
   "metadata": {},
   "source": [
    "### Performing a goodness of fit test"
   ]
  },
  {
   "cell_type": "markdown",
   "id": "3b6c1046-7190-46ca-b835-df745eef338d",
   "metadata": {},
   "source": [
    "##### Using the incoterm_counts and hypothesized datasets, perform a chi-square goodness of fit test on the incoterm counts, n."
   ]
  },
  {
   "cell_type": "code",
   "execution_count": null,
   "id": "05818cbb-b711-4c39-85b1-bc0d8ea9e25d",
   "metadata": {},
   "outputs": [],
   "source": [
    "# Perform a goodness of fit test on the incoterm counts n\n",
    "gof_test = chisquare(incoterm_counts['n'],hypothesized['n'] )\n",
    "\n",
    "\n",
    "# Print gof_test results\n",
    "print(gof_test)"
   ]
  },
  {
   "cell_type": "markdown",
   "id": "5161d23e-5efd-4722-8ff5-389443346836",
   "metadata": {},
   "source": [
    "### Testing sample size"
   ]
  },
  {
   "cell_type": "markdown",
   "id": "1fe4e08f-df48-4e3b-af5e-9f3d3b986b34",
   "metadata": {},
   "source": [
    "##### Get the count of each value in the freight_cost_group column of late_shipments.\n",
    "##### Insert a suitable number to inspect whether the counts are \"big enough\" for a two sample t-test."
   ]
  },
  {
   "cell_type": "code",
   "execution_count": null,
   "id": "68e0a3ae-0033-49cb-a87b-a2b0dc9e7780",
   "metadata": {},
   "outputs": [],
   "source": [
    "# Count the freight_cost_group values\n",
    "counts = late_shipments['freight_cost_group'].value_counts()\n",
    "\n",
    "# Print the result\n",
    "print(counts)\n",
    "\n",
    "# Inspect whether the counts are big enough\n",
    "print((counts >= 30).all())"
   ]
  },
  {
   "cell_type": "markdown",
   "id": "9c5458b0-d753-4ff8-9e2b-261815c25b9a",
   "metadata": {},
   "source": [
    "##### Get the count of each value in the late column of late_shipments.\n",
    "##### Insert a suitable number to inspect whether the counts are \"big enough\" for a one sample proportion test."
   ]
  },
  {
   "cell_type": "code",
   "execution_count": null,
   "id": "64b542b5-b964-4618-9569-2699c81d34e5",
   "metadata": {},
   "outputs": [],
   "source": [
    "# Count the late values\n",
    "counts = late_shipments['late'].value_counts()\n",
    "\n",
    "# Print the result\n",
    "print(counts)\n",
    "\n",
    "# Inspect whether the counts are big enough\n",
    "print((counts >= 10).all())"
   ]
  },
  {
   "cell_type": "markdown",
   "id": "4db77672-9107-4c47-8582-7a639565787c",
   "metadata": {},
   "source": [
    "##### Get the count of each value in the freight_cost_group column of late_shipments grouped by vendor_inco_term.\n",
    "##### Insert a suitable number to inspect whether the counts are \"big enough\" for a chi-square independence test."
   ]
  },
  {
   "cell_type": "code",
   "execution_count": null,
   "id": "fabea27a-0d0e-4a6a-8320-96c4dc4296ca",
   "metadata": {},
   "outputs": [],
   "source": [
    "# Count the values of freight_cost_group grouped by vendor_inco_term\n",
    "counts = late_shipments.groupby('vendor_inco_term')['freight_cost_group'].value_counts()\n",
    "\n",
    "# Print the result\n",
    "print(counts)\n",
    "\n",
    "# Inspect whether the counts are big enough\n",
    "print((counts >= 5).all())"
   ]
  },
  {
   "cell_type": "markdown",
   "id": "2eda1cd2-df63-4afe-8eeb-48a460212b8e",
   "metadata": {},
   "source": [
    "##### Get the count of each value in the shipment_mode column of late_shipments.\n",
    "##### Insert a suitable number to inspect whether the counts are \"big enough\" for an ANOVA test."
   ]
  },
  {
   "cell_type": "code",
   "execution_count": null,
   "id": "4babef3b-a33a-4b47-8563-9a5c52214d9f",
   "metadata": {},
   "outputs": [],
   "source": [
    "# Count the shipment_mode values\n",
    "counts = late_shipments['shipment_mode'].value_counts()\n",
    "\n",
    "# Print the result\n",
    "print(counts)\n",
    "\n",
    "# Inspect whether the counts are big enough\n",
    "print((counts >= 30).all())"
   ]
  },
  {
   "cell_type": "markdown",
   "id": "cd22a62a-2fa5-41b7-b8d1-6fe6c20093ff",
   "metadata": {},
   "source": [
    "### Wilcoxon signed-rank test"
   ]
  },
  {
   "cell_type": "markdown",
   "id": "cd9c38ee-6ec0-405c-8ea9-0a2ecd24111c",
   "metadata": {},
   "source": [
    "##### Conduct a paired t-test on the percentage columns using an appropriate alternative hypothesis."
   ]
  },
  {
   "cell_type": "code",
   "execution_count": null,
   "id": "7b5fe3f1-24c2-417f-81de-790fc5d98d64",
   "metadata": {},
   "outputs": [],
   "source": [
    "# Conduct a paired t-test on dem_percent_12 and dem_percent_16\n",
    "paired_test_results = pingouin.ttest(sample_dem_data['dem_percent_12'], sample_dem_data['dem_percent_16'] )\n",
    "\n",
    "# Print paired t-test results\n",
    "print(paired_test_results)"
   ]
  },
  {
   "cell_type": "markdown",
   "id": "f0d30fde-fef1-493c-add4-1daa7e555db1",
   "metadata": {},
   "source": [
    "##### Conduct a Wilcoxon-signed rank test on the same columns."
   ]
  },
  {
   "cell_type": "code",
   "execution_count": null,
   "id": "a2b1a09d-0799-4513-b396-fa201a24d92a",
   "metadata": {},
   "outputs": [],
   "source": [
    "# Conduct a Wilcoxon test on dem_percent_12 and dem_percent_16\n",
    "wilcoxon_test_results = pingouin.wilcoxon(sample_dem_data['dem_percent_12'], sample_dem_data['dem_percent_16'])\n",
    "\n",
    "# Print Wilcoxon test results\n",
    "print(wilcoxon_test_results)"
   ]
  },
  {
   "cell_type": "markdown",
   "id": "10a8e5c8-f3b2-4e65-9703-aacd8834db0b",
   "metadata": {},
   "source": [
    "### Wilcoxon-Mann-Whitney"
   ]
  },
  {
   "cell_type": "markdown",
   "id": "120f7ada-b8bc-40d4-8e0a-55b2efa5ae4d",
   "metadata": {},
   "source": [
    "##### Select weight_kilograms and late from late_shipments, assigning the name weight_vs_late.\n",
    "##### Convert weight_vs_late from long-to-wide format, setting columns to 'late'.\n",
    "##### Run a Wilcoxon-Mann-Whitney test for a difference in weight_kilograms when the shipment was late and on-time."
   ]
  },
  {
   "cell_type": "code",
   "execution_count": null,
   "id": "221e1c9c-3760-4354-b0ad-d8bdbeec36d4",
   "metadata": {},
   "outputs": [],
   "source": [
    "# Select the weight_kilograms and late columns\n",
    "weight_vs_late = late_shipments[[\"weight_kilograms\", \"late\"]]\n",
    "\n",
    "# Convert weight_vs_late into wide format\n",
    "weight_vs_late_wide = weight_vs_late.pivot(columns='late', \n",
    "                                           values='weight_kilograms')\n",
    "\n",
    "# Run a two-sided Wilcoxon-Mann-Whitney test on weight_kilograms vs. late\n",
    "wmw_test = pingouin.mwu(x=weight_vs_late_wide['No'],\n",
    "                        y=weight_vs_late_wide['Yes'],\n",
    "                        alternative='two-sided')\n",
    "\n",
    "# Print the test results\n",
    "print(wmw_test)"
   ]
  },
  {
   "cell_type": "markdown",
   "id": "a152920f-86f2-4188-9d5e-aaaf16498cfa",
   "metadata": {},
   "source": [
    "### Kruskal-Wallis"
   ]
  },
  {
   "cell_type": "markdown",
   "id": "502a1851-ffef-4cbe-88d0-5477c0ddf2df",
   "metadata": {},
   "source": [
    "##### Run a Kruskal-Wallis test on weight_kilograms between the different shipment modes in late_shipments."
   ]
  },
  {
   "cell_type": "code",
   "execution_count": null,
   "id": "3f2c4f17-bd6e-4ac2-93c5-4b9d9f7c3ce3",
   "metadata": {},
   "outputs": [],
   "source": [
    "# Run a Kruskal-Wallis test on weight_kilograms vs. shipment_mode\n",
    "kw_test = pingouin.kruskal(data= late_shipments, dv='weight_kilograms', between='shipment_mode')\n",
    "\n",
    "# Print the results\n",
    "print(kw_test)"
   ]
  }
 ],
 "metadata": {
  "kernelspec": {
   "display_name": "Python 3 (ipykernel)",
   "language": "python",
   "name": "python3"
  },
  "language_info": {
   "codemirror_mode": {
    "name": "ipython",
    "version": 3
   },
   "file_extension": ".py",
   "mimetype": "text/x-python",
   "name": "python",
   "nbconvert_exporter": "python",
   "pygments_lexer": "ipython3",
   "version": "3.9.13"
  }
 },
 "nbformat": 4,
 "nbformat_minor": 5
}
