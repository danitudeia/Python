{
 "cells": [
  {
   "cell_type": "markdown",
   "id": "207624b1-ba47-4088-a6ce-9a3e4e37730e",
   "metadata": {},
   "source": [
    "### Flipping coins"
   ]
  },
  {
   "cell_type": "markdown",
   "id": "8fc2ee78-fbb1-44f0-8142-8509eafa5eba",
   "metadata": {},
   "source": [
    "##### Import bernoulli from scipy.stats, set the seed with np.random.seed(). Simulate 1 flip, with a 35% chance of heads."
   ]
  },
  {
   "cell_type": "code",
   "execution_count": null,
   "id": "f60783a8-495b-4358-891f-44ac93d8711d",
   "metadata": {},
   "outputs": [],
   "source": [
    "# Import the bernoulli object from scipy.stats\n",
    "from scipy.stats import bernoulli\n",
    "\n",
    "# Set the random seed to reproduce the results\n",
    "np.random.seed(42)\n",
    "\n",
    "# Simulate one coin flip with 35% chance of getting heads\n",
    "coin_flip = bernoulli.rvs(p=0.35, size=1)\n",
    "print(coin_flip)"
   ]
  },
  {
   "cell_type": "markdown",
   "id": "1c50ca52-2dab-4d0a-92c4-b43f3bd66292",
   "metadata": {},
   "source": [
    "##### Use bernoulli.rvs() and sum() to get the number of heads after 10 coin flips with 35% chance of getting heads."
   ]
  },
  {
   "cell_type": "code",
   "execution_count": null,
   "id": "e3607af0-b886-41d7-9791-fc58b4878d98",
   "metadata": {},
   "outputs": [],
   "source": [
    "# Import the bernoulli object from scipy.stats\n",
    "from scipy.stats import bernoulli\n",
    "\n",
    "# Set the random seed to reproduce the results\n",
    "np.random.seed(42)\n",
    "\n",
    "# Simulate ten coin flips and get the number of heads\n",
    "ten_coin_flips = bernoulli.rvs(p=0.35, size=10)\n",
    "coin_flips_sum = sum(ten_coin_flips)\n",
    "print(coin_flips_sum)"
   ]
  },
  {
   "cell_type": "markdown",
   "id": "34e90210-8a34-4473-9572-3662209ca169",
   "metadata": {},
   "source": [
    "##### Using bernoulli.rvs() and sum(), try to get the number of heads after 5 flips with a 50% chance of getting heads."
   ]
  },
  {
   "cell_type": "code",
   "execution_count": null,
   "id": "731caff9-fb07-4c31-a6e4-dfa950130241",
   "metadata": {},
   "outputs": [],
   "source": [
    "# Import the bernoulli object from scipy.stats\n",
    "from scipy.stats import bernoulli\n",
    "\n",
    "# Set the random seed to reproduce the results\n",
    "np.random.seed(42)\n",
    "\n",
    "# Simulate ten coin flips and get the number of heads\n",
    "five_coin_flips = bernoulli.rvs(p=0.5, size=5)\n",
    "coin_flips_sum = sum(five_coin_flips)\n",
    "print(coin_flips_sum)"
   ]
  },
  {
   "cell_type": "markdown",
   "id": "5d6dc065-ee40-4dac-8f9a-b8c47ec5431d",
   "metadata": {},
   "source": [
    "### Using binom to flip even more coins"
   ]
  },
  {
   "cell_type": "markdown",
   "id": "f8fc8f19-142f-453c-a62a-7770c9badf3c",
   "metadata": {},
   "source": [
    "##### Use the binom.rvs() function to simulate 20 trials of 10 coin flips with a 35% chance of getting heads."
   ]
  },
  {
   "cell_type": "code",
   "execution_count": null,
   "id": "cf9ebcb1-d301-4298-ae84-fb5cb3925658",
   "metadata": {},
   "outputs": [],
   "source": [
    "# Set the random seed to reproduce the results\n",
    "np.random.seed(42)\n",
    "\n",
    "# Simulate 20 trials of 10 coin flips \n",
    "draws = binom.rvs(n=10, p=0.35, size=20)\n",
    "print(draws)"
   ]
  },
  {
   "cell_type": "markdown",
   "id": "2854ce1e-ec80-4b37-8b1c-89ee04721fe4",
   "metadata": {},
   "source": [
    "### Predicting the probability of defects"
   ]
  },
  {
   "cell_type": "markdown",
   "id": "386a6ebd-1da5-4c6e-934b-a77fa89cc405",
   "metadata": {},
   "source": [
    "##### Let's get started with our model for defective components.\n",
    "##### First, calculate the probability of getting exactly 1 defective component."
   ]
  },
  {
   "cell_type": "code",
   "execution_count": null,
   "id": "ca24d22f-836f-4901-9fcd-e607e1ee0dd9",
   "metadata": {},
   "outputs": [],
   "source": [
    "# Probability of getting exactly 1 defective component\n",
    "prob_one_defect = binom.pmf(k=1, n=50, p=0.02)\n",
    "print(prob_one_defect)"
   ]
  },
  {
   "cell_type": "markdown",
   "id": "243cdc16-561b-4fcb-a630-f4082df8989c",
   "metadata": {},
   "source": [
    "##### Next, calculate the probability of not getting any defective components."
   ]
  },
  {
   "cell_type": "code",
   "execution_count": null,
   "id": "b6cdea74-8463-4d7b-993d-54fc37ca4663",
   "metadata": {},
   "outputs": [],
   "source": [
    "# Probability of not getting any defective components\n",
    "prob_no_defects = binom.pmf(k=0, n=50, p=0.02)\n",
    "print(prob_no_defects)"
   ]
  },
  {
   "cell_type": "markdown",
   "id": "d51655af-043e-4f71-97e3-84a89016557e",
   "metadata": {},
   "source": [
    "##### Now calculate the probability of getting 2 or fewer defective components out of 50."
   ]
  },
  {
   "cell_type": "code",
   "execution_count": null,
   "id": "9ced4a7e-3ce0-48a2-8ff0-5a9db5c5a4cc",
   "metadata": {},
   "outputs": [],
   "source": [
    "# Probability of getting 2 or less defective components\n",
    "prob_two_or_less_defects = binom.cdf(k=2, n=50, p=0.02)\n",
    "print(prob_two_or_less_defects)"
   ]
  },
  {
   "cell_type": "markdown",
   "id": "21e43f18-90e6-4aa8-b4b9-55de24901dc5",
   "metadata": {},
   "source": [
    "### Predicting employment status"
   ]
  },
  {
   "cell_type": "markdown",
   "id": "16b035c2-d9bc-4583-bc82-12b710c395fd",
   "metadata": {},
   "source": [
    "##### Calculate the probability of getting exactly 5 yes responses."
   ]
  },
  {
   "cell_type": "code",
   "execution_count": null,
   "id": "90cf73de-13d3-4030-839d-d730b472c696",
   "metadata": {},
   "outputs": [],
   "source": [
    "# Calculate the probability of getting exactly 5 yes responses\n",
    "prob_five_yes = binom.pmf(k=5, n=8, p=0.65)\n",
    "print(prob_five_yes)"
   ]
  },
  {
   "cell_type": "markdown",
   "id": "6c637c71-a937-479d-8080-d636bf222c12",
   "metadata": {},
   "source": [
    "##### Calculate the probability of getting 3 or fewer no responses."
   ]
  },
  {
   "cell_type": "code",
   "execution_count": null,
   "id": "3898ea08-d73c-43b5-be28-37ff996698e1",
   "metadata": {},
   "outputs": [],
   "source": [
    "# Calculate the probability of getting 3 or less no responses\n",
    "prob_three_or_less_no = 1-binom.cdf(k=3, n=8, p=0.65)\n",
    "print(prob_three_or_less_no)"
   ]
  },
  {
   "cell_type": "markdown",
   "id": "8dfbb403-def0-4d98-a757-951cb189d370",
   "metadata": {},
   "source": [
    "##### Calculate the probability of getting more than 3 yes responses using binom.sf()."
   ]
  },
  {
   "cell_type": "code",
   "execution_count": null,
   "id": "65a4faf8-0570-45f6-affc-270cc70513d4",
   "metadata": {},
   "outputs": [],
   "source": [
    "# Calculate the probability of getting more than 3 yes responses\n",
    "prob_more_than_three_yes = binom.sf(k=3, n=8, p=0.65)\n",
    "print(prob_more_than_three_yes)"
   ]
  },
  {
   "cell_type": "markdown",
   "id": "dba84e52-ae1d-4d01-94b4-670489950487",
   "metadata": {},
   "source": [
    "### Predicting burglary conviction rate"
   ]
  },
  {
   "cell_type": "markdown",
   "id": "1fb52321-56c4-4357-9dfa-51e6bf04b43e",
   "metadata": {},
   "source": [
    "##### What is the probability of solving exactly 4 of the 9 total burglaries?"
   ]
  },
  {
   "cell_type": "code",
   "execution_count": null,
   "id": "f7570d47-4f2c-4510-bb24-d23dcc63346e",
   "metadata": {},
   "outputs": [],
   "source": [
    "# What is the probability of solving 4 burglaries?\n",
    "four_solved = binom.pmf(k=4, n=9, p=0.2)\n",
    "print(four_solved)"
   ]
  },
  {
   "cell_type": "markdown",
   "id": "d9e2c67a-90b4-4c42-862e-072cea82baac",
   "metadata": {},
   "source": [
    "##### What is the probability of solving more than 3 of the 9 burglaries?"
   ]
  },
  {
   "cell_type": "code",
   "execution_count": null,
   "id": "4627a676-0add-4811-a7f8-ca1c0e7c445c",
   "metadata": {},
   "outputs": [],
   "source": [
    "# What is the probability of solving more than 3 burglaries?\n",
    "more_than_three_solved = binom.sf(k=3, n=9, p=0.2)\n",
    "print(more_than_three_solved)"
   ]
  },
  {
   "cell_type": "markdown",
   "id": "d2b32a02-95c1-4564-9470-2e26cdc3cdfd",
   "metadata": {},
   "source": [
    "##### What is the probability of solving exactly 2 or 3 of the 9 burglaries?"
   ]
  },
  {
   "cell_type": "code",
   "execution_count": null,
   "id": "c0146fe8-e94d-4e30-be90-1c1d538eecb1",
   "metadata": {},
   "outputs": [],
   "source": [
    "# What is the probability of solving 2 or 3 burglaries?\n",
    "two_or_three_solved = binom.pmf(k=2, n=9, p=0.2) + binom.pmf(k=3, n=9, p=0.2)\n",
    "print(two_or_three_solved)"
   ]
  },
  {
   "cell_type": "markdown",
   "id": "aed9a7e8-acd2-4483-b86d-e25a8b0d52ca",
   "metadata": {},
   "source": [
    "##### What is the probability of solving 1 or fewer or more than 7 of the 9 burglaries?"
   ]
  },
  {
   "cell_type": "code",
   "execution_count": null,
   "id": "664a7e70-359e-4825-a437-642c7da1a8e9",
   "metadata": {},
   "outputs": [],
   "source": [
    "# What is the probability of solving 1 or fewer or more than 7 burglaries?\n",
    "tail_probabilities = binom.cdf(k=1, n=9, p=0.2) + binom.sf(k=7, n=9, p=0.2)\n",
    "print(tail_probabilities)"
   ]
  },
  {
   "cell_type": "markdown",
   "id": "4067196b-ce3c-4d9c-9743-b7c0b65a2934",
   "metadata": {},
   "source": [
    "### Calculating the sample mean"
   ]
  },
  {
   "cell_type": "markdown",
   "id": "21cc8a29-38c1-4d5f-ae5c-88b0be83ea47",
   "metadata": {},
   "source": [
    "##### Generate a sample of 100 fair coin flips using .rvs() and calculate the sample mean using describe()."
   ]
  },
  {
   "cell_type": "code",
   "execution_count": null,
   "id": "bc897c69-7d0e-4db1-aa16-cfcf31677a13",
   "metadata": {},
   "outputs": [],
   "source": [
    "# Sample mean from a generated sample of 100 fair coin flips\n",
    "sample_of_100_flips = binom.rvs(n=1, p=0.5, size=100)\n",
    "sample_mean_100_flips = describe(sample_of_100_flips).mean\n",
    "print(sample_mean_100_flips)"
   ]
  },
  {
   "cell_type": "markdown",
   "id": "4a2930ae-ea5c-4e4a-9075-6a2f7ca58b6c",
   "metadata": {},
   "source": [
    "##### Generate a sample of 1,000 fair coin flips and calculate the sample mean."
   ]
  },
  {
   "cell_type": "code",
   "execution_count": null,
   "id": "1634ca6e-6fe7-41b3-97e5-e4b6a653c00e",
   "metadata": {},
   "outputs": [],
   "source": [
    "# Sample mean from a generated sample of 1,000 fair coin flips\n",
    "sample_mean_1000_flips = describe(binom.rvs(n=1, p=0.5, size=1000)).mean\n",
    "print(sample_mean_1000_flips)"
   ]
  },
  {
   "cell_type": "markdown",
   "id": "12c42299-ca76-469d-a816-5032cc20a31c",
   "metadata": {},
   "source": [
    "##### Generate a sample of 2,000 fair coin flips and calculate the sample mean."
   ]
  },
  {
   "cell_type": "code",
   "execution_count": null,
   "id": "16bd2807-0079-4b04-9fdf-d5fe18267b3f",
   "metadata": {},
   "outputs": [],
   "source": [
    "# Sample mean from a generated sample of 2,000 fair coin flips\n",
    "sample_mean_2000_flips = describe(binom.rvs(n=1, p=0.5, size=2000)).mean\n",
    "print(sample_mean_2000_flips)"
   ]
  },
  {
   "cell_type": "markdown",
   "id": "683c3658-cf8c-4723-9138-d233d29fa795",
   "metadata": {},
   "source": [
    "### Checking the result"
   ]
  },
  {
   "cell_type": "markdown",
   "id": "38ca372e-b56c-4622-addc-8280ef6f8ae2",
   "metadata": {},
   "source": [
    "##### Calculate the sample mean and variance of the sample variable.\n",
    "##### Calculate the expected value using n=10 and p=0.3, and calculate the variance using mean, and 1 - p.\n",
    "##### Use a binom method to get the expected value and variance for 10 coin flips with p=0.3."
   ]
  },
  {
   "cell_type": "code",
   "execution_count": null,
   "id": "5d463cab-5d8c-43bc-9eba-1f3af33818f1",
   "metadata": {},
   "outputs": [],
   "source": [
    "sample = binom.rvs(n=10, p=0.3, size=2000)\n",
    "\n",
    "# Calculate the sample mean and variance from the sample variable\n",
    "sample_describe = describe(sample)\n",
    "\n",
    "# Calculate the sample mean using the values of n and p\n",
    "mean = 10*0.3\n",
    "\n",
    "# Calculate the sample variance using the value of 1-p\n",
    "variance = mean*0.7\n",
    "\n",
    "# Calculate the sample mean and variance for 10 coin flips with p=0.3\n",
    "binom_stats = binom.stats(n=10, p=0.3)\n",
    "\n",
    "print(sample_describe.mean, sample_describe.variance, mean, variance, binom_stats)"
   ]
  },
  {
   "cell_type": "markdown",
   "id": "13656fee-f859-4e6b-94c9-956882ad89eb",
   "metadata": {},
   "source": [
    "### Calculating the mean and variance of a sample"
   ]
  },
  {
   "cell_type": "markdown",
   "id": "e6009a51-ea76-4d17-9444-1a77cbef378b",
   "metadata": {},
   "source": [
    "##### Inside a loop, create a sample variable with 10 trials of 10 coin flips with 25% probability of getting heads."
   ]
  },
  {
   "cell_type": "code",
   "execution_count": null,
   "id": "d78b645e-9bf7-45e2-a6c9-e2567c42c426",
   "metadata": {},
   "outputs": [],
   "source": [
    "for i in range(0, 1500):\n",
    "    # 10 trials of 10 coin flips with 25% probability of heads\n",
    "    sample = binom.rvs(n=10, p=0.25, size=10)\n",
    "    # Mean and variance of the values in the sample variable\n",
    "    averages.append(describe(sample).mean)\n",
    "    variances.append(describe(sample).variance)"
   ]
  },
  {
   "cell_type": "markdown",
   "id": "0c4691a7-3297-4419-91b5-cec3b399de52",
   "metadata": {},
   "source": [
    "##### Using the describe() function, calculate the mean of the provided averages array.\n",
    "##### Using the describe() function, calculate the mean of the provided variances array."
   ]
  },
  {
   "cell_type": "code",
   "execution_count": null,
   "id": "bc2c13e8-c991-4edc-bca7-60a7328d86dc",
   "metadata": {},
   "outputs": [],
   "source": [
    "for i in range(0, 1500):\n",
    "    # 10 draws of 10 coin flips with 25% probability of heads\n",
    "    sample = binom.rvs(n=10, p=0.25, size=10)\n",
    "    # Mean and variance of the values in the sample variable\n",
    "    averages.append(describe(sample).mean)\n",
    "    variances.append(describe(sample).variance)\n",
    "  \n",
    "# Calculate the mean of the averages variable\n",
    "print(\"Mean {}\".format(describe(averages).mean))\n",
    "\n",
    "# Calculate the mean of the variances variable\n",
    "print(\"Variance {}\".format(describe(variances).mean))"
   ]
  },
  {
   "cell_type": "markdown",
   "id": "99e54243-228b-479d-890a-e893f5cccf44",
   "metadata": {},
   "source": [
    "##### Using the binom.stats() function, calculate the theoretical mean and variance using 10 coin flips and a 25% probability of getting heads and compare your results from the previous exercise to the expected values for the mean and variance."
   ]
  },
  {
   "cell_type": "code",
   "execution_count": null,
   "id": "ac84ca7a-38b2-44a6-8425-bafe1571b91e",
   "metadata": {},
   "outputs": [],
   "source": [
    "for i in range(0, 1500):\n",
    "    # 10 draws of 10 coin flips with 25% probability of heads\n",
    "    sample = binom.rvs(n=10, p=0.25, size=10)\n",
    "    # Mean and variance of the values in the sample variable\n",
    "    averages.append(describe(sample).mean)\n",
    "    variances.append(describe(sample).variance)\n",
    "  \n",
    "# Calculate the mean of the averages variable\n",
    "print(\"Mean {}\".format(describe(averages).mean))\n",
    "\n",
    "# Calculate the mean of the variances variable\n",
    "print(\"Variance {}\".format(describe(variances).mean))\n",
    "\n",
    "# Calculate the mean and variance\n",
    "print(binom.stats(n=10, p=0.25))"
   ]
  },
  {
   "cell_type": "markdown",
   "id": "2a49c4cf-3347-4eff-a506-6a21514c8803",
   "metadata": {},
   "source": [
    "### Measuring a sample"
   ]
  },
  {
   "cell_type": "markdown",
   "id": "a4135181-72ba-41d0-a6e6-3426ef4f7789",
   "metadata": {},
   "source": [
    "##### From the provided samples in sample_of_two_coin_flips, get the probability of having 2 heads out of the 1,000 trials."
   ]
  },
  {
   "cell_type": "code",
   "execution_count": null,
   "id": "52ee01f5-8758-44e4-bec4-5edadecfa5ac",
   "metadata": {},
   "outputs": [],
   "source": [
    "# Count how many times you got 2 heads from the sample data\n",
    "count_2_heads = find_repeats(sample_of_two_coin_flips).counts[2]\n",
    "\n",
    "# Divide the number of heads by the total number of draws\n",
    "prob_2_heads = count_2_heads / 1000\n",
    "\n",
    "# Display the result\n",
    "print(prob_2_heads)"
   ]
  },
  {
   "cell_type": "markdown",
   "id": "9cdfae02-59c1-4b34-9245-7e4b2c4d529c",
   "metadata": {},
   "source": [
    "##### Calculate the relative frequency from sample_of_two_coin_flips, set numbins as 3, and extract frequency."
   ]
  },
  {
   "cell_type": "code",
   "execution_count": null,
   "id": "cc569d9e-cc36-49b6-ae46-f45820d57ab9",
   "metadata": {},
   "outputs": [],
   "source": [
    "# Get the relative frequency from sample_of_two_coin_flips\n",
    "# Set numbins as 3\n",
    "# Extract frequency\n",
    "rel_freq = relfreq(sample_of_two_coin_flips, numbins=3).frequency\n",
    "print(rel_freq)"
   ]
  },
  {
   "cell_type": "markdown",
   "id": "91d0a09c-aa04-4802-99fc-0c6aa66c0f5b",
   "metadata": {},
   "source": [
    "##### Calculate the probability of getting 0, 1, or 2 from a binomial distribution with n=2 and p=0.5."
   ]
  },
  {
   "cell_type": "code",
   "execution_count": null,
   "id": "24e54c63-3ab0-4d8c-8c97-56b4cbfb294c",
   "metadata": {},
   "outputs": [],
   "source": [
    "# Probability of getting 0, 1, or 2 from the distribution\n",
    "probabilities = binom.pmf([0, 1, 2], n=2, p=0.5)\n",
    "print(probabilities)"
   ]
  },
  {
   "cell_type": "markdown",
   "id": "72a2503c-099b-45ef-9dc3-03c3c74c8a58",
   "metadata": {},
   "source": [
    "### Joint probabilities"
   ]
  },
  {
   "cell_type": "markdown",
   "id": "4d644218-35b0-48a5-b408-f40460a387d7",
   "metadata": {},
   "source": [
    "##### Calculate the probability that the engine and gear box both work."
   ]
  },
  {
   "cell_type": "code",
   "execution_count": null,
   "id": "e43f8871-ec7f-4633-a884-548207bc3124",
   "metadata": {},
   "outputs": [],
   "source": [
    "# Individual probabilities\n",
    "P_Eng_works = 0.99\n",
    "P_GearB_works = 0.995\n",
    "\n",
    "# Joint probability calculation\n",
    "P_both_works = P_Eng_works * P_GearB_works\n",
    "\n",
    "print(P_both_works)"
   ]
  },
  {
   "cell_type": "markdown",
   "id": "94faea6c-43a0-46b7-b716-a536c3f078db",
   "metadata": {},
   "source": [
    "##### Calculate the probability that one fails -- either engine or gear box -- but not both."
   ]
  },
  {
   "cell_type": "code",
   "execution_count": null,
   "id": "54e10ea0-a70f-41eb-b1c5-e9c6080d42a7",
   "metadata": {},
   "outputs": [],
   "source": [
    "# Individual probabilities\n",
    "P_Eng_fails = 0.01\n",
    "P_Eng_works = 0.99\n",
    "P_GearB_fails = 0.005\n",
    "P_GearB_works = 0.995\n",
    "\n",
    "# Joint probability calculation\n",
    "P_only_GearB_fails = P_GearB_fails*P_Eng_works\n",
    "P_only_Eng_fails = P_Eng_fails*P_GearB_works\n",
    "\n",
    "# Calculate result\n",
    "P_one_fails = P_only_GearB_fails+P_only_Eng_fails\n",
    "\n",
    "print(P_one_fails)"
   ]
  },
  {
   "cell_type": "markdown",
   "id": "07135127-97cf-4e4d-a765-4aafc9356921",
   "metadata": {},
   "source": [
    "##### What is the probability that either both work or both fail?"
   ]
  },
  {
   "cell_type": "code",
   "execution_count": null,
   "id": "1588593e-7625-4a4b-8b76-610899b27c94",
   "metadata": {},
   "outputs": [],
   "source": [
    "# Individual probabilities\n",
    "P_Eng_fails = 0.01\n",
    "P_Eng_works = 0.99\n",
    "P_GearB_fails = 0.005\n",
    "P_GearB_works = 0.995\n",
    "\n",
    "# Joint probability calculation\n",
    "P_EngW_GearBW = P_Eng_works * P_GearB_works\n",
    "P_EngF_GearBF = P_Eng_fails * P_GearB_fails\n",
    "\n",
    "# Calculate result\n",
    "P_fails_or_works = P_EngW_GearBW + P_EngF_GearBF\n",
    "\n",
    "print(P_fails_or_works)"
   ]
  },
  {
   "cell_type": "markdown",
   "id": "2738b840-edba-4b90-a198-71cbfce2e250",
   "metadata": {},
   "source": [
    "### Deck of cards"
   ]
  },
  {
   "cell_type": "markdown",
   "id": "84780072-5f0b-4ac2-971c-cd2ed39be191",
   "metadata": {},
   "source": [
    "##### Calculate the probability of not getting an Ace."
   ]
  },
  {
   "cell_type": "code",
   "execution_count": null,
   "id": "c66deaa3-5d0b-435f-a2fb-1bbf845f9be7",
   "metadata": {},
   "outputs": [],
   "source": [
    "# Ace probability\n",
    "P_Ace = 4/52\n",
    "\n",
    "# Not Ace probability\n",
    "P_not_Ace = 1 - 4/52\n",
    "\n",
    "print(P_not_Ace)"
   ]
  },
  {
   "cell_type": "markdown",
   "id": "55f7cf6e-7f4f-4279-b3c1-a11a289cf541",
   "metadata": {},
   "source": [
    "##### Calculate the probability of getting a red card."
   ]
  },
  {
   "cell_type": "code",
   "execution_count": null,
   "id": "84058d09-96a3-4a82-8e7e-78764950b65a",
   "metadata": {},
   "outputs": [],
   "source": [
    "# Figure probabilities\n",
    "P_Hearts = 13/52\n",
    "P_Diamonds = 13/52\n",
    "\n",
    "# Probability of red calculation\n",
    "P_Red = P_Hearts + P_Diamonds\n",
    "\n",
    "print(P_Red)"
   ]
  },
  {
   "cell_type": "markdown",
   "id": "fe48b984-48d9-44a5-b90b-6a0c42360e52",
   "metadata": {},
   "source": [
    "##### Calculate the probability of getting a Jack or a spade."
   ]
  },
  {
   "cell_type": "code",
   "execution_count": null,
   "id": "8cc699c4-a045-44c9-b79a-c1dd6693c556",
   "metadata": {},
   "outputs": [],
   "source": [
    "# Figure probabilities\n",
    "P_Jack = 4/52\n",
    "P_Spade = 13/52\n",
    "\n",
    "# Joint probability\n",
    "P_Jack_n_Spade = 1/52\n",
    "\n",
    "# Probability of Jack or spade\n",
    "P_Jack_or_Spade = P_Jack + P_Spade - P_Jack_n_Spade\n",
    "\n",
    "print(P_Jack_or_Spade)"
   ]
  },
  {
   "cell_type": "markdown",
   "id": "c9aeb02d-754b-4778-bae3-1e7f950d8667",
   "metadata": {},
   "source": [
    "##### Calculate the probability of getting a King or a Queen."
   ]
  },
  {
   "cell_type": "code",
   "execution_count": null,
   "id": "8e95aaa1-afd5-4e61-b2c2-7b1c2ecee839",
   "metadata": {},
   "outputs": [],
   "source": [
    "# Figure probabilities\n",
    "P_King = 4/52\n",
    "P_Queen = 4/52\n",
    "\n",
    "# Joint probability\n",
    "P_King_n_Queen = 0\n",
    "\n",
    "# Probability of King or Queen\n",
    "P_King_or_Queen = P_King + P_Queen - P_King_n_Queen\n",
    "\n",
    "print(P_King_or_Queen)"
   ]
  },
  {
   "cell_type": "markdown",
   "id": "47851de6-cdb4-4727-998b-54e7e6b0184a",
   "metadata": {},
   "source": [
    "### Delayed flights"
   ]
  },
  {
   "cell_type": "markdown",
   "id": "af18facf-4067-4fb0-829a-40c70abc19fd",
   "metadata": {},
   "source": [
    "##### What is the probability of a flight being on time?"
   ]
  },
  {
   "cell_type": "code",
   "execution_count": null,
   "id": "1617819c-26de-49af-9a88-29381d5116b6",
   "metadata": {},
   "outputs": [],
   "source": [
    "# Needed quantities\n",
    "On_time = 241\n",
    "Total_departures = 276\n",
    "\n",
    "# Probability calculation\n",
    "P_On_time = On_time / Total_departures\n",
    "\n",
    "print(P_On_time)"
   ]
  },
  {
   "cell_type": "markdown",
   "id": "fd5c40b3-66b9-4f0e-91a7-4cea0b0bcb29",
   "metadata": {},
   "source": [
    "##### Every departure is on time with probability P_On_time. What is the probability of a flight being delayed?"
   ]
  },
  {
   "cell_type": "code",
   "execution_count": null,
   "id": "0a0a1494-ba5c-48ac-9d19-49acd3abcbf2",
   "metadata": {},
   "outputs": [],
   "source": [
    "# Needed quantities\n",
    "P_On_time = 241 / 276\n",
    "\n",
    "# Probability calculation\n",
    "P_Delayed = 1 - P_On_time\n",
    "\n",
    "print(P_Delayed)"
   ]
  },
  {
   "cell_type": "markdown",
   "id": "b616a46d-e75b-4ca1-9f1a-288c6f182413",
   "metadata": {},
   "source": [
    "##### Given that it's Tuesday, what is the probability of a flight being delayed (P(Delayed|Tuesday))?"
   ]
  },
  {
   "cell_type": "code",
   "execution_count": null,
   "id": "3728e8d1-a4b6-4398-8ec0-35d4cc51c569",
   "metadata": {},
   "outputs": [],
   "source": [
    "# Needed quantities\n",
    "Delayed_on_Tuesday = 24\n",
    "On_Tuesday = 138\n",
    "\n",
    "# Probability calculation\n",
    "P_Delayed_g_Tuesday = Delayed_on_Tuesday / On_Tuesday\n",
    "\n",
    "print(P_Delayed_g_Tuesday)"
   ]
  },
  {
   "cell_type": "markdown",
   "id": "932a85e5-b871-4b18-8589-16a3bc26bac9",
   "metadata": {},
   "source": [
    "##### Given that it's Friday, what is the probability of a flight being delayed (P(Delayed|Friday))?"
   ]
  },
  {
   "cell_type": "code",
   "execution_count": null,
   "id": "f7d0ec2d-1a8a-4b8e-9f7c-8781d5eac92e",
   "metadata": {},
   "outputs": [],
   "source": [
    "# Needed quantities\n",
    "Delayed_on_Friday = 11\n",
    "On_Friday = 138\n",
    "\n",
    "# Probability calculation\n",
    "P_Delayed_g_Friday = Delayed_on_Friday / On_Friday\n",
    "\n",
    "print(P_Delayed_g_Friday)"
   ]
  },
  {
   "cell_type": "markdown",
   "id": "32f2b4e1-1bf4-4a15-aab9-be64df2d6a04",
   "metadata": {},
   "source": [
    "### Contingency table"
   ]
  },
  {
   "cell_type": "markdown",
   "id": "36d5d3e7-c6a7-47f1-aa4c-f238cecaaf4e",
   "metadata": {},
   "source": [
    "##### Calculate P(Ace|Red)."
   ]
  },
  {
   "cell_type": "code",
   "execution_count": null,
   "id": "8bf42304-f39d-46b7-bb8a-804551f3afc2",
   "metadata": {},
   "outputs": [],
   "source": [
    "# Individual probabilities\n",
    "P_Red = 26/52\n",
    "P_Red_n_Ace = 2/52\n",
    "\n",
    "# Conditional probability calculation\n",
    "P_Ace_given_Red = P_Red_n_Ace / P_Red\n",
    "\n",
    "print(P_Ace_given_Red)"
   ]
  },
  {
   "cell_type": "markdown",
   "id": "1764ce51-ed8a-4c2c-8e2e-9f138a28e72e",
   "metadata": {},
   "source": [
    "##### Calculate P(Black|Ace)."
   ]
  },
  {
   "cell_type": "code",
   "execution_count": null,
   "id": "fb5100dd-1509-4a00-9901-ab7d8ae500c9",
   "metadata": {},
   "outputs": [],
   "source": [
    "# Individual probabilities\n",
    "P_Ace = 4/52\n",
    "P_Ace_n_Black = 2/52\n",
    "\n",
    "# Conditional probability calculation\n",
    "P_Black_given_Ace = P_Ace_n_Black/P_Ace\n",
    "\n",
    "print(P_Black_given_Ace)"
   ]
  },
  {
   "cell_type": "markdown",
   "id": "aa2acb2f-532c-4115-929a-e1573a1e5316",
   "metadata": {},
   "source": [
    "##### Calculate P(Non Ace|Black)."
   ]
  },
  {
   "cell_type": "code",
   "execution_count": null,
   "id": "b46c8b7a-8bd9-4451-a195-d58f09fcff5a",
   "metadata": {},
   "outputs": [],
   "source": [
    "# Individual probabilities\n",
    "P_Black = 26/52\n",
    "P_Black_n_Non_ace = 24/52\n",
    "\n",
    "# Conditional probability calculation\n",
    "P_Non_ace_given_Black = P_Black_n_Non_ace / P_Black\n",
    "\n",
    "print(P_Non_ace_given_Black)"
   ]
  },
  {
   "cell_type": "markdown",
   "id": "f9631106-20dc-48b0-a95e-4271328b36cb",
   "metadata": {},
   "source": [
    "##### Calculate P(Red|Non Ace). "
   ]
  },
  {
   "cell_type": "code",
   "execution_count": null,
   "id": "f8c2dfff-8f3f-4cb9-af7b-df19a3d0af16",
   "metadata": {},
   "outputs": [],
   "source": [
    "# Individual probabilities\n",
    "P_Non_ace = 48/52\n",
    "P_Non_ace_n_Red = 24/52\n",
    "\n",
    "# Conditional probability calculation\n",
    "P_Red_given_Non_ace = P_Non_ace_n_Red/P_Non_ace\n",
    "\n",
    "print(P_Red_given_Non_ace)"
   ]
  },
  {
   "cell_type": "markdown",
   "id": "03d73a1d-2431-406d-aefe-cb3216a5ca51",
   "metadata": {},
   "source": [
    "### More cards"
   ]
  },
  {
   "cell_type": "markdown",
   "id": "8c75523d-fa6f-449a-8f90-53add7bac25c",
   "metadata": {},
   "source": [
    "##### Calculate the probability of getting two Jacks (P(Jack and Jack))."
   ]
  },
  {
   "cell_type": "code",
   "execution_count": null,
   "id": "c27e88f5-d179-429c-ad07-d0308c8ed8af",
   "metadata": {},
   "outputs": [],
   "source": [
    "# Needed probabilities\n",
    "P_first_Jack = 4/52\n",
    "P_Jack_given_Jack = 3/51\n",
    "\n",
    "# Joint probability calculation\n",
    "P_two_Jacks = P_first_Jack * P_Jack_given_Jack\n",
    "\n",
    "print(P_two_Jacks)"
   ]
  },
  {
   "cell_type": "markdown",
   "id": "afe62199-3e10-4fd1-b7df-e06faa0a98fd",
   "metadata": {},
   "source": [
    "##### Calculate P(Ace|Spade)."
   ]
  },
  {
   "cell_type": "code",
   "execution_count": null,
   "id": "87462950-b76b-4d10-be7b-780b5e8d26dd",
   "metadata": {},
   "outputs": [],
   "source": [
    "# Needed probabilities\n",
    "P_Spade = 13/52\n",
    "P_Spade_n_Ace = 1/52\n",
    "\n",
    "# Conditional probability calculation\n",
    "P_Ace_given_Spade = P_Spade_n_Ace / P_Spade\n",
    "\n",
    "print(P_Ace_given_Spade)"
   ]
  },
  {
   "cell_type": "markdown",
   "id": "f9bb0902-d5b8-474a-88b4-5ef4abb1d765",
   "metadata": {},
   "source": [
    "##### Calculate P(Queen|Face card)."
   ]
  },
  {
   "cell_type": "code",
   "execution_count": null,
   "id": "7a92528f-13c7-40e4-b90c-fa7e0667ad64",
   "metadata": {},
   "outputs": [],
   "source": [
    "# Needed probabilities\n",
    "P_Face_card = 12/52\n",
    "P_Face_card_n_Queen = 4/52\n",
    "\n",
    "# Conditional probability calculation\n",
    "P_Queen_given_Face_card = P_Face_card_n_Queen / P_Face_card\n",
    "\n",
    "print(P_Queen_given_Face_card)"
   ]
  },
  {
   "cell_type": "markdown",
   "id": "823ce145-b758-4d79-9838-4833b56a6ba9",
   "metadata": {},
   "source": [
    "### Formula 1 engines"
   ]
  },
  {
   "cell_type": "markdown",
   "id": "400a615b-0973-4eb2-b27a-db6bdb9910e3",
   "metadata": {},
   "source": [
    "##### Calculate the following probabilities:\n",
    "##### The manufacturer is A (P_A).\n",
    "##### The engine lasts more than 5,000 km given that manufacturer is A (P_last5000_g_A).\n",
    "##### The manufacturer is B (P_B).\n",
    "##### The engine lasts more than 5,000 km given that manufacturer is B (P_last5000_g_B).\n",
    "##### Use the total probability law to calculate the probability that the engine will last more than 5,000 km and store the result into P_last_5000"
   ]
  },
  {
   "cell_type": "code",
   "execution_count": null,
   "id": "2c3882fe-81e3-4cd9-a82b-db4dd1b2439d",
   "metadata": {},
   "outputs": [],
   "source": [
    "# Needed probabilities\n",
    "P_A = 0.7\n",
    "P_last5000_g_A = 0.99\n",
    "P_B = 0.3\n",
    "P_last5000_g_B = 0.95\n",
    "\n",
    "# Total probability calculation\n",
    "P_last_5000 = P_A * P_last5000_g_A + P_B * P_last5000_g_B\n",
    "\n",
    "print(P_last_5000)"
   ]
  },
  {
   "cell_type": "markdown",
   "id": "c003f4fd-c5b3-4904-a41b-c729b5318a21",
   "metadata": {},
   "source": [
    "### Voters"
   ]
  },
  {
   "cell_type": "markdown",
   "id": "e6171290-e1d2-40e9-ab36-77c32103a939",
   "metadata": {},
   "source": [
    "##### What is the probability that the voter lives in state X and supports John Doe?"
   ]
  },
  {
   "cell_type": "code",
   "execution_count": null,
   "id": "ab6bfcab-8dc1-439c-86d4-4adbec68414f",
   "metadata": {},
   "outputs": [],
   "source": [
    "# Individual probabilities\n",
    "P_X = 0.43\n",
    "\n",
    "# Conditional probabilities\n",
    "P_Support_g_X = 0.53\n",
    "\n",
    "# Total probability calculation\n",
    "P_X_n_Support = P_X * P_Support_g_X\n",
    "print(P_X_n_Support)"
   ]
  },
  {
   "cell_type": "markdown",
   "id": "076363e3-2132-492e-bab6-933390acecc6",
   "metadata": {},
   "source": [
    "##### What is the probability that the voter lives in state Z and does not support John Doe?"
   ]
  },
  {
   "cell_type": "code",
   "execution_count": null,
   "id": "c09b2240-f473-488d-9f6d-3f498d61764e",
   "metadata": {},
   "outputs": [],
   "source": [
    "# Individual probabilities\n",
    "P_Z = 0.32\n",
    "\n",
    "# Conditional probabilities\n",
    "P_Support_g_Z = 0.32\n",
    "P_NoSupport_g_Z = 1 - P_Support_g_Z\n",
    "\n",
    "# Total probability calculation\n",
    "P_Z_n_NoSupport = P_Z * P_NoSupport_g_Z\n",
    "print(P_Z_n_NoSupport)"
   ]
  },
  {
   "cell_type": "markdown",
   "id": "7fd85385-e276-4a72-98e9-cc673b07c7bc",
   "metadata": {},
   "source": [
    "##### What is the total percentage of voters that support John Doe?"
   ]
  },
  {
   "cell_type": "code",
   "execution_count": null,
   "id": "5e87bf7e-dfea-4c85-bc63-6c5893f167f2",
   "metadata": {},
   "outputs": [],
   "source": [
    "# Individual probabilities\n",
    "P_X = 0.43\n",
    "P_Y = 0.25\n",
    "P_Z = 0.32\n",
    "\n",
    "# Conditional probabilities\n",
    "P_Support_g_X = 0.53\n",
    "P_Support_g_Y = 0.67\n",
    "P_Support_g_Z = 0.32\n",
    "\n",
    "# Total probability calculation\n",
    "P_Support = P_X * P_Support_g_X + P_Y * P_Support_g_Y + P_Z * P_Support_g_Z\n",
    "print(P_Support)"
   ]
  },
  {
   "cell_type": "markdown",
   "id": "0f3bbb5d-c8af-41c6-b454-99673f009807",
   "metadata": {},
   "source": [
    "### Factories and parts"
   ]
  },
  {
   "cell_type": "markdown",
   "id": "e069ac68-7a36-4290-a757-767a67fca4ba",
   "metadata": {},
   "source": [
    "##### What is the probability that the part was manufactured by V1?"
   ]
  },
  {
   "cell_type": "code",
   "execution_count": null,
   "id": "fa3b1269-9dec-4599-ad73-aecdac93a872",
   "metadata": {},
   "outputs": [],
   "source": [
    "# Individual probabilities & conditional probabilities\n",
    "P_V1 = 0.5\n",
    "P_V2 = 0.25\n",
    "P_V3 = 0.25\n",
    "P_D_g_V1 = 0.01\n",
    "P_D_g_V2 = 0.02\n",
    "P_D_g_V3 = 0.03\n",
    "\n",
    "# Probability of Damaged\n",
    "P_Damaged = (P_V1 * P_D_g_V1) + (P_V2 * P_D_g_V2) + (P_V3 * P_D_g_V3)\n",
    "\n",
    "# Bayes' rule for P(V1|D)\n",
    "P_V1_g_D = (P_V1 * P_D_g_V1) / P_Damaged\n",
    "\n",
    "print(P_V1_g_D)"
   ]
  },
  {
   "cell_type": "markdown",
   "id": "64668625-30ae-41a0-9868-4f336e143d16",
   "metadata": {},
   "source": [
    "##### What is the probability that it was manufactured by V2?"
   ]
  },
  {
   "cell_type": "code",
   "execution_count": null,
   "id": "7c4bb892-0534-4ba8-8001-582704b48f6e",
   "metadata": {},
   "outputs": [],
   "source": [
    "# Individual probabilities & conditional probabilities\n",
    "P_V1 = 0.5\n",
    "P_V2 = 0.25\n",
    "P_V3 = 0.25\n",
    "P_D_g_V1 = 0.01\n",
    "P_D_g_V2 = 0.02\n",
    "P_D_g_V3 = 0.03\n",
    "\n",
    "# Probability of Damaged\n",
    "P_Damaged = (P_V1 * P_D_g_V1) + (P_V2 * P_D_g_V2) + (P_V3 * P_D_g_V3)\n",
    "\n",
    "# Bayes' rule for P(V2|D)\n",
    "P_V2_g_D = (P_V2 * P_D_g_V2) / P_Damaged\n",
    "\n",
    "print(P_V2_g_D)"
   ]
  },
  {
   "cell_type": "markdown",
   "id": "ea835792-6356-469e-8820-0a067e85542f",
   "metadata": {},
   "source": [
    "##### What is the probability that the part was manufactured by V3?"
   ]
  },
  {
   "cell_type": "code",
   "execution_count": null,
   "id": "1f3cec9f-4911-42d6-8c5b-ec0fe9f178f9",
   "metadata": {},
   "outputs": [],
   "source": [
    "# Individual probabilities & conditional probabilities\n",
    "P_V1 = 0.5\n",
    "P_V2 = 0.25\n",
    "P_V3 = 0.25\n",
    "P_D_g_V1 = 0.01\n",
    "P_D_g_V2 = 0.02\n",
    "P_D_g_V3 = 0.03\n",
    "\n",
    "# Probability of Damaged\n",
    "P_Damaged = (P_V1 * P_D_g_V1) + (P_V2 * P_D_g_V2) + (P_V3 * P_D_g_V3)\n",
    "\n",
    "# Bayes' rule for P(V3|D)\n",
    "P_V3_g_D = (P_V3 * P_D_g_V3) / P_Damaged\n",
    "\n",
    "print(P_V3_g_D)"
   ]
  },
  {
   "cell_type": "markdown",
   "id": "810b1c20-04ab-4ecc-aea3-fcf8fa6b504d",
   "metadata": {},
   "source": [
    "### Swine flu blood test"
   ]
  },
  {
   "cell_type": "markdown",
   "id": "051631fb-550c-4a3c-b982-c60d9fed5a62",
   "metadata": {},
   "source": [
    "##### What is the probability that you have swine flu given that your test outcome is positive?"
   ]
  },
  {
   "cell_type": "code",
   "execution_count": null,
   "id": "78253e2f-b509-4990-a5aa-f2d9c4f70813",
   "metadata": {},
   "outputs": [],
   "source": [
    "# Probability of having Swine_flu\n",
    "P_Swine_flu = 1./9000\n",
    "# Probability of not having Swine_flu\n",
    "P_no_Swine_flu = 1 - P_Swine_flu\n",
    "# Probability of being positive given that you have Swine_flu\n",
    "P_Positive_g_Swine_flu = 1\n",
    "# Probability of being positive given that you do not have Swine_flu\n",
    "P_Positive_g_no_Swine_flu = 0.01\n",
    "\n",
    "# Probability of Positive\n",
    "P_Positive = (P_Positive_g_Swine_flu * P_Swine_flu) + (P_Positive_g_no_Swine_flu * P_no_Swine_flu)\n",
    "\n",
    "# Bayes' rule for P(Swine_flu|Positive)\n",
    "P_Swine_flu_g_Positive = (P_Positive_g_Swine_flu * P_Swine_flu) / P_Positive\n",
    "\n",
    "print(P_Swine_flu_g_Positive)"
   ]
  },
  {
   "cell_type": "markdown",
   "id": "20e1272a-246a-4435-ac04-593a5b0a199d",
   "metadata": {},
   "source": [
    "##### You went to Miami and 1 in 350 people came back with swine flu. Calculate the new probability that you'll test positive."
   ]
  },
  {
   "cell_type": "code",
   "execution_count": null,
   "id": "e70163a9-f608-4802-a860-8a582c272029",
   "metadata": {},
   "outputs": [],
   "source": [
    "# Individual probabilities & conditional probabilities\n",
    "P_Swine_flu = 1./350\n",
    "P_no_Swine_flu = 1 - P_Swine_flu\n",
    "P_Positive_g_Swine_flu = 1\n",
    "P_Positive_g_no_Swine_flu = 0.01\n",
    "\n",
    "# Probability of Positive\n",
    "P_Positive = (P_Positive_g_Swine_flu * P_Swine_flu) + (P_no_Swine_flu * P_Positive_g_no_Swine_flu)\n",
    "\n",
    "# Bayes' rule for P(Swine_flu|Positive)\n",
    "P_Swine_flu_g_Positive = (P_Swine_flu * P_Positive_g_Swine_flu) / P_Positive\n",
    "\n",
    "print(P_Swine_flu_g_Positive)"
   ]
  },
  {
   "cell_type": "markdown",
   "id": "c5818fbc-5427-4e61-b4d4-4c9d5bf54958",
   "metadata": {},
   "source": [
    "##### If the probability of a false positive is 2%, what is the new probability that you have swine flu after your vacation?"
   ]
  },
  {
   "cell_type": "code",
   "execution_count": null,
   "id": "f7fba534-d083-474a-9d74-a05359369b56",
   "metadata": {},
   "outputs": [],
   "source": [
    "# Individual probabilities & conditional probabilities\n",
    "P_Swine_flu = 1./350\n",
    "P_no_Swine_flu = 1 - P_Swine_flu\n",
    "P_Positive_g_Swine_flu = 1\n",
    "P_Positive_g_no_Swine_flu = 0.02\n",
    "\n",
    "# Probability of Positive\n",
    "P_Positive = P_Swine_flu * P_Positive_g_Swine_flu + P_no_Swine_flu * P_Positive_g_no_Swine_flu\n",
    "\n",
    "# Bayes' rule for P(Swine_flu|Positive)\n",
    "P_Swine_flu_g_Positive = (P_Swine_flu * P_Positive_g_Swine_flu) / P_Positive\n",
    "\n",
    "print(P_Swine_flu_g_Positive)"
   ]
  },
  {
   "cell_type": "markdown",
   "id": "a788feef-e51d-4f61-a4e9-3404ee58d165",
   "metadata": {},
   "source": [
    "### Plotting normal distributions"
   ]
  },
  {
   "cell_type": "markdown",
   "id": "fb3be0c4-6dce-47a0-bd8d-d2f439907233",
   "metadata": {},
   "source": [
    "##### Import norm from scipy.stats, matplotlib.pyplot as plt, and seaborn as sns.\n",
    "##### Generate a normal distribution sample with mean 3.15 and standard deviation 1.5.\n",
    "##### Plot the sample generated."
   ]
  },
  {
   "cell_type": "code",
   "execution_count": null,
   "id": "ea01496d-8dc5-4ce1-93f2-739ff411174b",
   "metadata": {},
   "outputs": [],
   "source": [
    "# Import norm, matplotlib.pyplot, and seaborn\n",
    "from scipy.stats import norm\n",
    "import matplotlib.pyplot as plt\n",
    "import seaborn as sns\n",
    "\n",
    "# Create the sample using norm.rvs()\n",
    "sample = norm.rvs(loc=3.15, scale=1.5, size=10000, random_state=13)\n",
    "\n",
    "# Plot the sample\n",
    "sns.distplot(sample)\n",
    "plt.show()"
   ]
  },
  {
   "cell_type": "markdown",
   "id": "7ec3a942-e880-4a20-8d67-683de7208e30",
   "metadata": {},
   "source": [
    "### Restaurant spending example"
   ]
  },
  {
   "cell_type": "markdown",
   "id": "c304948f-99c9-4b49-a0ac-6f8d95436fb8",
   "metadata": {},
   "source": [
    "##### What is the probability that a customer will spend $3 or less?"
   ]
  },
  {
   "cell_type": "code",
   "execution_count": null,
   "id": "4cbe049d-9613-4812-be13-9bce40c3db15",
   "metadata": {},
   "outputs": [],
   "source": [
    "# Probability of spending $3 or less\n",
    "spending = norm.cdf(3, loc=3.15, scale=1.5)\n",
    "print(spending)"
   ]
  },
  {
   "cell_type": "markdown",
   "id": "02c11425-ba99-458b-b4b5-d32eab1915e9",
   "metadata": {},
   "source": [
    "##### What is the probability that a customer will spend more than $5?"
   ]
  },
  {
   "cell_type": "code",
   "execution_count": null,
   "id": "c6899321-fd4c-4e99-b4f3-cf8137f67299",
   "metadata": {},
   "outputs": [],
   "source": [
    "# Probability of spending more than $5\n",
    "spending = norm.sf(5, loc=3.15, scale=1.5)\n",
    "print(spending)"
   ]
  },
  {
   "cell_type": "markdown",
   "id": "6acb9d54-4623-4c5d-b6fd-de24f4a49cf7",
   "metadata": {},
   "source": [
    "##### What is the probability that a customer will spend more than $2.15 and $4.15 or less?"
   ]
  },
  {
   "cell_type": "code",
   "execution_count": null,
   "id": "972b896e-aaa6-4001-9c73-1afbd5a4350a",
   "metadata": {},
   "outputs": [],
   "source": [
    "# Probability of spending more than $2.15 and $4.15 or less\n",
    "spending_4 = norm.cdf(4.15, loc=3.15, scale=1.5)\n",
    "spending_2 = norm.cdf(2.15, loc=3.15, scale=1.5)\n",
    "print(spending_4 - spending_2)"
   ]
  },
  {
   "cell_type": "markdown",
   "id": "c68ded63-3589-4f34-9a2f-a46fdbac4785",
   "metadata": {},
   "source": [
    "##### What is the probability that a customer will spend $2.15 or less or more than $4.15?"
   ]
  },
  {
   "cell_type": "code",
   "execution_count": null,
   "id": "c6d00e73-dc08-40f3-b11a-87bc63efb692",
   "metadata": {},
   "outputs": [],
   "source": [
    "# Probability of spending $2.15 or less or more than $4.15\n",
    "spending_2 = norm.cdf(2.15, loc=3.15, scale=1.5)\n",
    "spending_over_4 = norm.sf(4.15, loc=3.15, scale=1.5) \n",
    "print(spending_2 + spending_over_4)"
   ]
  },
  {
   "cell_type": "markdown",
   "id": "8e1ce515-1694-4c71-b40b-7a9be8bfc9d3",
   "metadata": {},
   "source": [
    "### Smartphone battery example"
   ]
  },
  {
   "cell_type": "markdown",
   "id": "43892225-24c3-4649-a51b-2489b9e76a79",
   "metadata": {},
   "source": [
    "##### What is the probability that the battery will last less than 3 hours?"
   ]
  },
  {
   "cell_type": "code",
   "execution_count": null,
   "id": "3a6879ef-c258-4251-8ada-91bc64fd2464",
   "metadata": {},
   "outputs": [],
   "source": [
    "# Probability that battery will last less than 3 hours\n",
    "less_than_3h = norm.cdf(3, loc=5, scale=1.5)\n",
    "print(less_than_3h)"
   ]
  },
  {
   "cell_type": "markdown",
   "id": "7fb03bee-4e85-4b45-8e78-fa059991888d",
   "metadata": {},
   "source": [
    "##### What is the probability that the battery will last more than 3 hours?"
   ]
  },
  {
   "cell_type": "code",
   "execution_count": null,
   "id": "5e7d65e8-f8e6-4383-9b62-f97d8d36b7c8",
   "metadata": {},
   "outputs": [],
   "source": [
    "# Probability that battery will last more than 3 hours\n",
    "more_than_3h = norm.sf(3, loc=5, scale=1.5)\n",
    "print(more_than_3h)"
   ]
  },
  {
   "cell_type": "markdown",
   "id": "c1eb8662-7e62-43ad-943a-ab6798829408",
   "metadata": {},
   "source": [
    "##### What is the probability that the battery will last between 5 and 7 hours?"
   ]
  },
  {
   "cell_type": "code",
   "execution_count": null,
   "id": "4e3d6227-81d7-4770-bf00-f9d87a096caf",
   "metadata": {},
   "outputs": [],
   "source": [
    "# Probability that battery will last between 5 and 7 hours\n",
    "P_less_than_7h = norm.cdf(7, loc=5, scale=1.5)\n",
    "P_less_than_5h = norm.cdf(5, loc=5, scale=1.5)\n",
    "print(P_less_than_7h - P_less_than_5h)"
   ]
  },
  {
   "cell_type": "markdown",
   "id": "6d2d317f-e3ac-4bbd-9492-d9a940dba1a0",
   "metadata": {},
   "source": [
    "### Adults' heights example"
   ]
  },
  {
   "cell_type": "markdown",
   "id": "2999a312-4dae-43ff-a691-6449fa7a7d9b",
   "metadata": {},
   "source": [
    "##### Print the range of female heights one standard deviation from the mean."
   ]
  },
  {
   "cell_type": "code",
   "execution_count": null,
   "id": "d4e7ba3e-be3d-45b8-bdb1-9a28d78ee9df",
   "metadata": {},
   "outputs": [],
   "source": [
    "# Values one standard deviation from mean height for females\n",
    "interval = norm.interval(0.68, loc=65, scale=3.5)\n",
    "print(interval)"
   ]
  },
  {
   "cell_type": "markdown",
   "id": "06466289-d6ce-456a-be35-adf678ced8b2",
   "metadata": {},
   "source": [
    "##### Print the value where the tallest males fall with 0.01 probability."
   ]
  },
  {
   "cell_type": "code",
   "execution_count": null,
   "id": "51dd30c2-cfbb-48bf-b541-981bfa0a6dc0",
   "metadata": {},
   "outputs": [],
   "source": [
    "# Value where the tallest males fall with 0.01 probability\n",
    "tallest = norm.ppf(0.99, loc=70, scale=4)\n",
    "print(tallest)"
   ]
  },
  {
   "cell_type": "markdown",
   "id": "788a54b6-3784-4f70-9cb6-bc932ac896ac",
   "metadata": {},
   "source": [
    "##### Print the probability of being taller than 73 inches for a male and for a female."
   ]
  },
  {
   "cell_type": "code",
   "execution_count": null,
   "id": "7402cc57-8229-467b-8cdb-fde2beff54a1",
   "metadata": {},
   "outputs": [],
   "source": [
    "# Probability of being taller than 73 inches for males and females\n",
    "P_taller_male = norm.sf(73, loc=70, scale=4)\n",
    "P_taller_female = norm.sf(73, loc=65, scale=3.5)\n",
    "print(P_taller_male, P_taller_female)"
   ]
  },
  {
   "cell_type": "markdown",
   "id": "294c8a2f-b78e-430f-8514-8f484bbcd02d",
   "metadata": {},
   "source": [
    "##### Print the probability of being shorter than 61 inches for a male and for a female."
   ]
  },
  {
   "cell_type": "code",
   "execution_count": null,
   "id": "0245ec40-8089-4ab5-8f8e-5db1fea1f2a1",
   "metadata": {},
   "outputs": [],
   "source": [
    "# Probability of being shorter than 61 inches for males and females\n",
    "P_shorter_male = norm.cdf(61, loc=70, scale=4)\n",
    "P_shorter_female = norm.cdf(61, loc=65, scale=3.5)\n",
    "print(P_shorter_male, P_shorter_female)"
   ]
  },
  {
   "cell_type": "markdown",
   "id": "3e16a545-39e3-4a60-8a9a-4ca5d2942d42",
   "metadata": {},
   "source": [
    "### ATM example"
   ]
  },
  {
   "cell_type": "markdown",
   "id": "6153c365-a584-479c-b722-438da3861e85",
   "metadata": {},
   "source": [
    "##### Import poisson from scipy.stats.\n",
    "##### Calculate the probability of having more than one customer visiting the ATM in this 5-minute period."
   ]
  },
  {
   "cell_type": "code",
   "execution_count": null,
   "id": "88f9c4ca-a59b-4a1b-a6e3-33e433715dfb",
   "metadata": {},
   "outputs": [],
   "source": [
    "# Import poisson from scipy.stats\n",
    "from scipy.stats import poisson\n",
    "\n",
    "# Probability of more than 1 customer\n",
    "probability = poisson.sf(k=1, mu=1)\n",
    "\n",
    "# Print the result\n",
    "print(probability)"
   ]
  },
  {
   "cell_type": "markdown",
   "id": "0f116580-16c1-4d87-b652-1278c6eb6afa",
   "metadata": {},
   "source": [
    "### Highway accidents example"
   ]
  },
  {
   "cell_type": "markdown",
   "id": "ee411503-3356-4de2-a63d-60d20f2df629",
   "metadata": {},
   "source": [
    "##### Determine and print the probability of there being 5 accidents on any day."
   ]
  },
  {
   "cell_type": "code",
   "execution_count": null,
   "id": "ddfe6126-3d1e-4dba-ad0f-5dc039d8b4b1",
   "metadata": {},
   "outputs": [],
   "source": [
    "# Import the poisson object\n",
    "from scipy.stats import poisson\n",
    "\n",
    "# Probability of 5 accidents any day\n",
    "P_five_accidents = poisson.pmf(k=5, mu=2)\n",
    "\n",
    "# Print the result\n",
    "print(P_five_accidents)"
   ]
  },
  {
   "cell_type": "markdown",
   "id": "e60a84bc-787c-4380-b391-985788ee37fc",
   "metadata": {},
   "source": [
    "##### Determine and print the probability of having 4 or 5 accidents on any day."
   ]
  },
  {
   "cell_type": "code",
   "execution_count": null,
   "id": "5abc0695-35b1-4181-a339-24df5f02f72f",
   "metadata": {},
   "outputs": [],
   "source": [
    "# Import the poisson object\n",
    "from scipy.stats import poisson\n",
    "\n",
    "# Probability of having 4 or 5 accidents on any day\n",
    "P_less_than_6 = poisson.cdf(k=5, mu=2)\n",
    "P_less_than_4 = poisson.cdf(k=3, mu=2)\n",
    "\n",
    "# Print the result\n",
    "print(P_less_than_6 - P_less_than_4)"
   ]
  },
  {
   "cell_type": "markdown",
   "id": "4858fe9a-4b24-4e41-b675-f8946c691b9e",
   "metadata": {},
   "source": [
    "##### Determine and print the probability of having more than 3 accidents on any day."
   ]
  },
  {
   "cell_type": "code",
   "execution_count": null,
   "id": "ef22ff5c-ffa7-4d7b-949d-c9766018e99c",
   "metadata": {},
   "outputs": [],
   "source": [
    "# Import the poisson object\n",
    "from scipy.stats import poisson\n",
    "\n",
    "# Probability of more than 3 accidents any day\n",
    "P_more_than_3 = poisson.sf(k=3, mu=2)\n",
    "\n",
    "# Print the result\n",
    "print(P_more_than_3)"
   ]
  },
  {
   "cell_type": "markdown",
   "id": "8d81ead6-a230-47a8-b34c-d4fb60b45d2d",
   "metadata": {},
   "source": [
    "##### Determine and print the number of accidents that is likely to happen with 0.75 probability."
   ]
  },
  {
   "cell_type": "code",
   "execution_count": null,
   "id": "e8e874f9-2e61-4534-8fad-2d60bfa95497",
   "metadata": {},
   "outputs": [],
   "source": [
    "# Import the poisson object\n",
    "from scipy.stats import poisson\n",
    "\n",
    "# Number of accidents with 0.75 probability\n",
    "accidents = poisson.ppf(q=0.75, mu=2)\n",
    "\n",
    "# Print the result\n",
    "print(accidents)"
   ]
  },
  {
   "cell_type": "markdown",
   "id": "41970821-6bed-4c09-b347-a587c23b9822",
   "metadata": {},
   "source": [
    "### Generating and plotting Poisson distributions"
   ]
  },
  {
   "cell_type": "markdown",
   "id": "ef8e417d-4a5d-4a00-897e-8d26b2564142",
   "metadata": {},
   "source": [
    "##### Import poisson from scipy.stats, matplotlib.pyplot as plt, and seaborn as sns.\n",
    "##### Generate a Poisson distribution sample with size=10000 and mu=2.\n",
    "##### Plot the sample generated."
   ]
  },
  {
   "cell_type": "code",
   "execution_count": null,
   "id": "dd2b7eac-3763-4de0-9d50-b0616a7c2189",
   "metadata": {},
   "outputs": [],
   "source": [
    "# Import poisson, matplotlib.pyplot, and seaborn\n",
    "from scipy.stats import poisson\n",
    "import matplotlib.pyplot as plt \n",
    "import seaborn as sns\n",
    "\n",
    "# Create the sample\n",
    "sample = poisson.rvs(mu=2, size=10000, random_state=13)\n",
    "\n",
    "# Plot the sample\n",
    "sns.distplot(sample, kde=False)\n",
    "plt.show()"
   ]
  },
  {
   "cell_type": "markdown",
   "id": "dc2c45d7-6339-48ff-9ce8-da5389005057",
   "metadata": {},
   "source": [
    "### Catching salmon example"
   ]
  },
  {
   "cell_type": "markdown",
   "id": "2300561e-ee8d-4035-9617-53e076205df6",
   "metadata": {},
   "source": [
    "##### Calculate and print the probability that the bear will catch a salmon on its third attempt, after failing two times."
   ]
  },
  {
   "cell_type": "code",
   "execution_count": null,
   "id": "2243157d-6760-4f86-be5e-0ee7847f0917",
   "metadata": {},
   "outputs": [],
   "source": [
    "# Getting a salmon on the third attempt\n",
    "probability = geom.pmf(k=3, p=0.0333)\n",
    "\n",
    "# Print the result\n",
    "print(probability)"
   ]
  },
  {
   "cell_type": "markdown",
   "id": "97e3c92c-a112-457c-8d44-05eb5b1ed76e",
   "metadata": {},
   "source": [
    "##### Calculate and print the probability that the bear will get a salmon in less than 5 attempts."
   ]
  },
  {
   "cell_type": "code",
   "execution_count": null,
   "id": "69e99cca-15f8-496e-9a93-b360710010c4",
   "metadata": {},
   "outputs": [],
   "source": [
    "# Probability of getting a salmon in less than 5 attempts\n",
    "probability = geom.cdf(k=4, p=0.0333)\n",
    "\n",
    "# Print the result\n",
    "print(probability)"
   ]
  },
  {
   "cell_type": "markdown",
   "id": "f3bbbc02-d72d-4b7a-987a-5c47f49e199e",
   "metadata": {},
   "source": [
    "##### Calculate and print the probability that the bear will get a salmon in less than 21 attempts."
   ]
  },
  {
   "cell_type": "code",
   "execution_count": null,
   "id": "f0a2c2f8-def2-4df8-99a7-7a7a6ddccf73",
   "metadata": {},
   "outputs": [],
   "source": [
    "# Probability of getting a salmon in less than 21 attempts\n",
    "probability = geom.cdf(k=20, p=0.0333)\n",
    "\n",
    "# Print the result\n",
    "print(probability)"
   ]
  },
  {
   "cell_type": "markdown",
   "id": "e90547e9-0df0-4e73-8032-e22c2cbac0aa",
   "metadata": {},
   "source": [
    "##### Calculate and print how many attempts the bear has to make to have a 0.9 probability of catching a salmon."
   ]
  },
  {
   "cell_type": "code",
   "execution_count": null,
   "id": "a1f26925-945e-42c2-a75a-6bcba48250e3",
   "metadata": {},
   "outputs": [],
   "source": [
    "# Attempts for 0.9 probability of catching a salmon\n",
    "attempts = geom.ppf(q=0.9, p=0.0333)\n",
    "\n",
    "# Print the result\n",
    "print(attempts)"
   ]
  },
  {
   "cell_type": "markdown",
   "id": "96c1dde8-5f8b-4a47-8f45-824cb09f90d1",
   "metadata": {},
   "source": [
    "### Free throws example"
   ]
  },
  {
   "cell_type": "markdown",
   "id": "1ba7e46f-8372-4c15-914f-2dcdfefe5621",
   "metadata": {},
   "source": [
    "##### Import geom from scipy.stats.\n",
    "##### Use the probability mass function (pmf()) with p=0.3 and specify the appropriate k value."
   ]
  },
  {
   "cell_type": "code",
   "execution_count": null,
   "id": "6658af45-3722-4a1d-bc5d-001697547f56",
   "metadata": {},
   "outputs": [],
   "source": [
    "# Import geom from scipy.stats\n",
    "from scipy.stats import geom\n",
    "\n",
    "# Probability of missing first and scoring on second throw\n",
    "probability = geom.pmf(k=2, p=0.3)\n",
    "\n",
    "# Print the result\n",
    "print(probability)"
   ]
  },
  {
   "cell_type": "markdown",
   "id": "d7fe43cf-d99c-4045-8902-8cc0873eb43e",
   "metadata": {},
   "source": [
    "### Generating and plotting geometric distributions"
   ]
  },
  {
   "cell_type": "markdown",
   "id": "918120cc-6ab9-4ce6-8ec7-43affca6446a",
   "metadata": {},
   "source": [
    "##### Import geom from scipy.stats, matplotlib.pyplot as plt, and seaborn as sns.\n",
    "##### Generate a sample with size=10000 from a geometric distribution with a probability of success of 0.3.\n",
    "##### Plot the sample generated."
   ]
  },
  {
   "cell_type": "code",
   "execution_count": null,
   "id": "e1dcf577-3405-4acb-a283-78c0e5751088",
   "metadata": {},
   "outputs": [],
   "source": [
    "# Import geom, matplotlib.pyplot, and seaborn\n",
    "from scipy.stats import geom\n",
    "import matplotlib.pyplot as plt\n",
    "import seaborn as sns\n",
    "\n",
    "# Create the sample\n",
    "sample = geom.rvs(p=0.3, size=10000, random_state=13)\n",
    "\n",
    "# Plot the sample\n",
    "sns.distplot(sample, bins = np.linspace(0,20,21), kde=False)\n",
    "plt.show()"
   ]
  },
  {
   "cell_type": "markdown",
   "id": "67d015bd-555d-43df-92df-63990788462a",
   "metadata": {},
   "source": [
    "### Generating a sample"
   ]
  },
  {
   "cell_type": "markdown",
   "id": "c5e2b641-bbd8-49d1-9222-834955562396",
   "metadata": {},
   "source": [
    "##### Import the binom object from scipy.stats.\n",
    "##### Generate a sample of 250 newborns with 50.50% probability of being male.\n",
    "##### Print the sample."
   ]
  },
  {
   "cell_type": "code",
   "execution_count": null,
   "id": "c6d251c8-54fb-40f4-892d-871028e51257",
   "metadata": {},
   "outputs": [],
   "source": [
    "# Import the binom object\n",
    "from scipy.stats import binom\n",
    "\n",
    "# Generate a sample of 250 newborn children\n",
    "sample = binom.rvs(n=1, p=0.505, size=250, random_state=42)\n",
    "\n",
    "# Show the sample values\n",
    "print(sample)"
   ]
  },
  {
   "cell_type": "markdown",
   "id": "d3c0dc29-77a7-4455-8bee-27354396c1f3",
   "metadata": {},
   "source": [
    "### Calculating the sample mean"
   ]
  },
  {
   "cell_type": "markdown",
   "id": "5e64fbcf-4c65-43dd-9017-7625686123da",
   "metadata": {},
   "source": [
    "##### Print the sample mean of the first 10 samples."
   ]
  },
  {
   "cell_type": "code",
   "execution_count": null,
   "id": "ab107904-0410-4f37-b3e1-25d2744c8648",
   "metadata": {},
   "outputs": [],
   "source": [
    "# Print the sample mean of the first 10 samples\n",
    "print(describe(sample[0:10]).mean)"
   ]
  },
  {
   "cell_type": "markdown",
   "id": "432be292-89a4-4d22-a0fc-df1fe6213e71",
   "metadata": {},
   "source": [
    "##### Print the sample mean of the first 50 samples."
   ]
  },
  {
   "cell_type": "code",
   "execution_count": null,
   "id": "432bb08a-86a4-4807-b768-8b34d14be98a",
   "metadata": {},
   "outputs": [],
   "source": [
    "# Print the sample mean of the first 50 samples\n",
    "print(describe(sample[0:50]).mean)"
   ]
  },
  {
   "cell_type": "markdown",
   "id": "49330f95-0777-4a33-9e32-9ccf9b538b2e",
   "metadata": {},
   "source": [
    "##### Print the sample mean of the first 250 samples."
   ]
  },
  {
   "cell_type": "code",
   "execution_count": null,
   "id": "85739be8-124c-458f-a68f-8e15637ddffe",
   "metadata": {},
   "outputs": [],
   "source": [
    "# Print the sample mean of the first 250 samples\n",
    "print(describe(sample[0:250]).mean)"
   ]
  },
  {
   "cell_type": "markdown",
   "id": "4d11ff20-1e4a-405e-8f55-de4fcf7dd903",
   "metadata": {},
   "source": [
    "### Plotting the sample mean"
   ]
  },
  {
   "cell_type": "markdown",
   "id": "18efb217-64ba-462e-8882-1395262d5041",
   "metadata": {},
   "source": [
    "##### In a for statement for i in a range that goes from 2 to 251, do the following:\n",
    "##### Calculate the sample mean for the first i values.\n",
    "##### Use append to add the value to the averages array."
   ]
  },
  {
   "cell_type": "code",
   "execution_count": null,
   "id": "d6329a60-bd29-4ff4-bcbe-ad47f9df4b03",
   "metadata": {},
   "outputs": [],
   "source": [
    "# Calculate sample mean and store it on averages array\n",
    "averages = []\n",
    "for i in range(2, 251):\n",
    "    averages.append(describe(sample[0:i]).mean)"
   ]
  },
  {
   "cell_type": "markdown",
   "id": "e6cb4343-57e5-44cd-afdc-c1a64e4e5e8b",
   "metadata": {},
   "source": [
    "##### Add a horizontal line at the mean value of the binomial distribution with n=1 and p=0.505."
   ]
  },
  {
   "cell_type": "code",
   "execution_count": null,
   "id": "197f27bf-6910-4792-a974-3588bf5a0f8a",
   "metadata": {},
   "outputs": [],
   "source": [
    "# Calculate sample mean and store it on averages array\n",
    "averages = []\n",
    "for i in range(2, 251):\n",
    "    averages.append(describe(sample[0:i]).mean)\n",
    "\n",
    "# Add population mean line and sample mean plot\n",
    "plt.axhline(binom.mean(n=1, p=0.505), color='red')\n",
    "plt.plot(averages, '-')"
   ]
  },
  {
   "cell_type": "markdown",
   "id": "2c223925-0077-4d06-b3ed-e71ae99f6da7",
   "metadata": {},
   "source": [
    "##### Add a legend with labels Population mean and Sample mean and show the plot."
   ]
  },
  {
   "cell_type": "code",
   "execution_count": null,
   "id": "ed2f4102-808c-4907-8a65-45fd581a4491",
   "metadata": {},
   "outputs": [],
   "source": [
    "# Calculate sample mean and store it on averages array\n",
    "averages = []\n",
    "for i in range(2, 251):\n",
    "    averages.append(describe(sample[0:i]).mean)\n",
    "\n",
    "# Add population mean line and sample mean plot\n",
    "plt.axhline(binom.mean(n=1, p=0.505), color='red')\n",
    "plt.plot(averages, '-')\n",
    "\n",
    "# Add legend\n",
    "plt.legend((\"Population mean\",\"Sample mean\"), loc='upper right')\n",
    "plt.show()"
   ]
  },
  {
   "cell_type": "markdown",
   "id": "9298fada-e1d7-4573-8ba1-ca6723027182",
   "metadata": {},
   "source": [
    "### Sample means"
   ]
  },
  {
   "cell_type": "markdown",
   "id": "564e2759-93b2-4b34-a329-04576d3c2781",
   "metadata": {},
   "source": [
    "##### Select 20 random values from the population using np.random.choice()."
   ]
  },
  {
   "cell_type": "code",
   "execution_count": null,
   "id": "730b36d1-1aa7-4e54-9172-ee1063b32008",
   "metadata": {},
   "outputs": [],
   "source": [
    "# Create list for sample means\n",
    "sample_means = []\n",
    "for _ in range(1500):\n",
    "    # Take 20 values from the population\n",
    "    sample = np.random.choice(population, 20)"
   ]
  },
  {
   "cell_type": "markdown",
   "id": "05168c72-cd61-4652-ad13-57e70c1ea017",
   "metadata": {},
   "source": [
    "##### Calculate the sample mean of sample and add the calculated sample mean to the sample_means list."
   ]
  },
  {
   "cell_type": "code",
   "execution_count": null,
   "id": "fb6e4ce2-b585-4b95-b930-704ff5464b66",
   "metadata": {},
   "outputs": [],
   "source": [
    "# Create list for sample means\n",
    "sample_means = []\n",
    "for _ in range(1500):\n",
    "    # Take 20 values from the population\n",
    "    sample = np.random.choice(population, 20)\n",
    "    # Calculate the sample mean\n",
    "    sample_means.append(describe(sample).mean)"
   ]
  },
  {
   "cell_type": "markdown",
   "id": "d3f57613-8fad-4eac-a405-218a883bebb9",
   "metadata": {},
   "source": [
    "##### Plot a histogram of the sample_means list."
   ]
  },
  {
   "cell_type": "code",
   "execution_count": null,
   "id": "b73ace82-52f8-4b4e-9575-02d8b22ee2fc",
   "metadata": {},
   "outputs": [],
   "source": [
    "# Create list for sample means\n",
    "sample_means = []\n",
    "for _ in range(1500):\n",
    "    # Take 20 values from the population\n",
    "    sample = np.random.choice(population, 20)\n",
    "    # Calculate the sample mean\n",
    "    sample_means.append(describe(sample).mean)\n",
    "\n",
    "# Plot the histogram\n",
    "plt.hist(sample_means)\n",
    "plt.xlabel(\"Sample mean values\")\n",
    "plt.ylabel(\"Frequency\")\n",
    "plt.show()"
   ]
  },
  {
   "cell_type": "markdown",
   "id": "6b6f7e04-ba9c-4d50-aa3a-b2501cc55006",
   "metadata": {},
   "source": [
    "### Sample means follow a normal distribution"
   ]
  },
  {
   "cell_type": "markdown",
   "id": "a614340d-9286-4ff9-ab7d-77c319c2a9a9",
   "metadata": {},
   "source": [
    "##### Select 20 values from the population, add the sample mean to the sample_means list, and plot a histogram."
   ]
  },
  {
   "cell_type": "code",
   "execution_count": null,
   "id": "556fba9c-dd25-4e98-a4ac-9a636c43e0a2",
   "metadata": {},
   "outputs": [],
   "source": [
    "# Generate the population\n",
    "population = geom.rvs(p=0.5, size=1000)\n",
    "\n",
    "# Create list for sample means\n",
    "sample_means = []\n",
    "for _ in range(3000):\n",
    "    # Take 20 values from the population\n",
    "    sample = np.random.choice(population, 20)\n",
    "    # Calculate the sample mean\n",
    "    sample_means.append(describe(sample).mean)\n",
    "\n",
    "# Plot the histogram\n",
    "plt.hist(sample_means)\n",
    "plt.show()"
   ]
  },
  {
   "cell_type": "markdown",
   "id": "9e896b86-a857-4ea2-baea-ea4f4e63fd80",
   "metadata": {},
   "source": [
    "##### Select 20 values from the population, populate the sample_means list, and plot a histogram."
   ]
  },
  {
   "cell_type": "code",
   "execution_count": null,
   "id": "e88c8f23-9731-4ce7-b942-fdfc2957250e",
   "metadata": {},
   "outputs": [],
   "source": [
    "# Generate the population\n",
    "population = poisson.rvs(mu=2, size=1000)\n",
    "\n",
    "# Create list for sample means\n",
    "sample_means = []\n",
    "for _ in range(1500):\n",
    "    # Take 20 values from the population\n",
    "    sample = np.random.choice(population, 20)\n",
    "    # Calculate the sample mean\n",
    "    sample_means.append(describe(sample).mean)\n",
    "\n",
    "# Plot the histogram\n",
    "plt.hist(sample_means)\n",
    "plt.show()"
   ]
  },
  {
   "cell_type": "markdown",
   "id": "1f7222dd-e9a4-4ac8-b8f2-ecb31be0bd84",
   "metadata": {},
   "source": [
    "### Adding dice rolls"
   ]
  },
  {
   "cell_type": "markdown",
   "id": "83344259-a417-47d7-be5b-90f93d97b228",
   "metadata": {},
   "source": [
    "##### Generate a sample of 2000 dice rolls using roll_dice() and plot a histogram of the sample."
   ]
  },
  {
   "cell_type": "code",
   "execution_count": null,
   "id": "a21d571d-33be-450c-8688-fbe01a1dcef4",
   "metadata": {},
   "outputs": [],
   "source": [
    "# Configure random generator\n",
    "np.random.seed(42)\n",
    "\n",
    "# Generate the sample\n",
    "sample1 = roll_dice(2000)\n",
    "\n",
    "# Plot the sample\n",
    "plt.hist(sample1, bins=range(1, 8), width=0.9)\n",
    "plt.show()  "
   ]
  },
  {
   "cell_type": "markdown",
   "id": "14e17cdc-a022-41c1-958b-d2ae7d156777",
   "metadata": {},
   "source": [
    "##### Add sample1 and sample2 using np.add(), store the result in the variable sum_of_1_and_2, then plot sum_of_1_and_2."
   ]
  },
  {
   "cell_type": "code",
   "execution_count": null,
   "id": "004a7554-5c11-43fe-a71e-a4afc860aa75",
   "metadata": {},
   "outputs": [],
   "source": [
    "# Configure random generator\n",
    "np.random.seed(42)\n",
    "\n",
    "# Generate two samples of 2000 dice rolls\n",
    "sample1 = roll_dice(2000)\n",
    "sample2 = roll_dice(2000)\n",
    "\n",
    "# Add the first two samples\n",
    "sum_of_1_and_2 = np.add(sample1, sample2)\n",
    "\n",
    "# Plot the sum\n",
    "plt.hist(sum_of_1_and_2, bins=range(2, 14), width=0.9)\n",
    "plt.show()"
   ]
  },
  {
   "cell_type": "markdown",
   "id": "584ff2c8-b12d-44f1-8b26-b08aceab50b6",
   "metadata": {},
   "source": [
    "##### Add sum_of_1_and_2 and sample3 using np.add() and store the result in sum_of_3_samples. Then plot sum_of_3_samples."
   ]
  },
  {
   "cell_type": "code",
   "execution_count": null,
   "id": "87ae6be4-b599-48f2-ac0c-315d0a56529b",
   "metadata": {},
   "outputs": [],
   "source": [
    "# Configure random generator\n",
    "np.random.seed(42)\n",
    "\n",
    "# Generate the samples\n",
    "sample1 = roll_dice(2000)\n",
    "sample2 = roll_dice(2000)\n",
    "sample3 = roll_dice(2000)\n",
    "\n",
    "# Add the first two samples\n",
    "sum_of_1_and_2 = np.add(sample1, sample2)\n",
    "\n",
    "# Add the first two with the third sample\n",
    "sum_of_3_samples = np.add(sum_of_1_and_2, sample3)\n",
    "\n",
    "# Plot the result\n",
    "plt.hist(sum_of_3_samples, bins=range(3, 20), width=0.9)\n",
    "plt.show() "
   ]
  },
  {
   "cell_type": "markdown",
   "id": "73c1f940-700f-4f84-8933-8a25a79fe38d",
   "metadata": {},
   "source": [
    "### Fitting a model"
   ]
  },
  {
   "cell_type": "markdown",
   "id": "f151cf3f-fc28-4f17-a9ff-909c4c783e56",
   "metadata": {},
   "source": [
    "##### Import the linregress() function from scipy.stats.\n",
    "##### Fit a linear model using the provided data in the hours_of_study and scores variables.\n",
    "##### Print the parameters."
   ]
  },
  {
   "cell_type": "code",
   "execution_count": null,
   "id": "a6b7b781-ee31-414c-baa9-53d1dfc485e3",
   "metadata": {},
   "outputs": [],
   "source": [
    "# Import the linregress() function\n",
    "from scipy.stats import linregress\n",
    "\n",
    "# Get the model parameters\n",
    "slope, intercept, r_value, p_value, std_err = linregress(hours_of_study, scores)\n",
    "\n",
    "# Print the linear model parameters\n",
    "print('slope:', slope)\n",
    "print('intercept:', intercept)"
   ]
  },
  {
   "cell_type": "markdown",
   "id": "8fc51303-a426-454b-a449-1b9190fd1bdb",
   "metadata": {},
   "source": [
    "### Predicting test scores"
   ]
  },
  {
   "cell_type": "markdown",
   "id": "33e59e68-cfcf-405c-a527-3388702755ef",
   "metadata": {},
   "source": [
    "##### Predict the test score for 10 hours of study using the provided parameters in slope and intercept, then print the score."
   ]
  },
  {
   "cell_type": "code",
   "execution_count": null,
   "id": "2d19d74a-75d7-430d-971a-d49affb3c905",
   "metadata": {},
   "outputs": [],
   "source": [
    "# Get the predicted test score for given hours of study\n",
    "score = slope*10 + intercept\n",
    "print('score:', score)"
   ]
  },
  {
   "cell_type": "markdown",
   "id": "cb355bff-1420-4788-8d45-8225b0633ff4",
   "metadata": {},
   "source": [
    "##### Now predict the score for 9 hours of study using the parameters in slope and intercept, then print the score."
   ]
  },
  {
   "cell_type": "code",
   "execution_count": null,
   "id": "1e6e0593-6ba2-4d19-9c18-9144f4ca74cd",
   "metadata": {},
   "outputs": [],
   "source": [
    "# Get the predicted test score for given hours of study\n",
    "score = slope*9 + intercept\n",
    "print('score:', score)"
   ]
  },
  {
   "cell_type": "markdown",
   "id": "d6c44965-54f0-4d2c-96f9-38b61205136a",
   "metadata": {},
   "source": [
    "##### Lastly, predict the score for 12 hours of study using the same parameters, and print the score."
   ]
  },
  {
   "cell_type": "code",
   "execution_count": null,
   "id": "5c767d50-4896-490b-8309-02282ab66e78",
   "metadata": {},
   "outputs": [],
   "source": [
    "# Get the predicted test score for given hours of study\n",
    "score = slope*12 + intercept\n",
    "print('score:', score)"
   ]
  },
  {
   "cell_type": "markdown",
   "id": "0008d917-72c6-4a6c-b9a5-04f2015c0b62",
   "metadata": {},
   "source": [
    "### Studying residuals"
   ]
  },
  {
   "cell_type": "markdown",
   "id": "96401728-d9a9-4fe9-ae47-2658303e9460",
   "metadata": {},
   "source": [
    "##### Make a scatter of hours_of_study_A and test_scores_A and plot hours_of_study_values_A and the outcomes from model_A."
   ]
  },
  {
   "cell_type": "code",
   "execution_count": null,
   "id": "d3590be5-1fb7-4db1-ab4a-8fcb93622ba9",
   "metadata": {},
   "outputs": [],
   "source": [
    "# Scatterplot of hours of study and test scores\n",
    "plt.scatter(hours_of_study_A, test_scores_A)\n",
    "\n",
    "# Plot of hours_of_study_values_A and predicted values\n",
    "plt.plot(hours_of_study_values_A, model_A.predict(hours_of_study_values_A))\n",
    "plt.title(\"Model A\", fontsize=25)\n",
    "plt.show()"
   ]
  },
  {
   "cell_type": "markdown",
   "id": "acd42c5a-5da1-48c1-abcf-569b35642933",
   "metadata": {},
   "source": [
    "##### Subtract the predicted values and test_scores_A, then make a scatterplot with hours_of_study_A and residuals_A."
   ]
  },
  {
   "cell_type": "code",
   "execution_count": null,
   "id": "8fde29a6-fa6c-48dd-b4f3-8bc3e7df37e5",
   "metadata": {},
   "outputs": [],
   "source": [
    "# Calculate the residuals\n",
    "residuals_A = model_A.predict(hours_of_study_A) - test_scores_A\n",
    "\n",
    "# Make a scatterplot of residuals of model_A\n",
    "plt.scatter(hours_of_study_A, residuals_A)\n",
    "\n",
    "# Add reference line and title and show plot\n",
    "plt.hlines(0, 0, 30, colors='r', linestyles='--')\n",
    "plt.title(\"Residuals plot of Model A\", fontsize=25)\n",
    "plt.show()"
   ]
  },
  {
   "cell_type": "markdown",
   "id": "b3899e4d-fd6b-4c21-b751-4648eabc0565",
   "metadata": {},
   "source": [
    "##### Make a scatter of hours_of_study_B and test_scores_B and plot hours_of_study_values_B and the outcomes from model_B."
   ]
  },
  {
   "cell_type": "code",
   "execution_count": null,
   "id": "948b6e57-6d01-4ae2-bb35-a11018dce03c",
   "metadata": {},
   "outputs": [],
   "source": [
    "# Scatterplot of hours of study and test scores\n",
    "plt.scatter(hours_of_study_B, test_scores_B)\n",
    "\n",
    "# Plot of hours_of_study_values_B and predicted values\n",
    "plt.plot(hours_of_study_values_B, model_B.predict(hours_of_study_values_B))\n",
    "plt.title(\"Model B\", fontsize=25)\n",
    "plt.show()"
   ]
  },
  {
   "cell_type": "markdown",
   "id": "03959064-0946-42e0-bc53-b555d621442d",
   "metadata": {},
   "source": [
    "##### Subtract the predicted values and test_scores_B, then make a scatterplot with hours_of_study_B and residuals_B."
   ]
  },
  {
   "cell_type": "code",
   "execution_count": null,
   "id": "ed98359f-ba77-4ea8-bdb6-5184ad3b443c",
   "metadata": {},
   "outputs": [],
   "source": [
    "# Calculate the residuals\n",
    "residuals_B = model_B.predict(hours_of_study_B) - test_scores_B\n",
    "\n",
    "# Make a scatterplot of residuals of model_B\n",
    "plt.scatter(hours_of_study_B, residuals_B)\n",
    "\n",
    "# Add reference line and title and show plot\n",
    "plt.hlines(0, 0, 30, colors='r', linestyles='--')\n",
    "plt.title(\"Residuals plot of Model B\", fontsize=25)\n",
    "plt.show()"
   ]
  },
  {
   "cell_type": "markdown",
   "id": "d0caee14-52d5-4cd8-904a-c49f0deb1b55",
   "metadata": {},
   "source": [
    "### Fitting a logistic model"
   ]
  },
  {
   "cell_type": "markdown",
   "id": "67ffa181-7846-4b6d-86f1-fbc1a099a627",
   "metadata": {},
   "source": [
    "##### Import LogisticRegression from sklearn.linear_model.\n",
    "##### Create the model using LogisticRegression(C=1e9).\n",
    "##### Pass the data to the model.fit() method.\n",
    "##### Create variables for each parameter, assign the values from the model, and print the parameters beta1 and beta0."
   ]
  },
  {
   "cell_type": "code",
   "execution_count": null,
   "id": "d082e42f-b255-4069-acd6-e85d63fbf949",
   "metadata": {},
   "outputs": [],
   "source": [
    "# Import LogisticRegression\n",
    "from sklearn.linear_model import LogisticRegression\n",
    "\n",
    "# sklearn logistic model\n",
    "model = LogisticRegression(C=1e9)\n",
    "model.fit(hours_of_study, outcomes)\n",
    "\n",
    "# Get parameters\n",
    "beta1 = model.coef_[0][0]\n",
    "beta0 = model.intercept_[0]\n",
    "\n",
    "# Print parameters\n",
    "print(beta1, beta0)"
   ]
  },
  {
   "cell_type": "markdown",
   "id": "aed78fbe-b3b4-4576-86a9-c9d359424ea0",
   "metadata": {},
   "source": [
    "### Predicting if students will pass"
   ]
  },
  {
   "cell_type": "markdown",
   "id": "65a0d250-c490-4d5b-b158-b5168892d8e6",
   "metadata": {},
   "source": [
    "##### Create an array with the values 10, 11, 12, 13, and 14 to predict the outcomes for a test based on those numbers of hours of study.\n",
    "##### Use model.predict() to get the outcomes from the model, and print the outcomes.\n",
    "##### Use model.predict_proba() to get the probability of passing the test with 11 hours of study."
   ]
  },
  {
   "cell_type": "code",
   "execution_count": null,
   "id": "d597d3a5-f699-4533-967e-cc9e38501318",
   "metadata": {},
   "outputs": [],
   "source": [
    "# Specify values to predict\n",
    "hours_of_study_test = [[10], [11], [12], [13], [14]]\n",
    "\n",
    "# Pass values to predict\n",
    "predicted_outcomes = model.predict(hours_of_study_test)\n",
    "print(predicted_outcomes)\n",
    "\n",
    "# Set value in array\n",
    "value = np.asarray(11).reshape(-1,1)\n",
    "# Probability of passing the test with 11 hours of study\n",
    "print(\"Probability of passing test \", model.predict_proba(value)[:,1])"
   ]
  },
  {
   "cell_type": "markdown",
   "id": "ae9c3b08-dad0-4623-b756-bbb54fbeb860",
   "metadata": {},
   "source": [
    "### Passing two tests"
   ]
  },
  {
   "cell_type": "markdown",
   "id": "20f53107-5c84-4a46-8f73-8ec441a4b0c3",
   "metadata": {},
   "source": [
    "##### Use model_A to predict if you'll pass the test with 6, 7, 8, 9, or 10 hours of study and model_B with 3, 4, 5, or 6."
   ]
  },
  {
   "cell_type": "code",
   "execution_count": null,
   "id": "316d725d-6140-4680-9127-78b54254a8f2",
   "metadata": {},
   "outputs": [],
   "source": [
    "# Specify values to predict\n",
    "hours_of_study_test_A = [[6], [7], [8], [9], [10]]\n",
    "\n",
    "# Pass values to predict\n",
    "predicted_outcomes_A = model_A.predict(hours_of_study_test_A)\n",
    "print(predicted_outcomes_A)\n",
    "\n",
    "# Specify values to predict\n",
    "hours_of_study_test_B = [[3], [4], [5], [6]]\n",
    "\n",
    "# Pass values to predict\n",
    "predicted_outcomes_B = model_B.predict(hours_of_study_test_B)\n",
    "print(predicted_outcomes_B)"
   ]
  },
  {
   "cell_type": "markdown",
   "id": "75561792-2f18-4ece-8f08-ce180bbb7841",
   "metadata": {},
   "source": [
    "##### Get the probability of passing for test A with 8.6 hours of study and test B with 4.7 hours of study."
   ]
  },
  {
   "cell_type": "code",
   "execution_count": null,
   "id": "e0c28f6e-47a4-4a57-ae8d-2ca96f2f0e30",
   "metadata": {},
   "outputs": [],
   "source": [
    "# Set value in array\n",
    "value_A = np.asarray([[8.6]]).reshape(-1,1)\n",
    "# Probability of passing test A with 8.6 hours of study\n",
    "print(\"The probability of passing test A with 8.6 hours of study is \", model_A.predict_proba(value_A)[:,1])\n",
    "\n",
    "# Set value in array\n",
    "value_B = np.asarray([[4.7]]).reshape(-1,1)\n",
    "# Probability of passing test B with 4.7 hours of study\n",
    "print(\"The probability of passing test B with 4.7 hours of study is \", model_B.predict_proba(value_B)[:,1])"
   ]
  },
  {
   "cell_type": "markdown",
   "id": "78a07ad5-c19e-4793-bbb1-8165079e7ac4",
   "metadata": {},
   "source": [
    "##### Calculate the hours you need to study to have 0.5 probability of passing the test using the formula -intercept/slope."
   ]
  },
  {
   "cell_type": "code",
   "execution_count": null,
   "id": "942efc0c-ebb0-4a4c-bd57-7782998a1a53",
   "metadata": {},
   "outputs": [],
   "source": [
    "# Print the hours required to have 0.5 probability on model_A\n",
    "print(\"Minimum hours of study for test A are \", -model_A.intercept_/model_A.coef_)\n",
    "\n",
    "# Print the hours required to have 0.5 probability on model_B\n",
    "print(\"Minimum hours of study for test B are \", -model_B.intercept_/model_B.coef_)"
   ]
  },
  {
   "cell_type": "markdown",
   "id": "482f35e2-82d4-439b-8a93-8a6e702080c4",
   "metadata": {},
   "source": [
    "##### Calculate the joint probability of passing test A and test B."
   ]
  },
  {
   "cell_type": "code",
   "execution_count": null,
   "id": "df793a57-d4ad-4613-89d0-3c77cd4489b3",
   "metadata": {},
   "outputs": [],
   "source": [
    "# Probability calculation for each value of study_hours\n",
    "prob_passing_A = model_A.predict_proba(study_hours_A.reshape(-1,1))[:,1]\n",
    "prob_passing_B = model_B.predict_proba(study_hours_B.reshape(-1,1))[:,1]\n",
    "\n",
    "# Calculate the probability of passing both tests\n",
    "prob_passing_A_and_B = prob_passing_A * prob_passing_B\n",
    "\n",
    "# Maximum probability value\n",
    "max_prob = max(prob_passing_A_and_B)\n",
    "\n",
    "# Position where we get the maximum value\n",
    "max_position = np.where(prob_passing_A_and_B == max_prob)[0][0]\n",
    "\n",
    "# Study hours for each test\n",
    "print(\"Study {:1.0f} hours for the first and {:1.0f} hours for the second test and you will pass both tests with {:01.2f} probability.\".format(study_hours_A[max_position], study_hours_B[max_position], max_prob))"
   ]
  }
 ],
 "metadata": {
  "kernelspec": {
   "display_name": "Python 3 (ipykernel)",
   "language": "python",
   "name": "python3"
  },
  "language_info": {
   "codemirror_mode": {
    "name": "ipython",
    "version": 3
   },
   "file_extension": ".py",
   "mimetype": "text/x-python",
   "name": "python",
   "nbconvert_exporter": "python",
   "pygments_lexer": "ipython3",
   "version": "3.9.13"
  }
 },
 "nbformat": 4,
 "nbformat_minor": 5
}
