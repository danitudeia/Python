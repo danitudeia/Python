{
 "cells": [
  {
   "cell_type": "markdown",
   "id": "26302550-8563-4441-a8a6-d2d6b47685fc",
   "metadata": {},
   "source": [
    "### How often do we get no-hitters?"
   ]
  },
  {
   "cell_type": "markdown",
   "id": "2364a04e-b969-45f1-8d4e-b08de5f40d71",
   "metadata": {},
   "source": [
    "##### Seed the random number generator with 42.\n",
    "##### Compute the mean time (in units of number of games) between no-hitters.\n",
    "##### Draw 100,000 samples from an Exponential distribution with the parameter you computed from the mean of the inter-no-hitter times.\n",
    "##### Plot the theoretical PDF using plt.hist(). Remember to use keyword arguments bins=50, normed=True, and histtype='step'. Be sure to label your axes.\n",
    "##### Show your plot."
   ]
  },
  {
   "cell_type": "code",
   "execution_count": null,
   "id": "47d8f41b-aad5-4bd1-85ea-e2036602ea09",
   "metadata": {},
   "outputs": [],
   "source": [
    "# Seed random number generator\n",
    "np.random.seed(seed=42)\n",
    "\n",
    "# Compute mean no-hitter time: tau\n",
    "tau = np.mean(nohitter_times)\n",
    "\n",
    "# Draw out of an exponential distribution with parameter tau: inter_nohitter_time\n",
    "inter_nohitter_time = np.random.exponential(tau, 100000)\n",
    "\n",
    "# Plot the PDF and label axes\n",
    "_ = plt.hist(inter_nohitter_time,\n",
    "             bins=50, normed=True, histtype='step')\n",
    "_ = plt.xlabel('Games between no-hitters')\n",
    "_ = plt.ylabel('PDF')\n",
    "\n",
    "# Show the plot\n",
    "plt.show()\n"
   ]
  },
  {
   "cell_type": "markdown",
   "id": "3b8cd089-8844-4a7a-b053-8e96e8fce468",
   "metadata": {},
   "source": [
    "### Do the data follow our story?"
   ]
  },
  {
   "cell_type": "markdown",
   "id": "8533d40e-0461-46a2-b537-663687923c45",
   "metadata": {},
   "source": [
    "##### Compute an ECDF from the actual time between no-hitters (nohitter_times). Use the ecdf() function you wrote in the prequel course.\n",
    "##### Create a CDF from the theoretical samples you took in the last exercise (inter_nohitter_time).\n",
    "##### Plot x_theor and y_theor as a line using plt.plot(). Then overlay the ECDF of the real data x and y as points. To do this, you have to specify the keyword arguments marker = '.' and linestyle = 'none' in addition to x and y inside plt.plot().\n",
    "##### Set a 2% margin on the plot.\n",
    "##### Show the plot."
   ]
  },
  {
   "cell_type": "code",
   "execution_count": null,
   "id": "9a71b8df-dd04-492e-b092-205b3f5ae0fc",
   "metadata": {},
   "outputs": [],
   "source": [
    "# Create an ECDF from real data: x, y\n",
    "x, y = ecdf(nohitter_times)\n",
    "\n",
    "# Create a CDF from theoretical samples: x_theor, y_theor\n",
    "x_theor, y_theor = ecdf(inter_nohitter_time)\n",
    "\n",
    "# Overlay the plots\n",
    "plt.plot(x_theor, y_theor)\n",
    "plt.plot(x, y, marker='.', linestyle='none')\n",
    "\n",
    "# Margins and axis labels\n",
    "plt.margins(0.02)\n",
    "plt.xlabel('Games between no-hitters')\n",
    "plt.ylabel('CDF')\n",
    "\n",
    "# Show the plot\n",
    "plt.show()"
   ]
  },
  {
   "cell_type": "markdown",
   "id": "88fc10d1-672c-4e93-b94b-7858e2ef61a2",
   "metadata": {},
   "source": [
    "### How is this parameter optimal?"
   ]
  },
  {
   "cell_type": "markdown",
   "id": "f5556b64-aaa1-46b2-9d68-ba853f786158",
   "metadata": {},
   "source": [
    "##### Take 10000 samples out of an Exponential distribution with parameter  t1/2 = tau/2.\n",
    "##### Take 10000 samples out of an Exponential distribution with parameter t1/2 = 2*tau.\n",
    "##### Generate CDFs from these two sets of samples using your ecdf() function.\n",
    "##### Add these two CDFs as lines to your plot. This has been done for you, so hit submit to view the plot!"
   ]
  },
  {
   "cell_type": "code",
   "execution_count": null,
   "id": "86ba391e-5564-492b-9b2f-66c75ab5bd0f",
   "metadata": {},
   "outputs": [],
   "source": [
    "# Plot the theoretical CDFs\n",
    "plt.plot(x_theor, y_theor)\n",
    "plt.plot(x, y, marker='.', linestyle='none')\n",
    "plt.margins(0.02)\n",
    "plt.xlabel('Games between no-hitters')\n",
    "plt.ylabel('CDF')\n",
    "\n",
    "# Take samples with half tau: samples_half\n",
    "samples_half = np.random.exponential(tau/2,10000 )\n",
    "\n",
    "# Take samples with double tau: samples_double\n",
    "samples_double = np.random.exponential(tau*2,10000 )\n",
    "\n",
    "# Generate CDFs from these samples\n",
    "x_half, y_half = ecdf(samples_half)\n",
    "x_double, y_double = ecdf(samples_double)\n",
    "\n",
    "# Plot these CDFs as lines\n",
    "_ = plt.plot(x_half, y_half)\n",
    "_ = plt.plot(x_double, y_double)\n",
    "\n",
    "# Show the plot\n",
    "plt.show()"
   ]
  },
  {
   "cell_type": "markdown",
   "id": "119fd467-85d2-42f4-8c0b-442878734bf1",
   "metadata": {},
   "source": [
    "### EDA of literacy/fertility data"
   ]
  },
  {
   "cell_type": "markdown",
   "id": "976a41ec-3c8b-4e41-aa08-86210e4c880e",
   "metadata": {},
   "source": [
    "##### Plot fertility (y-axis) versus illiteracy (x-axis) as a scatter plot.\n",
    "##### Set a 2% margin.\n",
    "##### Compute and print the Pearson correlation coefficient between illiteracy and fertility."
   ]
  },
  {
   "cell_type": "code",
   "execution_count": null,
   "id": "b152fde9-0b1e-418a-aa52-86255993fc89",
   "metadata": {},
   "outputs": [],
   "source": [
    "# Plot the illiteracy rate versus fertility\n",
    "_ = plt.plot(illiteracy, fertility, marker='.', linestyle='none')\n",
    "\n",
    "# Set the margins and label axes\n",
    "plt.margins(0.02)\n",
    "_ = plt.xlabel('percent illiterate')\n",
    "_ = plt.ylabel('fertility')\n",
    "\n",
    "# Show the plot\n",
    "plt.show()\n",
    "\n",
    "# Show the Pearson correlation coefficient\n",
    "print(pearson_r(illiteracy, fertility))"
   ]
  },
  {
   "cell_type": "markdown",
   "id": "0203017b-1598-41f5-b539-e40dcfe6e3a6",
   "metadata": {},
   "source": [
    "### Linear regression"
   ]
  },
  {
   "cell_type": "markdown",
   "id": "d4fa31d8-1049-4472-b90a-23123b464d46",
   "metadata": {},
   "source": [
    "##### Compute the slope and intercept of the regression line using np.polyfit(). Remember, fertility is on the y-axis and illiteracy on the x-axis.\n",
    "##### Print out the slope and intercept from the linear regression.\n",
    "##### To plot the best fit line, create an array x that consists of 0 and 100 using np.array(). Then, compute the theoretical values of y based on your regression parameters. I.e., y = a * x + b.\n",
    "##### Plot the data and the regression line on the same plot. Be sure to label your axes.\n",
    "##### Hit submit to display your plot."
   ]
  },
  {
   "cell_type": "code",
   "execution_count": null,
   "id": "7c6a58ca-af92-48e1-b1cb-881681e9701c",
   "metadata": {},
   "outputs": [],
   "source": [
    "# Plot the illiteracy rate versus fertility\n",
    "_ = plt.plot(illiteracy, fertility, marker='.', linestyle='none')\n",
    "plt.margins(0.02)\n",
    "_ = plt.xlabel('percent illiterate')\n",
    "_ = plt.ylabel('fertility')\n",
    "\n",
    "# Perform a linear regression using np.polyfit(): a, b\n",
    "a, b = np.polyfit(illiteracy, fertility,1)\n",
    "\n",
    "# Print the results to the screen\n",
    "print('slope =', a, 'children per woman / percent illiterate')\n",
    "print('intercept =', b, 'children per woman')\n",
    "\n",
    "# Make theoretical line to plot\n",
    "x = np.array([0, 100])\n",
    "y = x * a + b\n",
    "\n",
    "# Add regression line to your plot\n",
    "_ = plt.plot(x, y)\n",
    "\n",
    "# Draw the plot\n",
    "plt.show()"
   ]
  },
  {
   "cell_type": "markdown",
   "id": "b1488980-385f-4485-82db-20e4523b196b",
   "metadata": {},
   "source": [
    "### How is it optimal?"
   ]
  },
  {
   "cell_type": "markdown",
   "id": "8e562506-8e8b-4b3b-be8d-08369f38344b",
   "metadata": {},
   "source": [
    "##### Specify the values of the slope to compute the RSS. Use np.linspace() to get 200 points in the range between 0 and 0.1. For example, to get 100 points in the range between 0 and 0.5, you could use np.linspace() like so: np.linspace(0, 0.5, 100).\n",
    "##### Initialize an array, rss, to contain the RSS using np.empty_like() and the array you created above. The empty_like() function returns a new array with the same shape and type as a given array (in this case, a_vals).\n",
    "##### Write a for loop to compute the sum of RSS of the slope. Hint: the RSS is given by np.sum((y_data - a * x_data - b)**2). The variable b you computed in the last exercise is already in your namespace. Here, fertility is the y_data and illiteracy the x_data.\n",
    "##### Plot the RSS (rss) versus slope (a_vals).\n",
    "##### Hit submit to see the plot!"
   ]
  },
  {
   "cell_type": "code",
   "execution_count": null,
   "id": "4323354b-86ea-408b-a12d-b10b786ed88f",
   "metadata": {},
   "outputs": [],
   "source": [
    "# Specify slopes to consider: a_vals\n",
    "a_vals = np.linspace(0,0.1, 200)\n",
    "\n",
    "# Initialize sum of square of residuals: rss\n",
    "rss = np.empty_like(a_vals)\n",
    "\n",
    "# Compute sum of square of residuals for each value of a_vals\n",
    "for i, a in enumerate(a_vals):\n",
    "    rss[i] = np.sum((fertility - a*illiteracy - b)**2)\n",
    "\n",
    "# Plot the RSS\n",
    "plt.plot(a_vals, rss, '-')\n",
    "plt.xlabel('slope (children per woman / percent illiterate)')\n",
    "plt.ylabel('sum of square of residuals')\n",
    "\n",
    "plt.show()\n"
   ]
  },
  {
   "cell_type": "markdown",
   "id": "b40f7b17-7425-4d1e-8b46-b9475efcedf9",
   "metadata": {},
   "source": [
    "### Linear regression on appropriate Anscombe data"
   ]
  },
  {
   "cell_type": "markdown",
   "id": "ad1ba10c-d718-4497-ae72-9c514ecf56e2",
   "metadata": {},
   "source": [
    "##### Compute the parameters for the slope and intercept using np.polyfit(). The Anscombe data are stored in the arrays x and y.\n",
    "##### Print the slope a and intercept b.\n",
    "##### Generate theoretical and data from the linear regression. Your array, which you can create with np.array(), should consist of 3 and 15. To generate the data, multiply the slope by x_theor and add the intercept.\n",
    "##### Plot the Anscombe data as a scatter plot and then plot the theoretical line. Remember to include the marker='.' and linestyle='none' keyword arguments in addition to x and y when to plot the Anscombe data as a scatter plot. You do not need these arguments when plotting the theoretical line.\n",
    "##### Hit submit to see the plot!"
   ]
  },
  {
   "cell_type": "code",
   "execution_count": null,
   "id": "0c496299-d521-4ee9-96c4-3e850b6be43d",
   "metadata": {},
   "outputs": [],
   "source": [
    "# Perform linear regression: a, b\n",
    "a, b = np.polyfit(x, y, 1)\n",
    "\n",
    "# Print the slope and intercept\n",
    "print(a, b)\n",
    "\n",
    "# Generate theoretical x and y data: x_theor, y_theor\n",
    "x_theor = np.array([3, 15])\n",
    "y_theor = a * x_theor + b\n",
    "\n",
    "# Plot the Anscombe data and theoretical line\n",
    "_ = plt.plot(x, y, marker='.', linestyle='none')\n",
    "_ = plt.plot(x_theor,y_theor, marker='.', linestyle='none')\n",
    "\n",
    "# Label the axes\n",
    "plt.xlabel('x')\n",
    "plt.ylabel('y')\n",
    "\n",
    "# Show the plot\n",
    "plt.show()"
   ]
  },
  {
   "cell_type": "markdown",
   "id": "a98d903b-a83b-4154-9cdd-f9454666a3fc",
   "metadata": {},
   "source": [
    "### Linear regression on all Anscombe data"
   ]
  },
  {
   "cell_type": "markdown",
   "id": "db656884-bfa2-4647-a9f8-87f634bb8860",
   "metadata": {},
   "source": [
    "##### Write a for loop to do the following for each Anscombe data set.\n",
    "##### Compute the slope and intercept.\n",
    "##### Print the slope and intercept."
   ]
  },
  {
   "cell_type": "code",
   "execution_count": null,
   "id": "dedb5a9f-8913-48d3-a79f-2f003d717406",
   "metadata": {},
   "outputs": [],
   "source": [
    "# Iterate through x,y pairs\n",
    "for x, y in zip(anscombe_x, anscombe_y):\n",
    "    # Compute the slope and intercept: a, b\n",
    "    a, b = np.polyfit(x, y, 1)\n",
    "\n",
    "    # Print the result\n",
    "    print('slope:', a, 'intercept:', b)"
   ]
  },
  {
   "cell_type": "markdown",
   "id": "3dc13117-b8ad-407e-8db9-0161688be097",
   "metadata": {},
   "source": [
    "### Visualizing bootstrap samples"
   ]
  },
  {
   "cell_type": "markdown",
   "id": "9900881d-7e8a-4181-8f82-17d4b4335158",
   "metadata": {},
   "source": [
    "##### Write a for loop to acquire 50 bootstrap samples of the rainfall data and plot their ECDF.\n",
    "##### Use np.random.choice() to generate a bootstrap sample from the NumPy array rainfall. Be sure that the size of the resampled array is len(rainfall).\n",
    "##### Use the function ecdf() that you wrote in the prequel to this course to generate the x and y values for the ECDF of the bootstrap sample bs_sample.\n",
    "##### Plot the ECDF values. Specify color='gray' (to make gray dots) and alpha=0.1 (to make them semi-transparent, since we are overlaying so many) in addition to the marker='.' and linestyle='none' keyword arguments.\n",
    "##### Use ecdf() to generate x and y values for the ECDF of the original rainfall data available in the array rainfall.\n",
    "##### Plot the ECDF values of the original data.\n",
    "##### Hit submit to visualize the samples!"
   ]
  },
  {
   "cell_type": "code",
   "execution_count": null,
   "id": "56dbe756-23af-4fd1-9a64-244e9d7cfc18",
   "metadata": {},
   "outputs": [],
   "source": [
    "for _ in range(50):\n",
    "    # Generate bootstrap sample: bs_sample\n",
    "    bs_sample = np.random.choice(rainfall, size=len(rainfall))\n",
    "\n",
    "    # Compute and plot ECDF from bootstrap sample\n",
    "    x, y = ecdf(bs_sample)\n",
    "    _ = plt.plot(x, y, marker='.', linestyle='none',\n",
    "                 color='gray', alpha=0.1)\n",
    "\n",
    "# Compute and plot ECDF from original data\n",
    "x, y = ecdf(rainfall)\n",
    "_ = plt.plot(x, y, marker='.')\n",
    "\n",
    "# Make margins and label axes\n",
    "plt.margins(0.02)\n",
    "_ = plt.xlabel('yearly rainfall (mm)')\n",
    "_ = plt.ylabel('ECDF')\n",
    "\n",
    "# Show the plot\n",
    "plt.show()"
   ]
  },
  {
   "cell_type": "markdown",
   "id": "f0d959f3-4c63-41cc-aa01-988e523e9b81",
   "metadata": {},
   "source": [
    "### Generating many bootstrap replicates"
   ]
  },
  {
   "cell_type": "markdown",
   "id": "be3d3910-6b4e-4749-aa54-132912ef7dc6",
   "metadata": {},
   "source": [
    "##### Define a function with call signature draw_bs_reps(data, func, size=1).\n",
    "##### Using np.empty(), initialize an array called bs_replicates of size size to hold all of the bootstrap replicates.\n",
    "##### Write a for loop that ranges over size and computes a replicate using bootstrap_replicate_1d(). Refer to the exercise description above to see the function signature of bootstrap_replicate_1d(). Store the replicate in the appropriate index of bs_replicates.\n",
    "##### Return the array of replicates bs_replicates. This has already been done for you."
   ]
  },
  {
   "cell_type": "code",
   "execution_count": null,
   "id": "21509481-3d20-4f72-a2fe-a26b179d1314",
   "metadata": {},
   "outputs": [],
   "source": [
    "def draw_bs_reps(data, func, size=1):\n",
    "    \"\"\"Draw bootstrap replicates.\"\"\"\n",
    "\n",
    "    # Initialize array of replicates: bs_replicates\n",
    "    bs_replicates = np.empty(size)\n",
    "\n",
    "    # Generate replicates\n",
    "    for i in range(size):\n",
    "        bs_replicates[i] = bootstrap_replicate_1d(data, func)\n",
    "\n",
    "    return bs_replicates"
   ]
  },
  {
   "cell_type": "markdown",
   "id": "4d0d8775-8970-49e5-98d0-0be3191b985e",
   "metadata": {},
   "source": [
    "### Bootstrap replicates of the mean and the SEM"
   ]
  },
  {
   "cell_type": "markdown",
   "id": "1575801a-2176-4be3-84ba-4bdcc4f1abb8",
   "metadata": {},
   "source": [
    "##### Draw 10000 bootstrap replicates of the mean annual rainfall using your draw_bs_reps() function and the rainfall array. Hint: Pass in np.mean for func to compute the mean.\n",
    "##### As a reminder, draw_bs_reps() accepts 3 arguments: data, func, and size.\n",
    "##### Compute and print the standard error of the mean of rainfall.\n",
    "##### The formula to compute this is np.std(data) / np.sqrt(len(data)).\n",
    "##### Compute and print the standard deviation of your bootstrap replicates bs_replicates.\n",
    "##### Make a histogram of the replicates using the normed=True keyword argument and 50 bins.\n",
    "##### Hit submit to see the plot!"
   ]
  },
  {
   "cell_type": "code",
   "execution_count": null,
   "id": "57706b29-a0ad-4716-9655-c12aac91021a",
   "metadata": {},
   "outputs": [],
   "source": [
    "# Take 10,000 bootstrap replicates of the mean: bs_replicates\n",
    "bs_replicates = draw_bs_reps(rainfall,np.mean, 10000)\n",
    "\n",
    "# Compute and print SEM\n",
    "sem =np.std(rainfall) / np.sqrt(len(rainfall))\n",
    "print(sem)\n",
    "\n",
    "# Compute and print standard deviation of bootstrap replicates\n",
    "bs_std = np.std(bs_replicates)\n",
    "print(bs_std)\n",
    "\n",
    "# Make a histogram of the results\n",
    "_ = plt.hist(bs_replicates, bins=50, normed=True)\n",
    "_ = plt.xlabel('mean annual rainfall (mm)')\n",
    "_ = plt.ylabel('PDF')\n",
    "\n",
    "# Show the plot\n",
    "plt.show()"
   ]
  },
  {
   "cell_type": "markdown",
   "id": "e344960d-91be-4b00-a245-ecb274b9e470",
   "metadata": {},
   "source": [
    "### Bootstrap replicates of other statistics"
   ]
  },
  {
   "cell_type": "markdown",
   "id": "c88d3856-6d18-4c02-9078-e9bb87507d26",
   "metadata": {},
   "source": [
    "##### Draw 10000 bootstrap replicates of the variance in annual rainfall, stored in the rainfall dataset, using your draw_bs_reps() function. Hint: Pass in np.var for computing the variance.\n",
    "##### Divide your variance replicates (bs_replicates) by 100 to put the variance in units of square centimeters for convenience.\n",
    "##### Make a histogram of bs_replicates using the normed=True keyword argument and 50 bins."
   ]
  },
  {
   "cell_type": "code",
   "execution_count": null,
   "id": "13d4111c-b007-45d9-bea9-60bc5dc54d8c",
   "metadata": {},
   "outputs": [],
   "source": [
    "# Generate 10,000 bootstrap replicates of the variance: bs_replicates\n",
    "bs_replicates = draw_bs_reps(rainfall, np.var, 10000)\n",
    "\n",
    "# Put the variance in units of square centimeters\n",
    "bs_replicates/100\n",
    "\n",
    "# Make a histogram of the results\n",
    "_ = plt.hist(bs_replicates/100, bins=50, normed=True)\n",
    "_ = plt.xlabel('variance of annual rainfall (sq. cm)')\n",
    "_ = plt.ylabel('PDF')\n",
    "\n",
    "# Show the plot\n",
    "plt.show()"
   ]
  },
  {
   "cell_type": "markdown",
   "id": "8d761cb7-8ee0-4f98-af10-f7d4d5486d38",
   "metadata": {},
   "source": [
    "### Confidence interval on the rate of no-hitters"
   ]
  },
  {
   "cell_type": "markdown",
   "id": "14c08a29-dee8-400e-8a71-10994d53f438",
   "metadata": {},
   "source": [
    "##### Generate 10000 bootstrap replicates of from the nohitter_times data using your draw_bs_reps() function. Recall that the optimal is calculated as the mean of the data.\n",
    "##### Compute the 95% confidence interval using np.percentile() and passing in two arguments: The array bs_replicates, and the list of percentiles - in this case 2.5 and 97.5.\n",
    "##### Print the confidence interval.\n",
    "##### Plot a histogram of your bootstrap replicates. This has been done for you, so hit submit to see the plot!"
   ]
  },
  {
   "cell_type": "code",
   "execution_count": null,
   "id": "bf362b6b-1493-4ce7-bdc6-97037433ba5c",
   "metadata": {},
   "outputs": [],
   "source": [
    "# Draw bootstrap replicates of the mean no-hitter time (equal to tau): bs_replicates\n",
    "bs_replicates = draw_bs_reps(nohitter_times, np.mean, 10000)\n",
    "\n",
    "# Compute the 95% confidence interval: conf_int\n",
    "conf_int = np.percentile(bs_replicates, [2.5, 97.5])\n",
    "\n",
    "# Print the confidence interval\n",
    "print('95% confidence interval =', conf_int, 'games')\n",
    "\n",
    "# Plot the histogram of the replicates\n",
    "_ = plt.hist(bs_replicates, bins=50, normed=True)\n",
    "_ = plt.xlabel(r'$\\tau$ (games)')\n",
    "_ = plt.ylabel('PDF')\n",
    "\n",
    "# Show the plot\n",
    "plt.show()"
   ]
  },
  {
   "cell_type": "markdown",
   "id": "c01287db-244f-4b1a-bbb7-acaaf6e80020",
   "metadata": {},
   "source": [
    "### A function to do pairs bootstrap"
   ]
  },
  {
   "cell_type": "markdown",
   "id": "db83f6a0-5903-412f-a6d9-f9ede2805f8b",
   "metadata": {},
   "source": [
    "##### Define a function with call signature draw_bs_pairs_linreg(x, y, size=1) to perform pairs bootstrap estimates on linear regression parameters.\n",
    "##### Use np.arange() to set up an array of indices going from 0 to len(x). These are what you will resample and use them to pick values out of the x and y arrays.\n",
    "##### Use np.empty() to initialize the slope and intercept replicate arrays to be of size size.\n",
    "##### Write a for loop to:\n",
    "##### Resample the indices inds. Use np.random.choice() to do this.\n",
    "##### Make new and arrays bs_x and bs_y using the the resampled indices bs_inds. To do this, slice x and y with bs_inds.\n",
    "##### Use np.polyfit() on the new and arrays and store the computed slope and intercept.\n",
    "##### Return the pair bootstrap replicates of the slope and intercept."
   ]
  },
  {
   "cell_type": "code",
   "execution_count": null,
   "id": "64de7f9b-3e37-4f7d-8160-b0830acce7ba",
   "metadata": {},
   "outputs": [],
   "source": [
    "def draw_bs_pairs_linreg(x, y, size=1):\n",
    "    \"\"\"Perform pairs bootstrap for linear regression.\"\"\"\n",
    "\n",
    "    # Set up array of indices to sample from: inds\n",
    "    inds = np.arange(len(x))\n",
    "\n",
    "    # Initialize replicates: bs_slope_reps, bs_intercept_reps\n",
    "    bs_slope_reps = np.empty(size)\n",
    "    bs_intercept_reps = np.empty(size)\n",
    "\n",
    "    # Generate replicates\n",
    "    for i in range(size):\n",
    "        bs_inds = np.random.choice(inds, size=len(inds))\n",
    "        bs_x, bs_y = x[bs_inds], y[bs_inds]\n",
    "        bs_slope_reps[i], bs_intercept_reps[i] = np.polyfit(bs_x, bs_y, 1)\n",
    "\n",
    "    return bs_slope_reps, bs_intercept_reps\n"
   ]
  },
  {
   "cell_type": "markdown",
   "id": "cd4450e1-30b7-4274-874e-3ee2e0e64beb",
   "metadata": {},
   "source": [
    "### Pairs bootstrap of literacy/fertility data"
   ]
  },
  {
   "cell_type": "markdown",
   "id": "d60859b7-a192-4d90-8d6c-8312ca64a7e6",
   "metadata": {},
   "source": [
    "##### Use your draw_bs_pairs_linreg() function to take 1000 bootstrap replicates of the slope and intercept. The x-axis data is illiteracy and y-axis data is fertility.\n",
    "##### Compute and print the 95% bootstrap confidence interval for the slope.\n",
    "##### Plot and show a histogram of the slope replicates. Be sure to label your axes. This has been done for you, so click submit to see your histogram!"
   ]
  },
  {
   "cell_type": "code",
   "execution_count": null,
   "id": "20546c13-3cc6-4e6a-9f10-539cf0e0a9a8",
   "metadata": {},
   "outputs": [],
   "source": [
    "# Generate replicates of slope and intercept using pairs bootstrap\n",
    "bs_slope_reps, bs_intercept_reps = draw_bs_pairs_linreg(illiteracy, fertility, 1000)\n",
    "\n",
    "# Compute and print 95% CI for slope\n",
    "print(np.percentile(bs_slope_reps, [2.5, 97.5]))\n",
    "\n",
    "# Plot the histogram\n",
    "_ = plt.hist(bs_slope_reps, bins=50, normed=True)\n",
    "_ = plt.xlabel('slope')\n",
    "_ = plt.ylabel('PDF')\n",
    "plt.show()"
   ]
  },
  {
   "cell_type": "markdown",
   "id": "179f3da7-e1ce-4bcb-a575-c0fb77f86425",
   "metadata": {},
   "source": [
    "### Plotting bootstrap regressions"
   ]
  },
  {
   "cell_type": "markdown",
   "id": "99d57aa4-16b4-44c5-8cb9-828db469cd5e",
   "metadata": {},
   "source": [
    "##### Generate an array of x-values consisting of 0 and 100 for the plot of the regression lines. Use the np.array() function for this.\n",
    "##### Write a for loop in which you plot a regression line with a slope and intercept given by the pairs bootstrap replicates. Do this for 100 lines.\n",
    "##### When plotting the regression lines in each iteration of the for loop, recall the regression equation y = a*x + b. Here, a is bs_slope_reps[i] and b is bs_intercept_reps[i].\n",
    "##### Specify the keyword arguments linewidth=0.5, alpha=0.2, and color='red' in your call to plt.plot().\n",
    "##### Make a scatter plot with illiteracy on the x-axis and fertility on the y-axis. Remember to specify the marker='.' and linestyle='none' keyword arguments.\n",
    "##### Label the axes, set a 2% margin, and show the plot. This has been done for you, so hit submit to visualize the bootstrap regressions!"
   ]
  },
  {
   "cell_type": "code",
   "execution_count": null,
   "id": "31316f27-09e5-460c-8d03-34f3eed12d76",
   "metadata": {},
   "outputs": [],
   "source": [
    "# Generate array of x-values for bootstrap lines: x\n",
    "x = np.array([0, 100])\n",
    "\n",
    "# Plot the bootstrap lines\n",
    "for i in range(100):\n",
    "    _ = plt.plot(x, \n",
    "                 bs_slope_reps[i]*x + bs_intercept_reps[i],\n",
    "                 linewidth=0.5, alpha=0.2, color='red')\n",
    "\n",
    "# Plot the data\n",
    "_ = plt.plot(illiteracy, fertility, marker='.', linestyle='none')\n",
    "\n",
    "# Label axes, set the margins, and show the plot\n",
    "_ = plt.xlabel('illiteracy')\n",
    "_ = plt.ylabel('fertility')\n",
    "plt.margins(0.02)\n",
    "plt.show()"
   ]
  },
  {
   "cell_type": "markdown",
   "id": "9266b781-be10-40bc-a27e-77eaf2553c3a",
   "metadata": {},
   "source": [
    "### Generating a permutation sample"
   ]
  },
  {
   "cell_type": "markdown",
   "id": "12d7f933-2273-4ea6-89ff-373a0fe67c75",
   "metadata": {},
   "source": [
    "##### Concatenate the two input arrays into one using np.concatenate(). Be sure to pass in data1 and data2 as one argument (data1, data2).\n",
    "##### Use np.random.permutation() to permute the concatenated array.\n",
    "##### Store the first len(data1) entries of permuted_data as perm_sample_1 and the last len(data2) entries of permuted_data as perm_sample_2. In practice, this can be achieved by using :len(data1) and len(data1): to slice permuted_data.\n",
    "##### Return perm_sample_1 and perm_sample_2."
   ]
  },
  {
   "cell_type": "code",
   "execution_count": null,
   "id": "72be6346-ff06-4f2c-9a10-73d2704fa613",
   "metadata": {},
   "outputs": [],
   "source": [
    "def permutation_sample(data1, data2):\n",
    "    \"\"\"Generate a permutation sample from two data sets.\"\"\"\n",
    "\n",
    "    # Concatenate the data sets: data\n",
    "    data = np.concatenate((data1, data2))\n",
    "\n",
    "    # Permute the concatenated array: permuted_data\n",
    "    permuted_data = np.random.permutation(data)\n",
    "\n",
    "    # Split the permuted array into two: perm_sample_1, perm_sample_2\n",
    "    perm_sample_1 = permuted_data[:len(data1)]\n",
    "    perm_sample_2 = permuted_data[len(data1):]\n",
    "\n",
    "    return perm_sample_1, perm_sample_2"
   ]
  },
  {
   "cell_type": "markdown",
   "id": "2377880a-cd15-4e67-87a2-59145249ddae",
   "metadata": {},
   "source": [
    "### Visualizing permutation sampling"
   ]
  },
  {
   "cell_type": "markdown",
   "id": "4efd34ee-88c1-4f51-81d4-5803e6f4c12d",
   "metadata": {},
   "source": [
    "##### Write a for loop to generate 50 permutation samples, compute their ECDFs, and plot them.\n",
    "##### Generate a permutation sample pair from rain_june and rain_november using your permutation_sample() function.\n",
    "##### Generate the x and y values for an ECDF for each of the two permutation samples for the ECDF using your ecdf() function.\n",
    "##### Plot the ECDF of the first permutation sample (x_1 and y_1) as dots. Do the same for the second permutation sample (x_2 and y_2).\n",
    "##### Generate x and y values for ECDFs for the rain_june and rain_november data and plot the ECDFs using respectively the keyword arguments color='red' and color='blue'.\n",
    "##### Label your axes, set a 2% margin, and show your plot. This has been done for you, so just hit submit to view the plot!"
   ]
  },
  {
   "cell_type": "code",
   "execution_count": null,
   "id": "7a0cff47-7aa1-4881-8bdb-fbb99d5e9902",
   "metadata": {},
   "outputs": [],
   "source": [
    "for i in range(50):\n",
    "    # Generate permutation samples\n",
    "    perm_sample_1, perm_sample_2 = permutation_sample(rain_june, rain_november)\n",
    "\n",
    "\n",
    "    # Compute ECDFs\n",
    "    x_1, y_1 = ecdf(perm_sample_1)\n",
    "    x_2, y_2 = ecdf(perm_sample_2)\n",
    "\n",
    "    # Plot ECDFs of permutation sample\n",
    "    _ = plt.plot(x_1, y_1, marker='.', linestyle='none',\n",
    "                 color='red', alpha=0.02)\n",
    "    _ = plt.plot(x_2, y_2, marker='.', linestyle='none',\n",
    "                 color='blue', alpha=0.02)\n",
    "\n",
    "# Create and plot ECDFs from original data\n",
    "x_1, y_1 = ecdf(rain_june)\n",
    "x_2, y_2 = ecdf(rain_november)\n",
    "_ = plt.plot(x_1, y_1, marker='.', linestyle='none', color='red')\n",
    "_ = plt.plot(x_2, y_2, marker='.', linestyle='none', color='blue')\n",
    "\n",
    "# Label axes, set margin, and show plot\n",
    "plt.margins(0.02)\n",
    "_ = plt.xlabel('monthly rainfall (mm)')\n",
    "_ = plt.ylabel('ECDF')\n",
    "plt.show()"
   ]
  },
  {
   "cell_type": "markdown",
   "id": "525b0906-14ac-47a3-b56b-941c0474c99f",
   "metadata": {},
   "source": [
    "### Generating permutation replicates"
   ]
  },
  {
   "cell_type": "markdown",
   "id": "f1f7e32d-ec07-46cd-9d3b-dcf1e4bbf9dd",
   "metadata": {},
   "source": [
    "##### Define a function with this signature: draw_perm_reps(data_1, data_2, func, size=1).\n",
    "##### Initialize an array to hold the permutation replicates using np.empty().\n",
    "##### Write a for loop to:\n",
    "##### Compute a permutation sample using your permutation_sample() function\n",
    "##### Pass the samples into func() to compute the replicate and store the result in your array of replicates.\n",
    "##### Return the array of replicates."
   ]
  },
  {
   "cell_type": "code",
   "execution_count": null,
   "id": "0f641152-0292-48f8-9650-beb2e3b7a209",
   "metadata": {},
   "outputs": [],
   "source": [
    "def draw_perm_reps(data_1, data_2, func, size=1):\n",
    "    \"\"\"Generate multiple permutation replicates.\"\"\"\n",
    "\n",
    "    # Initialize array of replicates: perm_replicates\n",
    "    perm_replicates = np.empty(size)\n",
    "\n",
    "    for i in range(size):\n",
    "        # Generate permutation sample\n",
    "        perm_sample_1, perm_sample_2 = permutation_sample(data_1, data_2)\n",
    "\n",
    "        # Compute the test statistic\n",
    "        perm_replicates[i] = func(perm_sample_1, perm_sample_2)\n",
    "\n",
    "    return perm_replicates"
   ]
  },
  {
   "cell_type": "markdown",
   "id": "66d219f8-20a8-4b45-9d2a-2a95dcbe766a",
   "metadata": {},
   "source": [
    "### Look before you leap: EDA before hypothesis testing"
   ]
  },
  {
   "cell_type": "markdown",
   "id": "13a63f11-3f0e-4221-bd89-eca86cebfcda",
   "metadata": {},
   "source": [
    "##### Use sns.swarmplot() to make a bee swarm plot of the data by specifying the x, y, and data keyword arguments.\n",
    "##### Label your axes.\n",
    "##### Show the plot."
   ]
  },
  {
   "cell_type": "code",
   "execution_count": null,
   "id": "ae15eafb-40e4-4aa6-abbd-5197a7ab8fa2",
   "metadata": {},
   "outputs": [],
   "source": [
    "# Make bee swarm plot\n",
    "_ = sns.swarmplot(x=df['ID'], y=df['impact_force'], data=df)\n",
    "\n",
    "# Label axes\n",
    "_ = plt.xlabel('frog')\n",
    "_ = plt.ylabel('impact force (N)')\n",
    "\n",
    "# Show the plot\n",
    "plt.show()"
   ]
  },
  {
   "cell_type": "markdown",
   "id": "11ed15c1-8e1f-4db8-a9df-9e3e2e96a543",
   "metadata": {},
   "source": [
    "### Permutation test on frog data"
   ]
  },
  {
   "cell_type": "markdown",
   "id": "54b6c96f-b9a9-43ac-8475-cfce2748bb21",
   "metadata": {},
   "source": [
    "##### Define a function with call signature diff_of_means(data_1, data_2) that returns the differences in means between two data sets, mean of data_1 minus mean of data_2.\n",
    "##### Use this function to compute the empirical difference of means that was observed in the frogs.\n",
    "##### Draw 10,000 permutation replicates of the difference of means.\n",
    "##### Compute the p-value.\n",
    "##### Print the p-value."
   ]
  },
  {
   "cell_type": "code",
   "execution_count": null,
   "id": "29293db7-2cae-41fc-8148-72ca7df97fd7",
   "metadata": {},
   "outputs": [],
   "source": [
    "def diff_of_means(data_1, data_2):\n",
    "    \"\"\"Difference in means of two arrays.\"\"\"\n",
    "\n",
    "    # The difference of means of data_1, data_2: diff\n",
    "    diff = np.mean(data_1) - np.mean(data_2)\n",
    "\n",
    "    return diff\n",
    "\n",
    "# Compute difference of mean impact force from experiment: empirical_diff_means\n",
    "empirical_diff_means = diff_of_means(force_a, force_b)\n",
    "\n",
    "# Draw 10,000 permutation replicates: perm_replicates\n",
    "perm_replicates = draw_perm_reps(force_a, force_b,\n",
    "                                 diff_of_means, size=10000)\n",
    "\n",
    "# Compute p-value: p\n",
    "p = np.sum(perm_replicates >= empirical_diff_means) / len(perm_replicates)\n",
    "\n",
    "# Print the result\n",
    "print('p-value =', p)"
   ]
  },
  {
   "cell_type": "markdown",
   "id": "a5ffa651-3a34-457a-989e-73e246109169",
   "metadata": {},
   "source": [
    "### A one-sample bootstrap hypothesis test"
   ]
  },
  {
   "cell_type": "markdown",
   "id": "f30249a3-b33a-4c4d-98d2-39e8b15f8e47",
   "metadata": {},
   "source": [
    "##### Translate the impact forces of Frog B such that its mean is 0.55 N.\n",
    "##### Use your draw_bs_reps() function to take 10,000 bootstrap replicates of the mean of your translated forces.\n",
    "##### Compute the p-value by finding the fraction of your bootstrap replicates that are less than the observed mean impact force of Frog B. Note that the variable of interest here is force_b.\n",
    "##### Print your p-value."
   ]
  },
  {
   "cell_type": "code",
   "execution_count": null,
   "id": "7f891db5-105d-42f3-a969-b059009e76af",
   "metadata": {},
   "outputs": [],
   "source": [
    "# Make an array of translated impact forces: translated_force_b\n",
    "translated_force_b = force_b - np.mean(force_b) + 0.55 # N\n",
    "\n",
    "# Take bootstrap replicates of Frog B's translated impact forces: bs_replicates\n",
    "bs_replicates = draw_bs_reps(translated_force_b, np.mean, 10000)\n",
    "\n",
    "# Compute fraction of replicates that are less than the observed Frog B force: p\n",
    "p = np.sum(bs_replicates <= np.mean(force_b)) / 10000\n",
    "\n",
    "# Print the p-value\n",
    "print('p = ', p)"
   ]
  },
  {
   "cell_type": "markdown",
   "id": "c80daf5c-f0e4-4e1b-a5ca-e2db309de6f3",
   "metadata": {},
   "source": [
    "### A two-sample bootstrap hypothesis test for difference of means"
   ]
  },
  {
   "cell_type": "markdown",
   "id": "c0a9e431-9baa-4f55-88d2-95ca57b4717a",
   "metadata": {},
   "source": [
    "##### Compute the mean of all forces (from forces_concat) using np.mean().\n",
    "##### Generate shifted data sets for both force_a and force_b such that the mean of each is the mean of the concatenated array of impact forces.\n",
    "##### Generate 10,000 bootstrap replicates of the mean each for the two shifted arrays.\n",
    "##### Compute the bootstrap replicates of the difference of means by subtracting the replicates of the shifted impact force of Frog B from those of Frog A.\n",
    "##### Compute and print the p-value from your bootstrap replicates."
   ]
  },
  {
   "cell_type": "code",
   "execution_count": null,
   "id": "745575c5-cbed-4d2d-95b8-295231ceedaf",
   "metadata": {},
   "outputs": [],
   "source": [
    "# Compute mean of all forces: mean_force\n",
    "mean_force = np.mean(forces_concat)\n",
    "\n",
    "# Generate shifted arrays\n",
    "force_a_shifted = force_a - np.mean(force_a) + mean_force\n",
    "force_b_shifted = force_b - np.mean(force_b) + mean_force \n",
    "\n",
    "# Compute 10,000 bootstrap replicates from shifted arrays\n",
    "bs_replicates_a = draw_bs_reps(force_a_shifted, np.mean, 10000)\n",
    "bs_replicates_b = draw_bs_reps(force_b_shifted, np.mean, 10000)\n",
    "\n",
    "# Get replicates of difference of means: bs_replicates\n",
    "bs_replicates = bs_replicates_a - bs_replicates_b\n",
    "\n",
    "# Compute and print p-value: p\n",
    "p = np.sum(bs_replicates >= np.mean(empirical_diff_means)) / 10000\n",
    "print('p-value =', p)"
   ]
  },
  {
   "cell_type": "markdown",
   "id": "e6c383dc-b1f3-4e78-b5f1-551bb7a459d7",
   "metadata": {},
   "source": [
    "### AB Test - The vote for the Civil Rights Act in 1964"
   ]
  },
  {
   "cell_type": "markdown",
   "id": "bb116f81-bc30-4796-912f-c7b1eb4b6209",
   "metadata": {},
   "source": [
    "##### Construct Boolean arrays, dems and reps that contain the votes of the respective parties; e.g., dems has 153 True entries and 91 False entries.\n",
    "##### Write a function, frac_yea_dems(dems, reps) that returns the fraction of Democrats that voted yea. The first input is an array of Booleans, Two inputs are required to use your draw_perm_reps() function, but the second is not used.\n",
    "##### Use your draw_perm_reps() function to draw 10,000 permutation replicates of the fraction of Democrat yea votes.\n",
    "##### Compute and print the p-value."
   ]
  },
  {
   "cell_type": "code",
   "execution_count": null,
   "id": "283d1a10-eb25-49e2-b4e0-bc62410fade9",
   "metadata": {},
   "outputs": [],
   "source": [
    "# Construct arrays of data: dems, reps\n",
    "dems = np.array([True] * 153 + [False] * 91)\n",
    "reps = np.array([True] * 136 + [False] * 35)\n",
    "\n",
    "def frac_yea_dems(dems, reps):\n",
    "    \"\"\"Compute fraction of Democrat yea votes.\"\"\"\n",
    "    frac = np.sum(dems) / len(dems)\n",
    "    return frac\n",
    "\n",
    "# Acquire permutation samples: perm_replicates\n",
    "perm_replicates = draw_perm_reps(dems, reps, frac_yea_dems, 10000)\n",
    "\n",
    "# Compute and print p-value: p\n",
    "p = np.sum(perm_replicates <= 153/244) / len(perm_replicates)\n",
    "print('p-value =', p)"
   ]
  },
  {
   "cell_type": "markdown",
   "id": "555cc817-5789-47bb-a3b6-d9c94f94d56c",
   "metadata": {},
   "source": [
    "### A time-on-website analog"
   ]
  },
  {
   "cell_type": "markdown",
   "id": "bed84d78-4a34-46c6-98e6-0f3fd534cb31",
   "metadata": {},
   "source": [
    "##### Compute the observed difference in mean inter-nohitter time using diff_of_means().\n",
    "##### Generate 10,000 permutation replicates of the difference of means using draw_perm_reps().\n",
    "##### Compute and print the p-value."
   ]
  },
  {
   "cell_type": "code",
   "execution_count": null,
   "id": "7b7841ca-85e7-449d-a205-28c68ae75f49",
   "metadata": {},
   "outputs": [],
   "source": [
    "# Compute the observed difference in mean inter-no-hitter times: nht_diff_obs\n",
    "nht_diff_obs = diff_of_means(nht_dead, nht_live)\n",
    "\n",
    "# Acquire 10,000 permutation replicates of difference in mean no-hitter time: perm_replicates\n",
    "perm_replicates = draw_perm_reps(nht_dead, nht_live, diff_of_means, 10000)\n",
    "\n",
    "\n",
    "# Compute and print the p-value: p\n",
    "p = np.sum(perm_replicates <= nht_diff_obs)/len(perm_replicates)\n",
    "print('p-val =', p)"
   ]
  },
  {
   "cell_type": "markdown",
   "id": "51a21769-70d8-4d3e-842f-d37f71cc14b1",
   "metadata": {},
   "source": [
    "### Hypothesis test on Pearson correlation"
   ]
  },
  {
   "cell_type": "markdown",
   "id": "0d0ac544-46e8-4f96-a7eb-b0860dce00ac",
   "metadata": {},
   "source": [
    "##### Compute the observed Pearson correlation between illiteracy and fertility.\n",
    "##### Initialize an array to store your permutation replicates.\n",
    "##### Write a for loop to draw 10,000 replicates:\n",
    "##### Permute the illiteracy measurements using np.random.permutation().\n",
    "##### Compute the Pearson correlation between the permuted illiteracy array, illiteracy_permuted, and fertility.\n",
    "##### Compute and print the p-value from the replicates."
   ]
  },
  {
   "cell_type": "code",
   "execution_count": null,
   "id": "27193c56-f903-486b-b878-bfe6992f72e6",
   "metadata": {},
   "outputs": [],
   "source": [
    "# Compute observed correlation: r_obs\n",
    "r_obs = pearson_r(illiteracy,fertility)\n",
    "\n",
    "# Initialize permutation replicates: perm_replicates\n",
    "perm_replicates = np.empty(10000)\n",
    "\n",
    "# Draw replicates\n",
    "for i in range (len(perm_replicates)):\n",
    "    # Permute illiteracy measurments: illiteracy_permuted\n",
    "    illiteracy_permuted = np.random.permutation(illiteracy)\n",
    "\n",
    "    # Compute Pearson correlation\n",
    "    perm_replicates[i] = pearson_r(illiteracy_permuted,fertility)\n",
    "\n",
    "# Compute p-value: p\n",
    "p = np.sum(perm_replicates >= r_obs) / len(perm_replicates)\n",
    "print('p-val =', p)"
   ]
  },
  {
   "cell_type": "markdown",
   "id": "78769831-c3d1-4a6c-8098-2637cff303a9",
   "metadata": {},
   "source": [
    "### Do neonicotinoid insecticides have unintended consequences?"
   ]
  },
  {
   "cell_type": "markdown",
   "id": "b1f37a95-4d4c-46ed-a4cf-7f1820059236",
   "metadata": {},
   "source": [
    "##### Use your ecdf() function to generate x,y values from the control and treated arrays for plotting the ECDFs.\n",
    "##### Plot the ECDFs on the same plot.\n",
    "##### The margins have been set for you, along with the legend and axis labels. Hit submit to see the result!"
   ]
  },
  {
   "cell_type": "code",
   "execution_count": null,
   "id": "f3fb9daa-162b-43b6-b2a1-34d4b7a04797",
   "metadata": {},
   "outputs": [],
   "source": [
    "# Compute x,y values for ECDFs\n",
    "x_control, y_control = ecdf(control)\n",
    "x_treated, y_treated = ecdf(treated)\n",
    "\n",
    "# Plot the ECDFs\n",
    "plt.plot(x_control, y_control, marker='.', linestyle='none')\n",
    "plt.plot(x_treated, y_treated, marker='.', linestyle='none')\n",
    "\n",
    "# Set the margins\n",
    "plt.margins(0.02)\n",
    "\n",
    "# Add a legend\n",
    "plt.legend(('control', 'treated'), loc='lower right')\n",
    "\n",
    "# Label axes and show plot\n",
    "plt.xlabel('millions of alive sperm per mL')\n",
    "plt.ylabel('ECDF')\n",
    "plt.show()"
   ]
  },
  {
   "cell_type": "markdown",
   "id": "2e2cd9eb-dc4d-42b8-a6fd-007826c03a2f",
   "metadata": {},
   "source": [
    "### Bootstrap hypothesis test on bee sperm counts"
   ]
  },
  {
   "cell_type": "markdown",
   "id": "45ee362c-20db-455e-97e3-aefa9a9a1a0b",
   "metadata": {},
   "source": [
    "##### Compute the mean alive sperm count of control minus that of treated.\n",
    "##### Compute the mean of all alive sperm counts. To do this, first concatenate control and treated and take the mean of the concatenated array.\n",
    "##### Generate shifted data sets for both control and treated such that the shifted data sets have the same mean. This has already been done for you.\n",
    "##### Generate 10,000 bootstrap replicates of the mean each for the two shifted arrays. Use your draw_bs_reps() function.\n",
    "##### Compute the bootstrap replicates of the difference of means.\n",
    "##### The code to compute and print the p-value has been written for you. Hit submit to see the result!"
   ]
  },
  {
   "cell_type": "code",
   "execution_count": null,
   "id": "c4c115ed-4d03-4ea9-a553-3ea6ee586a20",
   "metadata": {},
   "outputs": [],
   "source": [
    "# Compute the difference in mean sperm count: diff_means\n",
    "diff_means = diff_of_means(control, treated)\n",
    "\n",
    "# Compute mean of pooled data: mean_count\n",
    "mean_count = np.mean(np.concatenate((control, treated)))\n",
    "\n",
    "# Generate shifted data sets\n",
    "control_shifted = control - np.mean(control) + mean_count\n",
    "treated_shifted = treated - np.mean(treated) + mean_count\n",
    "\n",
    "# Generate bootstrap replicates\n",
    "bs_reps_control = draw_bs_reps(control_shifted, np.mean, size=10000)\n",
    "bs_reps_treated = draw_bs_reps(treated_shifted, np.mean, size=10000)\n",
    "\n",
    "# Get replicates of difference of means: bs_replicates\n",
    "bs_replicates = bs_reps_control - bs_reps_treated\n",
    "\n",
    "# Compute and print p-value: p\n",
    "p = np.sum(bs_replicates >= diff_means) / len(bs_replicates)\n",
    "print('p-value =', p)"
   ]
  },
  {
   "cell_type": "markdown",
   "id": "bb95b074-c983-4d7c-9586-2d7c47e2ea43",
   "metadata": {},
   "source": [
    "### EDA of beak depths of Darwin's finches"
   ]
  },
  {
   "cell_type": "markdown",
   "id": "b01352f7-7f44-45b9-9204-2ca2c3c9b03e",
   "metadata": {},
   "source": [
    "##### Create the beeswarm plot.\n",
    "##### Label the axes.\n",
    "##### Show the plot."
   ]
  },
  {
   "cell_type": "code",
   "execution_count": null,
   "id": "dc17d93a-2fdc-4d7d-b7cd-9d575eafc11b",
   "metadata": {},
   "outputs": [],
   "source": [
    "# Create bee swarm plot\n",
    "_ = sns.swarmplot(x='year',  y='beak_depth', data=df)\n",
    "\n",
    "# Label the axes\n",
    "_ = plt.xlabel('year')\n",
    "_ = plt.ylabel('beak depth (mm)')\n",
    "\n",
    "# Show the plot\n",
    "plt.show()"
   ]
  },
  {
   "cell_type": "markdown",
   "id": "dcf29bcc-be81-4cee-b975-3ce884bd7bac",
   "metadata": {},
   "source": [
    "### ECDFs of beak depths"
   ]
  },
  {
   "cell_type": "markdown",
   "id": "0e0ecebf-6b82-45f2-8c05-9601b29e8ea1",
   "metadata": {},
   "source": [
    "##### Compute the ECDF for the 1975 and 2012 data.\n",
    "##### Plot the two ECDFs.\n",
    "##### Set a 2% margin and add axis labels and a legend to the plot.\n",
    "##### Hit submit to view the plot!"
   ]
  },
  {
   "cell_type": "code",
   "execution_count": null,
   "id": "cd20d4b1-be25-4612-9ec5-bc5586cc82eb",
   "metadata": {},
   "outputs": [],
   "source": [
    "# Compute ECDFs\n",
    "x_1975, y_1975 = ecdf(bd_1975)\n",
    "x_2012, y_2012 = ecdf(bd_2012)\n",
    "\n",
    "# Plot the ECDFs\n",
    "_ = plt.plot(x_1975, y_1975, marker='.', linestyle='none')\n",
    "_ = plt.plot(x_2012, y_2012, marker='.', linestyle='none')\n",
    "\n",
    "# Set margins\n",
    "plt.margins(0.02)\n",
    "\n",
    "# Add axis labels and legend\n",
    "_ = plt.xlabel('beak depth (mm)')\n",
    "_ = plt.ylabel('ECDF')\n",
    "_ = plt.legend(('1975', '2012'), loc='lower right')\n",
    "\n",
    "# Show the plot\n",
    "plt.show()"
   ]
  },
  {
   "cell_type": "markdown",
   "id": "a659a4ac-0209-463e-8ba0-8431a50a635c",
   "metadata": {},
   "source": [
    "### Parameter estimates of beak depths"
   ]
  },
  {
   "cell_type": "markdown",
   "id": "ca420536-bb6f-45cd-bc1f-050cf449a970",
   "metadata": {},
   "source": [
    "##### Compute the difference of the sample means.\n",
    "##### Take 10,000 bootstrap replicates of the mean for the 1975 beak depths using your draw_bs_reps() function. Also get 10,000 bootstrap replicates of the mean for the 2012 beak depths.\n",
    "##### Subtract the 1975 replicates from the 2012 replicates to get bootstrap replicates of the difference of means.\n",
    "##### Use the replicates to compute the 95% confidence interval.\n",
    "##### Hit submit to view the results!"
   ]
  },
  {
   "cell_type": "code",
   "execution_count": null,
   "id": "21d08a4d-9011-41d9-9342-c9ba0f1d563a",
   "metadata": {},
   "outputs": [],
   "source": [
    "# Compute the difference of the sample means: mean_diff\n",
    "mean_diff = np.mean(bd_2012) - np.mean(bd_1975)\n",
    "\n",
    "# Get bootstrap replicates of means\n",
    "bs_replicates_1975 = draw_bs_reps(bd_1975, np.mean, 10000)\n",
    "bs_replicates_2012 = draw_bs_reps(bd_2012 , np.mean, 10000)\n",
    "\n",
    "# Compute samples of difference of means: bs_diff_replicates\n",
    "bs_diff_replicates = bs_replicates_2012 - bs_replicates_1975\n",
    "\n",
    "# Compute 95% confidence interval: conf_int\n",
    "conf_int = np.percentile(bs_diff_replicates, [2.5, 97.5])\n",
    "\n",
    "# Print the results\n",
    "print('difference of means =', mean_diff, 'mm')\n",
    "print('95% confidence interval =', conf_int, 'mm')"
   ]
  },
  {
   "cell_type": "markdown",
   "id": "a1b39d00-0975-4faa-9c05-2af5670856f5",
   "metadata": {},
   "source": [
    "### Hypothesis test: Are beaks deeper in 2012?"
   ]
  },
  {
   "cell_type": "markdown",
   "id": "2c504962-8ca3-4a71-8383-190c17dcd66d",
   "metadata": {},
   "source": [
    "##### Make a concatenated array of the 1975 and 2012 beak depths and compute and store its mean.\n",
    "##### Shift bd_1975 and bd_2012 such that their means are equal to the one you just computed for the combined data set.\n",
    "##### Take 10,000 bootstrap replicates of the mean each for the 1975 and 2012 beak depths.\n",
    "##### Subtract the 1975 replicates from the 2012 replicates to get bootstrap replicates of the difference.\n",
    "##### Compute and print the p-value. The observed difference in means you computed in the last exercise is still in your namespace as mean_diff."
   ]
  },
  {
   "cell_type": "code",
   "execution_count": null,
   "id": "0a323210-51fe-4f3a-9e7e-f0c18924086e",
   "metadata": {},
   "outputs": [],
   "source": [
    "# Compute mean of combined data set: combined_mean\n",
    "combined_mean = np.mean(np.concatenate((bd_1975, bd_2012)))\n",
    "\n",
    "# Shift the samples\n",
    "bd_1975_shifted = (bd_1975 - np.mean(bd_1975)) + combined_mean\n",
    "bd_2012_shifted = (bd_2012 - np.mean(bd_2012)) + combined_mean\n",
    "\n",
    "# Get bootstrap replicates of shifted data sets\n",
    "bs_replicates_1975 = draw_bs_reps(bd_1975_shifted, np.mean, 10000)\n",
    "bs_replicates_2012 = draw_bs_reps(bd_2012_shifted, np.mean, 10000)\n",
    "\n",
    "# Compute replicates of difference of means: bs_diff_replicates\n",
    "bs_diff_replicates = bs_replicates_2012 - bs_replicates_1975\n",
    "\n",
    "# Compute the p-value\n",
    "p = np.sum(bs_diff_replicates >= mean_diff) / len(bs_diff_replicates)\n",
    "\n",
    "# Print p-value\n",
    "print('p =', p)\n"
   ]
  },
  {
   "cell_type": "markdown",
   "id": "e11600a0-36b6-4025-a247-01592ad819f2",
   "metadata": {},
   "source": [
    "### EDA of beak length and depth"
   ]
  },
  {
   "cell_type": "markdown",
   "id": "26f85211-59ba-458a-8d1b-ef69d21a28bf",
   "metadata": {},
   "source": [
    "##### Make a scatter plot of the 1975 data. Use the color='blue' keyword argument. Also use an alpha=0.5 keyword argument to have transparency in case data points overlap.\n",
    "##### Do the same for the 2012 data, but use the color='red' keyword argument.\n",
    "##### Add a legend and label the axes.\n",
    "##### Show your plot."
   ]
  },
  {
   "cell_type": "code",
   "execution_count": null,
   "id": "604cc761-e5fa-480b-993c-188bb95767b4",
   "metadata": {},
   "outputs": [],
   "source": [
    "# Make scatter plot of 1975 data\n",
    "_ = plt.plot(bl_1975, bd_1975, marker='.',\n",
    "             linestyle='None', alpha=0.5, color='blue')\n",
    "\n",
    "# Make scatter plot of 2012 data\n",
    "_ = plt.plot(bl_2012, bd_2012, marker='.',\n",
    "            linestyle='None',  alpha=0.5, color='red')\n",
    "\n",
    "# Label axes and make legend\n",
    "_ = plt.xlabel('beak length (mm)')\n",
    "_ = plt.ylabel('beak depth (mm)')\n",
    "_ = plt.legend(('1975', '2012'), loc='upper left')\n",
    "\n",
    "# Show the plot\n",
    "plt.show()"
   ]
  },
  {
   "cell_type": "markdown",
   "id": "296f7ab1-0cf1-48d1-8c36-8135b08ffd6d",
   "metadata": {},
   "source": [
    "### Linear regressions"
   ]
  },
  {
   "cell_type": "markdown",
   "id": "49bf3102-32f4-4178-84af-c91bc2322d79",
   "metadata": {},
   "source": [
    "##### Compute the slope and intercept for both the 1975 and 2012 data sets.\n",
    "##### Obtain 1000 pairs bootstrap samples for the linear regressions using your draw_bs_pairs_linreg() function.\n",
    "##### Compute 95% confidence intervals for the slopes and the intercepts."
   ]
  },
  {
   "cell_type": "code",
   "execution_count": null,
   "id": "d8257c3b-cbe6-4d7f-849f-71971986b4a9",
   "metadata": {},
   "outputs": [],
   "source": [
    "# Compute the linear regressions\n",
    "slope_1975, intercept_1975 = np.polyfit(bl_1975, bd_1975, 1)\n",
    "slope_2012, intercept_2012 = np.polyfit(bl_2012, bd_2012, 1)\n",
    "\n",
    "# Perform pairs bootstrap for the linear regressions\n",
    "bs_slope_reps_1975, bs_intercept_reps_1975 = \\\n",
    "        draw_bs_pairs_linreg(bl_1975, bd_1975, 1000)\n",
    "bs_slope_reps_2012, bs_intercept_reps_2012 = \\\n",
    "        draw_bs_pairs_linreg(bl_2012, bd_2012, 1000)\n",
    "\n",
    "# Compute confidence intervals of slopes\n",
    "slope_conf_int_1975 = np.percentile(bs_slope_reps_1975, [2.5, 97.5])\n",
    "slope_conf_int_2012 = np.percentile(bs_slope_reps_2012, [2.5, 97.5])\n",
    "intercept_conf_int_1975 = np.percentile(bs_intercept_reps_1975, [2.5, 97.5])\n",
    "\n",
    "intercept_conf_int_2012 = np.percentile(bs_intercept_reps_2012, [2.5, 97.5])\n",
    "\n",
    "\n",
    "# Print the results\n",
    "print('1975: slope =', slope_1975,\n",
    "      'conf int =', slope_conf_int_1975)\n",
    "print('1975: intercept =', intercept_1975,\n",
    "      'conf int =', intercept_conf_int_1975)\n",
    "print('2012: slope =', slope_2012,\n",
    "      'conf int =', slope_conf_int_2012)\n",
    "print('2012: intercept =', intercept_2012,\n",
    "      'conf int =', intercept_conf_int_2012)"
   ]
  },
  {
   "cell_type": "markdown",
   "id": "f3844254-a79a-4847-9a6e-846db02ce1de",
   "metadata": {},
   "source": [
    "### Displaying the linear regression results"
   ]
  },
  {
   "cell_type": "markdown",
   "id": "dbf62d0a-a877-4d98-bd57-5ce9c44b81ad",
   "metadata": {},
   "source": [
    "##### Generate the x-values for the bootstrap lines using np.array(). They should consist of 10 mm and 17 mm.\n",
    "##### Write a for loop to plot 100 of the bootstrap lines for the 1975 and 2012 data sets. The lines for the 1975 data set should be 'blue' and those for the 2012 data set should be 'red'.\n",
    "##### Hit submit to view the plot!"
   ]
  },
  {
   "cell_type": "code",
   "execution_count": null,
   "id": "d2be8e56-e26d-4001-908d-d7df7d55b62d",
   "metadata": {},
   "outputs": [],
   "source": [
    "# Make scatter plot of 1975 data\n",
    "_ = plt.plot(bl_1975, bd_1975, marker='.',\n",
    "             linestyle='none', color='blue', alpha=0.5)\n",
    "\n",
    "# Make scatter plot of 2012 data\n",
    "_ = plt.plot(bl_2012, bd_2012, marker='.',\n",
    "             linestyle='none', color='red', alpha=0.5)\n",
    "\n",
    "# Label axes and make legend\n",
    "_ = plt.xlabel('beak length (mm)')\n",
    "_ = plt.ylabel('beak depth (mm)')\n",
    "_ = plt.legend(('1975', '2012'), loc='upper left')\n",
    "\n",
    "# Generate x-values for bootstrap lines: x\n",
    "x = np.array([10, 17])\n",
    "\n",
    "# Plot the bootstrap lines\n",
    "for i in range(100):\n",
    "    plt.plot(x, bs_slope_reps_1975[i] * x + bs_intercept_reps_1975[i],\n",
    "             linewidth=0.5, alpha=0.2, color='blue')\n",
    "    plt.plot(x, bs_slope_reps_2012[i] * x + bs_intercept_reps_2012[i],\n",
    "             linewidth=0.5, alpha=0.2, color='red')\n",
    "\n",
    "# Draw the plot again\n",
    "plt.show()"
   ]
  },
  {
   "cell_type": "markdown",
   "id": "8106f144-f641-4e58-86bd-acfdc1ca14d4",
   "metadata": {},
   "source": [
    "### Beak length to depth ratio"
   ]
  },
  {
   "cell_type": "markdown",
   "id": "c6840f76-1323-474a-b371-264dcbd6531c",
   "metadata": {},
   "source": [
    "##### Make arrays of the beak length to depth ratio of each bird for 1975 and for 2012.\n",
    "##### Compute the mean of the length to depth ratio for 1975 and for 2012.\n",
    "##### Generate 10,000 bootstrap replicates each for the mean ratio for 1975 and 2012 using your draw_bs_reps() function.\n",
    "##### Get a 99% bootstrap confidence interval for the length to depth ratio for 1975 and 2012.\n",
    "##### Print the results."
   ]
  },
  {
   "cell_type": "code",
   "execution_count": null,
   "id": "b9a11194-13cb-4bd3-b62c-25dcf20c289c",
   "metadata": {},
   "outputs": [],
   "source": [
    "# Compute length-to-depth ratios\n",
    "ratio_1975 = bl_1975/bd_1975\n",
    "ratio_2012 = bl_2012/bd_2012\n",
    "\n",
    "# Compute means\n",
    "mean_ratio_1975 = np.mean(ratio_1975)\n",
    "mean_ratio_2012 = np.mean(ratio_2012)\n",
    "\n",
    "# Generate bootstrap replicates of the means\n",
    "bs_replicates_1975 = draw_bs_reps(ratio_1975, np.mean, 10000)\n",
    "bs_replicates_2012 = draw_bs_reps(ratio_2012, np.mean, 10000)\n",
    "\n",
    "# Compute the 99% confidence intervals\n",
    "conf_int_1975 = np.percentile(bs_replicates_1975,[0.5, 99.5] )\n",
    "conf_int_2012 = np.percentile(bs_replicates_2012,[0.5, 99.5] )\n",
    "\n",
    "# Print the results\n",
    "print('1975: mean ratio =', mean_ratio_1975,\n",
    "      'conf int =', conf_int_1975)\n",
    "print('2012: mean ratio =', mean_ratio_2012,\n",
    "      'conf int =', conf_int_2012)\n"
   ]
  },
  {
   "cell_type": "markdown",
   "id": "4616f6df-defb-4798-8100-2585a63ce938",
   "metadata": {},
   "source": [
    "### EDA of heritability"
   ]
  },
  {
   "cell_type": "markdown",
   "id": "d0dc5e94-2722-456a-8f82-e75dcbf89156",
   "metadata": {},
   "source": [
    "##### Generate scatter plots for both species. Display the data for G. fortis in blue and G. scandens in red.\n",
    "##### Set the axis labels, make a legend, and show the plot."
   ]
  },
  {
   "cell_type": "code",
   "execution_count": null,
   "id": "566e9940-1b55-4477-9d5e-d178707836e8",
   "metadata": {},
   "outputs": [],
   "source": [
    "# Make scatter plots\n",
    "_ = plt.plot(bd_parent_fortis, bd_offspring_fortis,\n",
    "             marker='.', linestyle='none', color='blue', alpha=0.5)\n",
    "_ = plt.plot(bd_parent_scandens, bd_offspring_scandens,\n",
    "             marker='.', linestyle='none', color='red', alpha=0.5)\n",
    "\n",
    "# Label axes\n",
    "_ = plt.xlabel('parental beak depth (mm)')\n",
    "_ = plt.ylabel('offspring beak depth (mm)')\n",
    "\n",
    "# Add legend\n",
    "_ = plt.legend(('G. fortis', 'G. scandens'), loc='lower right')\n",
    "\n",
    "# Show plot\n",
    "plt.show()\n"
   ]
  },
  {
   "cell_type": "markdown",
   "id": "17358178-40b4-4aef-b753-0a105b582cb9",
   "metadata": {},
   "source": [
    "### Correlation of offspring and parental data"
   ]
  },
  {
   "cell_type": "markdown",
   "id": "6be57f24-079b-4b90-b735-254c73a47148",
   "metadata": {},
   "source": [
    "##### Set up an array of indices to sample from. (Remember, when doing pairs bootstrap, we randomly choose indices and use those to get the pairs.)\n",
    "##### Initialize the array of bootstrap replicates. This should be a one-dimensional array of length size.\n",
    "##### Write a for loop to draw the samples.\n",
    "##### Randomly choose indices from the array of indices you previously set up.\n",
    "##### Extract x values and y values from the input array using the indices you just chose to generate a bootstrap sample.\n",
    "##### Use func to compute the statistic of interest from the bootstrap samples of x and y and store it in your array of bootstrap replicates.\n",
    "##### Return the array of bootstrap replicates."
   ]
  },
  {
   "cell_type": "code",
   "execution_count": null,
   "id": "d4797f44-be89-4063-b245-2cbb17a079d5",
   "metadata": {},
   "outputs": [],
   "source": [
    "def draw_bs_pairs(x, y, func, size=1):\n",
    "    \"\"\"Perform pairs bootstrap for a single statistic.\"\"\"\n",
    "\n",
    "    # Set up array of indices to sample from: inds\n",
    "    inds = np.arange(len(x))\n",
    "\n",
    "    # Initialize replicates: bs_replicates\n",
    "    bs_replicates = np.empty(size)\n",
    "\n",
    "    # Generate replicates\n",
    "    for i in range(size):\n",
    "        bs_inds = np.random.choice(inds, size=len(inds))\n",
    "        bs_x, bs_y = x[bs_inds], y[bs_inds]\n",
    "        bs_replicates[i] = func(bs_x, bs_y)\n",
    "\n",
    "    return bs_replicates"
   ]
  },
  {
   "cell_type": "markdown",
   "id": "10f758f2-816a-4afe-92c6-bfbbacaae225",
   "metadata": {},
   "source": [
    "### Pearson correlation of offspring and parental data"
   ]
  },
  {
   "cell_type": "markdown",
   "id": "eef4730e-6bc4-4281-bafd-9876e1f0b88f",
   "metadata": {},
   "source": [
    "##### Use the pearson_r() function you wrote in the prequel to this course to compute the Pearson correlation coefficient for G. scandens and G. fortis.\n",
    "##### Acquire 1000 pairs bootstrap replicates of the Pearson correlation coefficient using the draw_bs_pairs() function you wrote in the previous exercise for G. scandens and G. fortis.\n",
    "##### Compute the 95% confidence interval for both using your bootstrap replicates."
   ]
  },
  {
   "cell_type": "code",
   "execution_count": null,
   "id": "649cfc40-c5b2-42cf-9470-f2602170473a",
   "metadata": {},
   "outputs": [],
   "source": [
    "# Compute the Pearson correlation coefficients\n",
    "r_scandens = pearson_r(bd_parent_scandens,bd_offspring_scandens)\n",
    "r_fortis = pearson_r(bd_parent_fortis,bd_offspring_fortis)\n",
    "\n",
    "# Acquire 1000 bootstrap replicates of Pearson r\n",
    "bs_replicates_scandens = draw_bs_pairs(bd_parent_scandens,bd_offspring_scandens, pearson_r, 1000)\n",
    "\n",
    "bs_replicates_fortis = draw_bs_pairs(bd_parent_fortis,bd_offspring_fortis,pearson_r, 1000)\n",
    "\n",
    "\n",
    "# Compute 95% confidence intervals\n",
    "conf_int_scandens = np.percentile(bs_replicates_scandens, [2.5, 97.5])\n",
    "conf_int_fortis = np.percentile(bs_replicates_fortis, [2.5, 97.5])\n",
    "\n",
    "# Print results\n",
    "print('G. scandens:', r_scandens, conf_int_scandens)\n",
    "print('G. fortis:', r_fortis, conf_int_fortis)\n"
   ]
  },
  {
   "cell_type": "markdown",
   "id": "1b451335-4abf-4fc5-b31d-adbaf45f66a5",
   "metadata": {},
   "source": [
    "### Measuring heritability"
   ]
  },
  {
   "cell_type": "markdown",
   "id": "a843ee82-e995-409b-aa70-67999838b6f6",
   "metadata": {},
   "source": [
    "##### Write a function heritability(parents, offspring) that computes heritability defined as the ratio of the covariance of the trait in parents and offspring divided by the variance of the trait in the parents. Hint: Remind yourself of the np.cov() function we covered in the prequel to this course.\n",
    "##### Use this function to compute the heritability for G. scandens and G. fortis.\n",
    "##### Acquire 1000 bootstrap replicates of the heritability using pairs bootstrap for G. scandens and G. fortis.\n",
    "##### Compute the 95% confidence interval for both using your bootstrap replicates.\n",
    "##### Print the results."
   ]
  },
  {
   "cell_type": "code",
   "execution_count": null,
   "id": "3d734170-0043-49d3-8934-5899a38b7044",
   "metadata": {},
   "outputs": [],
   "source": [
    "def heritability(parents, offspring):\n",
    "    \"\"\"Compute the heritability from parent and offspring samples.\"\"\"\n",
    "    covariance_matrix = np.cov(parents, offspring)\n",
    "    return covariance_matrix[0, 1] / covariance_matrix[0,0]\n",
    "\n",
    "# Compute the heritability\n",
    "heritability_scandens = heritability(bd_parent_scandens, bd_offspring_scandens)\n",
    "heritability_fortis = heritability(bd_parent_fortis, bd_offspring_fortis)\n",
    "\n",
    "# Acquire 1000 bootstrap replicates of heritability\n",
    "replicates_scandens = draw_bs_pairs(bd_parent_scandens, bd_offspring_scandens, heritability, size=1000)\n",
    "replicates_fortis = draw_bs_pairs(bd_parent_fortis, bd_offspring_fortis, heritability, size=1000)\n",
    "\n",
    "# Compute 95% confidence intervals\n",
    "conf_int_scandens = np.percentile(replicates_scandens, [2.5, 97.5])\n",
    "conf_int_fortis = np.percentile(replicates_fortis, [2.5, 97.5])\n",
    "\n",
    "# Print results\n",
    "print('G. scandens:', heritability_scandens, conf_int_scandens)\n",
    "print('G. fortis:', heritability_fortis, conf_int_fortis)\n"
   ]
  },
  {
   "cell_type": "markdown",
   "id": "724d13dc-f71d-4395-8a2e-fe875d1589cb",
   "metadata": {},
   "source": [
    "### Is beak depth heritable at all in G. scandens?"
   ]
  },
  {
   "cell_type": "markdown",
   "id": "e7485fa5-bbc0-4bb8-b534-9dd1906bc20f",
   "metadata": {
    "tags": []
   },
   "source": [
    "##### Initialize your array of replicates of heritability. We will take 10,000 pairs permutation replicates.\n",
    "##### Write a for loop to generate your replicates.\n",
    "##### Permute the bd_parent_scandens array using np.random.permutation().\n",
    "##### Compute the heritability between the permuted array and the bd_offspring_scandens array using the heritability() function you wrote in the last exercise. Store the result in the replicates array.\n",
    "##### Compute the p-value as the number of replicates that are greater than the observed heritability_scandens you computed in the last exercise."
   ]
  },
  {
   "cell_type": "code",
   "execution_count": null,
   "id": "2a120c71-5f06-44a3-ab08-6b19e2a29eb8",
   "metadata": {},
   "outputs": [],
   "source": [
    "# Initialize array of replicates: perm_replicates\n",
    "perm_replicates = np.empty(10000)\n",
    "\n",
    "# Draw replicates\n",
    "for i in range(10000):\n",
    "    # Permute parent beak depths\n",
    "    bd_parent_permuted = np.random.permutation(bd_parent_scandens)\n",
    "    perm_replicates[i] = heritability(bd_parent_permuted,bd_offspring_scandens)\n",
    "\n",
    "\n",
    "# Compute p-value: p\n",
    "p = np.sum(perm_replicates >= heritability_scandens) / len(perm_replicates)\n",
    "\n",
    "# Print the p-value\n",
    "print('p-val =', p)"
   ]
  }
 ],
 "metadata": {
  "kernelspec": {
   "display_name": "Python 3 (ipykernel)",
   "language": "python",
   "name": "python3"
  },
  "language_info": {
   "codemirror_mode": {
    "name": "ipython",
    "version": 3
   },
   "file_extension": ".py",
   "mimetype": "text/x-python",
   "name": "python",
   "nbconvert_exporter": "python",
   "pygments_lexer": "ipython3",
   "version": "3.9.13"
  }
 },
 "nbformat": 4,
 "nbformat_minor": 5
}
