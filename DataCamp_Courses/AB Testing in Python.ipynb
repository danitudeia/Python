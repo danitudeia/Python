{
 "cells": [
  {
   "cell_type": "markdown",
   "id": "c43e4a22-6915-4356-8a9b-ee21622f2266",
   "metadata": {},
   "source": [
    "### Randomization effects"
   ]
  },
  {
   "cell_type": "markdown",
   "id": "7fac1a55-a83d-4ac4-88ff-4c0eb189b597",
   "metadata": {},
   "source": [
    "##### Use the pandas .value_counts() method to determine the normalized distribution of browser counts in the dataset."
   ]
  },
  {
   "cell_type": "code",
   "execution_count": null,
   "id": "b5e9c9fd-c57d-4355-ad83-0f0bee436baa",
   "metadata": {},
   "outputs": [],
   "source": [
    "# Determine the normalized distribution of browser counts\n",
    "checkout['browser'].value_counts(normalize = True)"
   ]
  },
  {
   "cell_type": "markdown",
   "id": "fd67b258-a723-4f51-b8f8-b08f1c66fbdd",
   "metadata": {},
   "source": [
    "##### Take a random sample of 2,000 data points and assign it to the sample_df variable, then check the distribution of browser types in the sampled DataFrame."
   ]
  },
  {
   "cell_type": "code",
   "execution_count": null,
   "id": "9779b26b-0a3d-4f3e-b987-7117a3036e05",
   "metadata": {},
   "outputs": [],
   "source": [
    "# Determine the normalized distribution of browser counts\n",
    "checkout['browser'].value_counts(normalize = True)\n",
    "\n",
    "# Draw a random sample of rows\n",
    "sample_df = checkout.sample(n = 2000)"
   ]
  },
  {
   "cell_type": "markdown",
   "id": "81a63bd8-70e2-4cbc-976a-a2f09e450a0b",
   "metadata": {},
   "source": [
    "##### Use pandas .value_counts() method to check the counts of browser types in the sampled DataFrame."
   ]
  },
  {
   "cell_type": "code",
   "execution_count": null,
   "id": "c10e01f5-addf-4016-ab93-0a142f8e0fe8",
   "metadata": {},
   "outputs": [],
   "source": [
    "# Determine the normalized distribution of browser counts\n",
    "checkout['browser'].value_counts(normalize = True)\n",
    "\n",
    "# Draw a random sample of rows\n",
    "sample_df = checkout.sample(n = 2000)\n",
    "\n",
    "# Check the counts distribution of sampled users' browsers\n",
    "sample_df['browser'].value_counts(normalize = True)"
   ]
  },
  {
   "cell_type": "markdown",
   "id": "36489356-60c3-452d-be00-c346ab2bb1c6",
   "metadata": {},
   "source": [
    "##### Use the pandas .groupby() method to check the counts of browser types per checkout_page."
   ]
  },
  {
   "cell_type": "code",
   "execution_count": null,
   "id": "6dca4d36-af02-40cd-942f-17e1b2f69a9d",
   "metadata": {},
   "outputs": [],
   "source": [
    "# Determine the normalized distribution of browser counts\n",
    "checkout['browser'].value_counts(normalize = True)\n",
    "\n",
    "# Draw a random sample of rows\n",
    "sample_df = checkout.sample(n = 2000)\n",
    "\n",
    "# Check the counts distribution of sampled users' browsers\n",
    "sample_df['browser'].value_counts(normalize = True)\n",
    "\n",
    "# Check the counts distribution of browsers across checkout pages\n",
    "checkout.groupby('checkout_page')['browser'].value_counts(normalize = True)"
   ]
  },
  {
   "cell_type": "markdown",
   "id": "0389ae31-bbf4-4e0a-a2cc-afa609e4036c",
   "metadata": {},
   "source": [
    "### Correlation visualization"
   ]
  },
  {
   "cell_type": "markdown",
   "id": "417e735c-2239-4da7-87c2-015a0c9eb593",
   "metadata": {},
   "source": [
    "##### Import the Seaborn library and give it the alias sns.Inspect the relationship of the Serial No., TOEFL Score, SOP, Chance of Admit variables visually, in that order, using a grid of scatter plots."
   ]
  },
  {
   "cell_type": "code",
   "execution_count": null,
   "id": "9ab0cf9e-65c0-4c43-864f-6b9bf47cca23",
   "metadata": {},
   "outputs": [],
   "source": [
    "# Import seaborn for visualization\n",
    "import seaborn as sns\n",
    "\n",
    "# Visualize the variables in a pairplot\n",
    "sns.pairplot(admissions[['Serial No.', 'TOEFL Score', 'SOP', 'Chance of Admit']])\n",
    "plt.show()"
   ]
  },
  {
   "cell_type": "markdown",
   "id": "eeb1f873-27e5-49f0-b266-02ddc4200925",
   "metadata": {},
   "source": [
    "##### Examine the relationship's strength and direction using Pearson's correlation coefficients between the Serial No., TOEFL Score, SOP, Chance of Admit variables, in that order."
   ]
  },
  {
   "cell_type": "code",
   "execution_count": null,
   "id": "94fc4d53-1c57-4419-ba80-c77ba0b49662",
   "metadata": {},
   "outputs": [],
   "source": [
    "# Import seaborn for visualization\n",
    "import seaborn as sns\n",
    "\n",
    "# Print Pearson's correlation coefficients\n",
    "print(admissions[['Serial No.', 'TOEFL Score', 'SOP','Chance of Admit']].corr())"
   ]
  },
  {
   "cell_type": "markdown",
   "id": "d600bf3e-d246-4906-8898-036ef231162d",
   "metadata": {},
   "source": [
    "##### Visualize Pearson's correlation coefficients in a heat map with annotated coefficients."
   ]
  },
  {
   "cell_type": "code",
   "execution_count": null,
   "id": "4cd03e4e-833b-49f9-b30d-55a53f43a3a6",
   "metadata": {},
   "outputs": [],
   "source": [
    "# Import seaborn for visualization\n",
    "import seaborn as sns\n",
    "\n",
    "# Visualize the coefficients in a heatmap\n",
    "sns.heatmap(admissions[['Serial No.', 'TOEFL Score', 'SOP','Chance of Admit']].corr(), annot = True)\n",
    "plt.show()"
   ]
  },
  {
   "cell_type": "markdown",
   "id": "5e0cfbf6-320f-426a-9a50-3248b06845f3",
   "metadata": {},
   "source": [
    "### Means and proportions"
   ]
  },
  {
   "cell_type": "markdown",
   "id": "dfebf1fc-16ff-4e44-81fe-0eea60cab718",
   "metadata": {},
   "source": [
    "##### Calculate the mean order_value for each of the checkout pages."
   ]
  },
  {
   "cell_type": "code",
   "execution_count": null,
   "id": "a57de10f-988f-4b02-887c-b5e316123ab3",
   "metadata": {},
   "outputs": [],
   "source": [
    "# Calculate the mean order value for each group\n",
    "checkout.groupby('checkout_page')['order_value'].mean()"
   ]
  },
  {
   "cell_type": "markdown",
   "id": "d09e8ab3-2076-46ef-84ba-c6a52092e7bc",
   "metadata": {},
   "source": [
    "##### Calculate the proportion of users who purchased an item for each checkout_page."
   ]
  },
  {
   "cell_type": "code",
   "execution_count": null,
   "id": "bcef0bea-c676-4d35-88e2-aa305c799c8d",
   "metadata": {},
   "outputs": [],
   "source": [
    "# Calculate the proportion of users who purchased for each page\n",
    "checkout.groupby('checkout_page')['purchased'].mean()"
   ]
  },
  {
   "cell_type": "markdown",
   "id": "99c90940-959a-4998-b76c-ce26a86274ee",
   "metadata": {},
   "source": [
    "##### Calculate the proportion of users who purchased an item for each checkout_page and the mean order_value."
   ]
  },
  {
   "cell_type": "code",
   "execution_count": null,
   "id": "cdffed95-0451-4878-a369-ba8d810bb993",
   "metadata": {},
   "outputs": [],
   "source": [
    "# Calculate the proportion of users who purchased and the mean order value\n",
    "checkout.groupby('checkout_page')[['purchased', 'order_value']].mean()"
   ]
  },
  {
   "cell_type": "markdown",
   "id": "5438b75c-0384-46b4-a220-cd24f135c9bc",
   "metadata": {},
   "source": [
    "### Ad impressions metrics"
   ]
  },
  {
   "cell_type": "markdown",
   "id": "baeae7df-3a6a-4f9d-87b8-c365ec041436",
   "metadata": {},
   "source": [
    "##### Use DataFrame filtering to only include the rows where users responded to the ad with a 'yes' or a 'no', and store the result in a new variable AdSmart_Responded."
   ]
  },
  {
   "cell_type": "code",
   "execution_count": null,
   "id": "0311c252-8043-4e73-81ef-883ddf0cf48d",
   "metadata": {},
   "outputs": [],
   "source": [
    "# Filter on users who responded \n",
    "AdSmart_Responded = AdSmart[(AdSmart['yes'] == 1) | (AdSmart['no'] == 1)]"
   ]
  },
  {
   "cell_type": "markdown",
   "id": "2771c296-4f8b-48af-ab28-e47d077a1deb",
   "metadata": {},
   "source": [
    "##### Explore AdSmart_Responded and find the breakdown of counts per experiment of those who responded with yes after the date '2020-07-05'?"
   ]
  },
  {
   "cell_type": "code",
   "execution_count": null,
   "id": "04fa63e7-8ca4-48cf-ada4-ebfe5bb8a9b5",
   "metadata": {},
   "outputs": [],
   "source": [
    "# Filter on users who responded \n",
    "AdSmart_Responded = AdSmart[(AdSmart['yes'] == 1) | (AdSmart['no'] == 1)]\n",
    "\n",
    "# Find the counts of yes after 2020-07-05 per experiment\n",
    "AdSmart_Responded[(AdSmart_Responded['date'] > '2020-07-05')].groupby('experiment').count()"
   ]
  },
  {
   "cell_type": "markdown",
   "id": "014f5063-6039-4ceb-aa5f-d6ae5b64b09c",
   "metadata": {},
   "source": [
    "##### Calculate the proportion of users who responded yes for each experiment type separately."
   ]
  },
  {
   "cell_type": "code",
   "execution_count": null,
   "id": "2e0c010c-6419-4e8a-bc41-caf9f77898a2",
   "metadata": {},
   "outputs": [],
   "source": [
    "# Filter on users who responded \n",
    "AdSmart_Responded = AdSmart[(AdSmart['yes'] == 1) | (AdSmart['no'] == 1)]\n",
    "\n",
    "# Find the counts of yes after 2020-07-05 per experiment\n",
    "AdSmart_Responded[(AdSmart_Responded['date'] > '2020-07-05')].groupby('experiment').count()\n",
    "\n",
    "# Proportion of users who responded 'yes' by experiment type\n",
    "AdSmart_Responded.groupby('experiment')['yes'].mean()"
   ]
  },
  {
   "cell_type": "markdown",
   "id": "6ed0ed85-8392-4614-a53e-de977bd9858b",
   "metadata": {},
   "source": [
    "##### Calculate the proportion of users who responded yes by experiment type and platform OS."
   ]
  },
  {
   "cell_type": "code",
   "execution_count": null,
   "id": "060c093d-1b22-4da3-82a3-35c45ed8ecf9",
   "metadata": {},
   "outputs": [],
   "source": [
    "# Filter on users who responded \n",
    "AdSmart_Responded = AdSmart[(AdSmart['yes'] == 1) | (AdSmart['no'] == 1)]\n",
    "\n",
    "# Find the counts of yes after 2020-07-05 per experiment\n",
    "AdSmart_Responded[(AdSmart_Responded['date'] > '2020-07-05')].groupby('experiment').count()\n",
    "\n",
    "# Proportion of users who responded 'yes' by experiment type\n",
    "AdSmart_Responded.groupby('experiment')['yes'].mean()\n",
    "\n",
    "# Proportion of users who responded 'yes' by experiment type and platform OS\n",
    "AdSmart_Responded.groupby(['experiment','platform_os'])['yes'].mean()"
   ]
  },
  {
   "cell_type": "markdown",
   "id": "4bff9fed-fcf7-4a29-904d-4fd68b4ed53b",
   "metadata": {},
   "source": [
    "### Plotting distributions"
   ]
  },
  {
   "cell_type": "markdown",
   "id": "dc567509-ddca-4960-9e1a-4f41ab6d5eb9",
   "metadata": {},
   "source": [
    "##### Plot a binomial distribution with probability of success p = 0.6 and number of trials n = 3000."
   ]
  },
  {
   "cell_type": "code",
   "execution_count": null,
   "id": "50303901-aa27-436a-9795-20d85cf8ba24",
   "metadata": {},
   "outputs": [],
   "source": [
    "from scipy.stats import binom \n",
    "\n",
    "# Plot a binomial distribution\n",
    "p = 0.6\n",
    "n = 3000 \n",
    "\n",
    "x = np.arange(n*p - 100, n*p + 100) \n",
    "binom_a = binom.pmf(x, n, p)\n",
    "\n",
    "plt.bar(x, binom_a)\n",
    "plt.xlabel('Purchased')\n",
    "plt.ylabel('PMF')\n",
    "plt.show()"
   ]
  },
  {
   "cell_type": "markdown",
   "id": "369f0449-f410-4095-9fee-65befad918dc",
   "metadata": {},
   "source": [
    "##### Plot a normal distribution with mean = 0 and standard deviation = 1."
   ]
  },
  {
   "cell_type": "code",
   "execution_count": null,
   "id": "7b49019e-7b13-4e51-bc7c-9767315bf16e",
   "metadata": {},
   "outputs": [],
   "source": [
    "from scipy.stats import norm\n",
    "import seaborn as sns\n",
    "\n",
    "# Plot a normal distribution\n",
    "mean = 0\n",
    "sd = 1\n",
    "\n",
    "x = np.linspace(-4, 4, 500)\n",
    "norm_a = norm.pdf(x, mean, sd)\n",
    "\n",
    "sns.lineplot(x, norm_a)\n",
    "plt.xlabel('x')\n",
    "plt.ylabel('PDF')\n",
    "plt.show()"
   ]
  },
  {
   "cell_type": "markdown",
   "id": "4f0a85ff-5457-4709-87a5-d5de32b27060",
   "metadata": {},
   "source": [
    "### Central limit theorem for means"
   ]
  },
  {
   "cell_type": "markdown",
   "id": "510c7734-8cb5-4285-a0f2-b8e630d4ca74",
   "metadata": {},
   "source": [
    "##### Create an empty list sampled_means to store the sampled means, then create a for loop to simulate the means taken from 1000 samples of size 5 each with replacement and store the results in sample."
   ]
  },
  {
   "cell_type": "code",
   "execution_count": null,
   "id": "a937d0f4-bedd-437f-a752-854c27fac003",
   "metadata": {},
   "outputs": [],
   "source": [
    "np.random.seed(47)\n",
    "\n",
    "# Create an empty list, then a for loop for 1000 samples of size 5\n",
    "sampled_means = []\n",
    "for i in range(1000):\n",
    "    sample = checkout[checkout['checkout_page']=='A']['order_value'].sample(5, replace=True)"
   ]
  },
  {
   "cell_type": "markdown",
   "id": "0a6b5f3e-50c0-4e91-a82e-bcbd59d5df53",
   "metadata": {},
   "source": [
    "##### Calculate the sample mean for each sample and append to the sampled_means list."
   ]
  },
  {
   "cell_type": "code",
   "execution_count": null,
   "id": "f00a6171-0e8f-4ac8-8bce-fe65070fa5a9",
   "metadata": {},
   "outputs": [],
   "source": [
    "np.random.seed(47)\n",
    "\n",
    "# Create an empty list, then a for loop for 1000 samples of size 5\n",
    "sampled_means = []\n",
    "\n",
    "for i in range(1000):\n",
    "    sample = checkout[checkout['checkout_page']=='A']['order_value'].sample(5, replace=True)\n",
    "    # Get the sample mean and append to list\n",
    "    sample_mean = np.mean(sample)\n",
    "    sampled_means.append(sample_mean)"
   ]
  },
  {
   "cell_type": "markdown",
   "id": "dd35d890-4b84-4563-a74c-21953bdd35ed",
   "metadata": {},
   "source": [
    "##### Plot the distribution of the sampled_means list."
   ]
  },
  {
   "cell_type": "code",
   "execution_count": null,
   "id": "0a7e0323-2dcc-4f3d-bf67-73114048da37",
   "metadata": {},
   "outputs": [],
   "source": [
    "np.random.seed(47)\n",
    "\n",
    "# Create an empty list, then a for loop for 1000 samples of size 5\n",
    "sampled_means = []\n",
    "\n",
    "for i in range(1000):\n",
    "    sample = checkout[checkout['checkout_page']=='A']['order_value'].sample(5, replace=True)\n",
    "    # Get the sample mean and append to list\n",
    "    sample_mean = np.mean(sample)\n",
    "    sampled_means.append(sample_mean)\n",
    "    \n",
    "# Plot distribution\n",
    "sns.displot(sampled_means)\n",
    "plt.show()"
   ]
  },
  {
   "cell_type": "markdown",
   "id": "e538de03-158b-4c19-8fc6-b8ecc700b3ba",
   "metadata": {},
   "source": [
    "### Plotting power curves"
   ]
  },
  {
   "cell_type": "markdown",
   "id": "0f7fc20a-0ad0-4c17-bfa4-e668a6e58156",
   "metadata": {},
   "source": [
    "##### Create NumPy arrays for the sample_sizes ranging from 10 to 600, and effect_sizes of 0.1, 0.2, and 0.3."
   ]
  },
  {
   "cell_type": "code",
   "execution_count": null,
   "id": "615a4080-b7f9-49bd-9ba7-a8bcdebbca2b",
   "metadata": {},
   "outputs": [],
   "source": [
    "from statsmodels.stats.power import TTestIndPower\n",
    "\n",
    "# Specify parameters for power analysis\n",
    "sample_sizes = np.array(range(10,600))\n",
    "effect_sizes = np.array([0.1, 0.2,0.3])"
   ]
  },
  {
   "cell_type": "markdown",
   "id": "5cd692a9-af68-41e4-9377-0102ca14fd68",
   "metadata": {},
   "source": [
    "##### Plot the power curves for the defined sample_sizes and effect_sizes."
   ]
  },
  {
   "cell_type": "code",
   "execution_count": null,
   "id": "3f496652-fc6f-47ab-8d11-c8ca13f56646",
   "metadata": {},
   "outputs": [],
   "source": [
    "from statsmodels.stats.power import TTestIndPower\n",
    "\n",
    "# Specify parameters for power analysis\n",
    "sample_sizes = np.array(range(10, 600))\n",
    "effect_sizes = np.array([0.1, 0.2, 0.3])\n",
    "\n",
    "# Plot power curves\n",
    "TTestIndPower().plot_power(nobs=sample_sizes, effect_size=effect_sizes)\n",
    "plt.show()"
   ]
  },
  {
   "cell_type": "markdown",
   "id": "7221d917-b243-4e40-99c3-793b9e6f33cc",
   "metadata": {},
   "source": [
    "##### Adjust the NumPy arrays for the sample_sizes ranging from 10 to 2000, and effect_sizes of 0.1, 0.2, and 0.3.\n"
   ]
  },
  {
   "cell_type": "code",
   "execution_count": null,
   "id": "f41d61ce-4d16-419e-96e2-42416ddc0a62",
   "metadata": {},
   "outputs": [],
   "source": [
    "from statsmodels.stats.power import TTestIndPower\n",
    "\n",
    "# Adjust the parameters for power analysis\n",
    "sample_sizes = np.array(range(10,2000))\n",
    "effect_sizes = np.array([0.1, 0.2, 0.3])\n",
    "\n",
    "# Plot power curves\n",
    "TTestIndPower().plot_power(nobs=sample_sizes, effect_size=effect_sizes)\n",
    "plt.show()"
   ]
  },
  {
   "cell_type": "markdown",
   "id": "55429f3c-c165-41e4-a85d-eb3b3e1550ce",
   "metadata": {},
   "source": [
    "### Sample size for means"
   ]
  },
  {
   "cell_type": "markdown",
   "id": "801e5b00-d08c-4756-9f65-372961c92569",
   "metadata": {},
   "source": [
    "##### Calculate the mean and standard deviation of order_value column of checkout_page 'B'."
   ]
  },
  {
   "cell_type": "code",
   "execution_count": null,
   "id": "75216041-4876-4dd5-ba02-6fba77775181",
   "metadata": {},
   "outputs": [],
   "source": [
    "# Calculate and print the baseline mean and standard deviation\n",
    "mean_B = checkout[checkout['checkout_page']=='B']['order_value'].mean()\n",
    "print(mean_B)\n",
    "\n",
    "std_B = checkout[checkout['checkout_page']=='B']['order_value'].std()\n",
    "print(std_B)"
   ]
  },
  {
   "cell_type": "markdown",
   "id": "8e72c637-f753-47f6-a841-4fa42011124a",
   "metadata": {},
   "source": [
    "##### Assign the mean_new value of $31 as our practical significance level and use the formula shown in the video for calculating the standard effect size for means."
   ]
  },
  {
   "cell_type": "code",
   "execution_count": null,
   "id": "08bb5af4-472c-47ec-ab93-a96a59ccb5a1",
   "metadata": {},
   "outputs": [],
   "source": [
    "# Calculate and print the baseline mean and standard deviation\n",
    "mean_B = checkout[checkout['checkout_page']=='B']['order_value'].mean()\n",
    "print(mean_B)\n",
    "\n",
    "std_B = checkout[checkout['checkout_page']=='B']['order_value'].std()\n",
    "print(std_B)\n",
    "\n",
    "# Define mean_new and calculate the standardized effect size\n",
    "mean_new = 31\n",
    "\n",
    "std_effect_size = (mean_new - mean_B) / std_B\n",
    "print(std_effect_size)"
   ]
  },
  {
   "cell_type": "markdown",
   "id": "195dcdbb-04d7-435e-b8c3-e6f2ca831817",
   "metadata": {},
   "source": [
    "##### Calculate the required sample size per group given the default parameters for power and significance level."
   ]
  },
  {
   "cell_type": "code",
   "execution_count": null,
   "id": "1fd1ec6d-c577-4b11-a915-85b025f424a5",
   "metadata": {},
   "outputs": [],
   "source": [
    "# Calculate and print the baseline mean and standard deviation\n",
    "mean_B = checkout[checkout['checkout_page']=='B']['order_value'].mean()\n",
    "print(mean_B)\n",
    "\n",
    "std_B = checkout[checkout['checkout_page']=='B']['order_value'].std()\n",
    "print(std_B)\n",
    "\n",
    "# Define mean_new and calculate the standardized effect size\n",
    "mean_new = 31\n",
    "\n",
    "std_effect_size=(mean_new-mean_B)/std_B\n",
    "print(std_effect_size)\n",
    "\n",
    "# Calculate the required sample size\n",
    "sample_size = power.TTestIndPower().solve_power(effect_size=std_effect_size, power=.80, alpha=.05, nobs1=None)\n",
    "\n",
    "print(sample_size)"
   ]
  },
  {
   "cell_type": "markdown",
   "id": "2a736068-b457-4bd9-bdf8-934a825d20f3",
   "metadata": {},
   "source": [
    "### Sample size for proportions"
   ]
  },
  {
   "cell_type": "markdown",
   "id": "72e426a9-ef53-4756-8b41-f52e00ae3404",
   "metadata": {},
   "source": [
    "##### Calculate the signup rate of landing_page 'A'."
   ]
  },
  {
   "cell_type": "code",
   "execution_count": null,
   "id": "26909cd8-7975-4960-8d5e-88101f4bb51c",
   "metadata": {},
   "outputs": [],
   "source": [
    "# Calculate the baseline signup rate for group A\n",
    "p_A = homepage[homepage['landing_page']=='A']['signup'].mean()\n",
    "print('Group A mean signup rate:', p_A)"
   ]
  },
  {
   "cell_type": "markdown",
   "id": "6523689d-bd61-4d4b-83ea-949ff1c18c6f",
   "metadata": {},
   "source": [
    "##### Use 7% as the minimum desired new signup rate p_new and calculate the standardized effect size."
   ]
  },
  {
   "cell_type": "code",
   "execution_count": null,
   "id": "c129eb6f-80ed-416c-8022-f01c4d3e3099",
   "metadata": {},
   "outputs": [],
   "source": [
    "# Calculate the baseline signup rate for group A\n",
    "p_A = homepage[homepage['landing_page']=='A']['signup'].mean()\n",
    "print('Group A mean signup rate:',p_A)\n",
    "\n",
    "# Define p_new and calculate standardized effect size\n",
    "p_new = 0.07\n",
    "\n",
    "effect_size_std = proportion_effectsize(p_new,p_A)\n",
    "print(effect_size_std)"
   ]
  },
  {
   "cell_type": "markdown",
   "id": "73e0a24a-711b-481c-a8ae-ebe7aa2bb30e",
   "metadata": {},
   "source": [
    "##### Calculate the required sample size per group given the default parameters for power and significance level."
   ]
  },
  {
   "cell_type": "code",
   "execution_count": null,
   "id": "6f2ae8a5-e390-43af-87c9-a11a05e6b40e",
   "metadata": {},
   "outputs": [],
   "source": [
    "# Calculate the baseline signup rate for group A\n",
    "p_A=homepage[homepage['landing_page']=='A']['signup'].mean()\n",
    "print('Group A mean signup rate:',p_A)\n",
    "\n",
    "# Define p_new and calculate standardized effect size\n",
    "p_new = 0.07\n",
    "\n",
    "effect_size_std = proportion_effectsize(p_new, p_A)\n",
    "print(effect_size_std)\n",
    "\n",
    "# Calculate the required sample size per group\n",
    "sample_size = power.TTestIndPower().solve_power(effect_size=effect_size_std, power=0.8, alpha=0.05, nobs1=None)\n",
    "\n",
    "print(round(sample_size, 1))"
   ]
  },
  {
   "cell_type": "markdown",
   "id": "e3a855f8-e602-4d3f-9bae-034d922f0eea",
   "metadata": {},
   "source": [
    "### Corrected p-values"
   ]
  },
  {
   "cell_type": "markdown",
   "id": "8b40bf80-8520-4d81-bc2a-cf8fd5b05c8b",
   "metadata": {},
   "source": [
    "##### Perform a Bonferroni correction to the list of p-values using alpha = 0.05."
   ]
  },
  {
   "cell_type": "code",
   "execution_count": null,
   "id": "a64ac268-c35c-4512-81d6-77fdbb22ece0",
   "metadata": {},
   "outputs": [],
   "source": [
    "import statsmodels.stats.multitest as smt\n",
    "\n",
    "pvals = [0.0126, 0.0005, 0.00007, 0.009]\n",
    "\n",
    "# Perform a Bonferroni correction and print the output\n",
    "corrected = smt.multipletests(pvals, alpha = 0.05, method = 'bonferroni')\n",
    "\n",
    "print('Significant Test:', corrected[0])\n",
    "print('Corrected P-values:', corrected[1])\n",
    "print('Bonferroni Corrected alpha: {:.4f}'.format(corrected[3]))"
   ]
  },
  {
   "cell_type": "markdown",
   "id": "de62abe9-888e-48d4-ae90-6c6b90bd9412",
   "metadata": {},
   "source": [
    "##### Perform a Sidak correction to the list of p-values using alpha = 0.05."
   ]
  },
  {
   "cell_type": "code",
   "execution_count": null,
   "id": "ebb1e51a-68f3-4f58-8404-549e86453eb3",
   "metadata": {},
   "outputs": [],
   "source": [
    "import statsmodels.stats.multitest as smt\n",
    "\n",
    "pvals=[0.0126, 0.0005, 0.00007, 0.009]\n",
    "\n",
    "# Perform a Sidak correction and print the output\n",
    "corrected = smt.multipletests(pvals, alpha = 0.05, method = 'sidak')\n",
    "\n",
    "print('Significant Test:', corrected[0])\n",
    "print('Corrected P-values:', corrected[1])\n",
    "print('Sidak Corrected alpha: {:.4f}'.format(corrected[3]))"
   ]
  },
  {
   "cell_type": "markdown",
   "id": "11d58d3f-dbef-438d-b5f7-b55593d9af8d",
   "metadata": {},
   "source": [
    "### Proportions EDA"
   ]
  },
  {
   "cell_type": "markdown",
   "id": "6aa8e820-fbab-4b83-811f-a246a6d7bd48",
   "metadata": {},
   "source": [
    "##### Calculate the mean, standard deviation and count of the purchased column by checkout_page in one line of code."
   ]
  },
  {
   "cell_type": "code",
   "execution_count": null,
   "id": "4a5a3c7d-f160-445a-b4d4-9306d00bda04",
   "metadata": {},
   "outputs": [],
   "source": [
    "# Calculate the mean, standard deviation and count\n",
    "checkout.groupby('checkout_page')['purchased'].agg({'mean','std','count'})"
   ]
  },
  {
   "cell_type": "markdown",
   "id": "74db3beb-c229-41b6-9208-71131668356e",
   "metadata": {},
   "source": [
    "##### Create a bar plot of average purchase rate per checkout_page."
   ]
  },
  {
   "cell_type": "code",
   "execution_count": null,
   "id": "762ac6da-e1e8-4446-9393-7949d0886dc6",
   "metadata": {},
   "outputs": [],
   "source": [
    "# Calculate the mean, standard deviation and count\n",
    "checkout.groupby('checkout_page')['purchased'].agg({'mean','std','count'})\n",
    "\n",
    "# Create a bar plot of average purchase rate per checkout page\n",
    "sns.barplot(x=checkout['checkout_page'], y=checkout['purchased'], estimator=np.mean)\n",
    "plt.ylim(0, 1)\n",
    "plt.title('Purchase Rate per Checkout Page Variant')\n",
    "plt.xlabel('Checkout Page Variant')\n",
    "plt.ylabel('Purchase Rate')\n",
    "plt.show()"
   ]
  },
  {
   "cell_type": "markdown",
   "id": "b4a42a7c-324e-4524-b668-e4691efaf350",
   "metadata": {},
   "source": [
    "##### Plot the proportion of 'no' responses over experiment duration per experiment variant in the AdSmart dataset."
   ]
  },
  {
   "cell_type": "code",
   "execution_count": null,
   "id": "1b2730f2-3aee-40ab-bd34-0238fe464809",
   "metadata": {},
   "outputs": [],
   "source": [
    "# Calculate the mean, standard deviation and count\n",
    "checkout.groupby('checkout_page')['purchased'].agg({'mean','std','count'})\n",
    "\n",
    "# Create a bar plot of average purchase rate per checkout page\n",
    "sns.barplot(x=checkout['checkout_page'], y=checkout['purchased'], estimator=np.mean)\n",
    "plt.ylim(0, 1)\n",
    "plt.title('Purchase Rate per Checkout Page Variant')\n",
    "plt.xlabel('Checkout Page Variant')\n",
    "plt.ylabel('Purchase Rate')\n",
    "\n",
    "# This code clears the bar plot\n",
    "plt.clf()\n",
    "\n",
    "# Plot the proportion of 'no' responses over experiment duration\n",
    "sns.lineplot(data=AdSmart, x='date', y='no', hue='experiment', ci=False)\n",
    "plt.show()"
   ]
  },
  {
   "cell_type": "markdown",
   "id": "cf46e4a6-52f5-4e1a-b92c-d6a852527c6e",
   "metadata": {},
   "source": [
    "### A/B test data cleaning"
   ]
  },
  {
   "cell_type": "markdown",
   "id": "00ee1bfa-f7d4-4781-9a97-b7cf01c3be08",
   "metadata": {},
   "source": [
    "##### Check for duplicate rows in the AdSmart dataset by printing number of rows."
   ]
  },
  {
   "cell_type": "code",
   "execution_count": null,
   "id": "85c58796-ac02-44b6-8978-fe924532ea7a",
   "metadata": {},
   "outputs": [],
   "source": [
    "# Check for duplicate rows due to logging issues \n",
    "print(len(AdSmart))\n",
    "print(len(AdSmart.drop_duplicates(keep='first')))"
   ]
  },
  {
   "cell_type": "markdown",
   "id": "9fd4385d-dc43-4f9f-928c-afeda92b85e3",
   "metadata": {},
   "source": [
    "##### Calculate the number of unique users in group B, then compute two different metrics: one looks at the unique users who signed up at least one time, and another that sums up all signups in the group."
   ]
  },
  {
   "cell_type": "code",
   "execution_count": null,
   "id": "91b47345-ab09-4dd8-b197-7c7b527b8619",
   "metadata": {},
   "outputs": [],
   "source": [
    "# Check for duplicate rows due to logging issues \n",
    "print(len(AdSmart))\n",
    "print(len(AdSmart.drop_duplicates(keep='first')))\n",
    "\n",
    "# Calculate the unique users in group B and compute the metrics\n",
    "print(homepage[homepage['landing_page'] == 'B']['user_id'].nunique())\n",
    "\n",
    "print(homepage[homepage['landing_page'] == 'B'].groupby('user_id')['signup'].max().sum())\n",
    "\n",
    "print(homepage[homepage['landing_page'] == 'B']['signup'].sum())"
   ]
  },
  {
   "cell_type": "markdown",
   "id": "7b09ff7f-8e66-4a60-adc1-0b17491c1928",
   "metadata": {},
   "source": [
    "### SRM"
   ]
  },
  {
   "cell_type": "markdown",
   "id": "4080805b-933f-4fe0-b56c-f17fabfaf448",
   "metadata": {},
   "source": [
    "##### Calculate the number of unique users (user_id) in groups 'A' and 'B' and assign the total number of users to the variable total_users."
   ]
  },
  {
   "cell_type": "code",
   "execution_count": null,
   "id": "24d3c456-e6cf-4bc8-b1f9-b3a04f00cae1",
   "metadata": {},
   "outputs": [],
   "source": [
    "# Assign the unqiue counts to each variant\n",
    "control_users = checkout[checkout['checkout_page']=='A']['user_id'].nunique()\n",
    "treatment_users = checkout[checkout['checkout_page']=='B']['user_id'].nunique()\n",
    "total_users = control_users + treatment_users\n",
    "print(\"Control unique users:\",control_users)\n",
    "print(\"Control unique users:\",treatment_users)"
   ]
  },
  {
   "cell_type": "markdown",
   "id": "a4a49325-53f3-4efd-aac1-71c22c29f9b0",
   "metadata": {},
   "source": [
    "##### Calculate the control and treatment percentages, and use them to create a list of expected and observed allocation ratios."
   ]
  },
  {
   "cell_type": "code",
   "execution_count": null,
   "id": "c6f7fbca-a263-4f73-8648-1888f56cb980",
   "metadata": {},
   "outputs": [],
   "source": [
    "# Assign the unqiue counts to each variant\n",
    "control_users = checkout[checkout['checkout_page'] == 'A']['user_id'].nunique()\n",
    "treatment_users = checkout[checkout['checkout_page'] == 'B']['user_id'].nunique()\n",
    "total_users = control_users + treatment_users\n",
    "print(\"Control unique users:\",control_users)\n",
    "print(\"Control unique users:\",treatment_users)\n",
    "\n",
    "# Calculate the percentages and create two lists\n",
    "control_perc = control_users / total_users\n",
    "treatment_perc = treatment_users / total_users\n",
    "print(\"Percentage of users in the Control group:\",100*round(control_perc,5),\"%\")\n",
    "print(\"Percentage of users in the Exposed group:\",100*round(treatment_perc,5),\"%\")\n",
    "\n",
    "observed = [ control_users, treatment_users ]\n",
    "expected = [ total_users/2, total_users/2 ]"
   ]
  },
  {
   "cell_type": "markdown",
   "id": "90c25417-d35a-4e75-8bdc-5856acceb8d7",
   "metadata": {},
   "source": [
    "##### Run a chisquare test between the calculated allocations with a significance threshold of 1%, and check for the likelihood of sample ratio mismatch; does the test seem valid from an allocation ratio perspective?"
   ]
  },
  {
   "cell_type": "code",
   "execution_count": null,
   "id": "480f18e4-c71e-4331-94c0-679c8d71ae42",
   "metadata": {},
   "outputs": [],
   "source": [
    "# Assign the unqiue counts to each variant\n",
    "control_users = checkout[checkout['checkout_page'] == 'A']['user_id'].nunique()\n",
    "treatment_users = checkout[checkout['checkout_page'] == 'B']['user_id'].nunique()\n",
    "total_users = control_users + treatment_users\n",
    "print(\"Control unique users:\",control_users)\n",
    "print(\"Control unique users:\",treatment_users)\n",
    "\n",
    "# Calculate the percentages and create two lists\n",
    "control_perc = control_users / total_users\n",
    "treatment_perc = treatment_users / total_users\n",
    "print(\"Percentage of users in the Control group:\",100*round(control_perc,5),\"%\")\n",
    "print(\"Percentage of users in the Exposed group:\",100*round(treatment_perc,5),\"%\")\n",
    "\n",
    "observed = [ control_users, treatment_users ]\n",
    "expected = [ total_users/2, total_users/2 ]\n",
    "\n",
    "# Run chisquare test on observed and expected lists and print the results\n",
    "chi = chisquare(observed, f_exp=expected)\n",
    "\n",
    "print(chi)\n",
    "if chi[1] < 0.01:\n",
    "    print(\"SRM may be present\")\n",
    "else:\n",
    "    print(\"SRM likely not present\")"
   ]
  },
  {
   "cell_type": "markdown",
   "id": "f4c48825-db67-4988-9dae-ba9f95511052",
   "metadata": {},
   "source": [
    "### Distributions balance"
   ]
  },
  {
   "cell_type": "markdown",
   "id": "ba9a053f-13ce-42e2-b46c-188eafb8e6f8",
   "metadata": {},
   "source": [
    "##### Check the distribution of platform_os across experiment groups in the AdSmart dataset."
   ]
  },
  {
   "cell_type": "code",
   "execution_count": null,
   "id": "edcbd0ed-6f1a-49b7-8563-5bc76812156a",
   "metadata": {},
   "outputs": [],
   "source": [
    "# Check the distribution of platform_os by experiment groups\n",
    "AdSmart.groupby('experiment')['platform_os'].value_counts(normalize=True)"
   ]
  },
  {
   "cell_type": "markdown",
   "id": "f27ca0d8-aeb2-423f-81c0-e6efc4b5f4f5",
   "metadata": {},
   "source": [
    "##### Check the distribution of gender across checkout_page designs in the checkout dataset."
   ]
  },
  {
   "cell_type": "code",
   "execution_count": null,
   "id": "e27a6117-380e-438f-9206-c1720365d343",
   "metadata": {},
   "outputs": [],
   "source": [
    "# Check the distribution of gender by checkout_page\n",
    "checkout.groupby('checkout_page')['gender'].value_counts(normalize=True)"
   ]
  },
  {
   "cell_type": "markdown",
   "id": "0fc2171d-9d00-441a-951e-82a3f1077eaa",
   "metadata": {},
   "source": [
    "### Novelty effects detection"
   ]
  },
  {
   "cell_type": "markdown",
   "id": "94be06db-dda0-493d-8536-8cb228a1581e",
   "metadata": {},
   "source": [
    "##### Plot the lift in the Time-on-Page metric ToP_lift over the experiment's duration."
   ]
  },
  {
   "cell_type": "code",
   "execution_count": null,
   "id": "3de1ea2e-2276-4b85-b02a-3d5e4fd08e1d",
   "metadata": {},
   "outputs": [],
   "source": [
    "# Plot ToP_lift over the test dates\n",
    "novelty.plot('date', 'ToP_lift')\n",
    "plt.title('Lift in Time-on-Page Over Test Duration')\n",
    "plt.ylabel('Minutes')\n",
    "plt.ylim([0, 20])\n",
    "plt.show()"
   ]
  },
  {
   "cell_type": "markdown",
   "id": "bf4dedae-9241-41da-94eb-00f6ef683595",
   "metadata": {},
   "source": [
    "##### Place a vertical dashed line at the first date where you notice the Time on Page metric stated to stabilize."
   ]
  },
  {
   "cell_type": "code",
   "execution_count": null,
   "id": "0c59e1b0-ad3e-454d-bf30-39e36a9cd687",
   "metadata": {},
   "outputs": [],
   "source": [
    "# Plot ToP_lift over the test dates\n",
    "novelty.plot('date', 'ToP_lift')\n",
    "# Add a vertical dashed line\n",
    "plt.axvline(x='2023-01-04',color='c',linestyle='dashed')\n",
    "plt.title('Lift in Time On Page Over Test Duration')\n",
    "plt.ylabel('Minutes')\n",
    "plt.ylim([0, 20])\n",
    "plt.show()"
   ]
  },
  {
   "cell_type": "markdown",
   "id": "97a12faa-f692-48eb-a03e-772358883dbe",
   "metadata": {},
   "source": [
    "### Simpson's paradox in action"
   ]
  },
  {
   "cell_type": "markdown",
   "id": "0a2efbd7-b1b0-4e37-b6e9-ae5f6c074986",
   "metadata": {},
   "source": [
    "##### Calculate the conversion rates of each Variant separately and by Browser."
   ]
  },
  {
   "cell_type": "code",
   "execution_count": null,
   "id": "8e3e17d7-0b21-40c4-848d-012a75df6944",
   "metadata": {},
   "outputs": [],
   "source": [
    "# Calculate the conversion rate per variant and then browser\n",
    "imbalanced_variant_rate = simp_imbalanced.groupby('Variant')['Conversion'].mean()\n",
    "imbalanced_variant_browser_rate = simp_imbalanced.groupby(['Variant','Browser'])['Conversion'].mean()\n",
    "\n",
    "print(imbalanced_variant_rate)\n",
    "print(imbalanced_variant_browser_rate)"
   ]
  },
  {
   "cell_type": "markdown",
   "id": "560b2e3b-3355-4cb8-b731-2f7e4ff33b22",
   "metadata": {},
   "source": [
    "##### Compute the counts of browsers in each variant to examine how balanced the distributions are."
   ]
  },
  {
   "cell_type": "code",
   "execution_count": null,
   "id": "5f78c021-d247-4819-badb-98628c614745",
   "metadata": {},
   "outputs": [],
   "source": [
    "# Calculate the conversion rate per variant and then browser\n",
    "imbalanced_variant_rate = simp_imbalanced.groupby('Variant')['Conversion'].mean()\n",
    "imbalanced_variant_browser_rate = simp_imbalanced.groupby(['Variant','Browser'])['Conversion'].mean()\n",
    "\n",
    "print(imbalanced_variant_rate)\n",
    "print(imbalanced_variant_browser_rate)\n",
    "\n",
    "# Examine the counts of browser types per variant\n",
    "imbalanced_variant_browser_count = simp_imbalanced.groupby(['Variant','Browser'])['Browser'].count()\n",
    "\n",
    "print(imbalanced_variant_browser_count)"
   ]
  },
  {
   "cell_type": "markdown",
   "id": "66ba4ee8-b55d-4e36-aba5-58855b1591d8",
   "metadata": {},
   "source": [
    "##### Replace the imbalanced DataFrame simp_imbalanced with the balanced one simp_balanced and re-examine the results."
   ]
  },
  {
   "cell_type": "code",
   "execution_count": null,
   "id": "054d29ad-99b0-4cfe-9af6-6bad7ad46036",
   "metadata": {},
   "outputs": [],
   "source": [
    "# Calculate the conversion rate per variant and then browser\n",
    "imbalanced_variant_rate = simp_imbalanced.groupby('Variant')['Conversion'].mean()\n",
    "imbalanced_variant_browser_rate = simp_imbalanced.groupby(['Variant','Browser'])['Conversion'].mean()\n",
    "\n",
    "print(imbalanced_variant_rate)\n",
    "print(imbalanced_variant_browser_rate)\n",
    "\n",
    "# Examine the counts of browser types per variant\n",
    "imbalanced_variant_browser_count = simp_imbalanced.groupby(['Variant','Browser'])['Browser'].count()\n",
    "\n",
    "print(imbalanced_variant_browser_count)\n",
    "\n",
    "# Repeat the calcluation for the balanced dataset\n",
    "balanced_variant_rate = simp_balanced.groupby('Variant')['Conversion'].mean()\n",
    "balanced_variant_browser_rate = simp_balanced.groupby(['Variant','Browser'])['Conversion'].mean()\n",
    "balanced_variant_browser_count = simp_balanced.groupby(['Variant','Browser'])['Browser'].count()\n",
    "\n",
    "print(balanced_variant_rate)\n",
    "print(balanced_variant_browser_rate)\n",
    "print(balanced_variant_browser_count)"
   ]
  },
  {
   "cell_type": "markdown",
   "id": "bfe9c389-2e9c-41e2-9019-895c84e4e648",
   "metadata": {},
   "source": [
    "### Difference in proportions A/B test"
   ]
  },
  {
   "cell_type": "markdown",
   "id": "1c2b6f78-8916-43c8-8ef1-7d62e9a6b4fe",
   "metadata": {},
   "source": [
    "##### Calculate the number of unique users in landing_page 'C' and 'D'."
   ]
  },
  {
   "cell_type": "code",
   "execution_count": null,
   "id": "523631bb-26b5-4974-a13f-8f6a335308f5",
   "metadata": {},
   "outputs": [],
   "source": [
    "from statsmodels.stats.proportion import proportions_ztest, proportion_confint\n",
    "\n",
    "# Calculate the number of users in groups C and D\n",
    "n_C = homepage[homepage['landing_page'] == 'C']['user_id'].nunique()\n",
    "n_D = homepage[homepage['landing_page'] == 'D']['user_id'].nunique()\n",
    "print('Group C users:',n_C)\n",
    "print('Group D users:',n_D)"
   ]
  },
  {
   "cell_type": "markdown",
   "id": "941f52d3-9911-45cb-9a15-98eb7cb8e511",
   "metadata": {},
   "source": [
    "##### Calculate the total number of unique user signups for landing_page 'C' and 'D' and assign it to a list."
   ]
  },
  {
   "cell_type": "code",
   "execution_count": null,
   "id": "147a88c6-d88d-439e-824d-699270cc2dba",
   "metadata": {},
   "outputs": [],
   "source": [
    "from statsmodels.stats.proportion import proportions_ztest, proportion_confint\n",
    "\n",
    "# Calculate the number of users in groups C and D\n",
    "n_C = homepage[homepage['landing_page'] == 'C']['user_id'].nunique()\n",
    "n_D = homepage[homepage['landing_page'] == 'D']['user_id'].nunique()\n",
    "print('Group C users:',n_C)\n",
    "print('Group D users:',n_D)\n",
    "\n",
    "# Compute unique signups in each group and assign to lists\n",
    "signup_C = homepage[homepage['landing_page'] == 'C'].groupby('user_id')['signup'].max().sum()\n",
    "signup_D = homepage[homepage['landing_page'] == 'D'].groupby('user_id')['signup'].max().sum()\n",
    "\n",
    "signups_abtest = [signup_C, signup_D]\n",
    "n_cdtest = [n_C, n_D]"
   ]
  },
  {
   "cell_type": "markdown",
   "id": "3989ffef-1575-4d90-866f-47f02daea45f",
   "metadata": {},
   "source": [
    "##### Calculate the z_stat, p-value, and 95% confidence intervals for the results."
   ]
  },
  {
   "cell_type": "code",
   "execution_count": null,
   "id": "41f6cf18-2281-4aca-b8e6-cd6062ec5c0c",
   "metadata": {},
   "outputs": [],
   "source": [
    "from statsmodels.stats.proportion import proportions_ztest, proportion_confint\n",
    "\n",
    "# Calculate the number of users in groups C and D\n",
    "n_C = homepage[homepage['landing_page'] == 'C']['user_id'].nunique()\n",
    "n_D = homepage[homepage['landing_page'] == 'D']['user_id'].nunique()\n",
    "print('Group C users:',n_C)\n",
    "print('Group D users:',n_D)\n",
    "\n",
    "# Compute unique signups in each group and assign to lists\n",
    "signup_C = homepage[homepage['landing_page'] == 'C'].groupby('user_id')['signup'].max().sum()\n",
    "signup_D = homepage[homepage['landing_page'] == 'D'].groupby('user_id')['signup'].max().sum()\n",
    "\n",
    "signups_abtest = [signup_C, signup_D]\n",
    "n_cdtest = [n_C, n_D]\n",
    "\n",
    "# Calculate the z_stat, p-value, and 95% confidence intervals\n",
    "z_stat, pvalue = proportions_ztest(signups_abtest, nobs=n_cdtest)\n",
    "(C_lo95, D_lo95), (C_up95, D_up95) = proportion_confint(signups_abtest, nobs=n_cdtest, alpha=0.05)\n",
    "\n",
    "print(f'p-value: {pvalue:.4f}')\n",
    "print(f'Group C 95% CI : [{C_lo95:.4f}, {C_up95:.4f}]')\n",
    "print(f'Group D 95% CI : [{D_lo95:.4f}, {D_up95:.4f}]')"
   ]
  },
  {
   "cell_type": "markdown",
   "id": "7e2c9074-1615-4789-a7db-2ab5ab05ab8d",
   "metadata": {},
   "source": [
    "### Confidence intervals for proportions"
   ]
  },
  {
   "cell_type": "markdown",
   "id": "d8d3aacb-eff7-41db-b6f8-bdf24e613098",
   "metadata": {},
   "source": [
    "##### Assuming our whole population is the users in checkout_page 'A', calculate the mean purchase rate."
   ]
  },
  {
   "cell_type": "code",
   "execution_count": null,
   "id": "01168bcd-4727-4a9c-a882-a717b83b641e",
   "metadata": {},
   "outputs": [],
   "source": [
    "# Calculate the average purchase rate for group A\n",
    "pop_mean = checkout[checkout['checkout_page'] == 'A']['purchased'].mean()\n",
    "print(pop_mean)"
   ]
  },
  {
   "cell_type": "markdown",
   "id": "76c5c0bd-d36a-48fc-91be-17be0a29047d",
   "metadata": {},
   "source": [
    "##### Calculate 20 90% confidence intervals of purchase rate for 20 random samples of size 100 each."
   ]
  },
  {
   "cell_type": "code",
   "execution_count": null,
   "id": "a7abce77-7e3f-4eb5-aa7e-bce32bf16ec1",
   "metadata": {},
   "outputs": [],
   "source": [
    "# Calculate the average purchase rate for group A\n",
    "pop_mean = checkout[checkout['checkout_page'] == 'A']['purchased'].mean()\n",
    "print(pop_mean)\n",
    "\n",
    "# Calculate 20 90% confidence intervals for 20 random samples of size 100 each\n",
    "for i in range(20):\n",
    "    confidence_interval = proportion_confint(\n",
    "    \tcount=checkout[checkout['checkout_page'] == 'A'].sample(100)['purchased'].sum(), \n",
    "      \tnobs=100, \n",
    "      \talpha=(1 - 0.90))\n",
    "    print(confidence_interval)"
   ]
  },
  {
   "cell_type": "markdown",
   "id": "68bbb691-8ad6-4abf-807e-7c9461ead92b",
   "metadata": {},
   "source": [
    "##### Repeat the previous step with 99% confidence intervals instead of 90%. Are the intervals wider or narrower? Does the result make sense?"
   ]
  },
  {
   "cell_type": "code",
   "execution_count": null,
   "id": "89044398-e421-4b80-9a99-a8342bd4a304",
   "metadata": {},
   "outputs": [],
   "source": [
    "# Calculate the average purchase rate for group A\n",
    "pop_mean = checkout[checkout['checkout_page'] == 'A']['purchased'].mean()\n",
    "print(pop_mean)\n",
    "\n",
    "# Calculate 20 90% confidence intervals for 20 random samples of size 100 each\n",
    "for i in range(20):\n",
    "    confidence_interval = proportion_confint(\n",
    "    \tcount=checkout[checkout['checkout_page'] == 'A'].sample(100)['purchased'].sum(), \n",
    "      \tnobs=100, \n",
    "      \talpha=(1 - 0.90))\n",
    "    print(confidence_interval)\n",
    "    \n",
    "# Calculate 20 99% confidence intervals for 20 random samples of size 100 each\n",
    "for i in range(20):\n",
    "    confidence_interval = proportion_confint(\n",
    "    \tcount=checkout[checkout['checkout_page'] == 'A'].sample(100)['purchased'].sum(), \n",
    "      \tnobs=100, \n",
    "      \talpha=(1 - 0.01))\n",
    "    print(confidence_interval)"
   ]
  },
  {
   "cell_type": "markdown",
   "id": "ba93361f-4014-40f5-a5f9-cf06e1603123",
   "metadata": {},
   "source": [
    "### T-test for difference in means"
   ]
  },
  {
   "cell_type": "markdown",
   "id": "7cdc23fa-0f59-4efc-88c1-058050166d20",
   "metadata": {},
   "source": [
    "##### Calculate the mean order_value per variant, and run a t-test for difference in order_value between variants A and B."
   ]
  },
  {
   "cell_type": "code",
   "execution_count": null,
   "id": "2f7ea1fb-6988-4c32-a7a4-dd59a865412f",
   "metadata": {},
   "outputs": [],
   "source": [
    "# Calculate the mean order values and run a t-test between variants A and B\n",
    "print(checkout.groupby('checkout_page')['order_value'].mean())\n",
    "\n",
    "ttest = pingouin.ttest(x=checkout[checkout['checkout_page']=='A']['order_value'], \n",
    "                       y=checkout[checkout['checkout_page']=='B']['order_value'],\n",
    "                       paired=False,\n",
    "                       alternative=\"two-sided\")\n",
    "print(ttest)"
   ]
  },
  {
   "cell_type": "markdown",
   "id": "7c0f9912-2bca-4532-b9ee-1cd26f23adbc",
   "metadata": {},
   "source": [
    "##### Calculate the mean time_on_page per variant, run a t-test for its difference between variants A and B, and note the p-value and confidence interval of the difference. Will you reject the Null hypothesis?"
   ]
  },
  {
   "cell_type": "code",
   "execution_count": null,
   "id": "7ee8f104-d3fc-437e-ad08-395a36d6b8a5",
   "metadata": {},
   "outputs": [],
   "source": [
    "# Calculate the mean time on page and run a t-test between variants A and B\n",
    "print(checkout.groupby('checkout_page')['time_on_page'].mean())\n",
    "\n",
    "ttest = pingouin.ttest(x=checkout[checkout['checkout_page']=='A']['time_on_page'], \n",
    "                       y=checkout[checkout['checkout_page']=='B']['time_on_page'],\n",
    "                       paired=False,\n",
    "                       alternative=\"two-sided\")\n",
    "print(ttest)"
   ]
  },
  {
   "cell_type": "markdown",
   "id": "589b26d9-25ed-4024-8f75-8ea740f7c072",
   "metadata": {},
   "source": [
    "##### Calculate the mean time_on_page per variant, run a t-test for its difference between variants A and C, and note the p-value and confidence interval of the difference. Will you reject the Null hypothesis?"
   ]
  },
  {
   "cell_type": "code",
   "execution_count": null,
   "id": "b70fd0d4-e6b9-4f5a-8ae6-9de95b85e3a7",
   "metadata": {},
   "outputs": [],
   "source": [
    "# Run a t-test for time_on_page between variants A and C\n",
    "ttest = pingouin.ttest(x=checkout[checkout['checkout_page']=='A']['time_on_page'], \n",
    "                       y=checkout[checkout['checkout_page']=='C']['time_on_page'],\n",
    "                       paired=False,\n",
    "                       alternative=\"two-sided\")\n",
    "print(ttest)"
   ]
  },
  {
   "cell_type": "markdown",
   "id": "6cc856e0-8714-4970-a30b-55ec19a73723",
   "metadata": {},
   "source": [
    "### Pairwise t-tests"
   ]
  },
  {
   "cell_type": "markdown",
   "id": "4316b12b-39cc-4ed4-8e14-f00cab8e7676",
   "metadata": {},
   "source": [
    "##### Perform pairwise t-tests on homepage's time_on_page variable, grouped by landing_page, without doing any p-value adjustment."
   ]
  },
  {
   "cell_type": "code",
   "execution_count": null,
   "id": "ea765b07-0d1c-4b0e-bb61-721f1bcdc444",
   "metadata": {},
   "outputs": [],
   "source": [
    "# Perform a pairwise t-test on signup, grouped by landing-page\n",
    "pairwise = pingouin.pairwise_tests(data=homepage,\n",
    "                                   dv=\"time_on_page\",\n",
    "                                   between=\"landing_page\",\n",
    "                                   padjust=\"none\")\n",
    "\n",
    "print(pairwise)"
   ]
  },
  {
   "cell_type": "markdown",
   "id": "93213ee8-a7bb-4c94-94fb-b97aafb33626",
   "metadata": {},
   "source": [
    "##### Perform pairwise t-tests on homepage's time_on_page variable, grouped by landing_page, with a Bonferroni correction."
   ]
  },
  {
   "cell_type": "code",
   "execution_count": null,
   "id": "53890e25-8039-4192-beb1-64da32ef29e5",
   "metadata": {},
   "outputs": [],
   "source": [
    "# Perform a pairwise t-test on signup, grouped by landing-page\n",
    "pairwise = pingouin.pairwise_tests(data=homepage,\n",
    "                                   dv=\"time_on_page\",\n",
    "                                   between=\"landing_page\",\n",
    "                                   padjust=\"none\")\n",
    "\n",
    "print(pairwise)\n",
    "\n",
    "# Modify the pairwise t-tests to use Bonferroni p-value adjustment\n",
    "bonferroni_pairwise = pingouin.pairwise_tests(data=homepage,\n",
    "                                   dv=\"time_on_page\",\n",
    "                                   between=\"landing_page\",\n",
    "                                   padjust=\"bonf\")\n",
    "\n",
    "print(bonferroni_pairwise)"
   ]
  },
  {
   "cell_type": "markdown",
   "id": "194d07c6-5e22-40c5-b9ee-0e36a10f4263",
   "metadata": {},
   "source": [
    "### Mann-Whitney U test"
   ]
  },
  {
   "cell_type": "markdown",
   "id": "94319521-eb5a-43d6-9558-92b5dcd45811",
   "metadata": {},
   "source": [
    "##### Calculate the mean and rows count of the time_on_page column for each variant in one step."
   ]
  },
  {
   "cell_type": "code",
   "execution_count": null,
   "id": "bd92d306-c505-4a60-9c95-cfe51fbdf8b0",
   "metadata": {},
   "outputs": [],
   "source": [
    "# Calculate the mean and count of time on page by variant\n",
    "print(checkout.groupby('checkout_page')['time_on_page'].agg({'mean', 'count'}))"
   ]
  },
  {
   "cell_type": "markdown",
   "id": "0e1de93c-91d3-4252-9d58-c659e005e506",
   "metadata": {},
   "source": [
    "##### Take a random sample of size 25 from checkout_pages \"B\" and \"C\" time_on_page column and assign them to their respective variables."
   ]
  },
  {
   "cell_type": "code",
   "execution_count": null,
   "id": "ec9ca1d1-26e0-41a8-b49b-0934236d390e",
   "metadata": {},
   "outputs": [],
   "source": [
    "# Calculate the mean and count of time on page by variant\n",
    "print(checkout.groupby('checkout_page')['time_on_page'].agg({'mean', 'count'}))\n",
    "\n",
    "np.random.seed(40)\n",
    "\n",
    "# Take a random sample of size 25 from each variant\n",
    "ToP_samp_B = checkout[checkout['checkout_page'] == 'B'].sample(25)['time_on_page']\n",
    "ToP_samp_C = checkout[checkout['checkout_page'] == 'C'].sample(25)['time_on_page']"
   ]
  },
  {
   "cell_type": "markdown",
   "id": "511f07e3-cdff-4f7e-82fe-7be6abd49a0c",
   "metadata": {},
   "source": [
    "##### Run a Mann-Whitney U test for statistical significance on the two sampled columns."
   ]
  },
  {
   "cell_type": "code",
   "execution_count": null,
   "id": "59473cc9-56e0-45da-bad7-bb974bda47f3",
   "metadata": {},
   "outputs": [],
   "source": [
    "# Calculate the mean and count of time on page by variant\n",
    "print(checkout.groupby('checkout_page')['time_on_page'].agg({'mean', 'count'}))\n",
    "\n",
    "np.random.seed(40)\n",
    "\n",
    "# Take a random sample of size 25 from each variant\n",
    "ToP_samp_B = checkout[checkout['checkout_page'] == 'B'].sample(25)['time_on_page']\n",
    "ToP_samp_C = checkout[checkout['checkout_page'] == 'C'].sample(25)['time_on_page']\n",
    "\n",
    "# Run a Mann-Whitney U test\n",
    "mwu_test = pingouin.mwu(x=ToP_samp_B,\n",
    "                        y=ToP_samp_C,\n",
    "                        alternative='two-sided')\n",
    "\n",
    "print(mwu_test)"
   ]
  },
  {
   "cell_type": "markdown",
   "id": "d2af321c-6e41-4e93-9fc5-c61fb8b576aa",
   "metadata": {},
   "source": [
    "### Chi-square test for independence"
   ]
  },
  {
   "cell_type": "markdown",
   "id": "33053947-0e98-436d-bec3-06551fda2356",
   "metadata": {
    "tags": []
   },
   "source": [
    "##### Calculate the number of unique users in landing_pages A and B."
   ]
  },
  {
   "cell_type": "code",
   "execution_count": null,
   "id": "e13c360b-3a35-4a42-90d4-5291f4705ade",
   "metadata": {},
   "outputs": [],
   "source": [
    "from scipy import stats\n",
    "\n",
    "# Calculate the number of users in groups A and B\n",
    "n_A = homepage[homepage['landing_page'] == 'A']['user_id'].nunique()\n",
    "n_B = homepage[homepage['landing_page'] == 'B']['user_id'].nunique()"
   ]
  },
  {
   "cell_type": "markdown",
   "id": "74ffbcd2-467a-4066-8325-a0b89b09fa36",
   "metadata": {},
   "source": [
    "##### Calculate the total signups for each of variants A and B."
   ]
  },
  {
   "cell_type": "code",
   "execution_count": null,
   "id": "3788f459-e1b7-44f1-926a-95ca5fc34b56",
   "metadata": {},
   "outputs": [],
   "source": [
    "from scipy import stats\n",
    "\n",
    "# Calculate the number of users in groups A and B\n",
    "n_A = homepage[homepage['landing_page'] == 'A']['user_id'].nunique()\n",
    "n_B = homepage[homepage['landing_page'] == 'B']['user_id'].nunique()\n",
    "\n",
    "# Compute unique signups in each group\n",
    "signup_A = homepage[homepage['landing_page'] == 'A'].groupby('user_id')['signup'].max().sum()\n",
    "no_signup_A = n_A - signup_A\n",
    "signup_B = homepage[homepage['landing_page'] == 'B'].groupby('user_id')['signup'].max().sum()\n",
    "no_signup_B = n_B - signup_B"
   ]
  },
  {
   "cell_type": "markdown",
   "id": "95a6d78f-a73e-4214-be7e-63aa9af26695",
   "metadata": {},
   "source": [
    "##### Create the contingency table of signups and no signups for the two variants and calculate the signup rates."
   ]
  },
  {
   "cell_type": "code",
   "execution_count": null,
   "id": "075b8d40-2f02-444a-87c9-eae90590b13b",
   "metadata": {},
   "outputs": [],
   "source": [
    "from scipy import stats\n",
    "# Calculate the number of users in groups A and B\n",
    "n_A = homepage[homepage['landing_page'] == 'A']['user_id'].nunique()\n",
    "n_B = homepage[homepage['landing_page'] == 'B']['user_id'].nunique()\n",
    "\n",
    "# Compute unique signups in each group\n",
    "signup_A = homepage[homepage['landing_page'] == 'A'].groupby('user_id')['signup'].max().sum()\n",
    "no_signup_A = n_A - signup_A\n",
    "signup_B = homepage[homepage['landing_page'] == 'B'].groupby('user_id')['signup'].max().sum()\n",
    "no_signup_B = n_B - signup_B\n",
    "\n",
    "# Create the signups table\n",
    "table = [[signup_A, no_signup_A], [signup_B, no_signup_B]]\n",
    "print('Group A signup rate:',round(signup_A/n_A,3))\n",
    "print('Group B signup rate:',round(signup_B/n_B,3))"
   ]
  },
  {
   "cell_type": "markdown",
   "id": "2d78c3e6-1bb1-4bc7-ab13-646609199152",
   "metadata": {},
   "source": [
    "##### Calculate the chi-square test's p-value."
   ]
  },
  {
   "cell_type": "code",
   "execution_count": null,
   "id": "400adda1-9b4c-42a0-b9dc-c72b16f653aa",
   "metadata": {},
   "outputs": [],
   "source": [
    "from scipy import stats\n",
    "\n",
    "# Calculate the number of users in groups A and B\n",
    "n_A = homepage[homepage['landing_page'] == 'A']['user_id'].nunique()\n",
    "n_B = homepage[homepage['landing_page'] == 'B']['user_id'].nunique()\n",
    "\n",
    "# Compute unique signups in each group\n",
    "signup_A = homepage[homepage['landing_page'] == 'A'].groupby('user_id')['signup'].max().sum()\n",
    "no_signup_A = n_A - signup_A\n",
    "signup_B = homepage[homepage['landing_page'] == 'B'].groupby('user_id')['signup'].max().sum()\n",
    "no_signup_B = n_B - signup_B\n",
    "\n",
    "# Create the signups table\n",
    "table = [[signup_A, no_signup_A], [signup_B, no_signup_B]]\n",
    "print('Group A signup rate:',round(signup_A/n_A,3))\n",
    "print('Group B signup rate:',round(signup_B/n_B,3))\n",
    "\n",
    "# Calculate p-value\n",
    "print('p-value=',stats.chi2_contingency(table,correction=False)[1])"
   ]
  },
  {
   "cell_type": "markdown",
   "id": "20d827bd-f518-4945-8830-2dac14a9c62a",
   "metadata": {},
   "source": [
    "### Delta method"
   ]
  },
  {
   "cell_type": "markdown",
   "id": "7e3a7a55-dc1e-458b-b8b5-ba7d7c69796d",
   "metadata": {},
   "source": [
    "##### Define the user-level ratio components for each of the variants A and C with the numerator of total order_value per user_id as the order_value column, and denominator as count of user_id as the page_view column."
   ]
  },
  {
   "cell_type": "code",
   "execution_count": null,
   "id": "44b8d791-78f8-479f-b786-0c898be86769",
   "metadata": {},
   "outputs": [],
   "source": [
    "# Create DataFrames for per user metrics for variants A and C\n",
    "A_per_user = pd.DataFrame({'order_value':checkout[checkout['checkout_page']=='A'].groupby('user_id')['order_value'].sum()\n",
    "                            ,'page_view':checkout[checkout['checkout_page']=='A'].groupby('user_id')['user_id'].count()})\n",
    "\n",
    "C_per_user = pd.DataFrame({'order_value':checkout[checkout['checkout_page']=='C'].groupby('user_id')['order_value'].sum()\n",
    "                           ,'page_view':checkout[checkout['checkout_page']=='C'].groupby('user_id')['user_id'].count()})"
   ]
  },
  {
   "cell_type": "markdown",
   "id": "34ef84a5-df7d-4ddb-bb3f-4332a65a92f5",
   "metadata": {},
   "source": [
    "##### Assign the ratio columns to the respective control and treatment numerator and denominator of our defined ratio metric of average order_value per page_view."
   ]
  },
  {
   "cell_type": "code",
   "execution_count": null,
   "id": "1aab6e74-1e7d-4e1b-b3ae-0ff53b247eb8",
   "metadata": {},
   "outputs": [],
   "source": [
    "# Create DataFrames for per user metrics for variants A and C\n",
    "A_per_user = pd.DataFrame({'order_value':checkout[checkout['checkout_page']=='A'].groupby('user_id')['order_value'].sum()\n",
    "                            ,'page_view':checkout[checkout['checkout_page']=='A'].groupby('user_id')['user_id'].count()})\n",
    "\n",
    "C_per_user = pd.DataFrame({'order_value':checkout[checkout['checkout_page']=='C'].groupby('user_id')['order_value'].sum()\n",
    "                           ,'page_view':checkout[checkout['checkout_page']=='C'].groupby('user_id')['user_id'].count()})\n",
    "\n",
    "# Assign the control and treatment ratio columns \n",
    "x_control = A_per_user['order_value']\n",
    "y_control = A_per_user['page_view']\n",
    "x_treatment = C_per_user['order_value']\n",
    "y_treatment = C_per_user['page_view']"
   ]
  },
  {
   "cell_type": "markdown",
   "id": "a6391288-5b3b-470a-ac5b-1fb3521068c9",
   "metadata": {},
   "source": [
    "##### Run a z-test for the ordervalue per pageview ratio metric."
   ]
  },
  {
   "cell_type": "code",
   "execution_count": null,
   "id": "81044721-2a7d-4955-a5cf-2d5f2dce204a",
   "metadata": {},
   "outputs": [],
   "source": [
    "# Create DataFrames for per user metrics for variants A and C\n",
    "A_per_user = pd.DataFrame({'order_value':checkout[checkout['checkout_page']=='A'].groupby('user_id')['order_value'].sum()\n",
    "                            ,'page_view':checkout[checkout['checkout_page']=='A'].groupby('user_id')['user_id'].count()})\n",
    "\n",
    "C_per_user = pd.DataFrame({'order_value':checkout[checkout['checkout_page']=='C'].groupby('user_id')['order_value'].sum()\n",
    "                           ,'page_view':checkout[checkout['checkout_page']=='C'].groupby('user_id')['user_id'].count()})\n",
    "\n",
    "# Assign the control and treatment ratio columns \n",
    "x_control = A_per_user['order_value']\n",
    "y_control = A_per_user['page_view']\n",
    "x_treatment = C_per_user['order_value']\n",
    "y_treatment = C_per_user['page_view']\n",
    "\n",
    "# Run a z-test for ratio metrics\n",
    "ztest_delta(x_control,y_control,x_treatment,y_treatment)"
   ]
  },
  {
   "cell_type": "markdown",
   "id": "2caf5ac0-ddac-4473-953d-6d514842c8fa",
   "metadata": {},
   "source": [
    "### Day-of-the-week effect"
   ]
  },
  {
   "cell_type": "markdown",
   "id": "d958fbf9-b3e5-4dfb-a1c3-90d1fcccb8af",
   "metadata": {},
   "source": [
    "##### Create a line plot of the purchase_rate column over the date period of the test."
   ]
  },
  {
   "cell_type": "code",
   "execution_count": null,
   "id": "c1eced70-31c7-40b6-ad8c-13670d768a5b",
   "metadata": {},
   "outputs": [],
   "source": [
    "# Create a line plot\n",
    "novelty.plot('date','purchase_rate')\n",
    "plt.title('Purchase Rate Over Test Duration')\n",
    "plt.ylabel('Purchase Rate [%]')\n",
    "plt.ylim([0, 0.04])\n",
    "plt.show()"
   ]
  },
  {
   "cell_type": "markdown",
   "id": "055d9d8d-ef7e-41a2-b287-3973ca9cc69e",
   "metadata": {},
   "source": [
    "##### Adjust the line plot to show CTR column over the date period of the test and title it 'Click-through Rate Over Test Duration' with ylabel 'CTR [%]' and ylim of 0.04 to 0.06."
   ]
  },
  {
   "cell_type": "code",
   "execution_count": null,
   "id": "ca273634-fabc-4e46-8ebe-dbf657c82959",
   "metadata": {},
   "outputs": [],
   "source": [
    "# Adjust the line plot\n",
    "novelty.plot('date', 'CTR')\n",
    "plt.title('Click-through Rate Over Test Duration')\n",
    "plt.ylabel('CTR [%]')\n",
    "plt.ylim([0.04, 0.06])\n",
    "plt.show()"
   ]
  }
 ],
 "metadata": {
  "kernelspec": {
   "display_name": "Python 3 (ipykernel)",
   "language": "python",
   "name": "python3"
  },
  "language_info": {
   "codemirror_mode": {
    "name": "ipython",
    "version": 3
   },
   "file_extension": ".py",
   "mimetype": "text/x-python",
   "name": "python",
   "nbconvert_exporter": "python",
   "pygments_lexer": "ipython3",
   "version": "3.9.13"
  }
 },
 "nbformat": 4,
 "nbformat_minor": 5
}
