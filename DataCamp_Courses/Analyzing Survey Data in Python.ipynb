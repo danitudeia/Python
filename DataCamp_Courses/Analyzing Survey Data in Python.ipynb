{
 "cells": [
  {
   "cell_type": "markdown",
   "id": "78a0897e-1793-41f5-859a-000b443926d1",
   "metadata": {},
   "source": [
    "### Crosstabulation"
   ]
  },
  {
   "cell_type": "markdown",
   "id": "f7555501-23bc-412a-a369-37a01727d538",
   "metadata": {},
   "source": [
    "##### Create a cross-tabulation of Gender and Education showing the frequency distribution between both variables."
   ]
  },
  {
   "cell_type": "code",
   "execution_count": null,
   "id": "59f1a5ba-f7c6-4d31-87ef-ae2a9efa10a0",
   "metadata": {},
   "outputs": [],
   "source": [
    "# Create a cross-tabulation of \"Gender\" and \"Education\"\n",
    "cross_tabulation = pd.crosstab(we_survey.Gender,\n",
    "                             we_survey.Education, \n",
    "                             margins = True)\n",
    "print(cross_tabulation)"
   ]
  },
  {
   "cell_type": "markdown",
   "id": "952f7fb2-9133-47c9-91f8-de655696fffa",
   "metadata": {},
   "source": [
    "### Descriptive statistics"
   ]
  },
  {
   "cell_type": "markdown",
   "id": "cfe5ac40-fd07-4c76-a577-b7cdeb3fa6c0",
   "metadata": {},
   "source": [
    "##### Generate descriptive statistics on the non-numerical columns of the survey dataset."
   ]
  },
  {
   "cell_type": "code",
   "execution_count": null,
   "id": "54becefe-6d49-4243-b8a5-1caaa73ef1ff",
   "metadata": {},
   "outputs": [],
   "source": [
    "# Generate descriptive statistics on the non-numerical columns\n",
    "print(youth_survey_clean.describe(include = np.object))"
   ]
  },
  {
   "cell_type": "markdown",
   "id": "b1b68fb7-fdee-42af-9383-62015e64a0f2",
   "metadata": {},
   "source": [
    "### Inferential statistics"
   ]
  },
  {
   "cell_type": "markdown",
   "id": "2745048c-d0c2-4f1f-9192-3bd9092a1e13",
   "metadata": {},
   "source": [
    "##### Calculate the confidence interval for the true population mean height, Height_in, using a 95% confidence level.\n",
    "##### Calculate the confidence interval for the true population mean height, Height_in, using a 99% confidence level."
   ]
  },
  {
   "cell_type": "code",
   "execution_count": null,
   "id": "38d70303-a9df-4032-b147-c37146bda0ce",
   "metadata": {},
   "outputs": [],
   "source": [
    "# Find confidence interval for mean height with 95% confidence level\n",
    "conf_95 = st.norm.interval(alpha = 0.95, \n",
    "                           loc = np.mean(youth_survey_clean.Height_in), \n",
    "                           scale = st.sem(youth_survey_clean.Height_in))\n",
    "\n",
    "# Find confidence interval for mean height with 99% confidence level\n",
    "conf_99 = st.norm.interval(alpha = 0.99, \n",
    "                           loc = np.mean(youth_survey_clean.Height_in), \n",
    "                           scale = st.sem(youth_survey_clean.Height_in))\n",
    "print(\"conf_95 = \", conf_95)\n",
    "print(\"conf_99 = \", conf_99)"
   ]
  },
  {
   "cell_type": "markdown",
   "id": "5c836408-dfda-43cb-b57b-b37ee8251a2c",
   "metadata": {},
   "source": [
    "### Scatter plot inspection"
   ]
  },
  {
   "cell_type": "markdown",
   "id": "0ded8cdc-4f61-4328-91c1-e6c7c54c5574",
   "metadata": {},
   "source": [
    "##### Create a scatter plot to determine if a linear regression model accurately relates Age and Height_in."
   ]
  },
  {
   "cell_type": "code",
   "execution_count": null,
   "id": "a43aabaf-0d3c-452a-9fff-df621c832b33",
   "metadata": {},
   "outputs": [],
   "source": [
    "# Create a scatter plot between `Age` and `Height_in`\n",
    "youth_survey.plot.scatter(x='Age',y='Height_in')\n",
    "plt.show()"
   ]
  },
  {
   "cell_type": "markdown",
   "id": "da036c4d-bf45-42f4-99a9-f2837dd7ff58",
   "metadata": {},
   "source": [
    "### Random sample of employees"
   ]
  },
  {
   "cell_type": "markdown",
   "id": "4e8e28fb-e4dd-4b13-a0cb-955339517736",
   "metadata": {},
   "source": [
    "##### Create a random sample of 85 employees, using the n parameter of the sample function."
   ]
  },
  {
   "cell_type": "code",
   "execution_count": null,
   "id": "48486717-d045-44ee-819e-1c0586ccf0cf",
   "metadata": {},
   "outputs": [],
   "source": [
    "# Use n parameter to sample 85 employees\n",
    "employee_satisfaction.sample(n=85)"
   ]
  },
  {
   "cell_type": "markdown",
   "id": "a632688d-2b05-474a-a3ca-9802db2ac1ce",
   "metadata": {},
   "source": [
    "##### Alternatively, create a random sample of 85 employees, using the frac parameter of the sample function equal to 0.17."
   ]
  },
  {
   "cell_type": "code",
   "execution_count": null,
   "id": "307de38a-7b36-4cb7-bbda-4a2a334062b4",
   "metadata": {},
   "outputs": [],
   "source": [
    "# Use n parameter to sample 85 employees\n",
    "employee_satisfaction.sample(n = 85)\n",
    "\n",
    "# Use `frac` parameter to sample 85 employees\n",
    "employee_satisfaction.sample(frac =0.17)"
   ]
  },
  {
   "cell_type": "markdown",
   "id": "c1c04339-fafa-455b-ba61-a8a733256d94",
   "metadata": {},
   "source": [
    "### Reproducible random sampling"
   ]
  },
  {
   "cell_type": "markdown",
   "id": "3a43533c-b041-4ab2-8a02-bbf5c3479a95",
   "metadata": {},
   "source": [
    "##### Create a reproducible sample of 25 employees."
   ]
  },
  {
   "cell_type": "code",
   "execution_count": null,
   "id": "1cdbef2d-d99d-49e3-bebe-cc9222d6c4eb",
   "metadata": {},
   "outputs": [],
   "source": [
    "# Create a reproducible sample of 25 employees\n",
    "employee_satisfaction.sample(n=25, random_state = 123)"
   ]
  },
  {
   "cell_type": "markdown",
   "id": "a78442e6-941b-4951-83a4-6954c6080af3",
   "metadata": {},
   "source": [
    "### Spread of yes's and no's"
   ]
  },
  {
   "cell_type": "markdown",
   "id": "9bc146df-8b88-4646-ae76-c1386f7aa5ff",
   "metadata": {},
   "source": [
    "##### Create a pie chart visualizing the original spread or \"Yes\" and \"No\" to the question of working on-site."
   ]
  },
  {
   "cell_type": "code",
   "execution_count": null,
   "id": "a8be63fe-5202-49c6-aacc-ee8ac85122a3",
   "metadata": {},
   "outputs": [],
   "source": [
    "# Create a pie chart to the question of working onsite\n",
    "ABC_survey.onsite_work.value_counts().plot.pie()\n",
    "plt.show()"
   ]
  },
  {
   "cell_type": "markdown",
   "id": "163bec77-3790-4131-9b30-8f059cfa54b7",
   "metadata": {},
   "source": [
    "### Stratified sampling"
   ]
  },
  {
   "cell_type": "markdown",
   "id": "bd92fe18-233f-4cf5-93f9-16582f2e8b3b",
   "metadata": {},
   "source": [
    "##### Calculate the percentage of female and male respondents."
   ]
  },
  {
   "cell_type": "code",
   "execution_count": null,
   "id": "8008a6c2-63de-4a6e-8c53-4bc69a12ef92",
   "metadata": {},
   "outputs": [],
   "source": [
    "# Calculate the percentage of female and male respondents\n",
    "print(youth_survey.Gender.value_counts(normalize=True) * 100)"
   ]
  },
  {
   "cell_type": "markdown",
   "id": "c6f47ef2-c08f-4dc9-8209-ef8b6827fd5a",
   "metadata": {},
   "source": [
    "##### Calculate the percentage of female and male respondents.\n",
    "##### Proportionally sample out 1% of respondents from the survey."
   ]
  },
  {
   "cell_type": "code",
   "execution_count": null,
   "id": "7b98e8ec-d87e-42e7-90bb-f5d92bad3d4c",
   "metadata": {},
   "outputs": [],
   "source": [
    "# Calculate the percentage of female and male respondents\n",
    "print(youth_survey.Gender.value_counts(normalize=True) * 100)\n",
    "\n",
    "# Check the percentage of female and male respondents\n",
    "youth_survey.Gender.value_counts(normalize=True) * 100\n",
    "\n",
    "# Proportionally sample out 1% of respondents\n",
    "sample_dataset = youth_survey.groupby(\n",
    "  \"Gender\", group_keys = False).apply(\n",
    "  lambda x: x.sample(frac=0.01))\n",
    "\n",
    "print(sample_dataset.head())"
   ]
  },
  {
   "cell_type": "markdown",
   "id": "b20ccb63-05ea-47a4-a761-eca2e494cc1e",
   "metadata": {},
   "source": [
    "### Blog survey"
   ]
  },
  {
   "cell_type": "markdown",
   "id": "e7f28a1a-6984-4a8f-a684-cb70d2c09f1f",
   "metadata": {},
   "source": [
    "##### Create a crosstab which counts the number of left handed and right handed, male and female respondents.\n",
    "##### Create a horizontal bar plot of your results."
   ]
  },
  {
   "cell_type": "code",
   "execution_count": null,
   "id": "1f9a22a2-173a-49ee-9781-7a12d63ed6cc",
   "metadata": {},
   "outputs": [],
   "source": [
    "# Create a crosstab of male and female handedness\n",
    "survey_crosstab = pd.crosstab(hand_survey.Gender,hand_survey['Left - right handed'])\n",
    "\n",
    "# Create a horizontal bar plot of your results\n",
    "survey_crosstab.plot.barh()\n",
    "plt.show()"
   ]
  },
  {
   "cell_type": "markdown",
   "id": "a9fc969b-78c6-450b-86c8-68413a36c3e7",
   "metadata": {},
   "source": [
    "### Weighted sampling on handedness"
   ]
  },
  {
   "cell_type": "markdown",
   "id": "d05c9083-e647-418e-817e-abb3e927acd4",
   "metadata": {},
   "source": [
    "##### Group your data by gender and handedness, and count by the Age column.\n",
    "##### Create a new column that calculates the percentage of each respondent type."
   ]
  },
  {
   "cell_type": "code",
   "execution_count": null,
   "id": "9e162795-822a-488a-9173-7c3ff42ffcf6",
   "metadata": {},
   "outputs": [],
   "source": [
    "# Groupby Gender and Handedness\n",
    "hand_survey = hand_survey.groupby(\n",
    "  ['Gender','Left - right handed'])[\n",
    "  'Age'].count().reset_index()\n",
    "\n",
    "hand_survey.columns = ['Gender','Handedness','Respondents']\n",
    "\n",
    "# Create new column that calculates the percentage of each respondent type\n",
    "hand_survey['% total respondents'] = hand_survey.Respondents*100./hand_survey.Respondents.sum()"
   ]
  },
  {
   "cell_type": "markdown",
   "id": "a6e3472c-240c-4f1c-84f6-3ba4022bea13",
   "metadata": {},
   "source": [
    "##### Calculate the weights for each category if the actual population percentage is 5.5% left-handed females, 6.5% left-handed males, 44.5% right-handed females, 43.5% right-handed males.\n",
    "##### Calculate the number of weighted respondents."
   ]
  },
  {
   "cell_type": "code",
   "execution_count": null,
   "id": "58ec9b97-b431-49db-8e53-0b2f0d8ecbbf",
   "metadata": {},
   "outputs": [],
   "source": [
    "hand_survey = hand_survey.groupby(\n",
    "  ['Gender','Left - right handed'])[\n",
    "  'Age'].count().reset_index()\n",
    "\n",
    "hand_survey.columns = ['Gender','Handedness','Respondents']\n",
    "\n",
    "hand_survey['% total respondents'] = hand_survey.Respondents*100./hand_survey.Respondents.sum()\n",
    "\n",
    "hand_survey['% of population'] = [5.5,44.5,6.5,43.5]\n",
    "\n",
    "# Calculate weights for each category\n",
    "hand_survey['Weight'] = hand_survey['% of population'] / hand_survey['% total respondents']\n",
    "\n",
    "# Calculate number of weighted respondents\n",
    "hand_survey['Weighted Respondents'] = hand_survey.Weight * hand_survey.Respondents\n",
    "\n",
    "print(hand_survey.head())"
   ]
  },
  {
   "cell_type": "markdown",
   "id": "6ca14a19-2157-4eaa-bcb1-1d4b6e7a9d9d",
   "metadata": {},
   "source": [
    "##### Plot a horizontal bar plot of the original and weighted sample of each category."
   ]
  },
  {
   "cell_type": "code",
   "execution_count": null,
   "id": "b55b77cc-f100-4fc5-94ce-3e0264fd4bef",
   "metadata": {},
   "outputs": [],
   "source": [
    "hand_survey = hand_survey.groupby(\n",
    "  ['Gender','Left - right handed'])[\n",
    "  'Age'].count().reset_index()\n",
    "\n",
    "hand_survey.columns = ['Gender','Handedness','Respondents']\n",
    "\n",
    "hand_survey['% total respondents'] = hand_survey.Respondents * 100. / hand_survey.Respondents.sum()\n",
    "\n",
    "hand_survey['% of population'] = [5.5,44.5,6.5,43.5]\n",
    "\n",
    "hand_survey['Weight'] = hand_survey['% of population'] / hand_survey['% total respondents']\n",
    "\n",
    "hand_survey['Weighted Respondents'] = hand_survey.Weight * hand_survey.Respondents\n",
    "\n",
    "# Plot horizontal bar plot of original and weighted sample of each category\n",
    "hand_survey[['Gender','Handedness','Respondents','Weighted Respondents']].set_index(['Gender','Handedness']).plot.barh()\n",
    "plt.show()"
   ]
  },
  {
   "cell_type": "markdown",
   "id": "e1daa058-6a87-41d1-bfe9-9f0f0eb0c787",
   "metadata": {},
   "source": [
    "### Group clusters"
   ]
  },
  {
   "cell_type": "markdown",
   "id": "165b1766-0e2c-49a0-8957-15d327220d5b",
   "metadata": {},
   "source": [
    "##### Group the population into clusters of US_state_live and calculate the number of respondents.\n",
    "##### Plot a bar graph of the number of respondents by US_state_live."
   ]
  },
  {
   "cell_type": "code",
   "execution_count": null,
   "id": "3e68e664-28d5-4ff5-bc78-af6ad9866dbe",
   "metadata": {},
   "outputs": [],
   "source": [
    "# Group population into clusters and calculate respondents\n",
    "groups = mh_survey.groupby('US_state_live')['gender'].count().reset_index()\n",
    "groups.columns = ['US_state_live','count']\n",
    "\n",
    "# Plot a bar graph of number of respondents by US_state_live\n",
    "groups.plot.bar(x='US_state_live',y='count')\n",
    "plt.show()"
   ]
  },
  {
   "cell_type": "markdown",
   "id": "2f8207c8-2094-4c2a-a788-ff5f0f895c4f",
   "metadata": {},
   "source": [
    "### Choosing clusters"
   ]
  },
  {
   "cell_type": "markdown",
   "id": "c61e2ba2-f836-4d2b-9dc2-aca8fe03ab22",
   "metadata": {},
   "source": [
    "##### Create a list of the unique states present in the survey.\n",
    "##### Randomly choose 10 clusters from the cluster of 47 states that our respondents live in, under column US_state_live."
   ]
  },
  {
   "cell_type": "code",
   "execution_count": null,
   "id": "29244470-21a1-4562-81d6-9cee1e6abfd0",
   "metadata": {},
   "outputs": [],
   "source": [
    "# Create a list of the unique states present in the survey\n",
    "unique_states = list(set(mh_survey.US_state_live))\n",
    "\n",
    "# Randomly choose ten states\n",
    "random_clusters = np.random.choice(unique_states, size = 10, replace = False)\n",
    "\n",
    "print(random_clusters)"
   ]
  },
  {
   "cell_type": "markdown",
   "id": "7bfecb35-5f88-4c58-b185-0cd495e541fa",
   "metadata": {},
   "source": [
    "### Cluster sampling analysis"
   ]
  },
  {
   "cell_type": "markdown",
   "id": "1a662060-80b4-433b-a7db-01a3446335af",
   "metadata": {},
   "source": [
    "##### Subset dataset to include only states in random_clusters.\n",
    "##### Create a pie chart of the sought_treatment column."
   ]
  },
  {
   "cell_type": "code",
   "execution_count": null,
   "id": "ac17fca6-19f8-47da-bf53-d1fb8cc1ed68",
   "metadata": {},
   "outputs": [],
   "source": [
    "# Subset dataset to inlude only states in cluster_sample\n",
    "cluster_sample = mh_survey[mh_survey.US_state_live.isin(random_clusters)]\n",
    "\n",
    "# Create a pie chart of the sought_treament column\n",
    "treatment_pie = cluster_sample.sought_treatment.value_counts(normalize=True)\n",
    "treatment_pie.plot.pie()\n",
    "plt.show()"
   ]
  },
  {
   "cell_type": "markdown",
   "id": "fb4cfd46-6a0f-4da3-ba65-3e003b321f48",
   "metadata": {},
   "source": [
    "### Frequency distribution"
   ]
  },
  {
   "cell_type": "markdown",
   "id": "e94c7255-c102-4abf-87c1-6ac39b3c871b",
   "metadata": {},
   "source": [
    "##### For the variable Age, count the number of responses for each age group and turn it into a DataFrame."
   ]
  },
  {
   "cell_type": "code",
   "execution_count": null,
   "id": "9a0e73f9-9b33-4cf4-926b-b82e6a60a358",
   "metadata": {},
   "outputs": [],
   "source": [
    "# Count the number of responses for each age group\n",
    "freq_dist = dietary_habits.Age.value_counts().to_frame('Number')\n",
    "print(freq_dist)"
   ]
  },
  {
   "cell_type": "markdown",
   "id": "ca25f7ec-d287-4024-9db0-164b6289f59e",
   "metadata": {},
   "source": [
    "##### Create a bar chart of the different age groups."
   ]
  },
  {
   "cell_type": "code",
   "execution_count": null,
   "id": "583aa0d3-fe94-4e49-9beb-dec536739075",
   "metadata": {},
   "outputs": [],
   "source": [
    "# Count the number of responses for each age group\n",
    "freq_dist = dietary_habits.Age.value_counts().to_frame('Number')\n",
    "\n",
    "# Create a bar chart of the different age groups\n",
    "freq_dist.plot(kind='bar')\n",
    "plt.show()"
   ]
  },
  {
   "cell_type": "markdown",
   "id": "0f6b5d72-33b9-4769-bf32-60aa3fc6b978",
   "metadata": {},
   "source": [
    "### Measures of variability"
   ]
  },
  {
   "cell_type": "markdown",
   "id": "b936381c-0e23-4f2a-a875-3611c3703709",
   "metadata": {},
   "source": [
    "##### Find the range of meals eaten out or ordered.\n",
    "##### Find the standard deviation of meals eaten out or ordered."
   ]
  },
  {
   "cell_type": "code",
   "execution_count": null,
   "id": "686409f2-1c15-4157-9fff-68eec65c0a66",
   "metadata": {},
   "outputs": [],
   "source": [
    "# Find the range of meals eaten out or ordered\n",
    "range_value = dietary_habits.eat_out_per_wk.max() - dietary_habits.eat_out_per_wk.min()\n",
    "print(range_value)\n",
    "\n",
    "# Find the standard deviation of meals eaten out or ordered\n",
    "std_dev_value = dietary_habits.eat_out_per_wk.std()\n",
    "print(std_dev_value)"
   ]
  },
  {
   "cell_type": "markdown",
   "id": "c15b4682-d3d6-4989-a8da-cf549c8971d3",
   "metadata": {},
   "source": [
    "### Measures of central tendency"
   ]
  },
  {
   "cell_type": "markdown",
   "id": "edf69290-e7c2-4b7e-90e0-ffe71653505f",
   "metadata": {},
   "source": [
    "##### Calculate the mean, median, and mode times per week that respondents ordered in or ate out."
   ]
  },
  {
   "cell_type": "code",
   "execution_count": null,
   "id": "28e16592-0227-40db-8727-6fcb21da04f3",
   "metadata": {},
   "outputs": [],
   "source": [
    "# Calculate the mean\n",
    "mean_value = dietary_habits.eat_out_per_wk.mean()\n",
    "print('mean_value = ', mean_value)\n",
    "\n",
    "# Calculate the median\n",
    "median_value = dietary_habits.eat_out_per_wk.median()\n",
    "print('median_value = ', median_value)\n",
    "\n",
    "# Calculate the mode\n",
    "mode_value = dietary_habits.eat_out_per_wk.mode()\n",
    "print('mode_value = ', mode_value)"
   ]
  },
  {
   "cell_type": "markdown",
   "id": "cf0b32e4-2738-475f-9cee-a1b5c132f4ff",
   "metadata": {},
   "source": [
    "### Visualize data: histogram"
   ]
  },
  {
   "cell_type": "markdown",
   "id": "4e6527de-a097-4b56-b2cb-b69086a5754c",
   "metadata": {},
   "source": [
    "##### Plot the distribution of values in the Height column using a histogram."
   ]
  },
  {
   "cell_type": "code",
   "execution_count": null,
   "id": "0b311465-4287-4d65-93d2-c53ca9b139a0",
   "metadata": {},
   "outputs": [],
   "source": [
    "# Histogram of Height column\n",
    "young_people.Height.plot(kind='hist')\n",
    "plt.show()"
   ]
  },
  {
   "cell_type": "markdown",
   "id": "5cfb80d3-cfef-4d3b-b0ff-dc7b6ce5f896",
   "metadata": {},
   "source": [
    "### Find the z-score"
   ]
  },
  {
   "cell_type": "markdown",
   "id": "70007a4e-f8fa-4b62-9635-7c79764e62cc",
   "metadata": {},
   "source": [
    "##### Find the z-score of the Height column.\n",
    "##### Find the outliers in Height_zscore for this survey."
   ]
  },
  {
   "cell_type": "code",
   "execution_count": null,
   "id": "1bc8bcbc-58b1-47a0-abc5-b6e1b643d038",
   "metadata": {},
   "outputs": [],
   "source": [
    "# z-score of `Height` column\n",
    "young_people['Height_zscore'] = stats.zscore(young_people.Height)\n",
    "\n",
    "# Outliers in `Height_zscore`\n",
    "height_outliers = young_people[\n",
    "  (young_people.Height_zscore>=3)\n",
    "  |(young_people.Height_zscore<=-3)\n",
    "]\n",
    "print(height_outliers)"
   ]
  },
  {
   "cell_type": "markdown",
   "id": "a4c53ca1-54a4-474d-816c-d83643a20c1e",
   "metadata": {},
   "source": [
    "### Analyze variables with .corr()"
   ]
  },
  {
   "cell_type": "markdown",
   "id": "ec8f046b-7c7a-4722-af74-c582027565ce",
   "metadata": {},
   "source": [
    "##### Use a function to find the correlation between variables birth_age and birth_weight in the survey."
   ]
  },
  {
   "cell_type": "code",
   "execution_count": null,
   "id": "a1f29fb2-e8b3-4907-be0c-17f08679ee37",
   "metadata": {},
   "outputs": [],
   "source": [
    "# Find the correlation between variables present in the survey\n",
    "cor = birth_survey.birth_age.corr(birth_survey.birth_weight)\n",
    "print(cor)"
   ]
  },
  {
   "cell_type": "markdown",
   "id": "7b6cc1f7-fd49-443a-98ca-7e3f350ef725",
   "metadata": {},
   "source": [
    "### Fair and square"
   ]
  },
  {
   "cell_type": "markdown",
   "id": "07497044-d681-4285-8c30-706ce183fe19",
   "metadata": {},
   "source": [
    "##### Find the z-score of the Age column.\n",
    "##### Find the outliers in the survey using the Age_zscore for this survey."
   ]
  },
  {
   "cell_type": "code",
   "execution_count": null,
   "id": "95f22ced-5eea-409f-b543-516a87c5d295",
   "metadata": {},
   "outputs": [],
   "source": [
    "# z-score of `Age` column\n",
    "young_people['Age_zscore'] = stats.zscore(young_people.Age)\n",
    "\n",
    "# Outliers in `Age_zscore`\n",
    "age_outliers = young_people[\n",
    "  (young_people.Age_zscore >= 3)\n",
    "  |(young_people.Age_zscore <= -3)\n",
    "]\n",
    "print(age_outliers)"
   ]
  },
  {
   "cell_type": "markdown",
   "id": "999fed19-5600-4c12-8514-541aca0242c3",
   "metadata": {},
   "source": [
    "### Fitting a linear regression model"
   ]
  },
  {
   "cell_type": "markdown",
   "id": "c79dbdb9-71f8-40ef-966b-57023c0b9775",
   "metadata": {},
   "source": [
    "##### Define the variables, x and y.\n",
    "##### Add the constant term.\n",
    "##### Perform the OLS() regression and .fit() the model.\n",
    "##### Print the summary table."
   ]
  },
  {
   "cell_type": "code",
   "execution_count": null,
   "id": "bf09a782-1b9f-487d-ad5d-6bb0a3dee0b2",
   "metadata": {},
   "outputs": [],
   "source": [
    "# Define variable, x and y\n",
    "x = salary_survey.experience_years.tolist()\n",
    "y = salary_survey.current_salary.tolist()\n",
    "\n",
    "# Add the constant term\n",
    "x = sm.add_constant(x)\n",
    "\n",
    "# Perform .OLS() regression and fit\n",
    "result = sm.OLS(y,x).fit()\n",
    "\n",
    "# Print the summary table\n",
    "print(result.summary())"
   ]
  },
  {
   "cell_type": "markdown",
   "id": "a783a226-a882-48a5-a7e8-861be9e547d7",
   "metadata": {},
   "source": [
    "### Visualizing survey data"
   ]
  },
  {
   "cell_type": "markdown",
   "id": "f37a576c-68de-4ee5-a006-c1ff2c38a3bc",
   "metadata": {},
   "source": [
    "##### Plot the original values using a scatter plot.\n",
    "##### Get the range of data.\n",
    "##### Get the range of values for plotting the regression line.\n",
    "##### Plot the regression line."
   ]
  },
  {
   "cell_type": "code",
   "execution_count": null,
   "id": "4c0bf0b0-d7e6-46d2-a069-a3a5051ffe35",
   "metadata": {},
   "outputs": [],
   "source": [
    "# Plot the original values using a scatter plot\n",
    "x = data.experience_years\n",
    "y = data.experience_years\n",
    "plt.scatter(x,y)\n",
    "\n",
    "# Get the range of data\n",
    "max_x = data.experience_years.max()\n",
    "min_x = data.experience_years.min()\n",
    "\n",
    "# Get the range of values\n",
    "x = np.arange(min_x,max_x,1)\n",
    "y = 1590.4569 * x + 58080\n",
    "\n",
    "# Plot the regression line\n",
    "plt.plot(x, y,'r')\n",
    "plt.show()"
   ]
  },
  {
   "cell_type": "markdown",
   "id": "580c2594-c773-4b0a-870a-24cbb908445e",
   "metadata": {},
   "source": [
    "### Safety precautions needed?"
   ]
  },
  {
   "cell_type": "markdown",
   "id": "17da18e0-2656-49dc-bf4c-b7e974dfb3a0",
   "metadata": {},
   "source": [
    "##### Find the slope and y-intercept values for the regression line between total buyers and year using the OLS regression method."
   ]
  },
  {
   "cell_type": "code",
   "execution_count": null,
   "id": "35922cf4-c3dd-4131-b378-24de667bd925",
   "metadata": {},
   "outputs": [],
   "source": [
    "# Define variable, x and y\n",
    "x = foot_traffic.year.tolist()\n",
    "y = foot_traffic.visitors.tolist()\n",
    "\n",
    "# Add the constant term\n",
    "x = sm.add_constant(x)\n",
    "\n",
    "# Perform .OLS() regression and fit\n",
    "result = sm.OLS(y,x).fit()\n",
    "\n",
    "# Print the summary table\n",
    "print(result.summary())"
   ]
  },
  {
   "cell_type": "markdown",
   "id": "5ac5a679-3a9c-406d-bb13-4f23b1915520",
   "metadata": {},
   "source": [
    "##### Plot the original values using a scatter plot.\n",
    "##### Get the range of values for plotting the regression line.\n",
    "##### Plot the regression line."
   ]
  },
  {
   "cell_type": "code",
   "execution_count": null,
   "id": "881e4387-361c-486a-bfc3-fa0e76af7fce",
   "metadata": {},
   "outputs": [],
   "source": [
    "# Plot the original values using a scatter plot\n",
    "x = foot_traffic.year.tolist()\n",
    "y = foot_traffic.visitors.tolist()\n",
    "plt.scatter(x,y)\n",
    "\n",
    "max_x = foot_traffic.year.max()\n",
    "min_x = foot_traffic.year.min()\n",
    "\n",
    "# Get the range of values\n",
    "x = np.arange(min_x,max_x,1)\n",
    "y = 5.9786 * x - 11840\n",
    "\n",
    "# Plot the regression line\n",
    "plt.plot(x, y,'r')\n",
    "plt.show()"
   ]
  },
  {
   "cell_type": "markdown",
   "id": "68475b36-4a75-4ca4-bb40-4a8e6517b2e9",
   "metadata": {},
   "source": [
    "### Two sample t-test - Are women more extroverted?"
   ]
  },
  {
   "cell_type": "markdown",
   "id": "1ab849ba-ea2d-4c80-b759-6d5e410da12c",
   "metadata": {},
   "source": [
    "##### Calculate the mean extroversion of male_survey.\n",
    "##### Calculate the mean extroversion of female_survey."
   ]
  },
  {
   "cell_type": "code",
   "execution_count": null,
   "id": "6f190a1a-e5b1-4b71-bc4d-eb881fed3209",
   "metadata": {},
   "outputs": [],
   "source": [
    "# Calculate mean extroversion of males \n",
    "male_mean = male_survey.extroversion.mean()\n",
    "print(male_mean)\n",
    "\n",
    "# Calculate mean extroversion of females \n",
    "female_mean = female_survey.extroversion.mean()\n",
    "print(female_mean)"
   ]
  },
  {
   "cell_type": "markdown",
   "id": "42053a90-84cc-4e67-8f86-0e2c8e9b9e30",
   "metadata": {},
   "source": [
    "##### Test for normality of extroversion from male_survey.\n",
    "##### Test for normality of extroversion from female_survey."
   ]
  },
  {
   "cell_type": "code",
   "execution_count": null,
   "id": "ad038a14-6851-47c7-95a5-114c3ecc3682",
   "metadata": {},
   "outputs": [],
   "source": [
    "# Calculate mean extroversion of males \n",
    "male_mean = male_survey.extroversion.mean()\n",
    "\n",
    "# Calculate mean extroversion of females \n",
    "female_mean = female_survey.extroversion.mean()\n",
    "\n",
    "# Test normality for males\n",
    "male_norm = stats.shapiro(male_survey.extroversion)\n",
    "print(male_norm)\n",
    "\n",
    "# Test normality for females\n",
    "female_norm = stats.shapiro(female_survey.extroversion)\n",
    "print(female_norm)"
   ]
  },
  {
   "cell_type": "markdown",
   "id": "8bcf4cf3-806c-407c-a964-a8d2d86aebcd",
   "metadata": {},
   "source": [
    "##### Test to see if the variance of the extroversion from the male_survey and the female_survey are identical."
   ]
  },
  {
   "cell_type": "code",
   "execution_count": null,
   "id": "a3473dbf-b54e-4411-be87-714fd8b52d39",
   "metadata": {},
   "outputs": [],
   "source": [
    "# Calculate mean extroversion of males \n",
    "male_mean = male_survey.extroversion.mean()\n",
    "\n",
    "# Calculate mean extroversion of females \n",
    "female_mean = female_survey.extroversion.mean()\n",
    "\n",
    "# Test normality for males\n",
    "male_norm = stats.shapiro(male_survey.extroversion)\n",
    "\n",
    "# Test normality for females\n",
    "female_norm = stats.shapiro(female_survey.extroversion)\n",
    "\n",
    "# Test of equal variance\n",
    "variance_test = stats.levene(male_survey.extroversion,female_survey.extroversion)\n",
    "print(variance_test)"
   ]
  },
  {
   "cell_type": "markdown",
   "id": "db365928-22be-403f-a19a-7480acc130cd",
   "metadata": {},
   "source": [
    "### Mental health in tech survey"
   ]
  },
  {
   "cell_type": "markdown",
   "id": "8459ad42-4961-4352-a503-6546f5805b9b",
   "metadata": {},
   "source": [
    "##### Perform a cross tabulation of the two groups, anonymity_protected and discuss_with_supervisor and assign it to a variable, cross_table."
   ]
  },
  {
   "cell_type": "code",
   "execution_count": null,
   "id": "be9172c4-4ebd-41e5-8064-db690b4b8a02",
   "metadata": {},
   "outputs": [],
   "source": [
    "# Perform cross tabulation and assign to variable, cross_table\n",
    "cross_table = pd.crosstab(tech_mh.anonymity_protected, tech_mh.discuss_with_supervisor)\n",
    "\n",
    "print(cross_table)"
   ]
  },
  {
   "cell_type": "markdown",
   "id": "46fa87c1-0cc8-479a-9020-7f2996f027f1",
   "metadata": {},
   "source": [
    "##### Conduct the chi-square test of independence on the variable, cross_table."
   ]
  },
  {
   "cell_type": "code",
   "execution_count": null,
   "id": "55fbc38c-de59-49d6-9e0f-b145269cdc7c",
   "metadata": {},
   "outputs": [],
   "source": [
    "# Perform cross tabulation and assign to variable, cross_table\n",
    "cross_table = pd.crosstab(tech_mh.anonymity_protected, tech_mh.discuss_with_supervisor)\n",
    "\n",
    "# Conduct the chi-square analysis\n",
    "chi_analysis = st.chi2_contingency(cross_table)\n",
    "\n",
    "print(chi_analysis)"
   ]
  },
  {
   "cell_type": "markdown",
   "id": "e245e141-3004-47e8-9eba-e037d60255ac",
   "metadata": {},
   "source": [
    "### Mental health vs. remote work"
   ]
  },
  {
   "cell_type": "markdown",
   "id": "b3206231-4235-44bd-8451-a08530444d7e",
   "metadata": {},
   "source": [
    "##### Run a cross tabulation of the two variables, work_remotely and current_condition.\n",
    "##### Conduct a chi-square analysis of the cross tabulation you just created."
   ]
  },
  {
   "cell_type": "code",
   "execution_count": null,
   "id": "83a937f4-5f20-4652-8a36-d5208829ec14",
   "metadata": {},
   "outputs": [],
   "source": [
    "# Perform cross tabulation and assign to variable, cross_table\n",
    "cross_table = pd.crosstab(tech_mh.work_remotely , tech_mh.current_condition)\n",
    "\n",
    "# Conduct chi-square analysis\n",
    "chi_analysis = st.chi2_contingency(cross_table)\n",
    "\n",
    "print(chi_analysis)"
   ]
  },
  {
   "cell_type": "markdown",
   "id": "77bbc134-56ed-4115-8552-851f29810a81",
   "metadata": {},
   "source": [
    "##### Record your p-value and expected frequencies."
   ]
  },
  {
   "cell_type": "code",
   "execution_count": null,
   "id": "8e74946a-7051-495c-ba2a-741fa42180d4",
   "metadata": {},
   "outputs": [],
   "source": [
    "# Perform cross tabulation and assign to variable, cross_table\n",
    "cross_table = pd.crosstab(tech_mh.work_remotely, tech_mh.current_condition)\n",
    "\n",
    "# Conduct chi-square analysis\n",
    "chi_analysis = st.chi2_contingency(cross_table)\n",
    "\n",
    "# Record p-value and expected frequencies\n",
    "p_value = chi_analysis[1]\n",
    "expected_freq = chi_analysis[3]\n",
    "\n",
    "print(p_value)\n",
    "print(expected_freq)"
   ]
  }
 ],
 "metadata": {
  "kernelspec": {
   "display_name": "Python 3 (ipykernel)",
   "language": "python",
   "name": "python3"
  },
  "language_info": {
   "codemirror_mode": {
    "name": "ipython",
    "version": 3
   },
   "file_extension": ".py",
   "mimetype": "text/x-python",
   "name": "python",
   "nbconvert_exporter": "python",
   "pygments_lexer": "ipython3",
   "version": "3.9.13"
  }
 },
 "nbformat": 4,
 "nbformat_minor": 5
}
